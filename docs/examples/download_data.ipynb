{
  "cells": [
    {
      "cell_type": "markdown",
      "metadata": {
        "id": "view-in-github",
        "colab_type": "text"
      },
      "source": [
        "<a href=\"https://colab.research.google.com/github/winnerabiodun1/GEOAI/blob/main/docs/examples/download_data.ipynb\" target=\"_parent\"><img src=\"https://colab.research.google.com/assets/colab-badge.svg\" alt=\"Open In Colab\"/></a>"
      ]
    },
    {
      "cell_type": "markdown",
      "metadata": {
        "id": "pacH2cu6Dm7o"
      },
      "source": [
        "# Download Data\n",
        "\n",
        "[![image](https://colab.research.google.com/assets/colab-badge.svg)](https://colab.research.google.com/github/opengeos/geoai/blob/main/docs/examples/download_data.ipynb)\n",
        "\n",
        "## Install Package\n",
        "To use the `geoai-py` package, ensure it is installed in your environment. Uncomment the command below if needed."
      ]
    },
    {
      "cell_type": "code",
      "execution_count": 34,
      "metadata": {
        "id": "S6SSDmpWDm7u"
      },
      "outputs": [],
      "source": [
        "# %pip install geoai-py"
      ]
    },
    {
      "cell_type": "markdown",
      "metadata": {
        "id": "iFw1QVtqDm7w"
      },
      "source": [
        "## Import Libraries\n",
        "These modules allow downloading NAIP imagery and extracting building data statistics."
      ]
    },
    {
      "cell_type": "code",
      "execution_count": 35,
      "metadata": {
        "colab": {
          "base_uri": "https://localhost:8080/"
        },
        "id": "ghnrHPwADm7x",
        "outputId": "3d8ae7fa-c8c5-47bb-f5fa-8d01873901a8"
      },
      "outputs": [
        {
          "output_type": "stream",
          "name": "stdout",
          "text": [
            "Requirement already satisfied: leafmap in /usr/local/lib/python3.11/dist-packages (0.43.11)\n",
            "Requirement already satisfied: anywidget in /usr/local/lib/python3.11/dist-packages (from leafmap) (0.9.18)\n",
            "Requirement already satisfied: bqplot in /usr/local/lib/python3.11/dist-packages (from leafmap) (0.12.44)\n",
            "Requirement already satisfied: colour in /usr/local/lib/python3.11/dist-packages (from leafmap) (0.1.5)\n",
            "Requirement already satisfied: duckdb in /usr/local/lib/python3.11/dist-packages (from leafmap) (1.2.2)\n",
            "Requirement already satisfied: folium in /usr/local/lib/python3.11/dist-packages (from leafmap) (0.19.5)\n",
            "Requirement already satisfied: gdown in /usr/local/lib/python3.11/dist-packages (from leafmap) (5.2.0)\n",
            "Requirement already satisfied: geojson in /usr/local/lib/python3.11/dist-packages (from leafmap) (3.2.0)\n",
            "Requirement already satisfied: ipyevents in /usr/local/lib/python3.11/dist-packages (from leafmap) (2.0.2)\n",
            "Requirement already satisfied: ipyfilechooser in /usr/local/lib/python3.11/dist-packages (from leafmap) (0.6.0)\n",
            "Requirement already satisfied: ipyleaflet in /usr/local/lib/python3.11/dist-packages (from leafmap) (0.19.2)\n",
            "Requirement already satisfied: ipyvuetify in /usr/local/lib/python3.11/dist-packages (from leafmap) (1.11.1)\n",
            "Requirement already satisfied: ipywidgets in /usr/local/lib/python3.11/dist-packages (from leafmap) (7.7.1)\n",
            "Requirement already satisfied: matplotlib in /usr/local/lib/python3.11/dist-packages (from leafmap) (3.10.0)\n",
            "Requirement already satisfied: numpy in /usr/local/lib/python3.11/dist-packages (from leafmap) (2.0.2)\n",
            "Requirement already satisfied: pandas in /usr/local/lib/python3.11/dist-packages (from leafmap) (2.2.2)\n",
            "Requirement already satisfied: plotly in /usr/local/lib/python3.11/dist-packages (from leafmap) (5.24.1)\n",
            "Requirement already satisfied: psutil in /usr/local/lib/python3.11/dist-packages (from leafmap) (5.9.5)\n",
            "Requirement already satisfied: pyshp in /usr/local/lib/python3.11/dist-packages (from leafmap) (2.3.1)\n",
            "Requirement already satisfied: pystac-client in /usr/local/lib/python3.11/dist-packages (from leafmap) (0.8.6)\n",
            "Requirement already satisfied: python-box in /usr/local/lib/python3.11/dist-packages (from leafmap) (7.3.2)\n",
            "Requirement already satisfied: scooby in /usr/local/lib/python3.11/dist-packages (from leafmap) (0.10.1)\n",
            "Requirement already satisfied: whiteboxgui in /usr/local/lib/python3.11/dist-packages (from leafmap) (2.3.0)\n",
            "Requirement already satisfied: xyzservices in /usr/local/lib/python3.11/dist-packages (from leafmap) (2025.4.0)\n",
            "Requirement already satisfied: psygnal>=0.8.1 in /usr/local/lib/python3.11/dist-packages (from anywidget->leafmap) (0.13.0)\n",
            "Requirement already satisfied: typing-extensions>=4.2.0 in /usr/local/lib/python3.11/dist-packages (from anywidget->leafmap) (4.13.2)\n",
            "Requirement already satisfied: ipykernel>=4.5.1 in /usr/local/lib/python3.11/dist-packages (from ipywidgets->leafmap) (6.17.1)\n",
            "Requirement already satisfied: ipython-genutils~=0.2.0 in /usr/local/lib/python3.11/dist-packages (from ipywidgets->leafmap) (0.2.0)\n",
            "Requirement already satisfied: traitlets>=4.3.1 in /usr/local/lib/python3.11/dist-packages (from ipywidgets->leafmap) (5.7.1)\n",
            "Requirement already satisfied: widgetsnbextension~=3.6.0 in /usr/local/lib/python3.11/dist-packages (from ipywidgets->leafmap) (3.6.10)\n",
            "Requirement already satisfied: ipython>=4.0.0 in /usr/local/lib/python3.11/dist-packages (from ipywidgets->leafmap) (7.34.0)\n",
            "Requirement already satisfied: jupyterlab-widgets>=1.0.0 in /usr/local/lib/python3.11/dist-packages (from ipywidgets->leafmap) (3.0.14)\n",
            "Requirement already satisfied: traittypes>=0.0.6 in /usr/local/lib/python3.11/dist-packages (from bqplot->leafmap) (0.2.1)\n",
            "Requirement already satisfied: python-dateutil>=2.8.2 in /usr/local/lib/python3.11/dist-packages (from pandas->leafmap) (2.9.0.post0)\n",
            "Requirement already satisfied: pytz>=2020.1 in /usr/local/lib/python3.11/dist-packages (from pandas->leafmap) (2025.2)\n",
            "Requirement already satisfied: tzdata>=2022.7 in /usr/local/lib/python3.11/dist-packages (from pandas->leafmap) (2025.2)\n",
            "Requirement already satisfied: branca>=0.6.0 in /usr/local/lib/python3.11/dist-packages (from folium->leafmap) (0.8.1)\n",
            "Requirement already satisfied: jinja2>=2.9 in /usr/local/lib/python3.11/dist-packages (from folium->leafmap) (3.1.6)\n",
            "Requirement already satisfied: requests in /usr/local/lib/python3.11/dist-packages (from folium->leafmap) (2.32.3)\n",
            "Requirement already satisfied: beautifulsoup4 in /usr/local/lib/python3.11/dist-packages (from gdown->leafmap) (4.13.4)\n",
            "Requirement already satisfied: filelock in /usr/local/lib/python3.11/dist-packages (from gdown->leafmap) (3.18.0)\n",
            "Requirement already satisfied: tqdm in /usr/local/lib/python3.11/dist-packages (from gdown->leafmap) (4.67.1)\n",
            "Requirement already satisfied: jupyter-leaflet<0.20,>=0.19 in /usr/local/lib/python3.11/dist-packages (from ipyleaflet->leafmap) (0.19.2)\n",
            "Requirement already satisfied: ipyvue<2,>=1.7 in /usr/local/lib/python3.11/dist-packages (from ipyvuetify->leafmap) (1.11.2)\n",
            "Requirement already satisfied: contourpy>=1.0.1 in /usr/local/lib/python3.11/dist-packages (from matplotlib->leafmap) (1.3.2)\n",
            "Requirement already satisfied: cycler>=0.10 in /usr/local/lib/python3.11/dist-packages (from matplotlib->leafmap) (0.12.1)\n",
            "Requirement already satisfied: fonttools>=4.22.0 in /usr/local/lib/python3.11/dist-packages (from matplotlib->leafmap) (4.57.0)\n",
            "Requirement already satisfied: kiwisolver>=1.3.1 in /usr/local/lib/python3.11/dist-packages (from matplotlib->leafmap) (1.4.8)\n",
            "Requirement already satisfied: packaging>=20.0 in /usr/local/lib/python3.11/dist-packages (from matplotlib->leafmap) (24.2)\n",
            "Requirement already satisfied: pillow>=8 in /usr/local/lib/python3.11/dist-packages (from matplotlib->leafmap) (11.2.1)\n",
            "Requirement already satisfied: pyparsing>=2.3.1 in /usr/local/lib/python3.11/dist-packages (from matplotlib->leafmap) (3.2.3)\n",
            "Requirement already satisfied: tenacity>=6.2.0 in /usr/local/lib/python3.11/dist-packages (from plotly->leafmap) (9.1.2)\n",
            "Requirement already satisfied: pystac>=1.10.0 in /usr/local/lib/python3.11/dist-packages (from pystac[validation]>=1.10.0->pystac-client->leafmap) (1.13.0)\n",
            "Requirement already satisfied: ipytree in /usr/local/lib/python3.11/dist-packages (from whiteboxgui->leafmap) (0.2.2)\n",
            "Requirement already satisfied: whitebox in /usr/local/lib/python3.11/dist-packages (from whiteboxgui->leafmap) (2.3.6)\n",
            "Requirement already satisfied: debugpy>=1.0 in /usr/local/lib/python3.11/dist-packages (from ipykernel>=4.5.1->ipywidgets->leafmap) (1.8.0)\n",
            "Requirement already satisfied: jupyter-client>=6.1.12 in /usr/local/lib/python3.11/dist-packages (from ipykernel>=4.5.1->ipywidgets->leafmap) (7.4.9)\n",
            "Requirement already satisfied: matplotlib-inline>=0.1 in /usr/local/lib/python3.11/dist-packages (from ipykernel>=4.5.1->ipywidgets->leafmap) (0.1.7)\n",
            "Requirement already satisfied: nest-asyncio in /usr/local/lib/python3.11/dist-packages (from ipykernel>=4.5.1->ipywidgets->leafmap) (1.6.0)\n",
            "Requirement already satisfied: pyzmq>=17 in /usr/local/lib/python3.11/dist-packages (from ipykernel>=4.5.1->ipywidgets->leafmap) (24.0.1)\n",
            "Requirement already satisfied: tornado>=6.1 in /usr/local/lib/python3.11/dist-packages (from ipykernel>=4.5.1->ipywidgets->leafmap) (6.4.2)\n",
            "Requirement already satisfied: setuptools>=18.5 in /usr/local/lib/python3.11/dist-packages (from ipython>=4.0.0->ipywidgets->leafmap) (75.2.0)\n",
            "Requirement already satisfied: jedi>=0.16 in /usr/local/lib/python3.11/dist-packages (from ipython>=4.0.0->ipywidgets->leafmap) (0.19.2)\n",
            "Requirement already satisfied: decorator in /usr/local/lib/python3.11/dist-packages (from ipython>=4.0.0->ipywidgets->leafmap) (4.4.2)\n",
            "Requirement already satisfied: pickleshare in /usr/local/lib/python3.11/dist-packages (from ipython>=4.0.0->ipywidgets->leafmap) (0.7.5)\n",
            "Requirement already satisfied: prompt-toolkit!=3.0.0,!=3.0.1,<3.1.0,>=2.0.0 in /usr/local/lib/python3.11/dist-packages (from ipython>=4.0.0->ipywidgets->leafmap) (3.0.51)\n",
            "Requirement already satisfied: pygments in /usr/local/lib/python3.11/dist-packages (from ipython>=4.0.0->ipywidgets->leafmap) (2.19.1)\n",
            "Requirement already satisfied: backcall in /usr/local/lib/python3.11/dist-packages (from ipython>=4.0.0->ipywidgets->leafmap) (0.2.0)\n",
            "Requirement already satisfied: pexpect>4.3 in /usr/local/lib/python3.11/dist-packages (from ipython>=4.0.0->ipywidgets->leafmap) (4.9.0)\n",
            "Requirement already satisfied: MarkupSafe>=2.0 in /usr/local/lib/python3.11/dist-packages (from jinja2>=2.9->folium->leafmap) (3.0.2)\n",
            "Requirement already satisfied: jsonschema~=4.18 in /usr/local/lib/python3.11/dist-packages (from pystac[validation]>=1.10.0->pystac-client->leafmap) (4.23.0)\n",
            "Requirement already satisfied: six>=1.5 in /usr/local/lib/python3.11/dist-packages (from python-dateutil>=2.8.2->pandas->leafmap) (1.17.0)\n",
            "Requirement already satisfied: charset-normalizer<4,>=2 in /usr/local/lib/python3.11/dist-packages (from requests->folium->leafmap) (3.4.1)\n",
            "Requirement already satisfied: idna<4,>=2.5 in /usr/local/lib/python3.11/dist-packages (from requests->folium->leafmap) (3.10)\n",
            "Requirement already satisfied: urllib3<3,>=1.21.1 in /usr/local/lib/python3.11/dist-packages (from requests->folium->leafmap) (2.4.0)\n",
            "Requirement already satisfied: certifi>=2017.4.17 in /usr/local/lib/python3.11/dist-packages (from requests->folium->leafmap) (2025.4.26)\n",
            "Requirement already satisfied: notebook>=4.4.1 in /usr/local/lib/python3.11/dist-packages (from widgetsnbextension~=3.6.0->ipywidgets->leafmap) (6.5.7)\n",
            "Requirement already satisfied: soupsieve>1.2 in /usr/local/lib/python3.11/dist-packages (from beautifulsoup4->gdown->leafmap) (2.7)\n",
            "Requirement already satisfied: PySocks!=1.5.7,>=1.5.6 in /usr/local/lib/python3.11/dist-packages (from requests[socks]->gdown->leafmap) (1.7.1)\n",
            "Requirement already satisfied: Click>=6.0 in /usr/local/lib/python3.11/dist-packages (from whitebox->whiteboxgui->leafmap) (8.1.8)\n",
            "Requirement already satisfied: parso<0.9.0,>=0.8.4 in /usr/local/lib/python3.11/dist-packages (from jedi>=0.16->ipython>=4.0.0->ipywidgets->leafmap) (0.8.4)\n",
            "Requirement already satisfied: attrs>=22.2.0 in /usr/local/lib/python3.11/dist-packages (from jsonschema~=4.18->pystac[validation]>=1.10.0->pystac-client->leafmap) (25.3.0)\n",
            "Requirement already satisfied: jsonschema-specifications>=2023.03.6 in /usr/local/lib/python3.11/dist-packages (from jsonschema~=4.18->pystac[validation]>=1.10.0->pystac-client->leafmap) (2025.4.1)\n",
            "Requirement already satisfied: referencing>=0.28.4 in /usr/local/lib/python3.11/dist-packages (from jsonschema~=4.18->pystac[validation]>=1.10.0->pystac-client->leafmap) (0.36.2)\n",
            "Requirement already satisfied: rpds-py>=0.7.1 in /usr/local/lib/python3.11/dist-packages (from jsonschema~=4.18->pystac[validation]>=1.10.0->pystac-client->leafmap) (0.24.0)\n",
            "Requirement already satisfied: entrypoints in /usr/local/lib/python3.11/dist-packages (from jupyter-client>=6.1.12->ipykernel>=4.5.1->ipywidgets->leafmap) (0.4)\n",
            "Requirement already satisfied: jupyter-core>=4.9.2 in /usr/local/lib/python3.11/dist-packages (from jupyter-client>=6.1.12->ipykernel>=4.5.1->ipywidgets->leafmap) (5.7.2)\n",
            "Requirement already satisfied: argon2-cffi in /usr/local/lib/python3.11/dist-packages (from notebook>=4.4.1->widgetsnbextension~=3.6.0->ipywidgets->leafmap) (23.1.0)\n",
            "Requirement already satisfied: nbformat in /usr/local/lib/python3.11/dist-packages (from notebook>=4.4.1->widgetsnbextension~=3.6.0->ipywidgets->leafmap) (5.10.4)\n",
            "Requirement already satisfied: nbconvert>=5 in /usr/local/lib/python3.11/dist-packages (from notebook>=4.4.1->widgetsnbextension~=3.6.0->ipywidgets->leafmap) (7.16.6)\n",
            "Requirement already satisfied: Send2Trash>=1.8.0 in /usr/local/lib/python3.11/dist-packages (from notebook>=4.4.1->widgetsnbextension~=3.6.0->ipywidgets->leafmap) (1.8.3)\n",
            "Requirement already satisfied: terminado>=0.8.3 in /usr/local/lib/python3.11/dist-packages (from notebook>=4.4.1->widgetsnbextension~=3.6.0->ipywidgets->leafmap) (0.18.1)\n",
            "Requirement already satisfied: prometheus-client in /usr/local/lib/python3.11/dist-packages (from notebook>=4.4.1->widgetsnbextension~=3.6.0->ipywidgets->leafmap) (0.21.1)\n",
            "Requirement already satisfied: nbclassic>=0.4.7 in /usr/local/lib/python3.11/dist-packages (from notebook>=4.4.1->widgetsnbextension~=3.6.0->ipywidgets->leafmap) (1.3.0)\n",
            "Requirement already satisfied: ptyprocess>=0.5 in /usr/local/lib/python3.11/dist-packages (from pexpect>4.3->ipython>=4.0.0->ipywidgets->leafmap) (0.7.0)\n",
            "Requirement already satisfied: wcwidth in /usr/local/lib/python3.11/dist-packages (from prompt-toolkit!=3.0.0,!=3.0.1,<3.1.0,>=2.0.0->ipython>=4.0.0->ipywidgets->leafmap) (0.2.13)\n",
            "Requirement already satisfied: platformdirs>=2.5 in /usr/local/lib/python3.11/dist-packages (from jupyter-core>=4.9.2->jupyter-client>=6.1.12->ipykernel>=4.5.1->ipywidgets->leafmap) (4.3.7)\n",
            "Requirement already satisfied: notebook-shim>=0.2.3 in /usr/local/lib/python3.11/dist-packages (from nbclassic>=0.4.7->notebook>=4.4.1->widgetsnbextension~=3.6.0->ipywidgets->leafmap) (0.2.4)\n",
            "Requirement already satisfied: bleach!=5.0.0 in /usr/local/lib/python3.11/dist-packages (from bleach[css]!=5.0.0->nbconvert>=5->notebook>=4.4.1->widgetsnbextension~=3.6.0->ipywidgets->leafmap) (6.2.0)\n",
            "Requirement already satisfied: defusedxml in /usr/local/lib/python3.11/dist-packages (from nbconvert>=5->notebook>=4.4.1->widgetsnbextension~=3.6.0->ipywidgets->leafmap) (0.7.1)\n",
            "Requirement already satisfied: jupyterlab-pygments in /usr/local/lib/python3.11/dist-packages (from nbconvert>=5->notebook>=4.4.1->widgetsnbextension~=3.6.0->ipywidgets->leafmap) (0.3.0)\n",
            "Requirement already satisfied: mistune<4,>=2.0.3 in /usr/local/lib/python3.11/dist-packages (from nbconvert>=5->notebook>=4.4.1->widgetsnbextension~=3.6.0->ipywidgets->leafmap) (3.1.3)\n",
            "Requirement already satisfied: nbclient>=0.5.0 in /usr/local/lib/python3.11/dist-packages (from nbconvert>=5->notebook>=4.4.1->widgetsnbextension~=3.6.0->ipywidgets->leafmap) (0.10.2)\n",
            "Requirement already satisfied: pandocfilters>=1.4.1 in /usr/local/lib/python3.11/dist-packages (from nbconvert>=5->notebook>=4.4.1->widgetsnbextension~=3.6.0->ipywidgets->leafmap) (1.5.1)\n",
            "Requirement already satisfied: fastjsonschema>=2.15 in /usr/local/lib/python3.11/dist-packages (from nbformat->notebook>=4.4.1->widgetsnbextension~=3.6.0->ipywidgets->leafmap) (2.21.1)\n",
            "Requirement already satisfied: argon2-cffi-bindings in /usr/local/lib/python3.11/dist-packages (from argon2-cffi->notebook>=4.4.1->widgetsnbextension~=3.6.0->ipywidgets->leafmap) (21.2.0)\n",
            "Requirement already satisfied: webencodings in /usr/local/lib/python3.11/dist-packages (from bleach!=5.0.0->bleach[css]!=5.0.0->nbconvert>=5->notebook>=4.4.1->widgetsnbextension~=3.6.0->ipywidgets->leafmap) (0.5.1)\n",
            "Requirement already satisfied: tinycss2<1.5,>=1.1.0 in /usr/local/lib/python3.11/dist-packages (from bleach[css]!=5.0.0->nbconvert>=5->notebook>=4.4.1->widgetsnbextension~=3.6.0->ipywidgets->leafmap) (1.4.0)\n",
            "Requirement already satisfied: jupyter-server<3,>=1.8 in /usr/local/lib/python3.11/dist-packages (from notebook-shim>=0.2.3->nbclassic>=0.4.7->notebook>=4.4.1->widgetsnbextension~=3.6.0->ipywidgets->leafmap) (2.15.0)\n",
            "Requirement already satisfied: cffi>=1.0.1 in /usr/local/lib/python3.11/dist-packages (from argon2-cffi-bindings->argon2-cffi->notebook>=4.4.1->widgetsnbextension~=3.6.0->ipywidgets->leafmap) (1.17.1)\n",
            "Requirement already satisfied: pycparser in /usr/local/lib/python3.11/dist-packages (from cffi>=1.0.1->argon2-cffi-bindings->argon2-cffi->notebook>=4.4.1->widgetsnbextension~=3.6.0->ipywidgets->leafmap) (2.22)\n",
            "Requirement already satisfied: anyio>=3.1.0 in /usr/local/lib/python3.11/dist-packages (from jupyter-server<3,>=1.8->notebook-shim>=0.2.3->nbclassic>=0.4.7->notebook>=4.4.1->widgetsnbextension~=3.6.0->ipywidgets->leafmap) (4.9.0)\n",
            "Requirement already satisfied: jupyter-events>=0.11.0 in /usr/local/lib/python3.11/dist-packages (from jupyter-server<3,>=1.8->notebook-shim>=0.2.3->nbclassic>=0.4.7->notebook>=4.4.1->widgetsnbextension~=3.6.0->ipywidgets->leafmap) (0.12.0)\n",
            "Requirement already satisfied: jupyter-server-terminals>=0.4.4 in /usr/local/lib/python3.11/dist-packages (from jupyter-server<3,>=1.8->notebook-shim>=0.2.3->nbclassic>=0.4.7->notebook>=4.4.1->widgetsnbextension~=3.6.0->ipywidgets->leafmap) (0.5.3)\n",
            "Requirement already satisfied: overrides>=5.0 in /usr/local/lib/python3.11/dist-packages (from jupyter-server<3,>=1.8->notebook-shim>=0.2.3->nbclassic>=0.4.7->notebook>=4.4.1->widgetsnbextension~=3.6.0->ipywidgets->leafmap) (7.7.0)\n",
            "Requirement already satisfied: websocket-client>=1.7 in /usr/local/lib/python3.11/dist-packages (from jupyter-server<3,>=1.8->notebook-shim>=0.2.3->nbclassic>=0.4.7->notebook>=4.4.1->widgetsnbextension~=3.6.0->ipywidgets->leafmap) (1.8.0)\n",
            "Requirement already satisfied: sniffio>=1.1 in /usr/local/lib/python3.11/dist-packages (from anyio>=3.1.0->jupyter-server<3,>=1.8->notebook-shim>=0.2.3->nbclassic>=0.4.7->notebook>=4.4.1->widgetsnbextension~=3.6.0->ipywidgets->leafmap) (1.3.1)\n",
            "Requirement already satisfied: python-json-logger>=2.0.4 in /usr/local/lib/python3.11/dist-packages (from jupyter-events>=0.11.0->jupyter-server<3,>=1.8->notebook-shim>=0.2.3->nbclassic>=0.4.7->notebook>=4.4.1->widgetsnbextension~=3.6.0->ipywidgets->leafmap) (3.3.0)\n",
            "Requirement already satisfied: pyyaml>=5.3 in /usr/local/lib/python3.11/dist-packages (from jupyter-events>=0.11.0->jupyter-server<3,>=1.8->notebook-shim>=0.2.3->nbclassic>=0.4.7->notebook>=4.4.1->widgetsnbextension~=3.6.0->ipywidgets->leafmap) (6.0.2)\n",
            "Requirement already satisfied: rfc3339-validator in /usr/local/lib/python3.11/dist-packages (from jupyter-events>=0.11.0->jupyter-server<3,>=1.8->notebook-shim>=0.2.3->nbclassic>=0.4.7->notebook>=4.4.1->widgetsnbextension~=3.6.0->ipywidgets->leafmap) (0.1.4)\n",
            "Requirement already satisfied: rfc3986-validator>=0.1.1 in /usr/local/lib/python3.11/dist-packages (from jupyter-events>=0.11.0->jupyter-server<3,>=1.8->notebook-shim>=0.2.3->nbclassic>=0.4.7->notebook>=4.4.1->widgetsnbextension~=3.6.0->ipywidgets->leafmap) (0.1.1)\n",
            "Requirement already satisfied: fqdn in /usr/local/lib/python3.11/dist-packages (from jsonschema[format-nongpl]>=4.18.0->jupyter-events>=0.11.0->jupyter-server<3,>=1.8->notebook-shim>=0.2.3->nbclassic>=0.4.7->notebook>=4.4.1->widgetsnbextension~=3.6.0->ipywidgets->leafmap) (1.5.1)\n",
            "Requirement already satisfied: isoduration in /usr/local/lib/python3.11/dist-packages (from jsonschema[format-nongpl]>=4.18.0->jupyter-events>=0.11.0->jupyter-server<3,>=1.8->notebook-shim>=0.2.3->nbclassic>=0.4.7->notebook>=4.4.1->widgetsnbextension~=3.6.0->ipywidgets->leafmap) (20.11.0)\n",
            "Requirement already satisfied: jsonpointer>1.13 in /usr/local/lib/python3.11/dist-packages (from jsonschema[format-nongpl]>=4.18.0->jupyter-events>=0.11.0->jupyter-server<3,>=1.8->notebook-shim>=0.2.3->nbclassic>=0.4.7->notebook>=4.4.1->widgetsnbextension~=3.6.0->ipywidgets->leafmap) (3.0.0)\n",
            "Requirement already satisfied: uri-template in /usr/local/lib/python3.11/dist-packages (from jsonschema[format-nongpl]>=4.18.0->jupyter-events>=0.11.0->jupyter-server<3,>=1.8->notebook-shim>=0.2.3->nbclassic>=0.4.7->notebook>=4.4.1->widgetsnbextension~=3.6.0->ipywidgets->leafmap) (1.3.0)\n",
            "Requirement already satisfied: webcolors>=24.6.0 in /usr/local/lib/python3.11/dist-packages (from jsonschema[format-nongpl]>=4.18.0->jupyter-events>=0.11.0->jupyter-server<3,>=1.8->notebook-shim>=0.2.3->nbclassic>=0.4.7->notebook>=4.4.1->widgetsnbextension~=3.6.0->ipywidgets->leafmap) (24.11.1)\n",
            "Requirement already satisfied: arrow>=0.15.0 in /usr/local/lib/python3.11/dist-packages (from isoduration->jsonschema[format-nongpl]>=4.18.0->jupyter-events>=0.11.0->jupyter-server<3,>=1.8->notebook-shim>=0.2.3->nbclassic>=0.4.7->notebook>=4.4.1->widgetsnbextension~=3.6.0->ipywidgets->leafmap) (1.3.0)\n",
            "Requirement already satisfied: types-python-dateutil>=2.8.10 in /usr/local/lib/python3.11/dist-packages (from arrow>=0.15.0->isoduration->jsonschema[format-nongpl]>=4.18.0->jupyter-events>=0.11.0->jupyter-server<3,>=1.8->notebook-shim>=0.2.3->nbclassic>=0.4.7->notebook>=4.4.1->widgetsnbextension~=3.6.0->ipywidgets->leafmap) (2.9.0.20241206)\n"
          ]
        }
      ],
      "source": [
        "!pip install leafmap --upgrade #Upgrade leafmap to get the latest features.\n",
        "import leafmap\n",
        "\n",
        "from geoai.download import (\n",
        "    download_naip,\n",
        "    download_overture_buildings,\n",
        "    extract_building_stats,\n",
        ")"
      ]
    },
    {
      "cell_type": "markdown",
      "metadata": {
        "id": "3MiIbGBbDm7x"
      },
      "source": [
        "## Define Bounding Box\n",
        "Define the geographic extent (longitude and latitude) for data downloads."
      ]
    },
    {
      "cell_type": "code",
      "execution_count": 44,
      "metadata": {
        "colab": {
          "base_uri": "https://localhost:8080/",
          "height": 621,
          "referenced_widgets": [
            "75f4a580832d4d05b33a1c5a158bb6ce",
            "2ead6515e6be4c14b2d14a7798b8714d",
            "5a9869137fef427cbca7292c40d3a824",
            "89fe6ef95a8c4fdd9c7da404653db7ce",
            "68f43e2d150c4b6ab9ad12020c11a335",
            "3d385bbbd0c74a5bacea521ba87c81ce",
            "2dd5a7863d664ef3a9375d46a390de5b",
            "7c73d28ca01f4e308196ebe9fc903b11",
            "aa4012121e574468af427aeb21950a30",
            "be0a7c2f3cc24e74908f4b34eb5c240e",
            "b13e734fdf354dcda3a6c7a5127af36d",
            "e4297cf019894904b80a19ed7fd130a0",
            "3e5bf5804063427a92b9ee72bb8e188e",
            "e987cde590204f398d1d28b1e4bfb128",
            "521c946f68894a2f860403ee6775f4b8",
            "4db4640d8bb047ba81d24aeb568a1e4a",
            "8e6a25bb5af94ea5a930b5711062298d",
            "db2a064a6cba44358597d36e840692c0",
            "4cea7d95fd7f409585e7d1f4f719f4d4",
            "88b6634467f14a2da2ce218edba58c40",
            "aa9305482b0f4052b87137d7de7f16a0",
            "6016b43670e44add80bbaa9b3fba1713",
            "751b369abb334c02b21a8c924640d778",
            "276a1ea107e64d8f929253da68099ac0",
            "bdce30b00dd941208b979a7c00994bcc",
            "bbfc50aac7e64b8996e149bc8c308dee",
            "77bc824700754cf5a371c45033c7ab9c",
            "eae4de64620c4e7c907aff70ab7ccc4b",
            "6ba03e49a2724ecf88cf787efe2ed936",
            "6a9c7e1909b34cada01007e51376cd9c",
            "2fa60e36a72f4ab89f013618e8dbb4f4",
            "8074e9572f914eb19848425dc827af96",
            "e418d49ae50148169fc1c2a586ce7c14",
            "717d5531366c40b9bde48efe790dd0eb",
            "c357966c2b7948f5b5ac718ff7c37227",
            "cd8d504ba84d4fa8a6e15cb96eaea9d0"
          ]
        },
        "id": "CltfZLlvDm7y",
        "outputId": "08d9f414-2edc-463a-a982-1cd41c538d50"
      },
      "outputs": [
        {
          "output_type": "display_data",
          "data": {
            "text/plain": [
              "Map(center=[47.6526, -117.5923], controls=(ZoomControl(options=['position', 'zoom_in_text', 'zoom_in_title', '…"
            ],
            "application/vnd.jupyter.widget-view+json": {
              "version_major": 2,
              "version_minor": 0,
              "model_id": "aa9305482b0f4052b87137d7de7f16a0"
            }
          },
          "metadata": {
            "application/vnd.jupyter.widget-view+json": {
              "colab": {
                "custom_widget_manager": {
                  "url": "https://ssl.gstatic.com/colaboratory-static/widgets/colab-cdn-widget-manager/2b70e893a8ba7c0f/manager.min.js"
                }
              }
            }
          }
        }
      ],
      "source": [
        "m = leafmap.Map(center=[47.6526, -117.5923], zoom=16)\n",
        "m.add_basemap(\"Google Satellite\")\n",
        "m"
      ]
    },
    {
      "cell_type": "markdown",
      "metadata": {
        "id": "st0CaOv7Dm7z"
      },
      "source": [
        "Use the drawing tools to draw a rectangle on the map. If no rectangle is drawn, the default ROI will be used."
      ]
    },
    {
      "cell_type": "markdown",
      "source": [
        "Support for third party widgets will remain active for the duration of the session. To disable support:"
      ],
      "metadata": {
        "id": "ffnzmGB6WLUg"
      }
    },
    {
      "cell_type": "markdown",
      "source": [
        "Support for third party widgets will remain active for the duration of the session. To disable support:"
      ],
      "metadata": {
        "id": "kz3MANE1WKLi"
      }
    },
    {
      "cell_type": "code",
      "execution_count": 46,
      "metadata": {
        "id": "Nmj3dOo-Dm7z"
      },
      "outputs": [],
      "source": [
        "bbox = m.user_roi_bounds()\n",
        "if bbox is None:\n",
        "    bbox = (-117.6029, 47.65, -117.5936, 47.6563)"
      ]
    },
    {
      "cell_type": "code",
      "source": [
        "print (bbox)"
      ],
      "metadata": {
        "colab": {
          "base_uri": "https://localhost:8080/"
        },
        "id": "b87xMLhLW49F",
        "outputId": "4e88d4b7-6995-40db-c36c-ef05bd4331bf"
      },
      "execution_count": 47,
      "outputs": [
        {
          "output_type": "stream",
          "name": "stdout",
          "text": [
            "(-117.6029, 47.65, -117.5936, 47.6563)\n"
          ]
        }
      ]
    },
    {
      "cell_type": "markdown",
      "metadata": {
        "id": "-OfzDwWqDm70"
      },
      "source": [
        "## Download NAIP Imagery\n",
        "Fetch NAIP aerial imagery for the specified bounding box. The `max_items` parameter limits the number of downloaded files."
      ]
    },
    {
      "cell_type": "code",
      "execution_count": 49,
      "metadata": {
        "colab": {
          "base_uri": "https://localhost:8080/"
        },
        "id": "V8jD01bwDm71",
        "outputId": "debee244-8343-40dc-e0fe-46206d9d0c28"
      },
      "outputs": [
        {
          "output_type": "stream",
          "name": "stdout",
          "text": [
            "Found 1 NAIP items.\n",
            "Skipping existing file: naip_data/m_4711720_sw_11_060_20230701_20230911.tif\n",
            "Downloaded 1 files.\n"
          ]
        }
      ],
      "source": [
        "# Download NAIP imagery for the specified region\n",
        "downloaded_files = download_naip(\n",
        "    bbox=bbox,\n",
        "    output_dir=\"naip_data\",\n",
        "    max_items=1,\n",
        "    year=2023,\n",
        ")\n",
        "\n",
        "print(f\"Downloaded {len(downloaded_files)} files.\")"
      ]
    },
    {
      "cell_type": "markdown",
      "metadata": {
        "id": "wHYLWDnGDm72"
      },
      "source": [
        "## Download Building Data\n",
        "Retrieve building footprint data in GeoJSON format within the bounding box. The `verbose` flag provides detailed output."
      ]
    },
    {
      "cell_type": "code",
      "execution_count": 50,
      "metadata": {
        "id": "HC7iztHwDm73"
      },
      "outputs": [],
      "source": [
        "# Download buildings\n",
        "data_file = download_overture_buildings(\n",
        "    bbox=bbox,\n",
        "    output=\"buildings.geojson\",\n",
        ")"
      ]
    },
    {
      "cell_type": "markdown",
      "metadata": {
        "id": "BITyLbAlDm73"
      },
      "source": [
        "## Extract Building Statistics\n",
        "If the building data file is successfully downloaded, extract and display relevant statistics such as area, count, and footprint details."
      ]
    },
    {
      "cell_type": "code",
      "execution_count": 51,
      "metadata": {
        "colab": {
          "base_uri": "https://localhost:8080/"
        },
        "id": "SuNV8D8NDm73",
        "outputId": "dc202252-c028-4c45-87e6-f30fb39a52cc"
      },
      "outputs": [
        {
          "output_type": "stream",
          "name": "stdout",
          "text": [
            "{'total_buildings': 199, 'has_height': 84, 'has_name': 0, 'bbox': [-117.6017984, 47.650168297348685, -117.5937308, 47.655846]}\n"
          ]
        }
      ],
      "source": [
        "stats = extract_building_stats(data_file)\n",
        "print(stats)"
      ]
    },
    {
      "cell_type": "markdown",
      "metadata": {
        "id": "kfZBgdnbDm74"
      },
      "source": [
        "## Visualize Datasets"
      ]
    },
    {
      "cell_type": "code",
      "execution_count": 52,
      "metadata": {
        "colab": {
          "resources": {
            "http://localhost:40529/api/tiles/11/354/714.png?&filename=%2Fcontent%2Fnaip_data%2Fm_4711720_sw_11_060_20230701_20230911.tif": {
              "data": "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",
              "ok": true,
              "headers": [
                [
                  "content-length",
                  "14799"
                ],
                [
                  "content-type",
                  "image/PNG"
                ]
              ],
              "status": 200,
              "status_text": ""
            },
            "http://localhost:40529/api/tiles/11/355/715.png?&filename=%2Fcontent%2Fnaip_data%2Fm_4711720_sw_11_060_20230701_20230911.tif": {
              "data": "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",
              "ok": true,
              "headers": [
                [
                  "content-length",
                  "5020"
                ],
                [
                  "content-type",
                  "image/PNG"
                ]
              ],
              "status": 200,
              "status_text": ""
            },
            "http://localhost:40529/api/tiles/11/354/715.png?&filename=%2Fcontent%2Fnaip_data%2Fm_4711720_sw_11_060_20230701_20230911.tif": {
              "data": "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",
              "ok": true,
              "headers": [
                [
                  "content-length",
                  "3915"
                ],
                [
                  "content-type",
                  "image/PNG"
                ]
              ],
              "status": 200,
              "status_text": ""
            },
            "http://localhost:40529/api/tiles/11/355/714.png?&filename=%2Fcontent%2Fnaip_data%2Fm_4711720_sw_11_060_20230701_20230911.tif": {
              "data": "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",
              "ok": true,
              "headers": [
                [
                  "content-length",
                  "19185"
                ],
                [
                  "content-type",
                  "image/PNG"
                ]
              ],
              "status": 200,
              "status_text": ""
            }
          },
          "base_uri": "https://localhost:8080/",
          "height": 621,
          "referenced_widgets": [
            "51ced4c5721647ffad13d553b1bb0b6b",
            "19dc866a03a544d284d11bccff6b4d0a",
            "ad359eb97abd4485896b8ffff6124c0d",
            "804ceb94c0904e1097649e4a3d95f7ae",
            "39ab2375719d4d3bb95c5a3fc6a805c5",
            "cdfd3e9430314980b7d90fb4850ca94f",
            "c7860db592464113948d5801072db208",
            "a5b2e5db7f6d4f5586cb5c54d193c1b7",
            "dbe10baea3a54d5e865bd6f57b0bf155",
            "4f3715f453f94a12b5c009e8161c193f",
            "8eb1a0f0c4084a858d719a0f75b1e508",
            "bc6e19afbffc4ee98f391895a75310fc",
            "4e53b55582e644d282df2ef1ec639375",
            "da7eb4cc592144f989b1bb4a0d760a93",
            "bdcf1963060a4820ac2e54b7c8efc494",
            "5026ef2a513845c2927f77f55dc0787f",
            "7610a7ae675947e597b1dae8814dd655",
            "10f4b1025af44ce0837737db0734c28a",
            "8ee5cd2cce1046afb645015185b9cacf",
            "980e2d4e8dbd4683a9a706e262ca6e73",
            "2da051dad44f4a239e3cf992db4e4a80",
            "661550c0c8744441b65e09bb14d46e95",
            "26247437db6842ceae051325d9d6d777",
            "b0fd500997db4911bf6e9a7b17d08d54",
            "709abfb0ede049d89710de1bcdd11d2f",
            "1bfcc88558d14a43b372bd69c7984457",
            "bc0d5fb30ffe42cd8cd85dd5a1216e53",
            "9604115b627546dca05bb288298ef874",
            "abcb86002c4c4936ab4ad76aec2f7560",
            "38da5c96a50e423590a849092431ac65",
            "96de307b67a24b1b991494a437b3d413",
            "7477e6c9451f42f0b6944329a87b9387",
            "24414c8ee01f4d40919cdf13c8fe594d",
            "1a6ceb79f5044f05891d8279ee3a025d",
            "285016760b51412bbd9587e27ae85b81",
            "2524f5307ec44ab3a83a58de3146b07a",
            "7554b817f34a49e89d8a65fd34c12786",
            "5c771e5214d2456894dad2b9cfda92fd",
            "a54cf7ad93a7451aa4e1440c8b33c3fd",
            "8fba59eb9fee45aeb2a4d4ea26677a1f",
            "5ea76a06188c4e69b5dc1820191fea34",
            "9113a54c3aac408d906fa543260fef71",
            "9c1899b5ed504fcb8e5811f5104f9d85",
            "d8b9d953a128480981b9e4e343c11638",
            "3aa3bdf0a71947c588b5828721ecf88d",
            "4b3d6fdad1624774b4792810042e2224",
            "aa68a113d5014555838b3c18de50847b",
            "88552bad86b048a38d9b19d865ba9e4c",
            "0b66cb99efcd4d48a5d7638d8cce9771",
            "67dc35965be1496c880d35069af1e644",
            "9f9d9822403c4267b1aa0433c2643a8e",
            "93b9ae872763478fbf84ce5507c4e14b",
            "b3a36db92f9549dcbda1098afa916b0c",
            "0cb9a5ab77f242e19299e7376e579324",
            "10b23c6cea894eda8536b8e19db88701",
            "19c9c631f46147819b1e33b2849f6b99",
            "f546f6501be74a7cbad009f01b01f670",
            "56bd5d4d78f746149b77b9d57618d727",
            "301553160bd4441eb7406c2b56c9207d",
            "f46f5fb4f3ed45dc8cd25977552f157b",
            "a8d85bafbfcf44458e6e23ae7142e5d8",
            "24ac0d1feb5b47e788ff8d06053a6047",
            "7413a8705832419b8d3f9fdcc9c80faa",
            "00ef5de7c23b4a1cb45abc4559661ac3",
            "a4e91841e78e486187334ff3606b39c8",
            "7a551121367641deb685a2a3d8c8e6af"
          ]
        },
        "id": "2AvH06kLDm74",
        "outputId": "ad5f9da2-b56d-409e-e011-7563019c3b97"
      },
      "outputs": [
        {
          "output_type": "display_data",
          "data": {
            "text/plain": [
              "Map(center=[47.656247, -117.5938195], controls=(ZoomControl(options=['position', 'zoom_in_text', 'zoom_in_titl…"
            ],
            "application/vnd.jupyter.widget-view+json": {
              "version_major": 2,
              "version_minor": 0,
              "model_id": "285016760b51412bbd9587e27ae85b81"
            }
          },
          "metadata": {
            "application/vnd.jupyter.widget-view+json": {
              "colab": {
                "custom_widget_manager": {
                  "url": "https://ssl.gstatic.com/colaboratory-static/widgets/colab-cdn-widget-manager/2b70e893a8ba7c0f/manager.min.js"
                }
              }
            }
          }
        }
      ],
      "source": [
        "m = leafmap.Map()\n",
        "m.add_raster(\"naip_data/m_4711720_sw_11_060_20230701_20230911.tif\", layer_name=\"NAIP\")\n",
        "m.add_geojson(\"buildings.geojson\", layer_name=\"Buildings\")\n",
        "m"
      ]
    },
    {
      "cell_type": "markdown",
      "metadata": {
        "id": "Ba5v6ttCDm74"
      },
      "source": [
        "![image](https://github.com/user-attachments/assets/64475787-8ba1-4d12-8fe6-29fbb1dac2ed)"
      ]
    }
  ],
  "metadata": {
    "kernelspec": {
      "display_name": "geo",
      "language": "python",
      "name": "python3"
    },
    "language_info": {
      "codemirror_mode": {
        "name": "ipython",
        "version": 3
      },
      "file_extension": ".py",
      "mimetype": "text/x-python",
      "name": "python",
      "nbconvert_exporter": "python",
      "pygments_lexer": "ipython3",
      "version": "3.12.9"
    },
    "colab": {
      "provenance": [],
      "include_colab_link": true
    },
    "widgets": {
      "application/vnd.jupyter.widget-state+json": {
        "75f4a580832d4d05b33a1c5a158bb6ce": {
          "model_module": "@jupyter-widgets/controls",
          "model_name": "CheckboxModel",
          "model_module_version": "1.5.0",
          "state": {
            "_dom_classes": [],
            "_model_module": "@jupyter-widgets/controls",
            "_model_module_version": "1.5.0",
            "_model_name": "CheckboxModel",
            "_view_count": null,
            "_view_module": "@jupyter-widgets/controls",
            "_view_module_version": "1.5.0",
            "_view_name": "CheckboxView",
            "description": "OpenStreetMap.Mapnik",
            "description_tooltip": null,
            "disabled": false,
            "indent": false,
            "layout": "IPY_MODEL_68f43e2d150c4b6ab9ad12020c11a335",
            "style": "IPY_MODEL_3d385bbbd0c74a5bacea521ba87c81ce",
            "value": true
          }
        },
        "2ead6515e6be4c14b2d14a7798b8714d": {
          "model_module": "jupyter-leaflet",
          "model_name": "LeafletTileLayerModel",
          "model_module_version": "^0.19",
          "state": {
            "_model_module": "jupyter-leaflet",
            "_model_module_version": "^0.19",
            "_model_name": "LeafletTileLayerModel",
            "_view_count": null,
            "_view_module": "jupyter-leaflet",
            "_view_module_version": "^0.19",
            "_view_name": "LeafletTileLayerView",
            "attribution": "&copy; <a href=\"https://www.openstreetmap.org/copyright\">OpenStreetMap</a> contributors",
            "base": true,
            "bottom": true,
            "bounds": null,
            "detect_retina": false,
            "loading": false,
            "max_native_zoom": null,
            "max_zoom": 19,
            "min_native_zoom": null,
            "min_zoom": 1,
            "name": "OpenStreetMap",
            "no_wrap": false,
            "opacity": 1,
            "options": [
              "attribution",
              "bounds",
              "detect_retina",
              "max_native_zoom",
              "max_zoom",
              "min_native_zoom",
              "min_zoom",
              "no_wrap",
              "tile_size",
              "tms",
              "zoom_offset"
            ],
            "pane": "",
            "popup": null,
            "popup_max_height": null,
            "popup_max_width": 300,
            "popup_min_width": 50,
            "show_loading": false,
            "subitems": [],
            "tile_size": 256,
            "tms": false,
            "url": "https://tile.openstreetmap.org/{z}/{x}/{y}.png",
            "visible": true,
            "zoom_offset": 0
          }
        },
        "5a9869137fef427cbca7292c40d3a824": {
          "model_module": "@jupyter-widgets/controls",
          "model_name": "CheckboxModel",
          "model_module_version": "1.5.0",
          "state": {
            "_dom_classes": [],
            "_model_module": "@jupyter-widgets/controls",
            "_model_module_version": "1.5.0",
            "_model_name": "CheckboxModel",
            "_view_count": null,
            "_view_module": "@jupyter-widgets/controls",
            "_view_module_version": "1.5.0",
            "_view_name": "CheckboxView",
            "description": "OpenStreetMap.Mapnik",
            "description_tooltip": null,
            "disabled": false,
            "indent": false,
            "layout": "IPY_MODEL_2dd5a7863d664ef3a9375d46a390de5b",
            "style": "IPY_MODEL_7c73d28ca01f4e308196ebe9fc903b11",
            "value": true
          }
        },
        "89fe6ef95a8c4fdd9c7da404653db7ce": {
          "model_module": "@jupyter-widgets/controls",
          "model_name": "CheckboxModel",
          "model_module_version": "1.5.0",
          "state": {
            "_dom_classes": [],
            "_model_module": "@jupyter-widgets/controls",
            "_model_module_version": "1.5.0",
            "_model_name": "CheckboxModel",
            "_view_count": null,
            "_view_module": "@jupyter-widgets/controls",
            "_view_module_version": "1.5.0",
            "_view_name": "CheckboxView",
            "description": "OpenStreetMap.Mapnik",
            "description_tooltip": null,
            "disabled": false,
            "indent": false,
            "layout": "IPY_MODEL_aa4012121e574468af427aeb21950a30",
            "style": "IPY_MODEL_be0a7c2f3cc24e74908f4b34eb5c240e",
            "value": true
          }
        },
        "68f43e2d150c4b6ab9ad12020c11a335": {
          "model_module": "@jupyter-widgets/base",
          "model_name": "LayoutModel",
          "model_module_version": "1.2.0",
          "state": {
            "_model_module": "@jupyter-widgets/base",
            "_model_module_version": "1.2.0",
            "_model_name": "LayoutModel",
            "_view_count": null,
            "_view_module": "@jupyter-widgets/base",
            "_view_module_version": "1.2.0",
            "_view_name": "LayoutView",
            "align_content": null,
            "align_items": null,
            "align_self": null,
            "border": null,
            "bottom": null,
            "display": null,
            "flex": null,
            "flex_flow": null,
            "grid_area": null,
            "grid_auto_columns": null,
            "grid_auto_flow": null,
            "grid_auto_rows": null,
            "grid_column": null,
            "grid_gap": null,
            "grid_row": null,
            "grid_template_areas": null,
            "grid_template_columns": null,
            "grid_template_rows": null,
            "height": "18px",
            "justify_content": null,
            "justify_items": null,
            "left": null,
            "margin": null,
            "max_height": null,
            "max_width": null,
            "min_height": null,
            "min_width": null,
            "object_fit": null,
            "object_position": null,
            "order": null,
            "overflow": null,
            "overflow_x": null,
            "overflow_y": null,
            "padding": null,
            "right": null,
            "top": null,
            "visibility": null,
            "width": "25ex"
          }
        },
        "3d385bbbd0c74a5bacea521ba87c81ce": {
          "model_module": "@jupyter-widgets/controls",
          "model_name": "DescriptionStyleModel",
          "model_module_version": "1.5.0",
          "state": {
            "_model_module": "@jupyter-widgets/controls",
            "_model_module_version": "1.5.0",
            "_model_name": "DescriptionStyleModel",
            "_view_count": null,
            "_view_module": "@jupyter-widgets/base",
            "_view_module_version": "1.2.0",
            "_view_name": "StyleView",
            "description_width": ""
          }
        },
        "2dd5a7863d664ef3a9375d46a390de5b": {
          "model_module": "@jupyter-widgets/base",
          "model_name": "LayoutModel",
          "model_module_version": "1.2.0",
          "state": {
            "_model_module": "@jupyter-widgets/base",
            "_model_module_version": "1.2.0",
            "_model_name": "LayoutModel",
            "_view_count": null,
            "_view_module": "@jupyter-widgets/base",
            "_view_module_version": "1.2.0",
            "_view_name": "LayoutView",
            "align_content": null,
            "align_items": null,
            "align_self": null,
            "border": null,
            "bottom": null,
            "display": null,
            "flex": null,
            "flex_flow": null,
            "grid_area": null,
            "grid_auto_columns": null,
            "grid_auto_flow": null,
            "grid_auto_rows": null,
            "grid_column": null,
            "grid_gap": null,
            "grid_row": null,
            "grid_template_areas": null,
            "grid_template_columns": null,
            "grid_template_rows": null,
            "height": "18px",
            "justify_content": null,
            "justify_items": null,
            "left": null,
            "margin": null,
            "max_height": null,
            "max_width": null,
            "min_height": null,
            "min_width": null,
            "object_fit": null,
            "object_position": null,
            "order": null,
            "overflow": null,
            "overflow_x": null,
            "overflow_y": null,
            "padding": null,
            "right": null,
            "top": null,
            "visibility": null,
            "width": "25ex"
          }
        },
        "7c73d28ca01f4e308196ebe9fc903b11": {
          "model_module": "@jupyter-widgets/controls",
          "model_name": "DescriptionStyleModel",
          "model_module_version": "1.5.0",
          "state": {
            "_model_module": "@jupyter-widgets/controls",
            "_model_module_version": "1.5.0",
            "_model_name": "DescriptionStyleModel",
            "_view_count": null,
            "_view_module": "@jupyter-widgets/base",
            "_view_module_version": "1.2.0",
            "_view_name": "StyleView",
            "description_width": ""
          }
        },
        "aa4012121e574468af427aeb21950a30": {
          "model_module": "@jupyter-widgets/base",
          "model_name": "LayoutModel",
          "model_module_version": "1.2.0",
          "state": {
            "_model_module": "@jupyter-widgets/base",
            "_model_module_version": "1.2.0",
            "_model_name": "LayoutModel",
            "_view_count": null,
            "_view_module": "@jupyter-widgets/base",
            "_view_module_version": "1.2.0",
            "_view_name": "LayoutView",
            "align_content": null,
            "align_items": null,
            "align_self": null,
            "border": null,
            "bottom": null,
            "display": null,
            "flex": null,
            "flex_flow": null,
            "grid_area": null,
            "grid_auto_columns": null,
            "grid_auto_flow": null,
            "grid_auto_rows": null,
            "grid_column": null,
            "grid_gap": null,
            "grid_row": null,
            "grid_template_areas": null,
            "grid_template_columns": null,
            "grid_template_rows": null,
            "height": "18px",
            "justify_content": null,
            "justify_items": null,
            "left": null,
            "margin": null,
            "max_height": null,
            "max_width": null,
            "min_height": null,
            "min_width": null,
            "object_fit": null,
            "object_position": null,
            "order": null,
            "overflow": null,
            "overflow_x": null,
            "overflow_y": null,
            "padding": null,
            "right": null,
            "top": null,
            "visibility": null,
            "width": "25ex"
          }
        },
        "be0a7c2f3cc24e74908f4b34eb5c240e": {
          "model_module": "@jupyter-widgets/controls",
          "model_name": "DescriptionStyleModel",
          "model_module_version": "1.5.0",
          "state": {
            "_model_module": "@jupyter-widgets/controls",
            "_model_module_version": "1.5.0",
            "_model_name": "DescriptionStyleModel",
            "_view_count": null,
            "_view_module": "@jupyter-widgets/base",
            "_view_module_version": "1.2.0",
            "_view_name": "StyleView",
            "description_width": ""
          }
        },
        "b13e734fdf354dcda3a6c7a5127af36d": {
          "model_module": "@jupyter-widgets/controls",
          "model_name": "CheckboxModel",
          "model_module_version": "1.5.0",
          "state": {
            "_dom_classes": [],
            "_model_module": "@jupyter-widgets/controls",
            "_model_module_version": "1.5.0",
            "_model_name": "CheckboxModel",
            "_view_count": null,
            "_view_module": "@jupyter-widgets/controls",
            "_view_module_version": "1.5.0",
            "_view_name": "CheckboxView",
            "description": "OpenStreetMap",
            "description_tooltip": null,
            "disabled": false,
            "indent": false,
            "layout": "IPY_MODEL_e4297cf019894904b80a19ed7fd130a0",
            "style": "IPY_MODEL_3e5bf5804063427a92b9ee72bb8e188e",
            "value": true
          }
        },
        "e4297cf019894904b80a19ed7fd130a0": {
          "model_module": "@jupyter-widgets/base",
          "model_name": "LayoutModel",
          "model_module_version": "1.2.0",
          "state": {
            "_model_module": "@jupyter-widgets/base",
            "_model_module_version": "1.2.0",
            "_model_name": "LayoutModel",
            "_view_count": null,
            "_view_module": "@jupyter-widgets/base",
            "_view_module_version": "1.2.0",
            "_view_name": "LayoutView",
            "align_content": null,
            "align_items": null,
            "align_self": null,
            "border": null,
            "bottom": null,
            "display": null,
            "flex": null,
            "flex_flow": null,
            "grid_area": null,
            "grid_auto_columns": null,
            "grid_auto_flow": null,
            "grid_auto_rows": null,
            "grid_column": null,
            "grid_gap": null,
            "grid_row": null,
            "grid_template_areas": null,
            "grid_template_columns": null,
            "grid_template_rows": null,
            "height": "18px",
            "justify_content": null,
            "justify_items": null,
            "left": null,
            "margin": null,
            "max_height": null,
            "max_width": null,
            "min_height": null,
            "min_width": null,
            "object_fit": null,
            "object_position": null,
            "order": null,
            "overflow": null,
            "overflow_x": null,
            "overflow_y": null,
            "padding": null,
            "right": null,
            "top": null,
            "visibility": null,
            "width": "25ex"
          }
        },
        "3e5bf5804063427a92b9ee72bb8e188e": {
          "model_module": "@jupyter-widgets/controls",
          "model_name": "DescriptionStyleModel",
          "model_module_version": "1.5.0",
          "state": {
            "_model_module": "@jupyter-widgets/controls",
            "_model_module_version": "1.5.0",
            "_model_name": "DescriptionStyleModel",
            "_view_count": null,
            "_view_module": "@jupyter-widgets/base",
            "_view_module_version": "1.2.0",
            "_view_name": "StyleView",
            "description_width": ""
          }
        },
        "e987cde590204f398d1d28b1e4bfb128": {
          "model_module": "@jupyter-widgets/controls",
          "model_name": "CheckboxModel",
          "model_module_version": "1.5.0",
          "state": {
            "_dom_classes": [],
            "_model_module": "@jupyter-widgets/controls",
            "_model_module_version": "1.5.0",
            "_model_name": "CheckboxModel",
            "_view_count": null,
            "_view_module": "@jupyter-widgets/controls",
            "_view_module_version": "1.5.0",
            "_view_name": "CheckboxView",
            "description": "OpenStreetMap",
            "description_tooltip": null,
            "disabled": false,
            "indent": false,
            "layout": "IPY_MODEL_521c946f68894a2f860403ee6775f4b8",
            "style": "IPY_MODEL_4db4640d8bb047ba81d24aeb568a1e4a",
            "value": true
          }
        },
        "521c946f68894a2f860403ee6775f4b8": {
          "model_module": "@jupyter-widgets/base",
          "model_name": "LayoutModel",
          "model_module_version": "1.2.0",
          "state": {
            "_model_module": "@jupyter-widgets/base",
            "_model_module_version": "1.2.0",
            "_model_name": "LayoutModel",
            "_view_count": null,
            "_view_module": "@jupyter-widgets/base",
            "_view_module_version": "1.2.0",
            "_view_name": "LayoutView",
            "align_content": null,
            "align_items": null,
            "align_self": null,
            "border": null,
            "bottom": null,
            "display": null,
            "flex": null,
            "flex_flow": null,
            "grid_area": null,
            "grid_auto_columns": null,
            "grid_auto_flow": null,
            "grid_auto_rows": null,
            "grid_column": null,
            "grid_gap": null,
            "grid_row": null,
            "grid_template_areas": null,
            "grid_template_columns": null,
            "grid_template_rows": null,
            "height": "18px",
            "justify_content": null,
            "justify_items": null,
            "left": null,
            "margin": null,
            "max_height": null,
            "max_width": null,
            "min_height": null,
            "min_width": null,
            "object_fit": null,
            "object_position": null,
            "order": null,
            "overflow": null,
            "overflow_x": null,
            "overflow_y": null,
            "padding": null,
            "right": null,
            "top": null,
            "visibility": null,
            "width": "25ex"
          }
        },
        "4db4640d8bb047ba81d24aeb568a1e4a": {
          "model_module": "@jupyter-widgets/controls",
          "model_name": "DescriptionStyleModel",
          "model_module_version": "1.5.0",
          "state": {
            "_model_module": "@jupyter-widgets/controls",
            "_model_module_version": "1.5.0",
            "_model_name": "DescriptionStyleModel",
            "_view_count": null,
            "_view_module": "@jupyter-widgets/base",
            "_view_module_version": "1.2.0",
            "_view_name": "StyleView",
            "description_width": ""
          }
        },
        "8e6a25bb5af94ea5a930b5711062298d": {
          "model_module": "@jupyter-widgets/controls",
          "model_name": "CheckboxModel",
          "model_module_version": "1.5.0",
          "state": {
            "_dom_classes": [],
            "_model_module": "@jupyter-widgets/controls",
            "_model_module_version": "1.5.0",
            "_model_name": "CheckboxModel",
            "_view_count": null,
            "_view_module": "@jupyter-widgets/controls",
            "_view_module_version": "1.5.0",
            "_view_name": "CheckboxView",
            "description": "Google Satellite",
            "description_tooltip": null,
            "disabled": false,
            "indent": false,
            "layout": "IPY_MODEL_4cea7d95fd7f409585e7d1f4f719f4d4",
            "style": "IPY_MODEL_88b6634467f14a2da2ce218edba58c40",
            "value": true
          }
        },
        "db2a064a6cba44358597d36e840692c0": {
          "model_module": "jupyter-leaflet",
          "model_name": "LeafletTileLayerModel",
          "model_module_version": "^0.19",
          "state": {
            "_model_module": "jupyter-leaflet",
            "_model_module_version": "^0.19",
            "_model_name": "LeafletTileLayerModel",
            "_view_count": null,
            "_view_module": "jupyter-leaflet",
            "_view_module_version": "^0.19",
            "_view_name": "LeafletTileLayerView",
            "attribution": "Google",
            "base": false,
            "bottom": true,
            "bounds": null,
            "detect_retina": false,
            "loading": false,
            "max_native_zoom": null,
            "max_zoom": 24,
            "min_native_zoom": null,
            "min_zoom": 0,
            "name": "Google Satellite",
            "no_wrap": false,
            "opacity": 1,
            "options": [
              "attribution",
              "bounds",
              "detect_retina",
              "max_native_zoom",
              "max_zoom",
              "min_native_zoom",
              "min_zoom",
              "no_wrap",
              "tile_size",
              "tms",
              "zoom_offset"
            ],
            "pane": "",
            "popup": null,
            "popup_max_height": null,
            "popup_max_width": 300,
            "popup_min_width": 50,
            "show_loading": false,
            "subitems": [],
            "tile_size": 256,
            "tms": false,
            "url": "https://mt1.google.com/vt/lyrs=s&x={x}&y={y}&z={z}&key=YOUR-API-KEY",
            "visible": true,
            "zoom_offset": 0
          }
        },
        "4cea7d95fd7f409585e7d1f4f719f4d4": {
          "model_module": "@jupyter-widgets/base",
          "model_name": "LayoutModel",
          "model_module_version": "1.2.0",
          "state": {
            "_model_module": "@jupyter-widgets/base",
            "_model_module_version": "1.2.0",
            "_model_name": "LayoutModel",
            "_view_count": null,
            "_view_module": "@jupyter-widgets/base",
            "_view_module_version": "1.2.0",
            "_view_name": "LayoutView",
            "align_content": null,
            "align_items": null,
            "align_self": null,
            "border": null,
            "bottom": null,
            "display": null,
            "flex": null,
            "flex_flow": null,
            "grid_area": null,
            "grid_auto_columns": null,
            "grid_auto_flow": null,
            "grid_auto_rows": null,
            "grid_column": null,
            "grid_gap": null,
            "grid_row": null,
            "grid_template_areas": null,
            "grid_template_columns": null,
            "grid_template_rows": null,
            "height": "18px",
            "justify_content": null,
            "justify_items": null,
            "left": null,
            "margin": null,
            "max_height": null,
            "max_width": null,
            "min_height": null,
            "min_width": null,
            "object_fit": null,
            "object_position": null,
            "order": null,
            "overflow": null,
            "overflow_x": null,
            "overflow_y": null,
            "padding": null,
            "right": null,
            "top": null,
            "visibility": null,
            "width": "25ex"
          }
        },
        "88b6634467f14a2da2ce218edba58c40": {
          "model_module": "@jupyter-widgets/controls",
          "model_name": "DescriptionStyleModel",
          "model_module_version": "1.5.0",
          "state": {
            "_model_module": "@jupyter-widgets/controls",
            "_model_module_version": "1.5.0",
            "_model_name": "DescriptionStyleModel",
            "_view_count": null,
            "_view_module": "@jupyter-widgets/base",
            "_view_module_version": "1.2.0",
            "_view_name": "StyleView",
            "description_width": ""
          }
        },
        "aa9305482b0f4052b87137d7de7f16a0": {
          "model_module": "jupyter-leaflet",
          "model_name": "LeafletMapModel",
          "model_module_version": "^0.19",
          "state": {
            "_dom_classes": [],
            "_model_module": "jupyter-leaflet",
            "_model_module_version": "^0.19",
            "_model_name": "LeafletMapModel",
            "_view_count": null,
            "_view_module": "jupyter-leaflet",
            "_view_module_version": "^0.19",
            "_view_name": "LeafletMapView",
            "bottom": 1464288,
            "bounce_at_zoom_limits": true,
            "box_zoom": true,
            "center": [
              47.654981996330804,
              -117.5804257982374
            ],
            "close_popup_on_click": true,
            "controls": [
              "IPY_MODEL_6016b43670e44add80bbaa9b3fba1713",
              "IPY_MODEL_751b369abb334c02b21a8c924640d778",
              "IPY_MODEL_276a1ea107e64d8f929253da68099ac0",
              "IPY_MODEL_bdce30b00dd941208b979a7c00994bcc",
              "IPY_MODEL_bbfc50aac7e64b8996e149bc8c308dee",
              "IPY_MODEL_77bc824700754cf5a371c45033c7ab9c"
            ],
            "crs": {
              "name": "EPSG3857",
              "custom": false
            },
            "default_style": "IPY_MODEL_eae4de64620c4e7c907aff70ab7ccc4b",
            "double_click_zoom": true,
            "dragging": true,
            "dragging_style": "IPY_MODEL_6ba03e49a2724ecf88cf787efe2ed936",
            "east": -117.52075195312501,
            "fullscreen": false,
            "inertia": true,
            "inertia_deceleration": 3000,
            "inertia_max_speed": 1500,
            "interpolation": "bilinear",
            "keyboard": true,
            "keyboard_pan_offset": 80,
            "keyboard_zoom_offset": 1,
            "layers": [
              "IPY_MODEL_2ead6515e6be4c14b2d14a7798b8714d",
              "IPY_MODEL_db2a064a6cba44358597d36e840692c0"
            ],
            "layout": "IPY_MODEL_6a9c7e1909b34cada01007e51376cd9c",
            "left": 726545,
            "max_zoom": 24,
            "min_zoom": null,
            "modisdate": "2025-05-05",
            "north": 47.67232331152496,
            "options": [
              "bounce_at_zoom_limits",
              "box_zoom",
              "center",
              "close_popup_on_click",
              "double_click_zoom",
              "dragging",
              "fullscreen",
              "inertia",
              "inertia_deceleration",
              "inertia_max_speed",
              "interpolation",
              "keyboard",
              "keyboard_pan_offset",
              "keyboard_zoom_offset",
              "max_zoom",
              "min_zoom",
              "prefer_canvas",
              "scroll_wheel_zoom",
              "tap",
              "tap_tolerance",
              "touch_zoom",
              "world_copy_jump",
              "zoom",
              "zoom_animation_threshold",
              "zoom_delta",
              "zoom_snap"
            ],
            "panes": {},
            "prefer_canvas": false,
            "right": 727936,
            "scroll_wheel_zoom": true,
            "south": 47.63763431783613,
            "style": "IPY_MODEL_eae4de64620c4e7c907aff70ab7ccc4b",
            "tap": true,
            "tap_tolerance": 15,
            "top": 1463688,
            "touch_zoom": true,
            "west": -117.64014244079591,
            "window_url": "https://1ow969w9sru-496ff2e9c6d22116-0-colab.googleusercontent.com/outputframe.html?vrz=colab_20250502-060100_RC00_753925155",
            "world_copy_jump": false,
            "zoom": 14,
            "zoom_animation_threshold": 4,
            "zoom_delta": 1,
            "zoom_snap": 1
          }
        },
        "6016b43670e44add80bbaa9b3fba1713": {
          "model_module": "jupyter-leaflet",
          "model_name": "LeafletZoomControlModel",
          "model_module_version": "^0.19",
          "state": {
            "_model_module": "jupyter-leaflet",
            "_model_module_version": "^0.19",
            "_model_name": "LeafletZoomControlModel",
            "_view_count": null,
            "_view_module": "jupyter-leaflet",
            "_view_module_version": "^0.19",
            "_view_name": "LeafletZoomControlView",
            "options": [
              "position",
              "zoom_in_text",
              "zoom_in_title",
              "zoom_out_text",
              "zoom_out_title"
            ],
            "position": "topleft",
            "zoom_in_text": "+",
            "zoom_in_title": "Zoom in",
            "zoom_out_text": "-",
            "zoom_out_title": "Zoom out"
          }
        },
        "751b369abb334c02b21a8c924640d778": {
          "model_module": "jupyter-leaflet",
          "model_name": "LeafletAttributionControlModel",
          "model_module_version": "^0.19",
          "state": {
            "_model_module": "jupyter-leaflet",
            "_model_module_version": "^0.19",
            "_model_name": "LeafletAttributionControlModel",
            "_view_count": null,
            "_view_module": "jupyter-leaflet",
            "_view_module_version": "^0.19",
            "_view_name": "LeafletAttributionControlView",
            "options": [
              "position",
              "prefix"
            ],
            "position": "bottomright",
            "prefix": "ipyleaflet"
          }
        },
        "276a1ea107e64d8f929253da68099ac0": {
          "model_module": "jupyter-leaflet",
          "model_name": "LeafletFullScreenControlModel",
          "model_module_version": "^0.19",
          "state": {
            "_model_module": "jupyter-leaflet",
            "_model_module_version": "^0.19",
            "_model_name": "LeafletFullScreenControlModel",
            "_view_count": null,
            "_view_module": "jupyter-leaflet",
            "_view_module_version": "^0.19",
            "_view_name": "LeafletFullScreenControlView",
            "options": [
              "position"
            ],
            "position": "topleft"
          }
        },
        "bdce30b00dd941208b979a7c00994bcc": {
          "model_module": "jupyter-leaflet",
          "model_name": "LeafletDrawControlModel",
          "model_module_version": "^0.19",
          "state": {
            "_model_module": "jupyter-leaflet",
            "_model_module_version": "^0.19",
            "_model_name": "LeafletDrawControlModel",
            "_view_count": null,
            "_view_module": "jupyter-leaflet",
            "_view_module_version": "^0.19",
            "_view_name": "LeafletDrawControlView",
            "circle": {
              "shapeOptions": {
                "color": "#3388ff"
              },
              "repeatMode": false
            },
            "circlemarker": {},
            "data": [
              {
                "type": "Feature",
                "properties": {
                  "style": {
                    "stroke": true,
                    "color": "#3388ff",
                    "weight": 4,
                    "opacity": 0.5,
                    "fill": true,
                    "fillColor": null,
                    "fillOpacity": 0.2,
                    "clickable": true
                  }
                },
                "geometry": {
                  "type": "Polygon",
                  "coordinates": [
                    [
                      [
                        -117.621689,
                        47.63023
                      ],
                      [
                        -117.621689,
                        47.657409
                      ],
                      [
                        -117.5247,
                        47.657409
                      ],
                      [
                        -117.5247,
                        47.63023
                      ],
                      [
                        -117.621689,
                        47.63023
                      ]
                    ]
                  ]
                }
              }
            ],
            "edit": true,
            "marker": {
              "shapeOptions": {
                "color": "#3388ff"
              },
              "repeatMode": false
            },
            "options": [
              "position"
            ],
            "polygon": {
              "repeatMode": false
            },
            "polyline": {
              "repeatMode": false
            },
            "position": "topleft",
            "rectangle": {
              "shapeOptions": {
                "color": "#3388ff"
              },
              "repeatMode": false
            },
            "remove": true
          }
        },
        "bbfc50aac7e64b8996e149bc8c308dee": {
          "model_module": "jupyter-leaflet",
          "model_name": "LeafletScaleControlModel",
          "model_module_version": "^0.19",
          "state": {
            "_model_module": "jupyter-leaflet",
            "_model_module_version": "^0.19",
            "_model_name": "LeafletScaleControlModel",
            "_view_count": null,
            "_view_module": "jupyter-leaflet",
            "_view_module_version": "^0.19",
            "_view_name": "LeafletScaleControlView",
            "imperial": true,
            "max_width": 100,
            "metric": true,
            "options": [
              "imperial",
              "max_width",
              "metric",
              "position",
              "update_when_idle"
            ],
            "position": "bottomleft",
            "update_when_idle": false
          }
        },
        "77bc824700754cf5a371c45033c7ab9c": {
          "model_module": "jupyter-leaflet",
          "model_name": "LeafletWidgetControlModel",
          "model_module_version": "^0.19",
          "state": {
            "_model_module": "jupyter-leaflet",
            "_model_module_version": "^0.19",
            "_model_name": "LeafletWidgetControlModel",
            "_view_count": null,
            "_view_module": "jupyter-leaflet",
            "_view_module_version": "^0.19",
            "_view_name": "LeafletWidgetControlView",
            "max_height": null,
            "max_width": null,
            "min_height": null,
            "min_width": null,
            "options": [
              "position",
              "transparent_bg"
            ],
            "position": "topright",
            "transparent_bg": false,
            "widget": "IPY_MODEL_8074e9572f914eb19848425dc827af96"
          }
        },
        "eae4de64620c4e7c907aff70ab7ccc4b": {
          "model_module": "jupyter-leaflet",
          "model_name": "LeafletMapStyleModel",
          "model_module_version": "^0.19",
          "state": {
            "_model_module": "jupyter-leaflet",
            "_model_module_version": "^0.19",
            "_model_name": "LeafletMapStyleModel",
            "_view_count": null,
            "_view_module": "@jupyter-widgets/base",
            "_view_module_version": "1.2.0",
            "_view_name": "StyleView",
            "cursor": "grab"
          }
        },
        "6ba03e49a2724ecf88cf787efe2ed936": {
          "model_module": "jupyter-leaflet",
          "model_name": "LeafletMapStyleModel",
          "model_module_version": "^0.19",
          "state": {
            "_model_module": "jupyter-leaflet",
            "_model_module_version": "^0.19",
            "_model_name": "LeafletMapStyleModel",
            "_view_count": null,
            "_view_module": "@jupyter-widgets/base",
            "_view_module_version": "1.2.0",
            "_view_name": "StyleView",
            "cursor": "move"
          }
        },
        "6a9c7e1909b34cada01007e51376cd9c": {
          "model_module": "@jupyter-widgets/base",
          "model_name": "LayoutModel",
          "model_module_version": "1.2.0",
          "state": {
            "_model_module": "@jupyter-widgets/base",
            "_model_module_version": "1.2.0",
            "_model_name": "LayoutModel",
            "_view_count": null,
            "_view_module": "@jupyter-widgets/base",
            "_view_module_version": "1.2.0",
            "_view_name": "LayoutView",
            "align_content": null,
            "align_items": null,
            "align_self": null,
            "border": null,
            "bottom": null,
            "display": null,
            "flex": null,
            "flex_flow": null,
            "grid_area": null,
            "grid_auto_columns": null,
            "grid_auto_flow": null,
            "grid_auto_rows": null,
            "grid_column": null,
            "grid_gap": null,
            "grid_row": null,
            "grid_template_areas": null,
            "grid_template_columns": null,
            "grid_template_rows": null,
            "height": "600px",
            "justify_content": null,
            "justify_items": null,
            "left": null,
            "margin": null,
            "max_height": null,
            "max_width": null,
            "min_height": null,
            "min_width": null,
            "object_fit": null,
            "object_position": null,
            "order": null,
            "overflow": null,
            "overflow_x": null,
            "overflow_y": null,
            "padding": null,
            "right": null,
            "top": null,
            "visibility": null,
            "width": null
          }
        },
        "2fa60e36a72f4ab89f013618e8dbb4f4": {
          "model_module": "jupyter-leaflet",
          "model_name": "LeafletMapStyleModel",
          "model_module_version": "^0.19",
          "state": {
            "_model_module": "jupyter-leaflet",
            "_model_module_version": "^0.19",
            "_model_name": "LeafletMapStyleModel",
            "_view_count": null,
            "_view_module": "@jupyter-widgets/base",
            "_view_module_version": "1.2.0",
            "_view_name": "StyleView",
            "cursor": "grab"
          }
        },
        "8074e9572f914eb19848425dc827af96": {
          "model_module": "@jupyter-widgets/controls",
          "model_name": "VBoxModel",
          "model_module_version": "1.5.0",
          "state": {
            "_dom_classes": [],
            "_model_module": "@jupyter-widgets/controls",
            "_model_module_version": "1.5.0",
            "_model_name": "VBoxModel",
            "_view_count": null,
            "_view_module": "@jupyter-widgets/controls",
            "_view_module_version": "1.5.0",
            "_view_name": "VBoxView",
            "box_style": "",
            "children": [
              "IPY_MODEL_e418d49ae50148169fc1c2a586ce7c14"
            ],
            "layout": "IPY_MODEL_717d5531366c40b9bde48efe790dd0eb"
          }
        },
        "e418d49ae50148169fc1c2a586ce7c14": {
          "model_module": "@jupyter-widgets/controls",
          "model_name": "ToggleButtonModel",
          "model_module_version": "1.5.0",
          "state": {
            "_dom_classes": [],
            "_model_module": "@jupyter-widgets/controls",
            "_model_module_version": "1.5.0",
            "_model_name": "ToggleButtonModel",
            "_view_count": null,
            "_view_module": "@jupyter-widgets/controls",
            "_view_module_version": "1.5.0",
            "_view_name": "ToggleButtonView",
            "button_style": "",
            "description": "",
            "description_tooltip": null,
            "disabled": false,
            "icon": "wrench",
            "layout": "IPY_MODEL_c357966c2b7948f5b5ac718ff7c37227",
            "style": "IPY_MODEL_cd8d504ba84d4fa8a6e15cb96eaea9d0",
            "tooltip": "Toolbar",
            "value": false
          }
        },
        "717d5531366c40b9bde48efe790dd0eb": {
          "model_module": "@jupyter-widgets/base",
          "model_name": "LayoutModel",
          "model_module_version": "1.2.0",
          "state": {
            "_model_module": "@jupyter-widgets/base",
            "_model_module_version": "1.2.0",
            "_model_name": "LayoutModel",
            "_view_count": null,
            "_view_module": "@jupyter-widgets/base",
            "_view_module_version": "1.2.0",
            "_view_name": "LayoutView",
            "align_content": null,
            "align_items": null,
            "align_self": null,
            "border": null,
            "bottom": null,
            "display": null,
            "flex": null,
            "flex_flow": null,
            "grid_area": null,
            "grid_auto_columns": null,
            "grid_auto_flow": null,
            "grid_auto_rows": null,
            "grid_column": null,
            "grid_gap": null,
            "grid_row": null,
            "grid_template_areas": null,
            "grid_template_columns": null,
            "grid_template_rows": null,
            "height": null,
            "justify_content": null,
            "justify_items": null,
            "left": null,
            "margin": null,
            "max_height": null,
            "max_width": null,
            "min_height": null,
            "min_width": null,
            "object_fit": null,
            "object_position": null,
            "order": null,
            "overflow": null,
            "overflow_x": null,
            "overflow_y": null,
            "padding": null,
            "right": null,
            "top": null,
            "visibility": null,
            "width": null
          }
        },
        "c357966c2b7948f5b5ac718ff7c37227": {
          "model_module": "@jupyter-widgets/base",
          "model_name": "LayoutModel",
          "model_module_version": "1.2.0",
          "state": {
            "_model_module": "@jupyter-widgets/base",
            "_model_module_version": "1.2.0",
            "_model_name": "LayoutModel",
            "_view_count": null,
            "_view_module": "@jupyter-widgets/base",
            "_view_module_version": "1.2.0",
            "_view_name": "LayoutView",
            "align_content": null,
            "align_items": null,
            "align_self": null,
            "border": null,
            "bottom": null,
            "display": null,
            "flex": null,
            "flex_flow": null,
            "grid_area": null,
            "grid_auto_columns": null,
            "grid_auto_flow": null,
            "grid_auto_rows": null,
            "grid_column": null,
            "grid_gap": null,
            "grid_row": null,
            "grid_template_areas": null,
            "grid_template_columns": null,
            "grid_template_rows": null,
            "height": "28px",
            "justify_content": null,
            "justify_items": null,
            "left": null,
            "margin": null,
            "max_height": null,
            "max_width": null,
            "min_height": null,
            "min_width": null,
            "object_fit": null,
            "object_position": null,
            "order": null,
            "overflow": null,
            "overflow_x": null,
            "overflow_y": null,
            "padding": "0px 0px 0px 4px",
            "right": null,
            "top": null,
            "visibility": null,
            "width": "28px"
          }
        },
        "cd8d504ba84d4fa8a6e15cb96eaea9d0": {
          "model_module": "@jupyter-widgets/controls",
          "model_name": "DescriptionStyleModel",
          "model_module_version": "1.5.0",
          "state": {
            "_model_module": "@jupyter-widgets/controls",
            "_model_module_version": "1.5.0",
            "_model_name": "DescriptionStyleModel",
            "_view_count": null,
            "_view_module": "@jupyter-widgets/base",
            "_view_module_version": "1.2.0",
            "_view_name": "StyleView",
            "description_width": ""
          }
        },
        "51ced4c5721647ffad13d553b1bb0b6b": {
          "model_module": "@jupyter-widgets/controls",
          "model_name": "CheckboxModel",
          "model_module_version": "1.5.0",
          "state": {
            "_dom_classes": [],
            "_model_module": "@jupyter-widgets/controls",
            "_model_module_version": "1.5.0",
            "_model_name": "CheckboxModel",
            "_view_count": null,
            "_view_module": "@jupyter-widgets/controls",
            "_view_module_version": "1.5.0",
            "_view_name": "CheckboxView",
            "description": "OpenStreetMap.Mapnik",
            "description_tooltip": null,
            "disabled": false,
            "indent": false,
            "layout": "IPY_MODEL_ad359eb97abd4485896b8ffff6124c0d",
            "style": "IPY_MODEL_804ceb94c0904e1097649e4a3d95f7ae",
            "value": true
          }
        },
        "19dc866a03a544d284d11bccff6b4d0a": {
          "model_module": "jupyter-leaflet",
          "model_name": "LeafletTileLayerModel",
          "model_module_version": "^0.19",
          "state": {
            "_model_module": "jupyter-leaflet",
            "_model_module_version": "^0.19",
            "_model_name": "LeafletTileLayerModel",
            "_view_count": null,
            "_view_module": "jupyter-leaflet",
            "_view_module_version": "^0.19",
            "_view_name": "LeafletTileLayerView",
            "attribution": "&copy; <a href=\"https://www.openstreetmap.org/copyright\">OpenStreetMap</a> contributors",
            "base": true,
            "bottom": true,
            "bounds": null,
            "detect_retina": false,
            "loading": false,
            "max_native_zoom": null,
            "max_zoom": 19,
            "min_native_zoom": null,
            "min_zoom": 1,
            "name": "OpenStreetMap",
            "no_wrap": false,
            "opacity": 1,
            "options": [
              "attribution",
              "bounds",
              "detect_retina",
              "max_native_zoom",
              "max_zoom",
              "min_native_zoom",
              "min_zoom",
              "no_wrap",
              "tile_size",
              "tms",
              "zoom_offset"
            ],
            "pane": "",
            "popup": null,
            "popup_max_height": null,
            "popup_max_width": 300,
            "popup_min_width": 50,
            "show_loading": false,
            "subitems": [],
            "tile_size": 256,
            "tms": false,
            "url": "https://tile.openstreetmap.org/{z}/{x}/{y}.png",
            "visible": true,
            "zoom_offset": 0
          }
        },
        "ad359eb97abd4485896b8ffff6124c0d": {
          "model_module": "@jupyter-widgets/base",
          "model_name": "LayoutModel",
          "model_module_version": "1.2.0",
          "state": {
            "_model_module": "@jupyter-widgets/base",
            "_model_module_version": "1.2.0",
            "_model_name": "LayoutModel",
            "_view_count": null,
            "_view_module": "@jupyter-widgets/base",
            "_view_module_version": "1.2.0",
            "_view_name": "LayoutView",
            "align_content": null,
            "align_items": null,
            "align_self": null,
            "border": null,
            "bottom": null,
            "display": null,
            "flex": null,
            "flex_flow": null,
            "grid_area": null,
            "grid_auto_columns": null,
            "grid_auto_flow": null,
            "grid_auto_rows": null,
            "grid_column": null,
            "grid_gap": null,
            "grid_row": null,
            "grid_template_areas": null,
            "grid_template_columns": null,
            "grid_template_rows": null,
            "height": "18px",
            "justify_content": null,
            "justify_items": null,
            "left": null,
            "margin": null,
            "max_height": null,
            "max_width": null,
            "min_height": null,
            "min_width": null,
            "object_fit": null,
            "object_position": null,
            "order": null,
            "overflow": null,
            "overflow_x": null,
            "overflow_y": null,
            "padding": null,
            "right": null,
            "top": null,
            "visibility": null,
            "width": "25ex"
          }
        },
        "804ceb94c0904e1097649e4a3d95f7ae": {
          "model_module": "@jupyter-widgets/controls",
          "model_name": "DescriptionStyleModel",
          "model_module_version": "1.5.0",
          "state": {
            "_model_module": "@jupyter-widgets/controls",
            "_model_module_version": "1.5.0",
            "_model_name": "DescriptionStyleModel",
            "_view_count": null,
            "_view_module": "@jupyter-widgets/base",
            "_view_module_version": "1.2.0",
            "_view_name": "StyleView",
            "description_width": ""
          }
        },
        "39ab2375719d4d3bb95c5a3fc6a805c5": {
          "model_module": "@jupyter-widgets/controls",
          "model_name": "CheckboxModel",
          "model_module_version": "1.5.0",
          "state": {
            "_dom_classes": [],
            "_model_module": "@jupyter-widgets/controls",
            "_model_module_version": "1.5.0",
            "_model_name": "CheckboxModel",
            "_view_count": null,
            "_view_module": "@jupyter-widgets/controls",
            "_view_module_version": "1.5.0",
            "_view_name": "CheckboxView",
            "description": "OpenStreetMap.Mapnik",
            "description_tooltip": null,
            "disabled": false,
            "indent": false,
            "layout": "IPY_MODEL_cdfd3e9430314980b7d90fb4850ca94f",
            "style": "IPY_MODEL_c7860db592464113948d5801072db208",
            "value": true
          }
        },
        "cdfd3e9430314980b7d90fb4850ca94f": {
          "model_module": "@jupyter-widgets/base",
          "model_name": "LayoutModel",
          "model_module_version": "1.2.0",
          "state": {
            "_model_module": "@jupyter-widgets/base",
            "_model_module_version": "1.2.0",
            "_model_name": "LayoutModel",
            "_view_count": null,
            "_view_module": "@jupyter-widgets/base",
            "_view_module_version": "1.2.0",
            "_view_name": "LayoutView",
            "align_content": null,
            "align_items": null,
            "align_self": null,
            "border": null,
            "bottom": null,
            "display": null,
            "flex": null,
            "flex_flow": null,
            "grid_area": null,
            "grid_auto_columns": null,
            "grid_auto_flow": null,
            "grid_auto_rows": null,
            "grid_column": null,
            "grid_gap": null,
            "grid_row": null,
            "grid_template_areas": null,
            "grid_template_columns": null,
            "grid_template_rows": null,
            "height": "18px",
            "justify_content": null,
            "justify_items": null,
            "left": null,
            "margin": null,
            "max_height": null,
            "max_width": null,
            "min_height": null,
            "min_width": null,
            "object_fit": null,
            "object_position": null,
            "order": null,
            "overflow": null,
            "overflow_x": null,
            "overflow_y": null,
            "padding": null,
            "right": null,
            "top": null,
            "visibility": null,
            "width": "25ex"
          }
        },
        "c7860db592464113948d5801072db208": {
          "model_module": "@jupyter-widgets/controls",
          "model_name": "DescriptionStyleModel",
          "model_module_version": "1.5.0",
          "state": {
            "_model_module": "@jupyter-widgets/controls",
            "_model_module_version": "1.5.0",
            "_model_name": "DescriptionStyleModel",
            "_view_count": null,
            "_view_module": "@jupyter-widgets/base",
            "_view_module_version": "1.2.0",
            "_view_name": "StyleView",
            "description_width": ""
          }
        },
        "a5b2e5db7f6d4f5586cb5c54d193c1b7": {
          "model_module": "@jupyter-widgets/controls",
          "model_name": "CheckboxModel",
          "model_module_version": "1.5.0",
          "state": {
            "_dom_classes": [],
            "_model_module": "@jupyter-widgets/controls",
            "_model_module_version": "1.5.0",
            "_model_name": "CheckboxModel",
            "_view_count": null,
            "_view_module": "@jupyter-widgets/controls",
            "_view_module_version": "1.5.0",
            "_view_name": "CheckboxView",
            "description": "OpenStreetMap.Mapnik",
            "description_tooltip": null,
            "disabled": false,
            "indent": false,
            "layout": "IPY_MODEL_dbe10baea3a54d5e865bd6f57b0bf155",
            "style": "IPY_MODEL_4f3715f453f94a12b5c009e8161c193f",
            "value": true
          }
        },
        "dbe10baea3a54d5e865bd6f57b0bf155": {
          "model_module": "@jupyter-widgets/base",
          "model_name": "LayoutModel",
          "model_module_version": "1.2.0",
          "state": {
            "_model_module": "@jupyter-widgets/base",
            "_model_module_version": "1.2.0",
            "_model_name": "LayoutModel",
            "_view_count": null,
            "_view_module": "@jupyter-widgets/base",
            "_view_module_version": "1.2.0",
            "_view_name": "LayoutView",
            "align_content": null,
            "align_items": null,
            "align_self": null,
            "border": null,
            "bottom": null,
            "display": null,
            "flex": null,
            "flex_flow": null,
            "grid_area": null,
            "grid_auto_columns": null,
            "grid_auto_flow": null,
            "grid_auto_rows": null,
            "grid_column": null,
            "grid_gap": null,
            "grid_row": null,
            "grid_template_areas": null,
            "grid_template_columns": null,
            "grid_template_rows": null,
            "height": "18px",
            "justify_content": null,
            "justify_items": null,
            "left": null,
            "margin": null,
            "max_height": null,
            "max_width": null,
            "min_height": null,
            "min_width": null,
            "object_fit": null,
            "object_position": null,
            "order": null,
            "overflow": null,
            "overflow_x": null,
            "overflow_y": null,
            "padding": null,
            "right": null,
            "top": null,
            "visibility": null,
            "width": "25ex"
          }
        },
        "4f3715f453f94a12b5c009e8161c193f": {
          "model_module": "@jupyter-widgets/controls",
          "model_name": "DescriptionStyleModel",
          "model_module_version": "1.5.0",
          "state": {
            "_model_module": "@jupyter-widgets/controls",
            "_model_module_version": "1.5.0",
            "_model_name": "DescriptionStyleModel",
            "_view_count": null,
            "_view_module": "@jupyter-widgets/base",
            "_view_module_version": "1.2.0",
            "_view_name": "StyleView",
            "description_width": ""
          }
        },
        "8eb1a0f0c4084a858d719a0f75b1e508": {
          "model_module": "@jupyter-widgets/controls",
          "model_name": "CheckboxModel",
          "model_module_version": "1.5.0",
          "state": {
            "_dom_classes": [],
            "_model_module": "@jupyter-widgets/controls",
            "_model_module_version": "1.5.0",
            "_model_name": "CheckboxModel",
            "_view_count": null,
            "_view_module": "@jupyter-widgets/controls",
            "_view_module_version": "1.5.0",
            "_view_name": "CheckboxView",
            "description": "OpenStreetMap",
            "description_tooltip": null,
            "disabled": false,
            "indent": false,
            "layout": "IPY_MODEL_bc6e19afbffc4ee98f391895a75310fc",
            "style": "IPY_MODEL_4e53b55582e644d282df2ef1ec639375",
            "value": true
          }
        },
        "bc6e19afbffc4ee98f391895a75310fc": {
          "model_module": "@jupyter-widgets/base",
          "model_name": "LayoutModel",
          "model_module_version": "1.2.0",
          "state": {
            "_model_module": "@jupyter-widgets/base",
            "_model_module_version": "1.2.0",
            "_model_name": "LayoutModel",
            "_view_count": null,
            "_view_module": "@jupyter-widgets/base",
            "_view_module_version": "1.2.0",
            "_view_name": "LayoutView",
            "align_content": null,
            "align_items": null,
            "align_self": null,
            "border": null,
            "bottom": null,
            "display": null,
            "flex": null,
            "flex_flow": null,
            "grid_area": null,
            "grid_auto_columns": null,
            "grid_auto_flow": null,
            "grid_auto_rows": null,
            "grid_column": null,
            "grid_gap": null,
            "grid_row": null,
            "grid_template_areas": null,
            "grid_template_columns": null,
            "grid_template_rows": null,
            "height": "18px",
            "justify_content": null,
            "justify_items": null,
            "left": null,
            "margin": null,
            "max_height": null,
            "max_width": null,
            "min_height": null,
            "min_width": null,
            "object_fit": null,
            "object_position": null,
            "order": null,
            "overflow": null,
            "overflow_x": null,
            "overflow_y": null,
            "padding": null,
            "right": null,
            "top": null,
            "visibility": null,
            "width": "25ex"
          }
        },
        "4e53b55582e644d282df2ef1ec639375": {
          "model_module": "@jupyter-widgets/controls",
          "model_name": "DescriptionStyleModel",
          "model_module_version": "1.5.0",
          "state": {
            "_model_module": "@jupyter-widgets/controls",
            "_model_module_version": "1.5.0",
            "_model_name": "DescriptionStyleModel",
            "_view_count": null,
            "_view_module": "@jupyter-widgets/base",
            "_view_module_version": "1.2.0",
            "_view_name": "StyleView",
            "description_width": ""
          }
        },
        "da7eb4cc592144f989b1bb4a0d760a93": {
          "model_module": "@jupyter-widgets/controls",
          "model_name": "CheckboxModel",
          "model_module_version": "1.5.0",
          "state": {
            "_dom_classes": [],
            "_model_module": "@jupyter-widgets/controls",
            "_model_module_version": "1.5.0",
            "_model_name": "CheckboxModel",
            "_view_count": null,
            "_view_module": "@jupyter-widgets/controls",
            "_view_module_version": "1.5.0",
            "_view_name": "CheckboxView",
            "description": "OpenStreetMap",
            "description_tooltip": null,
            "disabled": false,
            "indent": false,
            "layout": "IPY_MODEL_bdcf1963060a4820ac2e54b7c8efc494",
            "style": "IPY_MODEL_5026ef2a513845c2927f77f55dc0787f",
            "value": true
          }
        },
        "bdcf1963060a4820ac2e54b7c8efc494": {
          "model_module": "@jupyter-widgets/base",
          "model_name": "LayoutModel",
          "model_module_version": "1.2.0",
          "state": {
            "_model_module": "@jupyter-widgets/base",
            "_model_module_version": "1.2.0",
            "_model_name": "LayoutModel",
            "_view_count": null,
            "_view_module": "@jupyter-widgets/base",
            "_view_module_version": "1.2.0",
            "_view_name": "LayoutView",
            "align_content": null,
            "align_items": null,
            "align_self": null,
            "border": null,
            "bottom": null,
            "display": null,
            "flex": null,
            "flex_flow": null,
            "grid_area": null,
            "grid_auto_columns": null,
            "grid_auto_flow": null,
            "grid_auto_rows": null,
            "grid_column": null,
            "grid_gap": null,
            "grid_row": null,
            "grid_template_areas": null,
            "grid_template_columns": null,
            "grid_template_rows": null,
            "height": "18px",
            "justify_content": null,
            "justify_items": null,
            "left": null,
            "margin": null,
            "max_height": null,
            "max_width": null,
            "min_height": null,
            "min_width": null,
            "object_fit": null,
            "object_position": null,
            "order": null,
            "overflow": null,
            "overflow_x": null,
            "overflow_y": null,
            "padding": null,
            "right": null,
            "top": null,
            "visibility": null,
            "width": "25ex"
          }
        },
        "5026ef2a513845c2927f77f55dc0787f": {
          "model_module": "@jupyter-widgets/controls",
          "model_name": "DescriptionStyleModel",
          "model_module_version": "1.5.0",
          "state": {
            "_model_module": "@jupyter-widgets/controls",
            "_model_module_version": "1.5.0",
            "_model_name": "DescriptionStyleModel",
            "_view_count": null,
            "_view_module": "@jupyter-widgets/base",
            "_view_module_version": "1.2.0",
            "_view_name": "StyleView",
            "description_width": ""
          }
        },
        "7610a7ae675947e597b1dae8814dd655": {
          "model_module": "@jupyter-widgets/controls",
          "model_name": "CheckboxModel",
          "model_module_version": "1.5.0",
          "state": {
            "_dom_classes": [],
            "_model_module": "@jupyter-widgets/controls",
            "_model_module_version": "1.5.0",
            "_model_name": "CheckboxModel",
            "_view_count": null,
            "_view_module": "@jupyter-widgets/controls",
            "_view_module_version": "1.5.0",
            "_view_name": "CheckboxView",
            "description": "NAIP",
            "description_tooltip": null,
            "disabled": false,
            "indent": false,
            "layout": "IPY_MODEL_8ee5cd2cce1046afb645015185b9cacf",
            "style": "IPY_MODEL_980e2d4e8dbd4683a9a706e262ca6e73",
            "value": true
          }
        },
        "10f4b1025af44ce0837737db0734c28a": {
          "model_module": "jupyter-leaflet",
          "model_name": "LeafletTileLayerModel",
          "model_module_version": "^0.19",
          "state": {
            "_model_module": "jupyter-leaflet",
            "_model_module_version": "^0.19",
            "_model_name": "LeafletTileLayerModel",
            "_view_count": null,
            "_view_module": "jupyter-leaflet",
            "_view_module_version": "^0.19",
            "_view_name": "LeafletTileLayerView",
            "attribution": "Raster file served by <a href='https://github.com/banesullivan/localtileserver' target='_blank'>localtileserver</a>.",
            "base": false,
            "bottom": true,
            "bounds": [
              [
                47.62287,
                -117.628473
              ],
              [
                47.689624,
                -117.559166
              ]
            ],
            "detect_retina": false,
            "loading": false,
            "max_native_zoom": 30,
            "max_zoom": 30,
            "min_native_zoom": null,
            "min_zoom": 0,
            "name": "NAIP",
            "no_wrap": false,
            "opacity": 1,
            "options": [
              "attribution",
              "bounds",
              "detect_retina",
              "max_native_zoom",
              "max_zoom",
              "min_native_zoom",
              "min_zoom",
              "no_wrap",
              "tile_size",
              "tms",
              "zoom_offset"
            ],
            "pane": "",
            "popup": null,
            "popup_max_height": null,
            "popup_max_width": 300,
            "popup_min_width": 50,
            "show_loading": true,
            "subitems": [],
            "tile_size": 256,
            "tms": false,
            "url": "http://localhost:40529/api/tiles/{z}/{x}/{y}.png?&filename=%2Fcontent%2Fnaip_data%2Fm_4711720_sw_11_060_20230701_20230911.tif",
            "visible": true,
            "zoom_offset": 0
          }
        },
        "8ee5cd2cce1046afb645015185b9cacf": {
          "model_module": "@jupyter-widgets/base",
          "model_name": "LayoutModel",
          "model_module_version": "1.2.0",
          "state": {
            "_model_module": "@jupyter-widgets/base",
            "_model_module_version": "1.2.0",
            "_model_name": "LayoutModel",
            "_view_count": null,
            "_view_module": "@jupyter-widgets/base",
            "_view_module_version": "1.2.0",
            "_view_name": "LayoutView",
            "align_content": null,
            "align_items": null,
            "align_self": null,
            "border": null,
            "bottom": null,
            "display": null,
            "flex": null,
            "flex_flow": null,
            "grid_area": null,
            "grid_auto_columns": null,
            "grid_auto_flow": null,
            "grid_auto_rows": null,
            "grid_column": null,
            "grid_gap": null,
            "grid_row": null,
            "grid_template_areas": null,
            "grid_template_columns": null,
            "grid_template_rows": null,
            "height": "18px",
            "justify_content": null,
            "justify_items": null,
            "left": null,
            "margin": null,
            "max_height": null,
            "max_width": null,
            "min_height": null,
            "min_width": null,
            "object_fit": null,
            "object_position": null,
            "order": null,
            "overflow": null,
            "overflow_x": null,
            "overflow_y": null,
            "padding": null,
            "right": null,
            "top": null,
            "visibility": null,
            "width": "25ex"
          }
        },
        "980e2d4e8dbd4683a9a706e262ca6e73": {
          "model_module": "@jupyter-widgets/controls",
          "model_name": "DescriptionStyleModel",
          "model_module_version": "1.5.0",
          "state": {
            "_model_module": "@jupyter-widgets/controls",
            "_model_module_version": "1.5.0",
            "_model_name": "DescriptionStyleModel",
            "_view_count": null,
            "_view_module": "@jupyter-widgets/base",
            "_view_module_version": "1.2.0",
            "_view_name": "StyleView",
            "description_width": ""
          }
        },
        "2da051dad44f4a239e3cf992db4e4a80": {
          "model_module": "@jupyter-widgets/controls",
          "model_name": "CheckboxModel",
          "model_module_version": "1.5.0",
          "state": {
            "_dom_classes": [],
            "_model_module": "@jupyter-widgets/controls",
            "_model_module_version": "1.5.0",
            "_model_name": "CheckboxModel",
            "_view_count": null,
            "_view_module": "@jupyter-widgets/controls",
            "_view_module_version": "1.5.0",
            "_view_name": "CheckboxView",
            "description": "OpenStreetMap",
            "description_tooltip": null,
            "disabled": false,
            "indent": false,
            "layout": "IPY_MODEL_661550c0c8744441b65e09bb14d46e95",
            "style": "IPY_MODEL_26247437db6842ceae051325d9d6d777",
            "value": true
          }
        },
        "661550c0c8744441b65e09bb14d46e95": {
          "model_module": "@jupyter-widgets/base",
          "model_name": "LayoutModel",
          "model_module_version": "1.2.0",
          "state": {
            "_model_module": "@jupyter-widgets/base",
            "_model_module_version": "1.2.0",
            "_model_name": "LayoutModel",
            "_view_count": null,
            "_view_module": "@jupyter-widgets/base",
            "_view_module_version": "1.2.0",
            "_view_name": "LayoutView",
            "align_content": null,
            "align_items": null,
            "align_self": null,
            "border": null,
            "bottom": null,
            "display": null,
            "flex": null,
            "flex_flow": null,
            "grid_area": null,
            "grid_auto_columns": null,
            "grid_auto_flow": null,
            "grid_auto_rows": null,
            "grid_column": null,
            "grid_gap": null,
            "grid_row": null,
            "grid_template_areas": null,
            "grid_template_columns": null,
            "grid_template_rows": null,
            "height": "18px",
            "justify_content": null,
            "justify_items": null,
            "left": null,
            "margin": null,
            "max_height": null,
            "max_width": null,
            "min_height": null,
            "min_width": null,
            "object_fit": null,
            "object_position": null,
            "order": null,
            "overflow": null,
            "overflow_x": null,
            "overflow_y": null,
            "padding": null,
            "right": null,
            "top": null,
            "visibility": null,
            "width": "25ex"
          }
        },
        "26247437db6842ceae051325d9d6d777": {
          "model_module": "@jupyter-widgets/controls",
          "model_name": "DescriptionStyleModel",
          "model_module_version": "1.5.0",
          "state": {
            "_model_module": "@jupyter-widgets/controls",
            "_model_module_version": "1.5.0",
            "_model_name": "DescriptionStyleModel",
            "_view_count": null,
            "_view_module": "@jupyter-widgets/base",
            "_view_module_version": "1.2.0",
            "_view_name": "StyleView",
            "description_width": ""
          }
        },
        "b0fd500997db4911bf6e9a7b17d08d54": {
          "model_module": "@jupyter-widgets/controls",
          "model_name": "CheckboxModel",
          "model_module_version": "1.5.0",
          "state": {
            "_dom_classes": [],
            "_model_module": "@jupyter-widgets/controls",
            "_model_module_version": "1.5.0",
            "_model_name": "CheckboxModel",
            "_view_count": null,
            "_view_module": "@jupyter-widgets/controls",
            "_view_module_version": "1.5.0",
            "_view_name": "CheckboxView",
            "description": "NAIP",
            "description_tooltip": null,
            "disabled": false,
            "indent": false,
            "layout": "IPY_MODEL_709abfb0ede049d89710de1bcdd11d2f",
            "style": "IPY_MODEL_1bfcc88558d14a43b372bd69c7984457",
            "value": true
          }
        },
        "709abfb0ede049d89710de1bcdd11d2f": {
          "model_module": "@jupyter-widgets/base",
          "model_name": "LayoutModel",
          "model_module_version": "1.2.0",
          "state": {
            "_model_module": "@jupyter-widgets/base",
            "_model_module_version": "1.2.0",
            "_model_name": "LayoutModel",
            "_view_count": null,
            "_view_module": "@jupyter-widgets/base",
            "_view_module_version": "1.2.0",
            "_view_name": "LayoutView",
            "align_content": null,
            "align_items": null,
            "align_self": null,
            "border": null,
            "bottom": null,
            "display": null,
            "flex": null,
            "flex_flow": null,
            "grid_area": null,
            "grid_auto_columns": null,
            "grid_auto_flow": null,
            "grid_auto_rows": null,
            "grid_column": null,
            "grid_gap": null,
            "grid_row": null,
            "grid_template_areas": null,
            "grid_template_columns": null,
            "grid_template_rows": null,
            "height": "18px",
            "justify_content": null,
            "justify_items": null,
            "left": null,
            "margin": null,
            "max_height": null,
            "max_width": null,
            "min_height": null,
            "min_width": null,
            "object_fit": null,
            "object_position": null,
            "order": null,
            "overflow": null,
            "overflow_x": null,
            "overflow_y": null,
            "padding": null,
            "right": null,
            "top": null,
            "visibility": null,
            "width": "25ex"
          }
        },
        "1bfcc88558d14a43b372bd69c7984457": {
          "model_module": "@jupyter-widgets/controls",
          "model_name": "DescriptionStyleModel",
          "model_module_version": "1.5.0",
          "state": {
            "_model_module": "@jupyter-widgets/controls",
            "_model_module_version": "1.5.0",
            "_model_name": "DescriptionStyleModel",
            "_view_count": null,
            "_view_module": "@jupyter-widgets/base",
            "_view_module_version": "1.2.0",
            "_view_name": "StyleView",
            "description_width": ""
          }
        },
        "bc0d5fb30ffe42cd8cd85dd5a1216e53": {
          "model_module": "@jupyter-widgets/controls",
          "model_name": "CheckboxModel",
          "model_module_version": "1.5.0",
          "state": {
            "_dom_classes": [],
            "_model_module": "@jupyter-widgets/controls",
            "_model_module_version": "1.5.0",
            "_model_name": "CheckboxModel",
            "_view_count": null,
            "_view_module": "@jupyter-widgets/controls",
            "_view_module_version": "1.5.0",
            "_view_name": "CheckboxView",
            "description": "OpenStreetMap",
            "description_tooltip": null,
            "disabled": false,
            "indent": false,
            "layout": "IPY_MODEL_96de307b67a24b1b991494a437b3d413",
            "style": "IPY_MODEL_7477e6c9451f42f0b6944329a87b9387",
            "value": true
          }
        },
        "9604115b627546dca05bb288298ef874": {
          "model_module": "@jupyter-widgets/controls",
          "model_name": "CheckboxModel",
          "model_module_version": "1.5.0",
          "state": {
            "_dom_classes": [],
            "_model_module": "@jupyter-widgets/controls",
            "_model_module_version": "1.5.0",
            "_model_name": "CheckboxModel",
            "_view_count": null,
            "_view_module": "@jupyter-widgets/controls",
            "_view_module_version": "1.5.0",
            "_view_name": "CheckboxView",
            "description": "NAIP",
            "description_tooltip": null,
            "disabled": false,
            "indent": false,
            "layout": "IPY_MODEL_24414c8ee01f4d40919cdf13c8fe594d",
            "style": "IPY_MODEL_1a6ceb79f5044f05891d8279ee3a025d",
            "value": true
          }
        },
        "abcb86002c4c4936ab4ad76aec2f7560": {
          "model_module": "@jupyter-widgets/controls",
          "model_name": "CheckboxModel",
          "model_module_version": "1.5.0",
          "state": {
            "_dom_classes": [],
            "_model_module": "@jupyter-widgets/controls",
            "_model_module_version": "1.5.0",
            "_model_name": "CheckboxModel",
            "_view_count": null,
            "_view_module": "@jupyter-widgets/controls",
            "_view_module_version": "1.5.0",
            "_view_name": "CheckboxView",
            "description": "Buildings",
            "description_tooltip": null,
            "disabled": false,
            "indent": false,
            "layout": "IPY_MODEL_2524f5307ec44ab3a83a58de3146b07a",
            "style": "IPY_MODEL_7554b817f34a49e89d8a65fd34c12786",
            "value": true
          }
        },
        "38da5c96a50e423590a849092431ac65": {
          "model_module": "jupyter-leaflet",
          "model_name": "LeafletGeoJSONModel",
          "model_module_version": "^0.19",
          "state": {
            "_model_module": "jupyter-leaflet",
            "_model_module_version": "^0.19",
            "_model_name": "LeafletGeoJSONModel",
            "_view_count": null,
            "_view_module": "jupyter-leaflet",
            "_view_module_version": "^0.19",
            "_view_name": "LeafletGeoJSONView",
            "base": false,
            "bottom": false,
            "data": {
              "type": "FeatureCollection",
              "features": [
                {
                  "id": "0",
                  "type": "Feature",
                  "properties": {
                    "id": "08b12db703662fff0200b5c87d31a381",
                    "bbox": "{ \"xmin\": -117.60113525390625, \"xmax\": -117.60084533691406, \"ymin\": 47.650192260742188, \"ymax\": 47.650688171386719 }",
                    "theme": "buildings",
                    "type": "building",
                    "version": 0,
                    "sources": "[{'property': '', 'dataset': 'OpenStreetMap', 'record_id': 'w1299363360@1', 'update_time': '2024-07-05T20:08:49.000Z', 'confidence': None}]",
                    "level": null,
                    "subtype": "residential",
                    "class": "apartments",
                    "height": null,
                    "names": null,
                    "has_parts": false,
                    "is_underground": false,
                    "num_floors": null,
                    "num_floors_underground": null,
                    "min_height": null,
                    "min_floor": null,
                    "facade_color": null,
                    "facade_material": null,
                    "roof_material": null,
                    "roof_shape": null,
                    "roof_direction": null,
                    "roof_orientation": null,
                    "roof_color": null,
                    "roof_height": null,
                    "style": {
                      "weight": 1
                    }
                  },
                  "geometry": {
                    "type": "Polygon",
                    "coordinates": [
                      [
                        [
                          -117.6011069,
                          47.6502018
                        ],
                        [
                          -117.6010868,
                          47.6502018
                        ],
                        [
                          -117.6010868,
                          47.650198
                        ],
                        [
                          -117.6010057,
                          47.650198
                        ],
                        [
                          -117.6010057,
                          47.6502059
                        ],
                        [
                          -117.6008754,
                          47.6502059
                        ],
                        [
                          -117.6008754,
                          47.6502754
                        ],
                        [
                          -117.6008575,
                          47.6502754
                        ],
                        [
                          -117.6008575,
                          47.6503233
                        ],
                        [
                          -117.600899,
                          47.6503233
                        ],
                        [
                          -117.600899,
                          47.6503459
                        ],
                        [
                          -117.6008575,
                          47.6503459
                        ],
                        [
                          -117.6008575,
                          47.6503929
                        ],
                        [
                          -117.6008755,
                          47.6503929
                        ],
                        [
                          -117.6008755,
                          47.6504932
                        ],
                        [
                          -117.6008588,
                          47.6504932
                        ],
                        [
                          -117.6008588,
                          47.6505406
                        ],
                        [
                          -117.6008997,
                          47.6505406
                        ],
                        [
                          -117.6008997,
                          47.6505632
                        ],
                        [
                          -117.6008581,
                          47.6505632
                        ],
                        [
                          -117.6008581,
                          47.6506106
                        ],
                        [
                          -117.6008755,
                          47.6506106
                        ],
                        [
                          -117.6008756,
                          47.650682
                        ],
                        [
                          -117.6010077,
                          47.650682
                        ],
                        [
                          -117.6010077,
                          47.6506879
                        ],
                        [
                          -117.6010875,
                          47.6506878
                        ],
                        [
                          -117.6010875,
                          47.6506819
                        ],
                        [
                          -117.6011071,
                          47.6506819
                        ],
                        [
                          -117.601107,
                          47.6505948
                        ],
                        [
                          -117.6011224,
                          47.6505948
                        ],
                        [
                          -117.6011223,
                          47.6505112
                        ],
                        [
                          -117.601107,
                          47.6505112
                        ],
                        [
                          -117.601107,
                          47.6503753
                        ],
                        [
                          -117.6011217,
                          47.6503753
                        ],
                        [
                          -117.6011217,
                          47.6502908
                        ],
                        [
                          -117.6011069,
                          47.6502908
                        ],
                        [
                          -117.6011069,
                          47.6502018
                        ]
                      ]
                    ]
                  },
                  "bbox": [
                    -117.6011224,
                    47.650198,
                    -117.6008575,
                    47.6506879
                  ]
                },
                {
                  "id": "1",
                  "type": "Feature",
                  "properties": {
                    "id": "08b12db703644fff0200487bc2795e9e",
                    "bbox": "{ \"xmin\": -117.60081481933594, \"xmax\": -117.60071563720703, \"ymin\": 47.650218963623047, \"ymax\": 47.650424957275391 }",
                    "theme": "buildings",
                    "type": "building",
                    "version": 0,
                    "sources": "[{'property': '', 'dataset': 'OpenStreetMap', 'record_id': 'w1299363361@1', 'update_time': '2024-07-05T20:08:49.000Z', 'confidence': None}]",
                    "level": null,
                    "subtype": null,
                    "class": null,
                    "height": null,
                    "names": null,
                    "has_parts": false,
                    "is_underground": false,
                    "num_floors": null,
                    "num_floors_underground": null,
                    "min_height": null,
                    "min_floor": null,
                    "facade_color": null,
                    "facade_material": null,
                    "roof_material": null,
                    "roof_shape": null,
                    "roof_direction": null,
                    "roof_orientation": null,
                    "roof_color": null,
                    "roof_height": null,
                    "style": {
                      "weight": 1
                    }
                  },
                  "geometry": {
                    "type": "Polygon",
                    "coordinates": [
                      [
                        [
                          -117.6008025,
                          47.6504245
                        ],
                        [
                          -117.6008024,
                          47.6502262
                        ],
                        [
                          -117.6007301,
                          47.6502262
                        ],
                        [
                          -117.6007301,
                          47.6504245
                        ],
                        [
                          -117.6008025,
                          47.6504245
                        ]
                      ]
                    ]
                  },
                  "bbox": [
                    -117.6008025,
                    47.6502262,
                    -117.6007301,
                    47.6504245
                  ]
                },
                {
                  "id": "2",
                  "type": "Feature",
                  "properties": {
                    "id": "08b12db703663fff0200a01822744942",
                    "bbox": "{ \"xmin\": -117.60048675537109, \"xmax\": -117.60018920898438, \"ymin\": 47.650413513183594, \"ymax\": 47.650463104248047 }",
                    "theme": "buildings",
                    "type": "building",
                    "version": 0,
                    "sources": "[{'property': '', 'dataset': 'OpenStreetMap', 'record_id': 'w1299363366@1', 'update_time': '2024-07-05T20:08:49.000Z', 'confidence': None}]",
                    "level": null,
                    "subtype": null,
                    "class": null,
                    "height": null,
                    "names": null,
                    "has_parts": false,
                    "is_underground": false,
                    "num_floors": null,
                    "num_floors_underground": null,
                    "min_height": null,
                    "min_floor": null,
                    "facade_color": null,
                    "facade_material": null,
                    "roof_material": null,
                    "roof_shape": null,
                    "roof_direction": null,
                    "roof_orientation": null,
                    "roof_color": null,
                    "roof_height": null,
                    "style": {
                      "weight": 1
                    }
                  },
                  "geometry": {
                    "type": "Polygon",
                    "coordinates": [
                      [
                        [
                          -117.6004867,
                          47.6504629
                        ],
                        [
                          -117.6004866,
                          47.6504136
                        ],
                        [
                          -117.6001929,
                          47.6504137
                        ],
                        [
                          -117.600193,
                          47.6504629
                        ],
                        [
                          -117.6004867,
                          47.6504629
                        ]
                      ]
                    ]
                  },
                  "bbox": [
                    -117.6004867,
                    47.6504136,
                    -117.6001929,
                    47.6504629
                  ]
                },
                {
                  "id": "3",
                  "type": "Feature",
                  "properties": {
                    "id": "08b12db703663fff0200bb2807796a98",
                    "bbox": "{ \"xmin\": -117.60050201416016, \"xmax\": -117.59974670410156, \"ymin\": 47.650196075439453, \"ymax\": 47.650382995605469 }",
                    "theme": "buildings",
                    "type": "building",
                    "version": 0,
                    "sources": "[{'property': '', 'dataset': 'OpenStreetMap', 'record_id': 'w1299363368@1', 'update_time': '2024-07-05T20:08:49.000Z', 'confidence': None}]",
                    "level": null,
                    "subtype": "residential",
                    "class": "apartments",
                    "height": null,
                    "names": null,
                    "has_parts": false,
                    "is_underground": false,
                    "num_floors": null,
                    "num_floors_underground": null,
                    "min_height": null,
                    "min_floor": null,
                    "facade_color": null,
                    "facade_material": null,
                    "roof_material": null,
                    "roof_shape": null,
                    "roof_direction": null,
                    "roof_orientation": null,
                    "roof_color": null,
                    "roof_height": null,
                    "style": {
                      "weight": 1
                    }
                  },
                  "geometry": {
                    "type": "Polygon",
                    "coordinates": [
                      [
                        [
                          -117.6004818,
                          47.6502066
                        ],
                        [
                          -117.6003477,
                          47.6502066
                        ],
                        [
                          -117.6003477,
                          47.6501975
                        ],
                        [
                          -117.6002256,
                          47.6501976
                        ],
                        [
                          -117.6002256,
                          47.6502095
                        ],
                        [
                          -117.6000245,
                          47.6502095
                        ],
                        [
                          -117.6000245,
                          47.6501975
                        ],
                        [
                          -117.5999004,
                          47.6501976
                        ],
                        [
                          -117.5999004,
                          47.6502067
                        ],
                        [
                          -117.5997676,
                          47.6502067
                        ],
                        [
                          -117.5997676,
                          47.6502224
                        ],
                        [
                          -117.5997609,
                          47.6502224
                        ],
                        [
                          -117.599761,
                          47.6502739
                        ],
                        [
                          -117.5997677,
                          47.6502739
                        ],
                        [
                          -117.5997677,
                          47.6503647
                        ],
                        [
                          -117.5998756,
                          47.6503647
                        ],
                        [
                          -117.5998756,
                          47.6503768
                        ],
                        [
                          -117.5999467,
                          47.6503768
                        ],
                        [
                          -117.5999467,
                          47.6503471
                        ],
                        [
                          -117.5999789,
                          47.6503471
                        ],
                        [
                          -117.5999789,
                          47.650376
                        ],
                        [
                          -117.60005,
                          47.650376
                        ],
                        [
                          -117.60005,
                          47.6503646
                        ],
                        [
                          -117.6001975,
                          47.6503646
                        ],
                        [
                          -117.6001975,
                          47.650376
                        ],
                        [
                          -117.6002686,
                          47.650376
                        ],
                        [
                          -117.6002685,
                          47.6503471
                        ],
                        [
                          -117.6003007,
                          47.6503471
                        ],
                        [
                          -117.6003007,
                          47.650376
                        ],
                        [
                          -117.6003732,
                          47.650376
                        ],
                        [
                          -117.6003732,
                          47.6503646
                        ],
                        [
                          -117.6004791,
                          47.6503646
                        ],
                        [
                          -117.6004791,
                          47.6502748
                        ],
                        [
                          -117.6004868,
                          47.6502748
                        ],
                        [
                          -117.6004868,
                          47.6502201
                        ],
                        [
                          -117.6004818,
                          47.6502201
                        ],
                        [
                          -117.6004818,
                          47.6502066
                        ]
                      ]
                    ]
                  },
                  "bbox": [
                    -117.6004868,
                    47.6501975,
                    -117.5997609,
                    47.6503768
                  ]
                },
                {
                  "id": "4",
                  "type": "Feature",
                  "properties": {
                    "id": "08b12db703661fff0200a2316bd409a3",
                    "bbox": "{ \"xmin\": -117.60012054443359, \"xmax\": -117.59986877441406, \"ymin\": 47.650405883789062, \"ymax\": 47.650463104248047 }",
                    "theme": "buildings",
                    "type": "building",
                    "version": 0,
                    "sources": "[{'property': '', 'dataset': 'OpenStreetMap', 'record_id': 'w1299363367@1', 'update_time': '2024-07-05T20:08:49.000Z', 'confidence': None}]",
                    "level": null,
                    "subtype": null,
                    "class": null,
                    "height": null,
                    "names": null,
                    "has_parts": false,
                    "is_underground": false,
                    "num_floors": null,
                    "num_floors_underground": null,
                    "min_height": null,
                    "min_floor": null,
                    "facade_color": null,
                    "facade_material": null,
                    "roof_material": null,
                    "roof_shape": null,
                    "roof_direction": null,
                    "roof_orientation": null,
                    "roof_color": null,
                    "roof_height": null,
                    "style": {
                      "weight": 1
                    }
                  },
                  "geometry": {
                    "type": "Polygon",
                    "coordinates": [
                      [
                        [
                          -117.6001205,
                          47.6504624
                        ],
                        [
                          -117.6001205,
                          47.6504127
                        ],
                        [
                          -117.5998805,
                          47.6504128
                        ],
                        [
                          -117.5998805,
                          47.6504625
                        ],
                        [
                          -117.6001205,
                          47.6504624
                        ]
                      ]
                    ]
                  },
                  "bbox": [
                    -117.6001205,
                    47.6504127,
                    -117.5998805,
                    47.6504625
                  ]
                },
                {
                  "id": "5",
                  "type": "Feature",
                  "properties": {
                    "id": "08b12db70366cfff020082fa34314a33",
                    "bbox": "{ \"xmin\": -117.59950256347656, \"xmax\": -117.59942626953125, \"ymin\": 47.650264739990234, \"ymax\": 47.650474548339844 }",
                    "theme": "buildings",
                    "type": "building",
                    "version": 0,
                    "sources": "[{'property': '', 'dataset': 'OpenStreetMap', 'record_id': 'w1299363380@1', 'update_time': '2024-07-05T20:08:49.000Z', 'confidence': None}]",
                    "level": null,
                    "subtype": null,
                    "class": null,
                    "height": null,
                    "names": null,
                    "has_parts": false,
                    "is_underground": false,
                    "num_floors": null,
                    "num_floors_underground": null,
                    "min_height": null,
                    "min_floor": null,
                    "facade_color": null,
                    "facade_material": null,
                    "roof_material": null,
                    "roof_shape": null,
                    "roof_direction": null,
                    "roof_orientation": null,
                    "roof_color": null,
                    "roof_height": null,
                    "style": {
                      "weight": 1
                    }
                  },
                  "geometry": {
                    "type": "Polygon",
                    "coordinates": [
                      [
                        [
                          -117.5994996,
                          47.6502714
                        ],
                        [
                          -117.5994264,
                          47.6502714
                        ],
                        [
                          -117.5994265,
                          47.6504683
                        ],
                        [
                          -117.5994997,
                          47.6504683
                        ],
                        [
                          -117.5994996,
                          47.6502714
                        ]
                      ]
                    ]
                  },
                  "bbox": [
                    -117.5994997,
                    47.6502714,
                    -117.5994264,
                    47.6504683
                  ]
                },
                {
                  "id": "6",
                  "type": "Feature",
                  "properties": {
                    "id": "08b12db70366dfff02006577ec794dbb",
                    "bbox": "{ \"xmin\": -117.59890747070312, \"xmax\": -117.59869384765625, \"ymin\": 47.650196075439453, \"ymax\": 47.650604248046875 }",
                    "theme": "buildings",
                    "type": "building",
                    "version": 0,
                    "sources": "[{'property': '', 'dataset': 'Microsoft ML Buildings', 'record_id': None, 'update_time': '2022-08-15T00:00:00.000Z', 'confidence': None}]",
                    "level": null,
                    "subtype": null,
                    "class": null,
                    "height": 4.7255282,
                    "names": null,
                    "has_parts": false,
                    "is_underground": false,
                    "num_floors": null,
                    "num_floors_underground": null,
                    "min_height": null,
                    "min_floor": null,
                    "facade_color": null,
                    "facade_material": null,
                    "roof_material": null,
                    "roof_shape": null,
                    "roof_direction": null,
                    "roof_orientation": null,
                    "roof_color": null,
                    "roof_height": null,
                    "style": {
                      "weight": 1
                    }
                  },
                  "geometry": {
                    "type": "Polygon",
                    "coordinates": [
                      [
                        [
                          -117.59886939691972,
                          47.65019786326986
                        ],
                        [
                          -117.59869673889686,
                          47.65019766789701
                        ],
                        [
                          -117.59869638574823,
                          47.650339297741546
                        ],
                        [
                          -117.59872588996069,
                          47.6503393325183
                        ],
                        [
                          -117.59872550873624,
                          47.65049222170274
                        ],
                        [
                          -117.59873183968652,
                          47.65049222886655
                        ],
                        [
                          -117.59873155340736,
                          47.65060244772474
                        ],
                        [
                          -117.59887371006732,
                          47.65060260858224
                        ],
                        [
                          -117.59887406492003,
                          47.650465988551694
                        ],
                        [
                          -117.59889284032566,
                          47.65046601068231
                        ],
                        [
                          -117.59889318944042,
                          47.65033159943205
                        ],
                        [
                          -117.59886904963022,
                          47.65033157211649
                        ],
                        [
                          -117.59886939691972,
                          47.65019786326986
                        ]
                      ]
                    ]
                  },
                  "bbox": [
                    -117.59889318944042,
                    47.65019766789701,
                    -117.59869638574823,
                    47.65060260858224
                  ]
                },
                {
                  "id": "7",
                  "type": "Feature",
                  "properties": {
                    "id": "08b12db70366dfff02006d729df4ab93",
                    "bbox": "{ \"xmin\": -117.59864044189453, \"xmax\": -117.59855651855469, \"ymin\": 47.650279998779297, \"ymax\": 47.650440216064453 }",
                    "theme": "buildings",
                    "type": "building",
                    "version": 0,
                    "sources": "[{'property': '', 'dataset': 'Microsoft ML Buildings', 'record_id': None, 'update_time': '2022-08-15T00:00:00.000Z', 'confidence': None}]",
                    "level": null,
                    "subtype": null,
                    "class": null,
                    "height": null,
                    "names": null,
                    "has_parts": false,
                    "is_underground": false,
                    "num_floors": null,
                    "num_floors_underground": null,
                    "min_height": null,
                    "min_floor": null,
                    "facade_color": null,
                    "facade_material": null,
                    "roof_material": null,
                    "roof_shape": null,
                    "roof_direction": null,
                    "roof_orientation": null,
                    "roof_color": null,
                    "roof_height": null,
                    "style": {
                      "weight": 1
                    }
                  },
                  "geometry": {
                    "type": "Polygon",
                    "coordinates": [
                      [
                        [
                          -117.59862797290043,
                          47.650282186887836
                        ],
                        [
                          -117.59856094751994,
                          47.65028123568907
                        ],
                        [
                          -117.59855964416523,
                          47.65032277543986
                        ],
                        [
                          -117.59856938452312,
                          47.650322913671225
                        ],
                        [
                          -117.59856593924086,
                          47.65043308431669
                        ],
                        [
                          -117.59862321282245,
                          47.65043389711928
                        ],
                        [
                          -117.59862797290043,
                          47.650282186887836
                        ]
                      ]
                    ]
                  },
                  "bbox": [
                    -117.59862797290043,
                    47.65028123568907,
                    -117.59855964416523,
                    47.65043389711928
                  ]
                },
                {
                  "id": "8",
                  "type": "Feature",
                  "properties": {
                    "id": "08b12db70329afff020033323e5c3bc4",
                    "bbox": "{ \"xmin\": -117.59837341308594, \"xmax\": -117.59777069091797, \"ymin\": 47.650173187255859, \"ymax\": 47.650302886962891 }",
                    "theme": "buildings",
                    "type": "building",
                    "version": 0,
                    "sources": "[{'property': '', 'dataset': 'Microsoft ML Buildings', 'record_id': None, 'update_time': '2022-08-15T00:00:00.000Z', 'confidence': None}]",
                    "level": null,
                    "subtype": null,
                    "class": null,
                    "height": 5.0569534,
                    "names": null,
                    "has_parts": false,
                    "is_underground": false,
                    "num_floors": null,
                    "num_floors_underground": null,
                    "min_height": null,
                    "min_floor": null,
                    "facade_color": null,
                    "facade_material": null,
                    "roof_material": null,
                    "roof_shape": null,
                    "roof_direction": null,
                    "roof_orientation": null,
                    "roof_color": null,
                    "roof_height": null,
                    "style": {
                      "weight": 1
                    }
                  },
                  "geometry": {
                    "type": "Polygon",
                    "coordinates": [
                      [
                        [
                          -117.59777297633657,
                          47.650181129002696
                        ],
                        [
                          -117.5977753412031,
                          47.65029494030281
                        ],
                        [
                          -117.5980149981298,
                          47.650292680422815
                        ],
                        [
                          -117.59801496077988,
                          47.65029087389431
                        ],
                        [
                          -117.59816414778363,
                          47.65028946711357
                        ],
                        [
                          -117.59816429793388,
                          47.65029669322026
                        ],
                        [
                          -117.59837177444409,
                          47.65029473679026
                        ],
                        [
                          -117.59836939806604,
                          47.6501797967862
                        ],
                        [
                          -117.59816459109953,
                          47.65018171839128
                        ],
                        [
                          -117.59816481632515,
                          47.65019255758391
                        ],
                        [
                          -117.59798246166356,
                          47.65019426852942
                        ],
                        [
                          -117.59798214765526,
                          47.6501791565869
                        ],
                        [
                          -117.59777297633657,
                          47.650181129002696
                        ]
                      ]
                    ]
                  },
                  "bbox": [
                    -117.59837177444409,
                    47.6501791565869,
                    -117.59777297633657,
                    47.65029669322026
                  ]
                },
                {
                  "id": "9",
                  "type": "Feature",
                  "properties": {
                    "id": "08b12db70329efff0200d26e060a5987",
                    "bbox": "{ \"xmin\": -117.59831237792969, \"xmax\": -117.59786224365234, \"ymin\": 47.650337219238281, \"ymax\": 47.650394439697266 }",
                    "theme": "buildings",
                    "type": "building",
                    "version": 0,
                    "sources": "[{'property': '', 'dataset': 'Microsoft ML Buildings', 'record_id': None, 'update_time': '2022-08-15T00:00:00.000Z', 'confidence': None}]",
                    "level": null,
                    "subtype": null,
                    "class": null,
                    "height": null,
                    "names": null,
                    "has_parts": false,
                    "is_underground": false,
                    "num_floors": null,
                    "num_floors_underground": null,
                    "min_height": null,
                    "min_floor": null,
                    "facade_color": null,
                    "facade_material": null,
                    "roof_material": null,
                    "roof_shape": null,
                    "roof_direction": null,
                    "roof_orientation": null,
                    "roof_color": null,
                    "roof_height": null,
                    "style": {
                      "weight": 1
                    }
                  },
                  "geometry": {
                    "type": "Polygon",
                    "coordinates": [
                      [
                        [
                          -117.59787633805458,
                          47.65039273314957
                        ],
                        [
                          -117.59830011883984,
                          47.65039147437955
                        ],
                        [
                          -117.59829981135293,
                          47.65034449646376
                        ],
                        [
                          -117.59787603056769,
                          47.65034575523491
                        ],
                        [
                          -117.59787633805458,
                          47.65039273314957
                        ]
                      ]
                    ]
                  },
                  "bbox": [
                    -117.59830011883984,
                    47.65034449646376,
                    -117.59787603056769,
                    47.65039273314957
                  ]
                },
                {
                  "id": "10",
                  "type": "Feature",
                  "properties": {
                    "id": "08b12db703298fff020065e4bc4b6750",
                    "bbox": "{ \"xmin\": -117.59772491455078, \"xmax\": -117.59765625, \"ymin\": 47.650287628173828, \"ymax\": 47.650558471679688 }",
                    "theme": "buildings",
                    "type": "building",
                    "version": 0,
                    "sources": "[{'property': '', 'dataset': 'Microsoft ML Buildings', 'record_id': None, 'update_time': '2022-08-15T00:00:00.000Z', 'confidence': None}]",
                    "level": null,
                    "subtype": null,
                    "class": null,
                    "height": 2.4304717,
                    "names": null,
                    "has_parts": false,
                    "is_underground": false,
                    "num_floors": null,
                    "num_floors_underground": null,
                    "min_height": null,
                    "min_floor": null,
                    "facade_color": null,
                    "facade_material": null,
                    "roof_material": null,
                    "roof_shape": null,
                    "roof_direction": null,
                    "roof_orientation": null,
                    "roof_color": null,
                    "roof_height": null,
                    "style": {
                      "weight": 1
                    }
                  },
                  "geometry": {
                    "type": "Polygon",
                    "coordinates": [
                      [
                        [
                          -117.59766029754886,
                          47.65028807168736
                        ],
                        [
                          -117.59765721356003,
                          47.650557924728965
                        ],
                        [
                          -117.5977108545321,
                          47.65055820545508
                        ],
                        [
                          -117.59771236187044,
                          47.650426311560324
                        ],
                        [
                          -117.59772309006485,
                          47.65042636770569
                        ],
                        [
                          -117.59772466674998,
                          47.650288405525735
                        ],
                        [
                          -117.59766029754886,
                          47.65028807168736
                        ]
                      ]
                    ]
                  },
                  "bbox": [
                    -117.59772466674998,
                    47.65028807168736,
                    -117.59765721356003,
                    47.65055820545508
                  ]
                },
                {
                  "id": "11",
                  "type": "Feature",
                  "properties": {
                    "id": "08b12db703662fff02005b55c9062694",
                    "bbox": "{ \"xmin\": -117.60081481933594, \"xmax\": -117.60071563720703, \"ymin\": 47.650505065917969, \"ymax\": 47.650714874267578 }",
                    "theme": "buildings",
                    "type": "building",
                    "version": 0,
                    "sources": "[{'property': '', 'dataset': 'OpenStreetMap', 'record_id': 'w1299363362@1', 'update_time': '2024-07-05T20:08:49.000Z', 'confidence': None}]",
                    "level": null,
                    "subtype": null,
                    "class": null,
                    "height": null,
                    "names": null,
                    "has_parts": false,
                    "is_underground": false,
                    "num_floors": null,
                    "num_floors_underground": null,
                    "min_height": null,
                    "min_floor": null,
                    "facade_color": null,
                    "facade_material": null,
                    "roof_material": null,
                    "roof_shape": null,
                    "roof_direction": null,
                    "roof_orientation": null,
                    "roof_color": null,
                    "roof_height": null,
                    "style": {
                      "weight": 1
                    }
                  },
                  "geometry": {
                    "type": "Polygon",
                    "coordinates": [
                      [
                        [
                          -117.6008025,
                          47.6507091
                        ],
                        [
                          -117.6008024,
                          47.6505108
                        ],
                        [
                          -117.6007307,
                          47.6505108
                        ],
                        [
                          -117.6007308,
                          47.6507091
                        ],
                        [
                          -117.6008025,
                          47.6507091
                        ]
                      ]
                    ]
                  },
                  "bbox": [
                    -117.6008025,
                    47.6505108,
                    -117.6007307,
                    47.6507091
                  ]
                },
                {
                  "id": "12",
                  "type": "Feature",
                  "properties": {
                    "id": "08b12db703666fff02001f0cdfced882",
                    "bbox": "{ \"xmin\": -117.60106658935547, \"xmax\": -117.600830078125, \"ymin\": 47.650882720947266, \"ymax\": 47.65093994140625 }",
                    "theme": "buildings",
                    "type": "building",
                    "version": 0,
                    "sources": "[{'property': '', 'dataset': 'OpenStreetMap', 'record_id': 'w1299363363@1', 'update_time': '2024-07-05T20:08:49.000Z', 'confidence': None}]",
                    "level": null,
                    "subtype": null,
                    "class": null,
                    "height": null,
                    "names": null,
                    "has_parts": false,
                    "is_underground": false,
                    "num_floors": null,
                    "num_floors_underground": null,
                    "min_height": null,
                    "min_floor": null,
                    "facade_color": null,
                    "facade_material": null,
                    "roof_material": null,
                    "roof_shape": null,
                    "roof_direction": null,
                    "roof_orientation": null,
                    "roof_color": null,
                    "roof_height": null,
                    "style": {
                      "weight": 1
                    }
                  },
                  "geometry": {
                    "type": "Polygon",
                    "coordinates": [
                      [
                        [
                          -117.6010647,
                          47.6509327
                        ],
                        [
                          -117.6010647,
                          47.6508834
                        ],
                        [
                          -117.6008447,
                          47.6508834
                        ],
                        [
                          -117.6008447,
                          47.6509327
                        ],
                        [
                          -117.6010647,
                          47.6509327
                        ]
                      ]
                    ]
                  },
                  "bbox": [
                    -117.6010647,
                    47.6508834,
                    -117.6008447,
                    47.6509327
                  ]
                },
                {
                  "id": "13",
                  "type": "Feature",
                  "properties": {
                    "id": "08b12db703660fff020002b87276ae5f",
                    "bbox": "{ \"xmin\": -117.60060882568359, \"xmax\": -117.60053253173828, \"ymin\": 47.650779724121094, \"ymax\": 47.650928497314453 }",
                    "theme": "buildings",
                    "type": "building",
                    "version": 0,
                    "sources": "[{'property': '', 'dataset': 'OpenStreetMap', 'record_id': 'w1299363364@1', 'update_time': '2024-07-05T20:08:49.000Z', 'confidence': None}]",
                    "level": null,
                    "subtype": null,
                    "class": null,
                    "height": null,
                    "names": null,
                    "has_parts": false,
                    "is_underground": false,
                    "num_floors": null,
                    "num_floors_underground": null,
                    "min_height": null,
                    "min_floor": null,
                    "facade_color": null,
                    "facade_material": null,
                    "roof_material": null,
                    "roof_shape": null,
                    "roof_direction": null,
                    "roof_orientation": null,
                    "roof_color": null,
                    "roof_height": null,
                    "style": {
                      "weight": 1
                    }
                  },
                  "geometry": {
                    "type": "Polygon",
                    "coordinates": [
                      [
                        [
                          -117.600608,
                          47.6507805
                        ],
                        [
                          -117.6005349,
                          47.6507805
                        ],
                        [
                          -117.6005349,
                          47.6509282
                        ],
                        [
                          -117.6006081,
                          47.6509282
                        ],
                        [
                          -117.600608,
                          47.6507805
                        ]
                      ]
                    ]
                  },
                  "bbox": [
                    -117.6006081,
                    47.6507805,
                    -117.6005349,
                    47.6509282
                  ]
                },
                {
                  "id": "14",
                  "type": "Feature",
                  "properties": {
                    "id": "08b12db703759fff0200ff82469613f8",
                    "bbox": "{ \"xmin\": -117.60113525390625, \"xmax\": -117.60084533691406, \"ymin\": 47.650989532470703, \"ymax\": 47.6514892578125 }",
                    "theme": "buildings",
                    "type": "building",
                    "version": 0,
                    "sources": "[{'property': '', 'dataset': 'OpenStreetMap', 'record_id': 'w1299363357@1', 'update_time': '2024-07-05T20:08:49.000Z', 'confidence': None}]",
                    "level": null,
                    "subtype": "residential",
                    "class": "apartments",
                    "height": null,
                    "names": null,
                    "has_parts": false,
                    "is_underground": false,
                    "num_floors": null,
                    "num_floors_underground": null,
                    "min_height": null,
                    "min_floor": null,
                    "facade_color": null,
                    "facade_material": null,
                    "roof_material": null,
                    "roof_shape": null,
                    "roof_direction": null,
                    "roof_orientation": null,
                    "roof_color": null,
                    "roof_height": null,
                    "style": {
                      "weight": 1
                    }
                  },
                  "geometry": {
                    "type": "Polygon",
                    "coordinates": [
                      [
                        [
                          -117.6011056,
                          47.6509968
                        ],
                        [
                          -117.6008747,
                          47.6509969
                        ],
                        [
                          -117.6008748,
                          47.6510718
                        ],
                        [
                          -117.6008588,
                          47.6510718
                        ],
                        [
                          -117.6008588,
                          47.6511179
                        ],
                        [
                          -117.600899,
                          47.6511179
                        ],
                        [
                          -117.600899,
                          47.6511418
                        ],
                        [
                          -117.6008568,
                          47.6511418
                        ],
                        [
                          -117.6008568,
                          47.6511888
                        ],
                        [
                          -117.6008748,
                          47.6511888
                        ],
                        [
                          -117.6008748,
                          47.6512895
                        ],
                        [
                          -117.6008571,
                          47.6512895
                        ],
                        [
                          -117.6008571,
                          47.6513361
                        ],
                        [
                          -117.6008997,
                          47.6513361
                        ],
                        [
                          -117.6008997,
                          47.6513593
                        ],
                        [
                          -117.6008578,
                          47.6513593
                        ],
                        [
                          -117.6008578,
                          47.6514072
                        ],
                        [
                          -117.6008749,
                          47.6514072
                        ],
                        [
                          -117.6008749,
                          47.6514774
                        ],
                        [
                          -117.6010067,
                          47.6514774
                        ],
                        [
                          -117.6010067,
                          47.6514833
                        ],
                        [
                          -117.6010858,
                          47.6514833
                        ],
                        [
                          -117.6010858,
                          47.6514774
                        ],
                        [
                          -117.6011057,
                          47.6514774
                        ],
                        [
                          -117.6011057,
                          47.6513902
                        ],
                        [
                          -117.601121,
                          47.6513902
                        ],
                        [
                          -117.601121,
                          47.6513062
                        ],
                        [
                          -117.6011057,
                          47.6513062
                        ],
                        [
                          -117.6011056,
                          47.6511705
                        ],
                        [
                          -117.6011217,
                          47.6511705
                        ],
                        [
                          -117.6011216,
                          47.6510863
                        ],
                        [
                          -117.6011056,
                          47.6510863
                        ],
                        [
                          -117.6011056,
                          47.6509968
                        ]
                      ]
                    ]
                  },
                  "bbox": [
                    -117.6011217,
                    47.6509968,
                    -117.6008568,
                    47.6514833
                  ]
                },
                {
                  "id": "15",
                  "type": "Feature",
                  "properties": {
                    "id": "08b12db703666fff0200e27728c11a7f",
                    "bbox": "{ \"xmin\": -117.60081481933594, \"xmax\": -117.60071563720703, \"ymin\": 47.651058197021484, \"ymax\": 47.651256561279297 }",
                    "theme": "buildings",
                    "type": "building",
                    "version": 0,
                    "sources": "[{'property': '', 'dataset': 'OpenStreetMap', 'record_id': 'w1299363359@1', 'update_time': '2024-07-05T20:08:49.000Z', 'confidence': None}]",
                    "level": null,
                    "subtype": null,
                    "class": null,
                    "height": null,
                    "names": null,
                    "has_parts": false,
                    "is_underground": false,
                    "num_floors": null,
                    "num_floors_underground": null,
                    "min_height": null,
                    "min_floor": null,
                    "facade_color": null,
                    "facade_material": null,
                    "roof_material": null,
                    "roof_shape": null,
                    "roof_direction": null,
                    "roof_orientation": null,
                    "roof_color": null,
                    "roof_height": null,
                    "style": {
                      "weight": 1
                    }
                  },
                  "geometry": {
                    "type": "Polygon",
                    "coordinates": [
                      [
                        [
                          -117.6008025,
                          47.6510596
                        ],
                        [
                          -117.6007293,
                          47.6510596
                        ],
                        [
                          -117.6007294,
                          47.6512561
                        ],
                        [
                          -117.6008026,
                          47.6512561
                        ],
                        [
                          -117.6008025,
                          47.6510596
                        ]
                      ]
                    ]
                  },
                  "bbox": [
                    -117.6008026,
                    47.6510596,
                    -117.6007293,
                    47.6512561
                  ]
                },
                {
                  "id": "16",
                  "type": "Feature",
                  "properties": {
                    "id": "08b12db703759fff0200e59f60206c53",
                    "bbox": "{ \"xmin\": -117.60081481933594, \"xmax\": -117.60071563720703, \"ymin\": 47.651298522949219, \"ymax\": 47.651508331298828 }",
                    "theme": "buildings",
                    "type": "building",
                    "version": 0,
                    "sources": "[{'property': '', 'dataset': 'OpenStreetMap', 'record_id': 'w1299363358@1', 'update_time': '2024-07-05T20:08:49.000Z', 'confidence': None}]",
                    "level": null,
                    "subtype": null,
                    "class": null,
                    "height": null,
                    "names": null,
                    "has_parts": false,
                    "is_underground": false,
                    "num_floors": null,
                    "num_floors_underground": null,
                    "min_height": null,
                    "min_floor": null,
                    "facade_color": null,
                    "facade_material": null,
                    "roof_material": null,
                    "roof_shape": null,
                    "roof_direction": null,
                    "roof_orientation": null,
                    "roof_color": null,
                    "roof_height": null,
                    "style": {
                      "weight": 1
                    }
                  },
                  "geometry": {
                    "type": "Polygon",
                    "coordinates": [
                      [
                        [
                          -117.6008025,
                          47.6513049
                        ],
                        [
                          -117.6007293,
                          47.6513049
                        ],
                        [
                          -117.6007294,
                          47.6515014
                        ],
                        [
                          -117.6008026,
                          47.6515014
                        ],
                        [
                          -117.6008025,
                          47.6513049
                        ]
                      ]
                    ]
                  },
                  "bbox": [
                    -117.6008026,
                    47.6513049,
                    -117.6007293,
                    47.6515014
                  ]
                },
                {
                  "id": "17",
                  "type": "Feature",
                  "properties": {
                    "id": "08b12db703743fff0200f099aff9f620",
                    "bbox": "{ \"xmin\": -117.60115051269531, \"xmax\": -117.60085296630859, \"ymin\": 47.651775360107422, \"ymax\": 47.652275085449219 }",
                    "theme": "buildings",
                    "type": "building",
                    "version": 0,
                    "sources": "[{'property': '', 'dataset': 'Microsoft ML Buildings', 'record_id': None, 'update_time': '2022-08-15T00:00:00.000Z', 'confidence': None}]",
                    "level": null,
                    "subtype": null,
                    "class": null,
                    "height": null,
                    "names": null,
                    "has_parts": false,
                    "is_underground": false,
                    "num_floors": null,
                    "num_floors_underground": null,
                    "min_height": null,
                    "min_floor": null,
                    "facade_color": null,
                    "facade_material": null,
                    "roof_material": null,
                    "roof_shape": null,
                    "roof_direction": null,
                    "roof_orientation": null,
                    "roof_color": null,
                    "roof_height": null,
                    "style": {
                      "weight": 1
                    }
                  },
                  "geometry": {
                    "type": "Polygon",
                    "coordinates": [
                      [
                        [
                          -117.60110547804435,
                          47.651784283766126
                        ],
                        [
                          -117.60086678568692,
                          47.65178266324753
                        ],
                        [
                          -117.60086470440801,
                          47.65192177477274
                        ],
                        [
                          -117.60088615990082,
                          47.651921920436955
                        ],
                        [
                          -117.60088291634926,
                          47.65213871687976
                        ],
                        [
                          -117.6009054895475,
                          47.65213887013158
                        ],
                        [
                          -117.60090359561988,
                          47.65226634358318
                        ],
                        [
                          -117.60114765219357,
                          47.652267988998496
                        ],
                        [
                          -117.60115032436563,
                          47.65208813462983
                        ],
                        [
                          -117.60112507450158,
                          47.65208796320567
                        ],
                        [
                          -117.60112839914193,
                          47.65186574662431
                        ],
                        [
                          -117.6011042617125,
                          47.651865582751896
                        ],
                        [
                          -117.60110547804435,
                          47.651784283766126
                        ]
                      ]
                    ]
                  },
                  "bbox": [
                    -117.60115032436563,
                    47.65178266324753,
                    -117.60086470440801,
                    47.652267988998496
                  ]
                },
                {
                  "id": "18",
                  "type": "Feature",
                  "properties": {
                    "id": "08b12db703743fff0200b90447e3ca18",
                    "bbox": "{ \"xmin\": -117.60084533691406, \"xmax\": -117.60074615478516, \"ymin\": 47.651950836181641, \"ymax\": 47.652214050292969 }",
                    "theme": "buildings",
                    "type": "building",
                    "version": 0,
                    "sources": "[{'property': '', 'dataset': 'Microsoft ML Buildings', 'record_id': None, 'update_time': '2022-08-15T00:00:00.000Z', 'confidence': None}]",
                    "level": null,
                    "subtype": null,
                    "class": null,
                    "height": null,
                    "names": null,
                    "has_parts": false,
                    "is_underground": false,
                    "num_floors": null,
                    "num_floors_underground": null,
                    "min_height": null,
                    "min_floor": null,
                    "facade_color": null,
                    "facade_material": null,
                    "roof_material": null,
                    "roof_shape": null,
                    "roof_direction": null,
                    "roof_orientation": null,
                    "roof_color": null,
                    "roof_height": null,
                    "style": {
                      "weight": 1
                    }
                  },
                  "geometry": {
                    "type": "Polygon",
                    "coordinates": [
                      [
                        [
                          -117.60083228960735,
                          47.65220529339457
                        ],
                        [
                          -117.60081831908349,
                          47.65195811687944
                        ],
                        [
                          -117.60074758477144,
                          47.651959927725414
                        ],
                        [
                          -117.60076152965124,
                          47.6522071048885
                        ],
                        [
                          -117.60083228960735,
                          47.65220529339457
                        ]
                      ]
                    ]
                  },
                  "bbox": [
                    -117.60083228960735,
                    47.65195811687944,
                    -117.60074758477144,
                    47.6522071048885
                  ]
                },
                {
                  "id": "19",
                  "type": "Feature",
                  "properties": {
                    "id": "08b12db70374efff020008e6bafe47d9",
                    "bbox": "{ \"xmin\": -117.60063171386719, \"xmax\": -117.60053253173828, \"ymin\": 47.651901245117188, \"ymax\": 47.652114868164062 }",
                    "theme": "buildings",
                    "type": "building",
                    "version": 0,
                    "sources": "[{'property': '', 'dataset': 'Microsoft ML Buildings', 'record_id': None, 'update_time': '2022-08-15T00:00:00.000Z', 'confidence': None}]",
                    "level": null,
                    "subtype": null,
                    "class": null,
                    "height": null,
                    "names": null,
                    "has_parts": false,
                    "is_underground": false,
                    "num_floors": null,
                    "num_floors_underground": null,
                    "min_height": null,
                    "min_floor": null,
                    "facade_color": null,
                    "facade_material": null,
                    "roof_material": null,
                    "roof_shape": null,
                    "roof_direction": null,
                    "roof_orientation": null,
                    "roof_color": null,
                    "roof_height": null,
                    "style": {
                      "weight": 1
                    }
                  },
                  "geometry": {
                    "type": "Polygon",
                    "coordinates": [
                      [
                        [
                          -117.60054504025159,
                          47.65190986427904
                        ],
                        [
                          -117.60055712065852,
                          47.65210828086132
                        ],
                        [
                          -117.60062941868925,
                          47.65210628341828
                        ],
                        [
                          -117.60061733828233,
                          47.65190786682841
                        ],
                        [
                          -117.60054504025159,
                          47.65190986427904
                        ]
                      ]
                    ]
                  },
                  "bbox": [
                    -117.60062941868925,
                    47.65190786682841,
                    -117.60054504025159,
                    47.65210828086132
                  ]
                },
                {
                  "id": "20",
                  "type": "Feature",
                  "properties": {
                    "id": "08b12db703740fff020037aa595e5ac4",
                    "bbox": "{ \"xmin\": -117.60118103027344, \"xmax\": -117.60092163085938, \"ymin\": 47.652565002441406, \"ymax\": 47.653053283691406 }",
                    "theme": "buildings",
                    "type": "building",
                    "version": 0,
                    "sources": "[{'property': '', 'dataset': 'Microsoft ML Buildings', 'record_id': None, 'update_time': '2022-08-15T00:00:00.000Z', 'confidence': None}]",
                    "level": null,
                    "subtype": null,
                    "class": null,
                    "height": null,
                    "names": null,
                    "has_parts": false,
                    "is_underground": false,
                    "num_floors": null,
                    "num_floors_underground": null,
                    "min_height": null,
                    "min_floor": null,
                    "facade_color": null,
                    "facade_material": null,
                    "roof_material": null,
                    "roof_shape": null,
                    "roof_direction": null,
                    "roof_orientation": null,
                    "roof_color": null,
                    "roof_height": null,
                    "style": {
                      "weight": 1
                    }
                  },
                  "geometry": {
                    "type": "Polygon",
                    "coordinates": [
                      [
                        [
                          -117.60092868639147,
                          47.6525651923262
                        ],
                        [
                          -117.60092489275861,
                          47.652689809112616
                        ],
                        [
                          -117.60095706573726,
                          47.65269025354364
                        ],
                        [
                          -117.60095646095519,
                          47.6527101199602
                        ],
                        [
                          -117.60092965013969,
                          47.65270974960116
                        ],
                        [
                          -117.60092365729945,
                          47.65290660732179
                        ],
                        [
                          -117.60095851135961,
                          47.65290708878673
                        ],
                        [
                          -117.60095782096315,
                          47.65292976744686
                        ],
                        [
                          -117.60092564793838,
                          47.652929324534064
                        ],
                        [
                          -117.6009219949463,
                          47.65304932059024
                        ],
                        [
                          -117.60116329228597,
                          47.65305265379983
                        ],
                        [
                          -117.60117802697576,
                          47.65256863667471
                        ],
                        [
                          -117.60092868639147,
                          47.6525651923262
                        ]
                      ]
                    ]
                  },
                  "bbox": [
                    -117.60117802697576,
                    47.6525651923262,
                    -117.6009219949463,
                    47.65305265379983
                  ]
                },
                {
                  "id": "21",
                  "type": "Feature",
                  "properties": {
                    "id": "08b12db703740fff0200db9c43ebafa6",
                    "bbox": "{ \"xmin\": -117.60087585449219, \"xmax\": -117.60078430175781, \"ymin\": 47.652633666992188, \"ymax\": 47.652809143066406 }",
                    "theme": "buildings",
                    "type": "building",
                    "version": 0,
                    "sources": "[{'property': '', 'dataset': 'Microsoft ML Buildings', 'record_id': None, 'update_time': '2022-08-15T00:00:00.000Z', 'confidence': None}]",
                    "level": null,
                    "subtype": null,
                    "class": null,
                    "height": null,
                    "names": null,
                    "has_parts": false,
                    "is_underground": false,
                    "num_floors": null,
                    "num_floors_underground": null,
                    "min_height": null,
                    "min_floor": null,
                    "facade_color": null,
                    "facade_material": null,
                    "roof_material": null,
                    "roof_shape": null,
                    "roof_direction": null,
                    "roof_orientation": null,
                    "roof_color": null,
                    "roof_height": null,
                    "style": {
                      "weight": 1
                    }
                  },
                  "geometry": {
                    "type": "Polygon",
                    "coordinates": [
                      [
                        [
                          -117.6007875086704,
                          47.65280265199694
                        ],
                        [
                          -117.60085991979211,
                          47.65280318115022
                        ],
                        [
                          -117.60086253824207,
                          47.6526405885906
                        ],
                        [
                          -117.60079012712035,
                          47.65264005943565
                        ],
                        [
                          -117.6007875086704,
                          47.65280265199694
                        ]
                      ]
                    ]
                  },
                  "bbox": [
                    -117.60086253824207,
                    47.65264005943565,
                    -117.6007875086704,
                    47.65280318115022
                  ]
                },
                {
                  "id": "22",
                  "type": "Feature",
                  "properties": {
                    "id": "08b12db703741fff0200c12488e771f2",
                    "bbox": "{ \"xmin\": -117.60066986083984, \"xmax\": -117.60059356689453, \"ymin\": 47.652484893798828, \"ymax\": 47.652690887451172 }",
                    "theme": "buildings",
                    "type": "building",
                    "version": 0,
                    "sources": "[{'property': '', 'dataset': 'Microsoft ML Buildings', 'record_id': None, 'update_time': '2022-08-15T00:00:00.000Z', 'confidence': None}]",
                    "level": null,
                    "subtype": null,
                    "class": null,
                    "height": null,
                    "names": null,
                    "has_parts": false,
                    "is_underground": false,
                    "num_floors": null,
                    "num_floors_underground": null,
                    "min_height": null,
                    "min_floor": null,
                    "facade_color": null,
                    "facade_material": null,
                    "roof_material": null,
                    "roof_shape": null,
                    "roof_direction": null,
                    "roof_orientation": null,
                    "roof_color": null,
                    "roof_height": null,
                    "style": {
                      "weight": 1
                    }
                  },
                  "geometry": {
                    "type": "Polygon",
                    "coordinates": [
                      [
                        [
                          -117.60066343510351,
                          47.65248644148782
                        ],
                        [
                          -117.60059370923256,
                          47.65248704635348
                        ],
                        [
                          -117.60059747361274,
                          47.65268395504199
                        ],
                        [
                          -117.6006671994837,
                          47.6526833501786
                        ],
                        [
                          -117.60066343510351,
                          47.65248644148782
                        ]
                      ]
                    ]
                  },
                  "bbox": [
                    -117.6006671994837,
                    47.65248644148782,
                    -117.60059370923256,
                    47.65268395504199
                  ]
                },
                {
                  "id": "23",
                  "type": "Feature",
                  "properties": {
                    "id": "08b12db703745fff02009a56ae8a102a",
                    "bbox": "{ \"xmin\": -117.60052490234375, \"xmax\": -117.60028839111328, \"ymin\": 47.652793884277344, \"ymax\": 47.652851104736328 }",
                    "theme": "buildings",
                    "type": "building",
                    "version": 0,
                    "sources": "[{'property': '', 'dataset': 'Microsoft ML Buildings', 'record_id': None, 'update_time': '2022-08-15T00:00:00.000Z', 'confidence': None}]",
                    "level": null,
                    "subtype": null,
                    "class": null,
                    "height": null,
                    "names": null,
                    "has_parts": false,
                    "is_underground": false,
                    "num_floors": null,
                    "num_floors_underground": null,
                    "min_height": null,
                    "min_floor": null,
                    "facade_color": null,
                    "facade_material": null,
                    "roof_material": null,
                    "roof_shape": null,
                    "roof_direction": null,
                    "roof_orientation": null,
                    "roof_color": null,
                    "roof_height": null,
                    "style": {
                      "weight": 1
                    }
                  },
                  "geometry": {
                    "type": "Polygon",
                    "coordinates": [
                      [
                        [
                          -117.6003040517467,
                          47.65284944948465
                        ],
                        [
                          -117.60052389499472,
                          47.65284632970597
                        ],
                        [
                          -117.60052245385546,
                          47.65280040078375
                        ],
                        [
                          -117.60030261093252,
                          47.652803530925276
                        ],
                        [
                          -117.6003040517467,
                          47.65284944948465
                        ]
                      ]
                    ]
                  },
                  "bbox": [
                    -117.60052389499472,
                    47.65280040078375,
                    -117.60030261093252,
                    47.65284944948465
                  ]
                },
                {
                  "id": "24",
                  "type": "Feature",
                  "properties": {
                    "id": "08b12db703744fff0200ebe863997f0c",
                    "bbox": "{ \"xmin\": -117.60087585449219, \"xmax\": -117.60078430175781, \"ymin\": 47.652851104736328, \"ymax\": 47.653099060058594 }",
                    "theme": "buildings",
                    "type": "building",
                    "version": 0,
                    "sources": "[{'property': '', 'dataset': 'Microsoft ML Buildings', 'record_id': None, 'update_time': '2022-08-15T00:00:00.000Z', 'confidence': None}]",
                    "level": null,
                    "subtype": null,
                    "class": null,
                    "height": null,
                    "names": null,
                    "has_parts": false,
                    "is_underground": false,
                    "num_floors": null,
                    "num_floors_underground": null,
                    "min_height": null,
                    "min_floor": null,
                    "facade_color": null,
                    "facade_material": null,
                    "roof_material": null,
                    "roof_shape": null,
                    "roof_direction": null,
                    "roof_orientation": null,
                    "roof_color": null,
                    "roof_height": null,
                    "style": {
                      "weight": 1
                    }
                  },
                  "geometry": {
                    "type": "Polygon",
                    "coordinates": [
                      [
                        [
                          -117.60079059676166,
                          47.65285158290932
                        ],
                        [
                          -117.60078643582102,
                          47.653097274279375
                        ],
                        [
                          -117.60085884609832,
                          47.65309782732036
                        ],
                        [
                          -117.60086300703892,
                          47.652852135952905
                        ],
                        [
                          -117.60079059676166,
                          47.65285158290932
                        ]
                      ]
                    ]
                  },
                  "bbox": [
                    -117.60086300703892,
                    47.65285158290932,
                    -117.60078643582102,
                    47.65309782732036
                  ]
                },
                {
                  "id": "25",
                  "type": "Feature",
                  "properties": {
                    "id": "08b12db703660fff0200c1b0fa7a5453",
                    "bbox": "{ \"xmin\": -117.60049438476562, \"xmax\": -117.60006713867188, \"ymin\": 47.650634765625, \"ymax\": 47.650768280029297 }",
                    "theme": "buildings",
                    "type": "building",
                    "version": 0,
                    "sources": "[{'property': '', 'dataset': 'OpenStreetMap', 'record_id': 'w1299363365@1', 'update_time': '2024-07-05T20:08:49.000Z', 'confidence': None}]",
                    "level": null,
                    "subtype": "residential",
                    "class": "apartments",
                    "height": null,
                    "names": null,
                    "has_parts": false,
                    "is_underground": false,
                    "num_floors": null,
                    "num_floors_underground": null,
                    "min_height": null,
                    "min_floor": null,
                    "facade_color": null,
                    "facade_material": null,
                    "roof_material": null,
                    "roof_shape": null,
                    "roof_direction": null,
                    "roof_orientation": null,
                    "roof_color": null,
                    "roof_height": null,
                    "style": {
                      "weight": 1
                    }
                  },
                  "geometry": {
                    "type": "Polygon",
                    "coordinates": [
                      [
                        [
                          -117.6004002,
                          47.6507665
                        ],
                        [
                          -117.6004001,
                          47.6507484
                        ],
                        [
                          -117.600482,
                          47.6507484
                        ],
                        [
                          -117.6004819,
                          47.6506684
                        ],
                        [
                          -117.6004001,
                          47.6506684
                        ],
                        [
                          -117.6004001,
                          47.6506418
                        ],
                        [
                          -117.6003438,
                          47.6506418
                        ],
                        [
                          -117.6003438,
                          47.6506481
                        ],
                        [
                          -117.6002292,
                          47.6506481
                        ],
                        [
                          -117.6002292,
                          47.6506409
                        ],
                        [
                          -117.6001594,
                          47.6506409
                        ],
                        [
                          -117.6001594,
                          47.6506481
                        ],
                        [
                          -117.6000836,
                          47.6506481
                        ],
                        [
                          -117.6000837,
                          47.6506693
                        ],
                        [
                          -117.6000682,
                          47.6506693
                        ],
                        [
                          -117.6000682,
                          47.6507267
                        ],
                        [
                          -117.6000837,
                          47.6507267
                        ],
                        [
                          -117.6000837,
                          47.6507665
                        ],
                        [
                          -117.6004002,
                          47.6507665
                        ]
                      ]
                    ]
                  },
                  "bbox": [
                    -117.600482,
                    47.6506409,
                    -117.6000682,
                    47.6507665
                  ]
                },
                {
                  "id": "26",
                  "type": "Feature",
                  "properties": {
                    "id": "08b12db703665fff02003b86d3986953",
                    "bbox": "{ \"xmin\": -117.60048675537109, \"xmax\": -117.59975433349609, \"ymin\": 47.650997161865234, \"ymax\": 47.65118408203125 }",
                    "theme": "buildings",
                    "type": "building",
                    "version": 0,
                    "sources": "[{'property': '', 'dataset': 'OpenStreetMap', 'record_id': 'w1299363369@1', 'update_time': '2024-07-05T20:08:49.000Z', 'confidence': None}]",
                    "level": null,
                    "subtype": "residential",
                    "class": "apartments",
                    "height": null,
                    "names": null,
                    "has_parts": false,
                    "is_underground": false,
                    "num_floors": null,
                    "num_floors_underground": null,
                    "min_height": null,
                    "min_floor": null,
                    "facade_color": null,
                    "facade_material": null,
                    "roof_material": null,
                    "roof_shape": null,
                    "roof_direction": null,
                    "roof_orientation": null,
                    "roof_color": null,
                    "roof_height": null,
                    "style": {
                      "weight": 1
                    }
                  },
                  "geometry": {
                    "type": "Polygon",
                    "coordinates": [
                      [
                        [
                          -117.6004779,
                          47.6510068
                        ],
                        [
                          -117.6003438,
                          47.6510068
                        ],
                        [
                          -117.6003438,
                          47.6509977
                        ],
                        [
                          -117.6002218,
                          47.6509977
                        ],
                        [
                          -117.6002218,
                          47.6510068
                        ],
                        [
                          -117.6000206,
                          47.6510068
                        ],
                        [
                          -117.6000206,
                          47.6509977
                        ],
                        [
                          -117.5998966,
                          47.6509977
                        ],
                        [
                          -117.5998966,
                          47.6510069
                        ],
                        [
                          -117.5997638,
                          47.6510069
                        ],
                        [
                          -117.5997638,
                          47.6510226
                        ],
                        [
                          -117.5997571,
                          47.6510226
                        ],
                        [
                          -117.5997571,
                          47.6510741
                        ],
                        [
                          -117.5997638,
                          47.6510741
                        ],
                        [
                          -117.5997638,
                          47.6511649
                        ],
                        [
                          -117.5998718,
                          47.6511648
                        ],
                        [
                          -117.5998718,
                          47.651177
                        ],
                        [
                          -117.5999428,
                          47.651177
                        ],
                        [
                          -117.5999428,
                          47.6511472
                        ],
                        [
                          -117.599975,
                          47.6511472
                        ],
                        [
                          -117.599975,
                          47.6511762
                        ],
                        [
                          -117.6000461,
                          47.6511762
                        ],
                        [
                          -117.6000461,
                          47.6511648
                        ],
                        [
                          -117.6001936,
                          47.6511648
                        ],
                        [
                          -117.6001936,
                          47.6511762
                        ],
                        [
                          -117.6002647,
                          47.6511762
                        ],
                        [
                          -117.6002647,
                          47.6511472
                        ],
                        [
                          -117.6002969,
                          47.6511472
                        ],
                        [
                          -117.6002969,
                          47.6511762
                        ],
                        [
                          -117.6003693,
                          47.6511762
                        ],
                        [
                          -117.6003693,
                          47.6511648
                        ],
                        [
                          -117.6004753,
                          47.6511648
                        ],
                        [
                          -117.6004752,
                          47.651075
                        ],
                        [
                          -117.600483,
                          47.651075
                        ],
                        [
                          -117.600483,
                          47.6510203
                        ],
                        [
                          -117.6004779,
                          47.6510203
                        ],
                        [
                          -117.6004779,
                          47.6510068
                        ]
                      ]
                    ]
                  },
                  "bbox": [
                    -117.600483,
                    47.6509977,
                    -117.5997571,
                    47.651177
                  ]
                },
                {
                  "id": "27",
                  "type": "Feature",
                  "properties": {
                    "id": "08b12db70366cfff02004e66a04b79c3",
                    "bbox": "{ \"xmin\": -117.59951019287109, \"xmax\": -117.59942626953125, \"ymin\": 47.650485992431641, \"ymax\": 47.650661468505859 }",
                    "theme": "buildings",
                    "type": "building",
                    "version": 0,
                    "sources": "[{'property': '', 'dataset': 'OpenStreetMap', 'record_id': 'w1299363379@1', 'update_time': '2024-07-05T20:08:49.000Z', 'confidence': None}]",
                    "level": null,
                    "subtype": null,
                    "class": null,
                    "height": null,
                    "names": null,
                    "has_parts": false,
                    "is_underground": false,
                    "num_floors": null,
                    "num_floors_underground": null,
                    "min_height": null,
                    "min_floor": null,
                    "facade_color": null,
                    "facade_material": null,
                    "roof_material": null,
                    "roof_shape": null,
                    "roof_direction": null,
                    "roof_orientation": null,
                    "roof_color": null,
                    "roof_height": null,
                    "style": {
                      "weight": 1
                    }
                  },
                  "geometry": {
                    "type": "Polygon",
                    "coordinates": [
                      [
                        [
                          -117.5994983,
                          47.6504932
                        ],
                        [
                          -117.5994265,
                          47.6504932
                        ],
                        [
                          -117.5994265,
                          47.6506553
                        ],
                        [
                          -117.5994983,
                          47.6506553
                        ],
                        [
                          -117.5994983,
                          47.6504932
                        ]
                      ]
                    ]
                  },
                  "bbox": [
                    -117.5994983,
                    47.6504932,
                    -117.5994265,
                    47.6506553
                  ]
                },
                {
                  "id": "28",
                  "type": "Feature",
                  "properties": {
                    "id": "08b12db70366cfff0200330aaa90edb8",
                    "bbox": "{ \"xmin\": -117.599365234375, \"xmax\": -117.59908294677734, \"ymin\": 47.650203704833984, \"ymax\": 47.650707244873047 }",
                    "theme": "buildings",
                    "type": "building",
                    "version": 0,
                    "sources": "[{'property': '', 'dataset': 'OpenStreetMap', 'record_id': 'w1299363381@1', 'update_time': '2024-07-05T20:08:49.000Z', 'confidence': None}]",
                    "level": null,
                    "subtype": "residential",
                    "class": "apartments",
                    "height": null,
                    "names": null,
                    "has_parts": false,
                    "is_underground": false,
                    "num_floors": null,
                    "num_floors_underground": null,
                    "min_height": null,
                    "min_floor": null,
                    "facade_color": null,
                    "facade_material": null,
                    "roof_material": null,
                    "roof_shape": null,
                    "roof_direction": null,
                    "roof_orientation": null,
                    "roof_color": null,
                    "roof_height": null,
                    "style": {
                      "weight": 1
                    }
                  },
                  "geometry": {
                    "type": "Polygon",
                    "coordinates": [
                      [
                        [
                          -117.5993333,
                          47.6502172
                        ],
                        [
                          -117.5991992,
                          47.650217
                        ],
                        [
                          -117.5991992,
                          47.6502109
                        ],
                        [
                          -117.5991214,
                          47.6502108
                        ],
                        [
                          -117.5991214,
                          47.650217
                        ],
                        [
                          -117.5991026,
                          47.6502169
                        ],
                        [
                          -117.5991027,
                          47.6503043
                        ],
                        [
                          -117.5990855,
                          47.6503043
                        ],
                        [
                          -117.5990856,
                          47.6503875
                        ],
                        [
                          -117.5991028,
                          47.6503875
                        ],
                        [
                          -117.5991028,
                          47.6505232
                        ],
                        [
                          -117.5990852,
                          47.6505232
                        ],
                        [
                          -117.5990852,
                          47.6506065
                        ],
                        [
                          -117.5991029,
                          47.6506065
                        ],
                        [
                          -117.599103,
                          47.6506951
                        ],
                        [
                          -117.5991207,
                          47.650695
                        ],
                        [
                          -117.5991208,
                          47.6507004
                        ],
                        [
                          -117.5991996,
                          47.6507001
                        ],
                        [
                          -117.5991995,
                          47.6506947
                        ],
                        [
                          -117.5993333,
                          47.6506942
                        ],
                        [
                          -117.5993333,
                          47.6506237
                        ],
                        [
                          -117.5993497,
                          47.6506237
                        ],
                        [
                          -117.5993497,
                          47.6505758
                        ],
                        [
                          -117.5993333,
                          47.6505758
                        ],
                        [
                          -117.5993333,
                          47.6505537
                        ],
                        [
                          -117.5993504,
                          47.6505537
                        ],
                        [
                          -117.5993504,
                          47.650506
                        ],
                        [
                          -117.5993333,
                          47.650506
                        ],
                        [
                          -117.5993333,
                          47.6504053
                        ],
                        [
                          -117.5993504,
                          47.6504053
                        ],
                        [
                          -117.5993504,
                          47.6503574
                        ],
                        [
                          -117.5993333,
                          47.6503574
                        ],
                        [
                          -117.5993333,
                          47.650336
                        ],
                        [
                          -117.5993501,
                          47.650336
                        ],
                        [
                          -117.5993501,
                          47.6502879
                        ],
                        [
                          -117.5993333,
                          47.6502879
                        ],
                        [
                          -117.5993333,
                          47.6502172
                        ]
                      ]
                    ]
                  },
                  "bbox": [
                    -117.5993504,
                    47.6502108,
                    -117.5990852,
                    47.6507004
                  ]
                },
                {
                  "id": "29",
                  "type": "Feature",
                  "properties": {
                    "id": "08b12db703665fff0200e052429481e0",
                    "bbox": "{ \"xmin\": -117.59969329833984, \"xmax\": -117.599609375, \"ymin\": 47.650760650634766, \"ymax\": 47.650970458984375 }",
                    "theme": "buildings",
                    "type": "building",
                    "version": 0,
                    "sources": "[{'property': '', 'dataset': 'OpenStreetMap', 'record_id': 'w1299363370@1', 'update_time': '2024-07-05T20:08:49.000Z', 'confidence': None}]",
                    "level": null,
                    "subtype": null,
                    "class": null,
                    "height": null,
                    "names": null,
                    "has_parts": false,
                    "is_underground": false,
                    "num_floors": null,
                    "num_floors_underground": null,
                    "min_height": null,
                    "min_floor": null,
                    "facade_color": null,
                    "facade_material": null,
                    "roof_material": null,
                    "roof_shape": null,
                    "roof_direction": null,
                    "roof_orientation": null,
                    "roof_color": null,
                    "roof_height": null,
                    "style": {
                      "weight": 1
                    }
                  },
                  "geometry": {
                    "type": "Polygon",
                    "coordinates": [
                      [
                        [
                          -117.599692,
                          47.6509629
                        ],
                        [
                          -117.599692,
                          47.6507664
                        ],
                        [
                          -117.599621,
                          47.6507665
                        ],
                        [
                          -117.599621,
                          47.650963
                        ],
                        [
                          -117.599692,
                          47.6509629
                        ]
                      ]
                    ]
                  },
                  "bbox": [
                    -117.599692,
                    47.6507664,
                    -117.599621,
                    47.650963
                  ]
                },
                {
                  "id": "30",
                  "type": "Feature",
                  "properties": {
                    "id": "08b12db703292fff0200c2ee839c9dd9",
                    "bbox": "{ \"xmin\": -117.59951019287109, \"xmax\": -117.59942626953125, \"ymin\": 47.650943756103516, \"ymax\": 47.651100158691406 }",
                    "theme": "buildings",
                    "type": "building",
                    "version": 0,
                    "sources": "[{'property': '', 'dataset': 'OpenStreetMap', 'record_id': 'w1299363378@1', 'update_time': '2024-07-05T20:08:49.000Z', 'confidence': None}]",
                    "level": null,
                    "subtype": null,
                    "class": null,
                    "height": null,
                    "names": null,
                    "has_parts": false,
                    "is_underground": false,
                    "num_floors": null,
                    "num_floors_underground": null,
                    "min_height": null,
                    "min_floor": null,
                    "facade_color": null,
                    "facade_material": null,
                    "roof_material": null,
                    "roof_shape": null,
                    "roof_direction": null,
                    "roof_orientation": null,
                    "roof_color": null,
                    "roof_height": null,
                    "style": {
                      "weight": 1
                    }
                  },
                  "geometry": {
                    "type": "Polygon",
                    "coordinates": [
                      [
                        [
                          -117.5994983,
                          47.6509449
                        ],
                        [
                          -117.5994265,
                          47.6509449
                        ],
                        [
                          -117.5994265,
                          47.6510926
                        ],
                        [
                          -117.5994983,
                          47.6510926
                        ],
                        [
                          -117.5994983,
                          47.6509449
                        ]
                      ]
                    ]
                  },
                  "bbox": [
                    -117.5994983,
                    47.6509449,
                    -117.5994265,
                    47.6510926
                  ]
                },
                {
                  "id": "31",
                  "type": "Feature",
                  "properties": {
                    "id": "08b12db703292fff02002bcac742768a",
                    "bbox": "{ \"xmin\": -117.599365234375, \"xmax\": -117.59912872314453, \"ymin\": 47.650871276855469, \"ymax\": 47.650928497314453 }",
                    "theme": "buildings",
                    "type": "building",
                    "version": 0,
                    "sources": "[{'property': '', 'dataset': 'OpenStreetMap', 'record_id': 'w1299363377@1', 'update_time': '2024-07-05T20:08:49.000Z', 'confidence': None}]",
                    "level": null,
                    "subtype": null,
                    "class": null,
                    "height": null,
                    "names": null,
                    "has_parts": false,
                    "is_underground": false,
                    "num_floors": null,
                    "num_floors_underground": null,
                    "min_height": null,
                    "min_floor": null,
                    "facade_color": null,
                    "facade_material": null,
                    "roof_material": null,
                    "roof_shape": null,
                    "roof_direction": null,
                    "roof_orientation": null,
                    "roof_color": null,
                    "roof_height": null,
                    "style": {
                      "weight": 1
                    }
                  },
                  "geometry": {
                    "type": "Polygon",
                    "coordinates": [
                      [
                        [
                          -117.5993628,
                          47.6509209
                        ],
                        [
                          -117.5993628,
                          47.6508721
                        ],
                        [
                          -117.5991435,
                          47.6508722
                        ],
                        [
                          -117.5991436,
                          47.650921
                        ],
                        [
                          -117.5993628,
                          47.6509209
                        ]
                      ]
                    ]
                  },
                  "bbox": [
                    -117.5993628,
                    47.6508721,
                    -117.5991435,
                    47.650921
                  ]
                },
                {
                  "id": "32",
                  "type": "Feature",
                  "properties": {
                    "id": "08b12db703664fff02001aeaa680b0cb",
                    "bbox": "{ \"xmin\": -117.60045623779297, \"xmax\": -117.60007476806641, \"ymin\": 47.651206970214844, \"ymax\": 47.651264190673828 }",
                    "theme": "buildings",
                    "type": "building",
                    "version": 0,
                    "sources": "[{'property': '', 'dataset': 'OpenStreetMap', 'record_id': 'w1299363372@1', 'update_time': '2024-07-05T20:08:49.000Z', 'confidence': None}]",
                    "level": null,
                    "subtype": null,
                    "class": null,
                    "height": null,
                    "names": null,
                    "has_parts": false,
                    "is_underground": false,
                    "num_floors": null,
                    "num_floors_underground": null,
                    "min_height": null,
                    "min_floor": null,
                    "facade_color": null,
                    "facade_material": null,
                    "roof_material": null,
                    "roof_shape": null,
                    "roof_direction": null,
                    "roof_orientation": null,
                    "roof_color": null,
                    "roof_height": null,
                    "style": {
                      "weight": 1
                    }
                  },
                  "geometry": {
                    "type": "Polygon",
                    "coordinates": [
                      [
                        [
                          -117.6004437,
                          47.6512136
                        ],
                        [
                          -117.6000783,
                          47.6512137
                        ],
                        [
                          -117.6000783,
                          47.6512629
                        ],
                        [
                          -117.6004438,
                          47.6512628
                        ],
                        [
                          -117.6004437,
                          47.6512136
                        ]
                      ]
                    ]
                  },
                  "bbox": [
                    -117.6004438,
                    47.6512136,
                    -117.6000783,
                    47.6512629
                  ]
                },
                {
                  "id": "33",
                  "type": "Feature",
                  "properties": {
                    "id": "08b12db70374bfff0200588c2f3ccc86",
                    "bbox": "{ \"xmin\": -117.60033416748047, \"xmax\": -117.59996795654297, \"ymin\": 47.651344299316406, \"ymax\": 47.651393890380859 }",
                    "theme": "buildings",
                    "type": "building",
                    "version": 0,
                    "sources": "[{'property': '', 'dataset': 'OpenStreetMap', 'record_id': 'w1299363374@1', 'update_time': '2024-07-05T20:08:49.000Z', 'confidence': None}]",
                    "level": null,
                    "subtype": null,
                    "class": null,
                    "height": null,
                    "names": null,
                    "has_parts": false,
                    "is_underground": false,
                    "num_floors": null,
                    "num_floors_underground": null,
                    "min_height": null,
                    "min_floor": null,
                    "facade_color": null,
                    "facade_material": null,
                    "roof_material": null,
                    "roof_shape": null,
                    "roof_direction": null,
                    "roof_orientation": null,
                    "roof_color": null,
                    "roof_height": null,
                    "style": {
                      "weight": 1
                    }
                  },
                  "geometry": {
                    "type": "Polygon",
                    "coordinates": [
                      [
                        [
                          -117.6003331,
                          47.651346
                        ],
                        [
                          -117.599969,
                          47.6513461
                        ],
                        [
                          -117.599969,
                          47.6513934
                        ],
                        [
                          -117.6003331,
                          47.6513934
                        ],
                        [
                          -117.6003331,
                          47.651346
                        ]
                      ]
                    ]
                  },
                  "bbox": [
                    -117.6003331,
                    47.651346,
                    -117.599969,
                    47.6513934
                  ]
                },
                {
                  "id": "34",
                  "type": "Feature",
                  "properties": {
                    "id": "08b12db70374bfff0200390b87411b05",
                    "bbox": "{ \"xmin\": -117.60000610351562, \"xmax\": -117.59978485107422, \"ymin\": 47.651206970214844, \"ymax\": 47.651268005371094 }",
                    "theme": "buildings",
                    "type": "building",
                    "version": 0,
                    "sources": "[{'property': '', 'dataset': 'OpenStreetMap', 'record_id': 'w1299363373@1', 'update_time': '2024-07-05T20:08:49.000Z', 'confidence': None}]",
                    "level": null,
                    "subtype": null,
                    "class": null,
                    "height": null,
                    "names": null,
                    "has_parts": false,
                    "is_underground": false,
                    "num_floors": null,
                    "num_floors_underground": null,
                    "min_height": null,
                    "min_floor": null,
                    "facade_color": null,
                    "facade_material": null,
                    "roof_material": null,
                    "roof_shape": null,
                    "roof_direction": null,
                    "roof_orientation": null,
                    "roof_color": null,
                    "roof_height": null,
                    "style": {
                      "weight": 1
                    }
                  },
                  "geometry": {
                    "type": "Polygon",
                    "coordinates": [
                      [
                        [
                          -117.6000059,
                          47.6512136
                        ],
                        [
                          -117.5997859,
                          47.6512137
                        ],
                        [
                          -117.5997859,
                          47.651262
                        ],
                        [
                          -117.6000059,
                          47.6512619
                        ],
                        [
                          -117.6000059,
                          47.6512136
                        ]
                      ]
                    ]
                  },
                  "bbox": [
                    -117.6000059,
                    47.6512136,
                    -117.5997859,
                    47.651262
                  ]
                },
                {
                  "id": "35",
                  "type": "Feature",
                  "properties": {
                    "id": "08b12db70374bfff0200a4a83ddad7d7",
                    "bbox": "{ \"xmin\": -117.60037994384766, \"xmax\": -117.59962463378906, \"ymin\": 47.651424407958984, \"ymax\": 47.651618957519531 }",
                    "theme": "buildings",
                    "type": "building",
                    "version": 0,
                    "sources": "[{'property': '', 'dataset': 'OpenStreetMap', 'record_id': 'w1299363356@1', 'update_time': '2024-07-05T20:08:49.000Z', 'confidence': None}]",
                    "level": null,
                    "subtype": "residential",
                    "class": "apartments",
                    "height": null,
                    "names": null,
                    "has_parts": false,
                    "is_underground": false,
                    "num_floors": null,
                    "num_floors_underground": null,
                    "min_height": null,
                    "min_floor": null,
                    "facade_color": null,
                    "facade_material": null,
                    "roof_material": null,
                    "roof_shape": null,
                    "roof_direction": null,
                    "roof_orientation": null,
                    "roof_color": null,
                    "roof_height": null,
                    "style": {
                      "weight": 1
                    }
                  },
                  "geometry": {
                    "type": "Polygon",
                    "coordinates": [
                      [
                        [
                          -117.6003579,
                          47.651444
                        ],
                        [
                          -117.6002506,
                          47.651444
                        ],
                        [
                          -117.6002506,
                          47.6514318
                        ],
                        [
                          -117.6001802,
                          47.6514319
                        ],
                        [
                          -117.6001802,
                          47.6514621
                        ],
                        [
                          -117.6001474,
                          47.6514621
                        ],
                        [
                          -117.6001474,
                          47.6514319
                        ],
                        [
                          -117.6000763,
                          47.6514319
                        ],
                        [
                          -117.6000763,
                          47.6514436
                        ],
                        [
                          -117.5999281,
                          47.6514436
                        ],
                        [
                          -117.5999281,
                          47.6514319
                        ],
                        [
                          -117.5998577,
                          47.6514319
                        ],
                        [
                          -117.5998577,
                          47.6514612
                        ],
                        [
                          -117.5998255,
                          47.6514612
                        ],
                        [
                          -117.5998255,
                          47.6514319
                        ],
                        [
                          -117.5997544,
                          47.6514319
                        ],
                        [
                          -117.5997544,
                          47.6514449
                        ],
                        [
                          -117.5996478,
                          47.6514449
                        ],
                        [
                          -117.5996478,
                          47.6515344
                        ],
                        [
                          -117.5996397,
                          47.6515344
                        ],
                        [
                          -117.5996398,
                          47.6515859
                        ],
                        [
                          -117.5996478,
                          47.6515859
                        ],
                        [
                          -117.5996478,
                          47.6516017
                        ],
                        [
                          -117.5997775,
                          47.6516016
                        ],
                        [
                          -117.5997775,
                          47.6516114
                        ],
                        [
                          -117.5999026,
                          47.6516114
                        ],
                        [
                          -117.5999026,
                          47.6516016
                        ],
                        [
                          -117.6001024,
                          47.6516016
                        ],
                        [
                          -117.6001024,
                          47.6516107
                        ],
                        [
                          -117.6002272,
                          47.6516107
                        ],
                        [
                          -117.6002271,
                          47.6516016
                        ],
                        [
                          -117.600358,
                          47.6516016
                        ],
                        [
                          -117.600358,
                          47.6515868
                        ],
                        [
                          -117.6003666,
                          47.6515868
                        ],
                        [
                          -117.6003666,
                          47.6515335
                        ],
                        [
                          -117.6003579,
                          47.6515335
                        ],
                        [
                          -117.6003579,
                          47.651444
                        ]
                      ]
                    ]
                  },
                  "bbox": [
                    -117.6003666,
                    47.6514318,
                    -117.5996397,
                    47.6516114
                  ]
                },
                {
                  "id": "36",
                  "type": "Feature",
                  "properties": {
                    "id": "08b12db703296fff020015d1f69197d2",
                    "bbox": "{ \"xmin\": -117.59950256347656, \"xmax\": -117.59941101074219, \"ymin\": 47.651142120361328, \"ymax\": 47.651309967041016 }",
                    "theme": "buildings",
                    "type": "building",
                    "version": 0,
                    "sources": "[{'property': '', 'dataset': 'OpenStreetMap', 'record_id': 'w1299363376@1', 'update_time': '2024-07-05T20:08:49.000Z', 'confidence': None}]",
                    "level": null,
                    "subtype": null,
                    "class": null,
                    "height": null,
                    "names": null,
                    "has_parts": false,
                    "is_underground": false,
                    "num_floors": null,
                    "num_floors_underground": null,
                    "min_height": null,
                    "min_floor": null,
                    "facade_color": null,
                    "facade_material": null,
                    "roof_material": null,
                    "roof_shape": null,
                    "roof_direction": null,
                    "roof_orientation": null,
                    "roof_color": null,
                    "roof_height": null,
                    "style": {
                      "weight": 1
                    }
                  },
                  "geometry": {
                    "type": "Polygon",
                    "coordinates": [
                      [
                        [
                          -117.5994989,
                          47.6511423
                        ],
                        [
                          -117.5994251,
                          47.6511423
                        ],
                        [
                          -117.5994252,
                          47.6513026
                        ],
                        [
                          -117.599499,
                          47.6513026
                        ],
                        [
                          -117.5994989,
                          47.6511423
                        ]
                      ]
                    ]
                  },
                  "bbox": [
                    -117.599499,
                    47.6511423,
                    -117.5994251,
                    47.6513026
                  ]
                },
                {
                  "id": "37",
                  "type": "Feature",
                  "properties": {
                    "id": "08b12db70374bfff020062eaef70a081",
                    "bbox": "{ \"xmin\": -117.59989929199219, \"xmax\": -117.59952545166016, \"ymin\": 47.651336669921875, \"ymax\": 47.651397705078125 }",
                    "theme": "buildings",
                    "type": "building",
                    "version": 0,
                    "sources": "[{'property': '', 'dataset': 'OpenStreetMap', 'record_id': 'w1299363375@1', 'update_time': '2024-07-05T20:08:49.000Z', 'confidence': None}]",
                    "level": null,
                    "subtype": null,
                    "class": null,
                    "height": null,
                    "names": null,
                    "has_parts": false,
                    "is_underground": false,
                    "num_floors": null,
                    "num_floors_underground": null,
                    "min_height": null,
                    "min_floor": null,
                    "facade_color": null,
                    "facade_material": null,
                    "roof_material": null,
                    "roof_shape": null,
                    "roof_direction": null,
                    "roof_orientation": null,
                    "roof_color": null,
                    "roof_height": null,
                    "style": {
                      "weight": 1
                    }
                  },
                  "geometry": {
                    "type": "Polygon",
                    "coordinates": [
                      [
                        [
                          -117.5998959,
                          47.6513437
                        ],
                        [
                          -117.5995291,
                          47.6513438
                        ],
                        [
                          -117.5995291,
                          47.6513939
                        ],
                        [
                          -117.5998959,
                          47.6513938
                        ],
                        [
                          -117.5998959,
                          47.6513437
                        ]
                      ]
                    ]
                  },
                  "bbox": [
                    -117.5998959,
                    47.6513437,
                    -117.5995291,
                    47.6513939
                  ]
                },
                {
                  "id": "38",
                  "type": "Feature",
                  "properties": {
                    "id": "08b12db703296fff0200a53565b590b4",
                    "bbox": "{ \"xmin\": -117.599365234375, \"xmax\": -117.59908294677734, \"ymin\": 47.650981903076172, \"ymax\": 47.651485443115234 }",
                    "theme": "buildings",
                    "type": "building",
                    "version": 0,
                    "sources": "[{'property': '', 'dataset': 'OpenStreetMap', 'record_id': 'w1299363371@1', 'update_time': '2024-07-05T20:08:49.000Z', 'confidence': None}]",
                    "level": null,
                    "subtype": "residential",
                    "class": "apartments",
                    "height": null,
                    "names": null,
                    "has_parts": false,
                    "is_underground": false,
                    "num_floors": null,
                    "num_floors_underground": null,
                    "min_height": null,
                    "min_floor": null,
                    "facade_color": null,
                    "facade_material": null,
                    "roof_material": null,
                    "roof_shape": null,
                    "roof_direction": null,
                    "roof_orientation": null,
                    "roof_color": null,
                    "roof_height": null,
                    "style": {
                      "weight": 1
                    }
                  },
                  "geometry": {
                    "type": "Polygon",
                    "coordinates": [
                      [
                        [
                          -117.5993326,
                          47.6509955
                        ],
                        [
                          -117.5991995,
                          47.6509955
                        ],
                        [
                          -117.5991995,
                          47.6509894
                        ],
                        [
                          -117.5991194,
                          47.6509894
                        ],
                        [
                          -117.5991194,
                          47.6509955
                        ],
                        [
                          -117.5991019,
                          47.6509955
                        ],
                        [
                          -117.599102,
                          47.6510822
                        ],
                        [
                          -117.5990854,
                          47.6510822
                        ],
                        [
                          -117.5990855,
                          47.6511662
                        ],
                        [
                          -117.5991026,
                          47.6511662
                        ],
                        [
                          -117.5991027,
                          47.6513022
                        ],
                        [
                          -117.5990855,
                          47.6513022
                        ],
                        [
                          -117.5990855,
                          47.6513864
                        ],
                        [
                          -117.5991006,
                          47.6513864
                        ],
                        [
                          -117.5991006,
                          47.6514743
                        ],
                        [
                          -117.5991222,
                          47.6514743
                        ],
                        [
                          -117.5991222,
                          47.6514795
                        ],
                        [
                          -117.5992005,
                          47.6514795
                        ],
                        [
                          -117.5992005,
                          47.6514743
                        ],
                        [
                          -117.5993328,
                          47.6514742
                        ],
                        [
                          -117.5993328,
                          47.651402
                        ],
                        [
                          -117.5993501,
                          47.651402
                        ],
                        [
                          -117.5993501,
                          47.6513539
                        ],
                        [
                          -117.5993082,
                          47.6513539
                        ],
                        [
                          -117.5993082,
                          47.6513329
                        ],
                        [
                          -117.5993501,
                          47.6513329
                        ],
                        [
                          -117.5993501,
                          47.6512841
                        ],
                        [
                          -117.5993327,
                          47.6512841
                        ],
                        [
                          -117.5993327,
                          47.6511852
                        ],
                        [
                          -117.5993501,
                          47.6511852
                        ],
                        [
                          -117.5993501,
                          47.6511371
                        ],
                        [
                          -117.5993068,
                          47.6511371
                        ],
                        [
                          -117.5993068,
                          47.6511147
                        ],
                        [
                          -117.5993494,
                          47.6511147
                        ],
                        [
                          -117.5993494,
                          47.6510668
                        ],
                        [
                          -117.5993327,
                          47.6510668
                        ],
                        [
                          -117.5993326,
                          47.6509955
                        ]
                      ]
                    ]
                  },
                  "bbox": [
                    -117.5993501,
                    47.6509894,
                    -117.5990854,
                    47.6514795
                  ]
                },
                {
                  "id": "39",
                  "type": "Feature",
                  "properties": {
                    "id": "08b12db703290fff020043df2416cc6b",
                    "bbox": "{ \"xmin\": -117.59893798828125, \"xmax\": -117.59873962402344, \"ymin\": 47.650669097900391, \"ymax\": 47.651088714599609 }",
                    "theme": "buildings",
                    "type": "building",
                    "version": 0,
                    "sources": "[{'property': '', 'dataset': 'Microsoft ML Buildings', 'record_id': None, 'update_time': '2022-08-15T00:00:00.000Z', 'confidence': None}]",
                    "level": null,
                    "subtype": null,
                    "class": null,
                    "height": 4.432957,
                    "names": null,
                    "has_parts": false,
                    "is_underground": false,
                    "num_floors": null,
                    "num_floors_underground": null,
                    "min_height": null,
                    "min_floor": null,
                    "facade_color": null,
                    "facade_material": null,
                    "roof_material": null,
                    "roof_shape": null,
                    "roof_direction": null,
                    "roof_orientation": null,
                    "roof_color": null,
                    "roof_height": null,
                    "style": {
                      "weight": 1
                    }
                  },
                  "geometry": {
                    "type": "Polygon",
                    "coordinates": [
                      [
                        [
                          -117.59892526018717,
                          47.65067568058817
                        ],
                        [
                          -117.59875359903896,
                          47.65067581008353
                        ],
                        [
                          -117.59875384477012,
                          47.65081493850214
                        ],
                        [
                          -117.59876189138645,
                          47.650814932432056
                        ],
                        [
                          -117.59876210397415,
                          47.650935295346436
                        ],
                        [
                          -117.5987540573585,
                          47.650935301795876
                        ],
                        [
                          -117.5987543158549,
                          47.65108165691529
                        ],
                        [
                          -117.59892597698882,
                          47.651081519327555
                        ],
                        [
                          -117.59892572806639,
                          47.65094058477505
                        ],
                        [
                          -117.59890695262986,
                          47.65094059982374
                        ],
                        [
                          -117.59890672728896,
                          47.65081301631043
                        ],
                        [
                          -117.59892550272704,
                          47.65081300214692
                        ],
                        [
                          -117.59892526018717,
                          47.65067568058817
                        ]
                      ]
                    ]
                  },
                  "bbox": [
                    -117.59892597698882,
                    47.65067568058817,
                    -117.59875359903896,
                    47.65108165691529
                  ]
                },
                {
                  "id": "40",
                  "type": "Feature",
                  "properties": {
                    "id": "08b12db703293fff0200110595a0eacd",
                    "bbox": "{ \"xmin\": -117.59868621826172, \"xmax\": -117.59859466552734, \"ymin\": 47.650745391845703, \"ymax\": 47.650901794433594 }",
                    "theme": "buildings",
                    "type": "building",
                    "version": 0,
                    "sources": "[{'property': '', 'dataset': 'Microsoft ML Buildings', 'record_id': None, 'update_time': '2022-08-15T00:00:00.000Z', 'confidence': None}]",
                    "level": null,
                    "subtype": null,
                    "class": null,
                    "height": null,
                    "names": null,
                    "has_parts": false,
                    "is_underground": false,
                    "num_floors": null,
                    "num_floors_underground": null,
                    "min_height": null,
                    "min_floor": null,
                    "facade_color": null,
                    "facade_material": null,
                    "roof_material": null,
                    "roof_shape": null,
                    "roof_direction": null,
                    "roof_orientation": null,
                    "roof_color": null,
                    "roof_height": null,
                    "style": {
                      "weight": 1
                    }
                  },
                  "geometry": {
                    "type": "Polygon",
                    "coordinates": [
                      [
                        [
                          -117.59860972381263,
                          47.65075333512946
                        ],
                        [
                          -117.59861152472268,
                          47.65090148797621
                        ],
                        [
                          -117.59868393955182,
                          47.65090109193002
                        ],
                        [
                          -117.59868213864179,
                          47.650752939082146
                        ],
                        [
                          -117.59860972381263,
                          47.65075333512946
                        ]
                      ]
                    ]
                  },
                  "bbox": [
                    -117.59868393955182,
                    47.650752939082146,
                    -117.59860972381263,
                    47.65090148797621
                  ]
                },
                {
                  "id": "41",
                  "type": "Feature",
                  "properties": {
                    "id": "08b12db70329efff0200c68a479dab66",
                    "bbox": "{ \"xmin\": -117.59835052490234, \"xmax\": -117.59785461425781, \"ymin\": 47.650543212890625, \"ymax\": 47.650714874267578 }",
                    "theme": "buildings",
                    "type": "building",
                    "version": 0,
                    "sources": "[{'property': '', 'dataset': 'Microsoft ML Buildings', 'record_id': None, 'update_time': '2022-08-15T00:00:00.000Z', 'confidence': None}]",
                    "level": null,
                    "subtype": null,
                    "class": null,
                    "height": 3.5563107,
                    "names": null,
                    "has_parts": false,
                    "is_underground": false,
                    "num_floors": null,
                    "num_floors_underground": null,
                    "min_height": null,
                    "min_floor": null,
                    "facade_color": null,
                    "facade_material": null,
                    "roof_material": null,
                    "roof_shape": null,
                    "roof_direction": null,
                    "roof_orientation": null,
                    "roof_color": null,
                    "roof_height": null,
                    "style": {
                      "weight": 1
                    }
                  },
                  "geometry": {
                    "type": "Polygon",
                    "coordinates": [
                      [
                        [
                          -117.59834684676167,
                          47.6506886922519
                        ],
                        [
                          -117.5983393542735,
                          47.650582326500476
                        ],
                        [
                          -117.5982296307717,
                          47.65058583395733
                        ],
                        [
                          -117.59823031292368,
                          47.65059551801271
                        ],
                        [
                          -117.59816780498234,
                          47.65059751321413
                        ],
                        [
                          -117.59816628332399,
                          47.6505758793385
                        ],
                        [
                          -117.59808064490178,
                          47.6505786128466
                        ],
                        [
                          -117.59807958383558,
                          47.650563527343564
                        ],
                        [
                          -117.5980377169109,
                          47.6505648656757
                        ],
                        [
                          -117.5980363200063,
                          47.6505450347423
                        ],
                        [
                          -117.59792832224373,
                          47.6505484870361
                        ],
                        [
                          -117.59793161915924,
                          47.65059536029148
                        ],
                        [
                          -117.59785764133876,
                          47.65059772508979
                        ],
                        [
                          -117.59786399090501,
                          47.650687865544526
                        ],
                        [
                          -117.59793528318951,
                          47.650685586596836
                        ],
                        [
                          -117.59793731206061,
                          47.650714431606346
                        ],
                        [
                          -117.59806941267199,
                          47.65071020884595
                        ],
                        [
                          -117.5980685237327,
                          47.65069758919706
                        ],
                        [
                          -117.59834684676167,
                          47.6506886922519
                        ]
                      ]
                    ]
                  },
                  "bbox": [
                    -117.59834684676167,
                    47.6505450347423,
                    -117.59785764133876,
                    47.650714431606346
                  ]
                },
                {
                  "id": "42",
                  "type": "Feature",
                  "properties": {
                    "id": "08b12db703291fff02005572482e2b11",
                    "bbox": "{ \"xmin\": -117.59844207763672, \"xmax\": -117.59783935546875, \"ymin\": 47.650802612304688, \"ymax\": 47.650924682617188 }",
                    "theme": "buildings",
                    "type": "building",
                    "version": 0,
                    "sources": "[{'property': '', 'dataset': 'Microsoft ML Buildings', 'record_id': None, 'update_time': '2022-08-15T00:00:00.000Z', 'confidence': None}]",
                    "level": null,
                    "subtype": null,
                    "class": null,
                    "height": 4.465024,
                    "names": null,
                    "has_parts": false,
                    "is_underground": false,
                    "num_floors": null,
                    "num_floors_underground": null,
                    "min_height": null,
                    "min_floor": null,
                    "facade_color": null,
                    "facade_material": null,
                    "roof_material": null,
                    "roof_shape": null,
                    "roof_direction": null,
                    "roof_orientation": null,
                    "roof_color": null,
                    "roof_height": null,
                    "style": {
                      "weight": 1
                    }
                  },
                  "geometry": {
                    "type": "Polygon",
                    "coordinates": [
                      [
                        [
                          -117.59844145976585,
                          47.65080413789128
                        ],
                        [
                          -117.59822786475279,
                          47.65080363436485
                        ],
                        [
                          -117.59822779458354,
                          47.650817417713284
                        ],
                        [
                          -117.59805345304804,
                          47.650817014942454
                        ],
                        [
                          -117.59805351743681,
                          47.65080436705213
                        ],
                        [
                          -117.59784332848758,
                          47.65080388146506
                        ],
                        [
                          -117.59784273376887,
                          47.650918365565616
                        ],
                        [
                          -117.59804926133386,
                          47.650918852430266
                        ],
                        [
                          -117.5980492894922,
                          47.65091343191941
                        ],
                        [
                          -117.59819949135766,
                          47.65091378600282
                        ],
                        [
                          -117.59819947606613,
                          47.65091672963347
                        ],
                        [
                          -117.59844087198047,
                          47.65091728731494
                        ],
                        [
                          -117.59844145976585,
                          47.65080413789128
                        ]
                      ]
                    ]
                  },
                  "bbox": [
                    -117.59844145976585,
                    47.65080363436485,
                    -117.59784273376887,
                    47.650918852430266
                  ]
                },
                {
                  "id": "43",
                  "type": "Feature",
                  "properties": {
                    "id": "08b12db703291fff020014bf39d9b67c",
                    "bbox": "{ \"xmin\": -117.59840393066406, \"xmax\": -117.59818267822266, \"ymin\": 47.650966644287109, \"ymax\": 47.651027679443359 }",
                    "theme": "buildings",
                    "type": "building",
                    "version": 0,
                    "sources": "[{'property': '', 'dataset': 'Microsoft ML Buildings', 'record_id': None, 'update_time': '2022-08-15T00:00:00.000Z', 'confidence': None}]",
                    "level": null,
                    "subtype": null,
                    "class": null,
                    "height": 2.680162,
                    "names": null,
                    "has_parts": false,
                    "is_underground": false,
                    "num_floors": null,
                    "num_floors_underground": null,
                    "min_height": null,
                    "min_floor": null,
                    "facade_color": null,
                    "facade_material": null,
                    "roof_material": null,
                    "roof_shape": null,
                    "roof_direction": null,
                    "roof_orientation": null,
                    "roof_color": null,
                    "roof_height": null,
                    "style": {
                      "weight": 1
                    }
                  },
                  "geometry": {
                    "type": "Polygon",
                    "coordinates": [
                      [
                        [
                          -117.598186154557,
                          47.651020240448496
                        ],
                        [
                          -117.59838998818405,
                          47.65102139367983
                        ],
                        [
                          -117.59839056896331,
                          47.6509744187032
                        ],
                        [
                          -117.59818673533626,
                          47.65097326547084
                        ],
                        [
                          -117.598186154557,
                          47.651020240448496
                        ]
                      ]
                    ]
                  },
                  "bbox": [
                    -117.59839056896331,
                    47.65097326547084,
                    -117.598186154557,
                    47.65102139367983
                  ]
                },
                {
                  "id": "44",
                  "type": "Feature",
                  "properties": {
                    "id": "08b12db703295fff020044d3de6430ab",
                    "bbox": "{ \"xmin\": -117.59833526611328, \"xmax\": -117.59817504882812, \"ymin\": 47.651088714599609, \"ymax\": 47.651138305664062 }",
                    "theme": "buildings",
                    "type": "building",
                    "version": 0,
                    "sources": "[{'property': '', 'dataset': 'Microsoft ML Buildings', 'record_id': None, 'update_time': '2022-08-15T00:00:00.000Z', 'confidence': None}]",
                    "level": null,
                    "subtype": null,
                    "class": null,
                    "height": 2.3237762,
                    "names": null,
                    "has_parts": false,
                    "is_underground": false,
                    "num_floors": null,
                    "num_floors_underground": null,
                    "min_height": null,
                    "min_floor": null,
                    "facade_color": null,
                    "facade_material": null,
                    "roof_material": null,
                    "roof_shape": null,
                    "roof_direction": null,
                    "roof_orientation": null,
                    "roof_color": null,
                    "roof_height": null,
                    "style": {
                      "weight": 1
                    }
                  },
                  "geometry": {
                    "type": "Polygon",
                    "coordinates": [
                      [
                        [
                          -117.59833472303764,
                          47.65109018355318
                        ],
                        [
                          -117.59818720498214,
                          47.65109066345571
                        ],
                        [
                          -117.59818754175221,
                          47.65113764051807
                        ],
                        [
                          -117.59833505980771,
                          47.651137160615974
                        ],
                        [
                          -117.59833472303764,
                          47.65109018355318
                        ]
                      ]
                    ]
                  },
                  "bbox": [
                    -117.59833505980771,
                    47.65109018355318,
                    -117.59818720498214,
                    47.65113764051807
                  ]
                },
                {
                  "id": "45",
                  "type": "Feature",
                  "properties": {
                    "id": "08b12db703291fff0200494e346fc616",
                    "bbox": "{ \"xmin\": -117.59809112548828, \"xmax\": -117.59793090820312, \"ymin\": 47.650974273681641, \"ymax\": 47.651027679443359 }",
                    "theme": "buildings",
                    "type": "building",
                    "version": 0,
                    "sources": "[{'property': '', 'dataset': 'Microsoft ML Buildings', 'record_id': None, 'update_time': '2022-08-15T00:00:00.000Z', 'confidence': None}]",
                    "level": null,
                    "subtype": null,
                    "class": null,
                    "height": 2.1771684,
                    "names": null,
                    "has_parts": false,
                    "is_underground": false,
                    "num_floors": null,
                    "num_floors_underground": null,
                    "min_height": null,
                    "min_floor": null,
                    "facade_color": null,
                    "facade_material": null,
                    "roof_material": null,
                    "roof_shape": null,
                    "roof_direction": null,
                    "roof_orientation": null,
                    "roof_color": null,
                    "roof_height": null,
                    "style": {
                      "weight": 1
                    }
                  },
                  "geometry": {
                    "type": "Polygon",
                    "coordinates": [
                      [
                        [
                          -117.59793435214381,
                          47.65097502145294
                        ],
                        [
                          -117.59793321204666,
                          47.65102017979752
                        ],
                        [
                          -117.59807800945119,
                          47.651021838721185
                        ],
                        [
                          -117.59807914954834,
                          47.650976680378044
                        ],
                        [
                          -117.59793435214381,
                          47.65097502145294
                        ]
                      ]
                    ]
                  },
                  "bbox": [
                    -117.59807914954834,
                    47.65097502145294,
                    -117.59793321204666,
                    47.651021838721185
                  ]
                },
                {
                  "id": "46",
                  "type": "Feature",
                  "properties": {
                    "id": "08b12db703295fff0200376ee7171231",
                    "bbox": "{ \"xmin\": -117.59808349609375, \"xmax\": -117.59791564941406, \"ymin\": 47.651088714599609, \"ymax\": 47.651142120361328 }",
                    "theme": "buildings",
                    "type": "building",
                    "version": 0,
                    "sources": "[{'property': '', 'dataset': 'Microsoft ML Buildings', 'record_id': None, 'update_time': '2022-08-15T00:00:00.000Z', 'confidence': None}]",
                    "level": null,
                    "subtype": null,
                    "class": null,
                    "height": 2.462055,
                    "names": null,
                    "has_parts": false,
                    "is_underground": false,
                    "num_floors": null,
                    "num_floors_underground": null,
                    "min_height": null,
                    "min_floor": null,
                    "facade_color": null,
                    "facade_material": null,
                    "roof_material": null,
                    "roof_shape": null,
                    "roof_direction": null,
                    "roof_orientation": null,
                    "roof_color": null,
                    "roof_height": null,
                    "style": {
                      "weight": 1
                    }
                  },
                  "geometry": {
                    "type": "Polygon",
                    "coordinates": [
                      [
                        [
                          -117.59807836298629,
                          47.651088976602246
                        ],
                        [
                          -117.59792831548386,
                          47.651092237885095
                        ],
                        [
                          -117.59793061820915,
                          47.6511403154706
                        ],
                        [
                          -117.59808066537309,
                          47.65113704712375
                        ],
                        [
                          -117.59807836298629,
                          47.651088976602246
                        ]
                      ]
                    ]
                  },
                  "bbox": [
                    -117.59808066537309,
                    47.651088976602246,
                    -117.59792831548386,
                    47.6511403154706
                  ]
                },
                {
                  "id": "47",
                  "type": "Feature",
                  "properties": {
                    "id": "08b12db703282fff02000265fc58cffc",
                    "bbox": "{ \"xmin\": -117.59780883789062, \"xmax\": -117.59765625, \"ymin\": 47.650928497314453, \"ymax\": 47.651214599609375 }",
                    "theme": "buildings",
                    "type": "building",
                    "version": 0,
                    "sources": "[{'property': '', 'dataset': 'Microsoft ML Buildings', 'record_id': None, 'update_time': '2022-08-15T00:00:00.000Z', 'confidence': None}]",
                    "level": null,
                    "subtype": null,
                    "class": null,
                    "height": 5.0639744,
                    "names": null,
                    "has_parts": false,
                    "is_underground": false,
                    "num_floors": null,
                    "num_floors_underground": null,
                    "min_height": null,
                    "min_floor": null,
                    "facade_color": null,
                    "facade_material": null,
                    "roof_material": null,
                    "roof_shape": null,
                    "roof_direction": null,
                    "roof_orientation": null,
                    "roof_color": null,
                    "roof_height": null,
                    "style": {
                      "weight": 1
                    }
                  },
                  "geometry": {
                    "type": "Polygon",
                    "coordinates": [
                      [
                        [
                          -117.59765720538073,
                          47.6512081526861
                        ],
                        [
                          -117.59780740299296,
                          47.65120879709602
                        ],
                        [
                          -117.5978087354081,
                          47.65106786840411
                        ],
                        [
                          -117.59778459650614,
                          47.651067764837954
                        ],
                        [
                          -117.59778584351004,
                          47.65093586969177
                        ],
                        [
                          -117.59765978479977,
                          47.65093532884492
                        ],
                        [
                          -117.59765720538073,
                          47.6512081526861
                        ]
                      ]
                    ]
                  },
                  "bbox": [
                    -117.5978087354081,
                    47.65093532884492,
                    -117.59765720538073,
                    47.65120879709602
                  ]
                },
                {
                  "id": "48",
                  "type": "Feature",
                  "properties": {
                    "id": "08b12db703294fff02001a43c58ffa86",
                    "bbox": "{ \"xmin\": -117.59895324707031, \"xmax\": -117.59873962402344, \"ymin\": 47.651153564453125, \"ymax\": 47.651565551757812 }",
                    "theme": "buildings",
                    "type": "building",
                    "version": 0,
                    "sources": "[{'property': '', 'dataset': 'Microsoft ML Buildings', 'record_id': None, 'update_time': '2022-08-15T00:00:00.000Z', 'confidence': None}]",
                    "level": null,
                    "subtype": null,
                    "class": null,
                    "height": 3.688264,
                    "names": null,
                    "has_parts": false,
                    "is_underground": false,
                    "num_floors": null,
                    "num_floors_underground": null,
                    "min_height": null,
                    "min_floor": null,
                    "facade_color": null,
                    "facade_material": null,
                    "roof_material": null,
                    "roof_shape": null,
                    "roof_direction": null,
                    "roof_orientation": null,
                    "roof_color": null,
                    "roof_height": null,
                    "style": {
                      "weight": 1
                    }
                  },
                  "geometry": {
                    "type": "Polygon",
                    "coordinates": [
                      [
                        [
                          -117.59877891019747,
                          47.65115419418927
                        ],
                        [
                          -117.59877675894563,
                          47.651286078210376
                        ],
                        [
                          -117.59875530386404,
                          47.651285919397026
                        ],
                        [
                          -117.59875300526616,
                          47.65142683620265
                        ],
                        [
                          -117.59877878038378,
                          47.651427026992955
                        ],
                        [
                          -117.59877664508826,
                          47.65155710360628
                        ],
                        [
                          -117.59894934298835,
                          47.65155838193221
                        ],
                        [
                          -117.5989516415862,
                          47.65141746548156
                        ],
                        [
                          -117.5989248227342,
                          47.65141726696539
                        ],
                        [
                          -117.59892682664002,
                          47.651294416415645
                        ],
                        [
                          -117.59894828172162,
                          47.65129457522896
                        ],
                        [
                          -117.59895055085028,
                          47.65115546469916
                        ],
                        [
                          -117.59877891019747,
                          47.65115419418927
                        ]
                      ]
                    ]
                  },
                  "bbox": [
                    -117.5989516415862,
                    47.65115419418927,
                    -117.59875300526616,
                    47.65155838193221
                  ]
                },
                {
                  "id": "49",
                  "type": "Feature",
                  "properties": {
                    "id": "08b12db703294fff0200702ab7b73fe5",
                    "bbox": "{ \"xmin\": -117.59843444824219, \"xmax\": -117.59825897216797, \"ymin\": 47.651443481445312, \"ymax\": 47.651504516601562 }",
                    "theme": "buildings",
                    "type": "building",
                    "version": 0,
                    "sources": "[{'property': '', 'dataset': 'Microsoft ML Buildings', 'record_id': None, 'update_time': '2022-08-15T00:00:00.000Z', 'confidence': None}]",
                    "level": null,
                    "subtype": null,
                    "class": null,
                    "height": null,
                    "names": null,
                    "has_parts": false,
                    "is_underground": false,
                    "num_floors": null,
                    "num_floors_underground": null,
                    "min_height": null,
                    "min_floor": null,
                    "facade_color": null,
                    "facade_material": null,
                    "roof_material": null,
                    "roof_shape": null,
                    "roof_direction": null,
                    "roof_orientation": null,
                    "roof_color": null,
                    "roof_height": null,
                    "style": {
                      "weight": 1
                    }
                  },
                  "geometry": {
                    "type": "Polygon",
                    "coordinates": [
                      [
                        [
                          -117.59827293350051,
                          47.65149839635538
                        ],
                        [
                          -117.59842042343813,
                          47.65149694302595
                        ],
                        [
                          -117.59841940356091,
                          47.651449975240865
                        ],
                        [
                          -117.59827191362328,
                          47.65145142857158
                        ],
                        [
                          -117.59827293350051,
                          47.65149839635538
                        ]
                      ]
                    ]
                  },
                  "bbox": [
                    -117.59842042343813,
                    47.651449975240865,
                    -117.59827191362328,
                    47.65149839635538
                  ]
                },
                {
                  "id": "50",
                  "type": "Feature",
                  "properties": {
                    "id": "08b12db703295fff020081ca6879b563",
                    "bbox": "{ \"xmin\": -117.59847259521484, \"xmax\": -117.59784698486328, \"ymin\": 47.65118408203125, \"ymax\": 47.651317596435547 }",
                    "theme": "buildings",
                    "type": "building",
                    "version": 0,
                    "sources": "[{'property': '', 'dataset': 'Microsoft ML Buildings', 'record_id': None, 'update_time': '2022-08-15T00:00:00.000Z', 'confidence': None}]",
                    "level": null,
                    "subtype": null,
                    "class": null,
                    "height": 4.0945106,
                    "names": null,
                    "has_parts": false,
                    "is_underground": false,
                    "num_floors": null,
                    "num_floors_underground": null,
                    "min_height": null,
                    "min_floor": null,
                    "facade_color": null,
                    "facade_material": null,
                    "roof_material": null,
                    "roof_shape": null,
                    "roof_direction": null,
                    "roof_orientation": null,
                    "roof_color": null,
                    "roof_height": null,
                    "style": {
                      "weight": 1
                    }
                  },
                  "geometry": {
                    "type": "Polygon",
                    "coordinates": [
                      [
                        [
                          -117.59845669068103,
                          47.651185918693
                        ],
                        [
                          -117.59824480411513,
                          47.651186787814815
                        ],
                        [
                          -117.59824498582572,
                          47.651206662412555
                        ],
                        [
                          -117.59785876221189,
                          47.65120824663395
                        ],
                        [
                          -117.59785964826627,
                          47.651305158728356
                        ],
                        [
                          -117.59805812420447,
                          47.65130433525884
                        ],
                        [
                          -117.59805817982691,
                          47.65131041894943
                        ],
                        [
                          -117.59845781398289,
                          47.65130877972356
                        ],
                        [
                          -117.59845669068103,
                          47.651185918693
                        ]
                      ]
                    ]
                  },
                  "bbox": [
                    -117.59845781398289,
                    47.651185918693,
                    -117.59785876221189,
                    47.65131041894943
                  ]
                },
                {
                  "id": "51",
                  "type": "Feature",
                  "properties": {
                    "id": "08b12db703295fff020040c052cd59cb",
                    "bbox": "{ \"xmin\": -117.59818267822266, \"xmax\": -117.59800720214844, \"ymin\": 47.651443481445312, \"ymax\": 47.651504516601562 }",
                    "theme": "buildings",
                    "type": "building",
                    "version": 0,
                    "sources": "[{'property': '', 'dataset': 'Microsoft ML Buildings', 'record_id': None, 'update_time': '2022-08-15T00:00:00.000Z', 'confidence': None}]",
                    "level": null,
                    "subtype": null,
                    "class": null,
                    "height": null,
                    "names": null,
                    "has_parts": false,
                    "is_underground": false,
                    "num_floors": null,
                    "num_floors_underground": null,
                    "min_height": null,
                    "min_floor": null,
                    "facade_color": null,
                    "facade_material": null,
                    "roof_material": null,
                    "roof_shape": null,
                    "roof_direction": null,
                    "roof_orientation": null,
                    "roof_color": null,
                    "roof_height": null,
                    "style": {
                      "weight": 1
                    }
                  },
                  "geometry": {
                    "type": "Polygon",
                    "coordinates": [
                      [
                        [
                          -117.59802140819724,
                          47.65149799858391
                        ],
                        [
                          -117.59816891210936,
                          47.65149691369936
                        ],
                        [
                          -117.59816815078916,
                          47.651449941464094
                        ],
                        [
                          -117.59802064687703,
                          47.651451026349626
                        ],
                        [
                          -117.59802140819724,
                          47.65149799858391
                        ]
                      ]
                    ]
                  },
                  "bbox": [
                    -117.59816891210936,
                    47.651449941464094,
                    -117.59802064687703,
                    47.65149799858391
                  ]
                },
                {
                  "id": "52",
                  "type": "Feature",
                  "properties": {
                    "id": "08b12db7032b3fff0200c0229a23f169",
                    "bbox": "{ \"xmin\": -117.59860992431641, \"xmax\": -117.59791564941406, \"ymin\": 47.651538848876953, \"ymax\": 47.651664733886719 }",
                    "theme": "buildings",
                    "type": "building",
                    "version": 0,
                    "sources": "[{'property': '', 'dataset': 'Microsoft ML Buildings', 'record_id': None, 'update_time': '2022-08-15T00:00:00.000Z', 'confidence': None}]",
                    "level": null,
                    "subtype": null,
                    "class": null,
                    "height": 4.711743,
                    "names": null,
                    "has_parts": false,
                    "is_underground": false,
                    "num_floors": null,
                    "num_floors_underground": null,
                    "min_height": null,
                    "min_floor": null,
                    "facade_color": null,
                    "facade_material": null,
                    "roof_material": null,
                    "roof_shape": null,
                    "roof_direction": null,
                    "roof_orientation": null,
                    "roof_color": null,
                    "roof_height": null,
                    "style": {
                      "weight": 1
                    }
                  },
                  "geometry": {
                    "type": "Polygon",
                    "coordinates": [
                      [
                        [
                          -117.59860792436584,
                          47.651547690705726
                        ],
                        [
                          -117.5981197843617,
                          47.65154990008664
                        ],
                        [
                          -117.59811974832019,
                          47.65154628657534
                        ],
                        [
                          -117.59791590963715,
                          47.651547209173984
                        ],
                        [
                          -117.59791706296498,
                          47.65166284140956
                        ],
                        [
                          -117.59812090164803,
                          47.65166191881296
                        ],
                        [
                          -117.5981207755028,
                          47.65164927154944
                        ],
                        [
                          -117.59830154221217,
                          47.65164845337893
                        ],
                        [
                          -117.5983016878798,
                          47.65166290738757
                        ],
                        [
                          -117.59860905967292,
                          47.65166151618855
                        ],
                        [
                          -117.59860792436584,
                          47.651547690705726
                        ]
                      ]
                    ]
                  },
                  "bbox": [
                    -117.59860905967292,
                    47.65154628657534,
                    -117.59791590963715,
                    47.65166290738757
                  ]
                },
                {
                  "id": "53",
                  "type": "Feature",
                  "properties": {
                    "id": "08b12db70374efff0200566bb3048a0c",
                    "bbox": "{ \"xmin\": -117.60021209716797, \"xmax\": -117.60013580322266, \"ymin\": 47.652065277099609, \"ymax\": 47.652168273925781 }",
                    "theme": "buildings",
                    "type": "building",
                    "version": 0,
                    "sources": "[{'property': '', 'dataset': 'Microsoft ML Buildings', 'record_id': None, 'update_time': '2022-08-15T00:00:00.000Z', 'confidence': None}]",
                    "level": null,
                    "subtype": null,
                    "class": null,
                    "height": null,
                    "names": null,
                    "has_parts": false,
                    "is_underground": false,
                    "num_floors": null,
                    "num_floors_underground": null,
                    "min_height": null,
                    "min_floor": null,
                    "facade_color": null,
                    "facade_material": null,
                    "roof_material": null,
                    "roof_shape": null,
                    "roof_direction": null,
                    "roof_orientation": null,
                    "roof_color": null,
                    "roof_height": null,
                    "style": {
                      "weight": 1
                    }
                  },
                  "geometry": {
                    "type": "Polygon",
                    "coordinates": [
                      [
                        [
                          -117.60014062007522,
                          47.6521677215984
                        ],
                        [
                          -117.6002118791423,
                          47.65216658604739
                        ],
                        [
                          -117.60020846483515,
                          47.652069072311086
                        ],
                        [
                          -117.60013719564229,
                          47.65207020802558
                        ],
                        [
                          -117.60014062007522,
                          47.6521677215984
                        ]
                      ]
                    ]
                  },
                  "bbox": [
                    -117.6002118791423,
                    47.652069072311086,
                    -117.60013719564229,
                    47.6521677215984
                  ]
                },
                {
                  "id": "54",
                  "type": "Feature",
                  "properties": {
                    "id": "08b12db703748fff0200345b6089f089",
                    "bbox": "{ \"xmin\": -117.60002136230469, \"xmax\": -117.59992980957031, \"ymin\": 47.651824951171875, \"ymax\": 47.652034759521484 }",
                    "theme": "buildings",
                    "type": "building",
                    "version": 0,
                    "sources": "[{'property': '', 'dataset': 'Microsoft ML Buildings', 'record_id': None, 'update_time': '2022-08-15T00:00:00.000Z', 'confidence': None}]",
                    "level": null,
                    "subtype": null,
                    "class": null,
                    "height": null,
                    "names": null,
                    "has_parts": false,
                    "is_underground": false,
                    "num_floors": null,
                    "num_floors_underground": null,
                    "min_height": null,
                    "min_floor": null,
                    "facade_color": null,
                    "facade_material": null,
                    "roof_material": null,
                    "roof_shape": null,
                    "roof_direction": null,
                    "roof_orientation": null,
                    "roof_color": null,
                    "roof_height": null,
                    "style": {
                      "weight": 1
                    }
                  },
                  "geometry": {
                    "type": "Polygon",
                    "coordinates": [
                      [
                        [
                          -117.59994631761386,
                          47.65202888883294
                        ],
                        [
                          -117.60001873144563,
                          47.65202845183189
                        ],
                        [
                          -117.60001611252227,
                          47.651831523820334
                        ],
                        [
                          -117.59994369869051,
                          47.651831960823024
                        ],
                        [
                          -117.59994631761386,
                          47.65202888883294
                        ]
                      ]
                    ]
                  },
                  "bbox": [
                    -117.60001873144563,
                    47.651831523820334,
                    -117.59994369869051,
                    47.65202888883294
                  ]
                },
                {
                  "id": "55",
                  "type": "Feature",
                  "properties": {
                    "id": "08b12db703748fff02006a2cf4a44e71",
                    "bbox": "{ \"xmin\": -117.59989166259766, \"xmax\": -117.59963226318359, \"ymin\": 47.651763916015625, \"ymax\": 47.652256011962891 }",
                    "theme": "buildings",
                    "type": "building",
                    "version": 0,
                    "sources": "[{'property': '', 'dataset': 'Microsoft ML Buildings', 'record_id': None, 'update_time': '2022-08-15T00:00:00.000Z', 'confidence': None}]",
                    "level": null,
                    "subtype": null,
                    "class": null,
                    "height": null,
                    "names": null,
                    "has_parts": false,
                    "is_underground": false,
                    "num_floors": null,
                    "num_floors_underground": null,
                    "min_height": null,
                    "min_floor": null,
                    "facade_color": null,
                    "facade_material": null,
                    "roof_material": null,
                    "roof_shape": null,
                    "roof_direction": null,
                    "roof_orientation": null,
                    "roof_color": null,
                    "roof_height": null,
                    "style": {
                      "weight": 1
                    }
                  },
                  "geometry": {
                    "type": "Polygon",
                    "coordinates": [
                      [
                        [
                          -117.59963642226671,
                          47.652249398831884
                        ],
                        [
                          -117.59987244944442,
                          47.65224851973196
                        ],
                        [
                          -117.59987182659327,
                          47.65217263585148
                        ],
                        [
                          -117.5998906014824,
                          47.65217256592296
                        ],
                        [
                          -117.59989023073764,
                          47.65212739689408
                        ],
                        [
                          -117.59984999883235,
                          47.652127546741006
                        ],
                        [
                          -117.59984982087488,
                          47.65210586559331
                        ],
                        [
                          -117.59988200639911,
                          47.65210574571572
                        ],
                        [
                          -117.59988030097331,
                          47.651897967593484
                        ],
                        [
                          -117.59987920356886,
                          47.65176426645161
                        ],
                        [
                          -117.5996324478831,
                          47.651765185519146
                        ],
                        [
                          -117.59963642226671,
                          47.652249398831884
                        ]
                      ]
                    ]
                  },
                  "bbox": [
                    -117.5998906014824,
                    47.65176426645161,
                    -117.5996324478831,
                    47.652249398831884
                  ]
                },
                {
                  "id": "56",
                  "type": "Feature",
                  "properties": {
                    "id": "08b12db70374cfff02005b94b09847d7",
                    "bbox": "{ \"xmin\": -117.60002136230469, \"xmax\": -117.59993743896484, \"ymin\": 47.652149200439453, \"ymax\": 47.652297973632812 }",
                    "theme": "buildings",
                    "type": "building",
                    "version": 0,
                    "sources": "[{'property': '', 'dataset': 'Microsoft ML Buildings', 'record_id': None, 'update_time': '2022-08-15T00:00:00.000Z', 'confidence': None}]",
                    "level": null,
                    "subtype": null,
                    "class": null,
                    "height": null,
                    "names": null,
                    "has_parts": false,
                    "is_underground": false,
                    "num_floors": null,
                    "num_floors_underground": null,
                    "min_height": null,
                    "min_floor": null,
                    "facade_color": null,
                    "facade_material": null,
                    "roof_material": null,
                    "roof_shape": null,
                    "roof_direction": null,
                    "roof_orientation": null,
                    "roof_color": null,
                    "roof_height": null,
                    "style": {
                      "weight": 1
                    }
                  },
                  "geometry": {
                    "type": "Polygon",
                    "coordinates": [
                      [
                        [
                          -117.5999407885507,
                          47.652295991310716
                        ],
                        [
                          -117.60001316414201,
                          47.65229719242279
                        ],
                        [
                          -117.6000185284863,
                          47.6521509295271
                        ],
                        [
                          -117.59994615289499,
                          47.652149728411665
                        ],
                        [
                          -117.5999407885507,
                          47.652295991310716
                        ]
                      ]
                    ]
                  },
                  "bbox": [
                    -117.6000185284863,
                    47.652149728411665,
                    -117.5999407885507,
                    47.65229719242279
                  ]
                },
                {
                  "id": "57",
                  "type": "Feature",
                  "properties": {
                    "id": "08b12db70374dfff02001c28f5a0c295",
                    "bbox": "{ \"xmin\": -117.5994873046875, \"xmax\": -117.59877014160156, \"ymin\": 47.651840209960938, \"ymax\": 47.652030944824219 }",
                    "theme": "buildings",
                    "type": "building",
                    "version": 0,
                    "sources": "[{'property': '', 'dataset': 'OpenStreetMap', 'record_id': 'w656323736@1', 'update_time': '2018-12-19T19:41:07.000Z', 'confidence': None}]",
                    "level": null,
                    "subtype": null,
                    "class": null,
                    "height": null,
                    "names": null,
                    "has_parts": false,
                    "is_underground": false,
                    "num_floors": null,
                    "num_floors_underground": null,
                    "min_height": null,
                    "min_floor": null,
                    "facade_color": null,
                    "facade_material": null,
                    "roof_material": null,
                    "roof_shape": null,
                    "roof_direction": null,
                    "roof_orientation": null,
                    "roof_color": null,
                    "roof_height": null,
                    "style": {
                      "weight": 1
                    }
                  },
                  "geometry": {
                    "type": "Polygon",
                    "coordinates": [
                      [
                        [
                          -117.5994622,
                          47.6520131
                        ],
                        [
                          -117.5994633,
                          47.6519397
                        ],
                        [
                          -117.5994733,
                          47.6519397
                        ],
                        [
                          -117.5994741,
                          47.6518544
                        ],
                        [
                          -117.5993258,
                          47.6518565
                        ],
                        [
                          -117.599325,
                          47.6518469
                        ],
                        [
                          -117.5992295,
                          47.6518463
                        ],
                        [
                          -117.5992307,
                          47.6518585
                        ],
                        [
                          -117.5990254,
                          47.6518585
                        ],
                        [
                          -117.599025,
                          47.6518474
                        ],
                        [
                          -117.5989306,
                          47.6518463
                        ],
                        [
                          -117.5989314,
                          47.6518578
                        ],
                        [
                          -117.5988274,
                          47.6518583
                        ],
                        [
                          -117.5988274,
                          47.6518554
                        ],
                        [
                          -117.5987847,
                          47.6518559
                        ],
                        [
                          -117.5987847,
                          47.6519413
                        ],
                        [
                          -117.5989418,
                          47.6519405
                        ],
                        [
                          -117.598944,
                          47.6519988
                        ],
                        [
                          -117.5989948,
                          47.6519998
                        ],
                        [
                          -117.598994,
                          47.6520233
                        ],
                        [
                          -117.5990477,
                          47.652025
                        ],
                        [
                          -117.5990487,
                          47.6520118
                        ],
                        [
                          -117.5992094,
                          47.6520119
                        ],
                        [
                          -117.5992092,
                          47.6520235
                        ],
                        [
                          -117.5992658,
                          47.6520228
                        ],
                        [
                          -117.5992646,
                          47.6519992
                        ],
                        [
                          -117.5992976,
                          47.652
                        ],
                        [
                          -117.5992971,
                          47.6520233
                        ],
                        [
                          -117.5993535,
                          47.6520232
                        ],
                        [
                          -117.5993543,
                          47.652012
                        ],
                        [
                          -117.5994622,
                          47.6520131
                        ]
                      ]
                    ]
                  },
                  "bbox": [
                    -117.5994741,
                    47.6518463,
                    -117.5987847,
                    47.652025
                  ]
                },
                {
                  "id": "58",
                  "type": "Feature",
                  "properties": {
                    "id": "08b12db70374dfff0200e1176a270577",
                    "bbox": "{ \"xmin\": -117.59938049316406, \"xmax\": -117.59883117675781, \"ymin\": 47.652080535888672, \"ymax\": 47.652133941650391 }",
                    "theme": "buildings",
                    "type": "building",
                    "version": 0,
                    "sources": "[{'property': '', 'dataset': 'Microsoft ML Buildings', 'record_id': None, 'update_time': '2022-08-15T00:00:00.000Z', 'confidence': None}]",
                    "level": null,
                    "subtype": null,
                    "class": null,
                    "height": null,
                    "names": null,
                    "has_parts": false,
                    "is_underground": false,
                    "num_floors": null,
                    "num_floors_underground": null,
                    "min_height": null,
                    "min_floor": null,
                    "facade_color": null,
                    "facade_material": null,
                    "roof_material": null,
                    "roof_shape": null,
                    "roof_direction": null,
                    "roof_orientation": null,
                    "roof_color": null,
                    "roof_height": null,
                    "style": {
                      "weight": 1
                    }
                  },
                  "geometry": {
                    "type": "Polygon",
                    "coordinates": [
                      [
                        [
                          -117.59883247414224,
                          47.65212661099333
                        ],
                        [
                          -117.59936601921207,
                          47.652133805272236
                        ],
                        [
                          -117.5993673655947,
                          47.65208865298347
                        ],
                        [
                          -117.59883382052487,
                          47.65208145869833
                        ],
                        [
                          -117.59883247414224,
                          47.65212661099333
                        ]
                      ]
                    ]
                  },
                  "bbox": [
                    -117.5993673655947,
                    47.65208145869833,
                    -117.59883247414224,
                    47.652133805272236
                  ]
                },
                {
                  "id": "59",
                  "type": "Feature",
                  "properties": {
                    "id": "08b12db70376afff02002601916a592b",
                    "bbox": "{ \"xmin\": -117.60021209716797, \"xmax\": -117.60013580322266, \"ymin\": 47.652530670166016, \"ymax\": 47.652736663818359 }",
                    "theme": "buildings",
                    "type": "building",
                    "version": 0,
                    "sources": "[{'property': '', 'dataset': 'Microsoft ML Buildings', 'record_id': None, 'update_time': '2022-08-15T00:00:00.000Z', 'confidence': None}]",
                    "level": null,
                    "subtype": null,
                    "class": null,
                    "height": null,
                    "names": null,
                    "has_parts": false,
                    "is_underground": false,
                    "num_floors": null,
                    "num_floors_underground": null,
                    "min_height": null,
                    "min_floor": null,
                    "facade_color": null,
                    "facade_material": null,
                    "roof_material": null,
                    "roof_shape": null,
                    "roof_direction": null,
                    "roof_orientation": null,
                    "roof_color": null,
                    "roof_height": null,
                    "style": {
                      "weight": 1
                    }
                  },
                  "geometry": {
                    "type": "Polygon",
                    "coordinates": [
                      [
                        [
                          -117.6001383416246,
                          47.65273621839386
                        ],
                        [
                          -117.60021075870509,
                          47.65273592818877
                        ],
                        [
                          -117.60020900354223,
                          47.65253718727133
                        ],
                        [
                          -117.60013658646174,
                          47.65253747747752
                        ],
                        [
                          -117.6001383416246,
                          47.65273621839386
                        ]
                      ]
                    ]
                  },
                  "bbox": [
                    -117.60021075870509,
                    47.65253718727133,
                    -117.60013658646174,
                    47.65273621839386
                  ]
                },
                {
                  "id": "60",
                  "type": "Feature",
                  "properties": {
                    "id": "08b12db70376afff020084212428922c",
                    "bbox": "{ \"xmin\": -117.60002136230469, \"xmax\": -117.59993743896484, \"ymin\": 47.652469635009766, \"ymax\": 47.652637481689453 }",
                    "theme": "buildings",
                    "type": "building",
                    "version": 0,
                    "sources": "[{'property': '', 'dataset': 'Microsoft ML Buildings', 'record_id': None, 'update_time': '2022-08-15T00:00:00.000Z', 'confidence': None}]",
                    "level": null,
                    "subtype": null,
                    "class": null,
                    "height": null,
                    "names": null,
                    "has_parts": false,
                    "is_underground": false,
                    "num_floors": null,
                    "num_floors_underground": null,
                    "min_height": null,
                    "min_floor": null,
                    "facade_color": null,
                    "facade_material": null,
                    "roof_material": null,
                    "roof_shape": null,
                    "roof_direction": null,
                    "roof_orientation": null,
                    "roof_color": null,
                    "roof_height": null,
                    "style": {
                      "weight": 1
                    }
                  },
                  "geometry": {
                    "type": "Polygon",
                    "coordinates": [
                      [
                        [
                          -117.59994087581919,
                          47.65247127631726
                        ],
                        [
                          -117.59994645139386,
                          47.65263741723199
                        ],
                        [
                          -117.60001883404622,
                          47.65263631497482
                        ],
                        [
                          -117.60001325847153,
                          47.65247017405659
                        ],
                        [
                          -117.59994087581919,
                          47.65247127631726
                        ]
                      ]
                    ]
                  },
                  "bbox": [
                    -117.60001883404622,
                    47.65247017405659,
                    -117.59994087581919,
                    47.65263741723199
                  ]
                },
                {
                  "id": "61",
                  "type": "Feature",
                  "properties": {
                    "id": "08b12db70376afff0200704316b72fca",
                    "bbox": "{ \"xmin\": -117.59989929199219, \"xmax\": -117.59962463378906, \"ymin\": 47.652431488037109, \"ymax\": 47.652927398681641 }",
                    "theme": "buildings",
                    "type": "building",
                    "version": 0,
                    "sources": "[{'property': '', 'dataset': 'Microsoft ML Buildings', 'record_id': None, 'update_time': '2022-08-15T00:00:00.000Z', 'confidence': None}]",
                    "level": null,
                    "subtype": null,
                    "class": null,
                    "height": null,
                    "names": null,
                    "has_parts": false,
                    "is_underground": false,
                    "num_floors": null,
                    "num_floors_underground": null,
                    "min_height": null,
                    "min_floor": null,
                    "facade_color": null,
                    "facade_material": null,
                    "roof_material": null,
                    "roof_shape": null,
                    "roof_direction": null,
                    "roof_orientation": null,
                    "roof_color": null,
                    "roof_height": null,
                    "style": {
                      "weight": 1
                    }
                  },
                  "geometry": {
                    "type": "Polygon",
                    "coordinates": [
                      [
                        [
                          -117.59987693358082,
                          47.652437257099514
                        ],
                        [
                          -117.59962489328895,
                          47.652440417915194
                        ],
                        [
                          -117.59963832108065,
                          47.65292627816416
                        ],
                        [
                          -117.5998796362537,
                          47.65292325187945
                        ],
                        [
                          -117.59987624186772,
                          47.652800432608046
                        ],
                        [
                          -117.59984674779099,
                          47.65280080248817
                        ],
                        [
                          -117.59984614878171,
                          47.652779128469284
                        ],
                        [
                          -117.59987832413813,
                          47.65277872496352
                        ],
                        [
                          -117.59987418099051,
                          47.652628812752
                        ],
                        [
                          -117.59988758738899,
                          47.652628644624116
                        ],
                        [
                          -117.59988628953553,
                          47.65258168408366
                        ],
                        [
                          -117.59984607034002,
                          47.65258218846775
                        ],
                        [
                          -117.59984547133074,
                          47.652560514358115
                        ],
                        [
                          -117.59988032796683,
                          47.65256007722506
                        ],
                        [
                          -117.59987693358082,
                          47.652437257099514
                        ]
                      ]
                    ]
                  },
                  "bbox": [
                    -117.59988758738899,
                    47.652437257099514,
                    -117.59962489328895,
                    47.65292627816416
                  ]
                },
                {
                  "id": "62",
                  "type": "Feature",
                  "properties": {
                    "id": "08b12db70376afff0200d3217813c939",
                    "bbox": "{ \"xmin\": -117.60002136230469, \"xmax\": -117.59992980957031, \"ymin\": 47.652679443359375, \"ymax\": 47.652847290039062 }",
                    "theme": "buildings",
                    "type": "building",
                    "version": 0,
                    "sources": "[{'property': '', 'dataset': 'Microsoft ML Buildings', 'record_id': None, 'update_time': '2022-08-15T00:00:00.000Z', 'confidence': None}]",
                    "level": null,
                    "subtype": null,
                    "class": null,
                    "height": null,
                    "names": null,
                    "has_parts": false,
                    "is_underground": false,
                    "num_floors": null,
                    "num_floors_underground": null,
                    "min_height": null,
                    "min_floor": null,
                    "facade_color": null,
                    "facade_material": null,
                    "roof_material": null,
                    "roof_shape": null,
                    "roof_direction": null,
                    "roof_orientation": null,
                    "roof_color": null,
                    "roof_height": null,
                    "style": {
                      "weight": 1
                    }
                  },
                  "geometry": {
                    "type": "Polygon",
                    "coordinates": [
                      [
                        [
                          -117.60001165530755,
                          47.65268696290248
                        ],
                        [
                          -117.59994198914394,
                          47.65268846391248
                        ],
                        [
                          -117.59994918815087,
                          47.65284007959618
                        ],
                        [
                          -117.5999920596362,
                          47.65283915590041
                        ],
                        [
                          -117.59999140980548,
                          47.65282547006852
                        ],
                        [
                          -117.60001820454372,
                          47.65282489402047
                        ],
                        [
                          -117.60001165530755,
                          47.65268696290248
                        ]
                      ]
                    ]
                  },
                  "bbox": [
                    -117.60001820454372,
                    47.65268696290248,
                    -117.59994198914394,
                    47.65284007959618
                  ]
                },
                {
                  "id": "63",
                  "type": "Feature",
                  "properties": {
                    "id": "08b12db703745fff020049123a2c0b99",
                    "bbox": "{ \"xmin\": -117.60051727294922, \"xmax\": -117.60025024414062, \"ymin\": 47.652923583984375, \"ymax\": 47.652984619140625 }",
                    "theme": "buildings",
                    "type": "building",
                    "version": 0,
                    "sources": "[{'property': '', 'dataset': 'Microsoft ML Buildings', 'record_id': None, 'update_time': '2022-08-15T00:00:00.000Z', 'confidence': None}]",
                    "level": null,
                    "subtype": null,
                    "class": null,
                    "height": null,
                    "names": null,
                    "has_parts": false,
                    "is_underground": false,
                    "num_floors": null,
                    "num_floors_underground": null,
                    "min_height": null,
                    "min_floor": null,
                    "facade_color": null,
                    "facade_material": null,
                    "roof_material": null,
                    "roof_shape": null,
                    "roof_direction": null,
                    "roof_orientation": null,
                    "roof_color": null,
                    "roof_height": null,
                    "style": {
                      "weight": 1
                    }
                  },
                  "geometry": {
                    "type": "Polygon",
                    "coordinates": [
                      [
                        [
                          -117.60050235756458,
                          47.652932233110796
                        ],
                        [
                          -117.6002636983185,
                          47.65292973521276
                        ],
                        [
                          -117.60026263752638,
                          47.65297593331922
                        ],
                        [
                          -117.60050129703079,
                          47.65297841996595
                        ],
                        [
                          -117.60050235756458,
                          47.652932233110796
                        ]
                      ]
                    ]
                  },
                  "bbox": [
                    -117.60050235756458,
                    47.65292973521276,
                    -117.60026263752638,
                    47.65297841996595
                  ]
                },
                {
                  "id": "64",
                  "type": "Feature",
                  "properties": {
                    "id": "08b12db70376efff02008d35dedc2641",
                    "bbox": "{ \"xmin\": -117.60024261474609, \"xmax\": -117.60000610351562, \"ymin\": 47.652923583984375, \"ymax\": 47.652980804443359 }",
                    "theme": "buildings",
                    "type": "building",
                    "version": 0,
                    "sources": "[{'property': '', 'dataset': 'Microsoft ML Buildings', 'record_id': None, 'update_time': '2022-08-15T00:00:00.000Z', 'confidence': None}]",
                    "level": null,
                    "subtype": null,
                    "class": null,
                    "height": null,
                    "names": null,
                    "has_parts": false,
                    "is_underground": false,
                    "num_floors": null,
                    "num_floors_underground": null,
                    "min_height": null,
                    "min_floor": null,
                    "facade_color": null,
                    "facade_material": null,
                    "roof_material": null,
                    "roof_shape": null,
                    "roof_direction": null,
                    "roof_orientation": null,
                    "roof_color": null,
                    "roof_height": null,
                    "style": {
                      "weight": 1
                    }
                  },
                  "geometry": {
                    "type": "Polygon",
                    "coordinates": [
                      [
                        [
                          -117.6002275879674,
                          47.65293201941109
                        ],
                        [
                          -117.60000768309929,
                          47.65293012213994
                        ],
                        [
                          -117.60000677073717,
                          47.652977846003026
                        ],
                        [
                          -117.60022667540709,
                          47.65297975363832
                        ],
                        [
                          -117.6002275879674,
                          47.65293201941109
                        ]
                      ]
                    ]
                  },
                  "bbox": [
                    -117.6002275879674,
                    47.65293012213994,
                    -117.60000677073717,
                    47.65297975363832
                  ]
                },
                {
                  "id": "65",
                  "type": "Feature",
                  "properties": {
                    "id": "08b12db70376efff02002f52e6df9cfa",
                    "bbox": "{ \"xmin\": -117.60055541992188, \"xmax\": -117.59979248046875, \"ymin\": 47.653026580810547, \"ymax\": 47.653228759765625 }",
                    "theme": "buildings",
                    "type": "building",
                    "version": 0,
                    "sources": "[{'property': '', 'dataset': 'Microsoft ML Buildings', 'record_id': None, 'update_time': '2022-08-15T00:00:00.000Z', 'confidence': None}]",
                    "level": null,
                    "subtype": null,
                    "class": null,
                    "height": null,
                    "names": null,
                    "has_parts": false,
                    "is_underground": false,
                    "num_floors": null,
                    "num_floors_underground": null,
                    "min_height": null,
                    "min_floor": null,
                    "facade_color": null,
                    "facade_material": null,
                    "roof_material": null,
                    "roof_shape": null,
                    "roof_direction": null,
                    "roof_orientation": null,
                    "roof_color": null,
                    "roof_height": null,
                    "style": {
                      "weight": 1
                    }
                  },
                  "geometry": {
                    "type": "Polygon",
                    "coordinates": [
                      [
                        [
                          -117.5998270924886,
                          47.65322298538444
                        ],
                        [
                          -117.60054135355371,
                          47.653184495695065
                        ],
                        [
                          -117.60052323114594,
                          47.65303189569155
                        ],
                        [
                          -117.60033546647016,
                          47.6530420138787
                        ],
                        [
                          -117.60033427921535,
                          47.653032007814005
                        ],
                        [
                          -117.60010094735,
                          47.65304457050655
                        ],
                        [
                          -117.60009902849615,
                          47.65302841274705
                        ],
                        [
                          -117.60002853118249,
                          47.6530322083547
                        ],
                        [
                          -117.60003185033133,
                          47.65306018180355
                        ],
                        [
                          -117.59999986831465,
                          47.653061905236775
                        ],
                        [
                          -117.59999646000344,
                          47.65303318033706
                        ],
                        [
                          -117.59980577200889,
                          47.65304345605456
                        ],
                        [
                          -117.5998270924886,
                          47.65322298538444
                        ]
                      ]
                    ]
                  },
                  "bbox": [
                    -117.60054135355371,
                    47.65302841274705,
                    -117.59980577200889,
                    47.65322298538444
                  ]
                },
                {
                  "id": "66",
                  "type": "Feature",
                  "properties": {
                    "id": "08b12db70376bfff02008e76c82d7d3d",
                    "bbox": "{ \"xmin\": -117.59939575195312, \"xmax\": -117.59911346435547, \"ymin\": 47.652301788330078, \"ymax\": 47.652774810791016 }",
                    "theme": "buildings",
                    "type": "building",
                    "version": 0,
                    "sources": "[{'property': '', 'dataset': 'OpenStreetMap', 'record_id': 'w656323735@1', 'update_time': '2018-12-19T19:41:07.000Z', 'confidence': None}]",
                    "level": null,
                    "subtype": null,
                    "class": null,
                    "height": null,
                    "names": null,
                    "has_parts": false,
                    "is_underground": false,
                    "num_floors": null,
                    "num_floors_underground": null,
                    "min_height": null,
                    "min_floor": null,
                    "facade_color": null,
                    "facade_material": null,
                    "roof_material": null,
                    "roof_shape": null,
                    "roof_direction": null,
                    "roof_orientation": null,
                    "roof_color": null,
                    "roof_height": null,
                    "style": {
                      "weight": 1
                    }
                  },
                  "geometry": {
                    "type": "Polygon",
                    "coordinates": [
                      [
                        [
                          -117.5992405,
                          47.6523048
                        ],
                        [
                          -117.5992409,
                          47.6524093
                        ],
                        [
                          -117.599153,
                          47.6524114
                        ],
                        [
                          -117.5991566,
                          47.652445
                        ],
                        [
                          -117.5991164,
                          47.6524462
                        ],
                        [
                          -117.5991204,
                          47.6524807
                        ],
                        [
                          -117.5991355,
                          47.6524814
                        ],
                        [
                          -117.5991357,
                          47.6525909
                        ],
                        [
                          -117.599118,
                          47.6525912
                        ],
                        [
                          -117.5991189,
                          47.6526267
                        ],
                        [
                          -117.5991551,
                          47.6526252
                        ],
                        [
                          -117.5991569,
                          47.6526505
                        ],
                        [
                          -117.5991189,
                          47.6526517
                        ],
                        [
                          -117.5991211,
                          47.6526874
                        ],
                        [
                          -117.5991352,
                          47.6526877
                        ],
                        [
                          -117.5991349,
                          47.6527617
                        ],
                        [
                          -117.599241,
                          47.6527629
                        ],
                        [
                          -117.5992415,
                          47.6527584
                        ],
                        [
                          -117.5993008,
                          47.652759
                        ],
                        [
                          -117.5993008,
                          47.6527665
                        ],
                        [
                          -117.5993691,
                          47.6527676
                        ],
                        [
                          -117.5993704,
                          47.6527385
                        ],
                        [
                          -117.5993665,
                          47.6527384
                        ],
                        [
                          -117.5993659,
                          47.652672
                        ],
                        [
                          -117.5993813,
                          47.6526716
                        ],
                        [
                          -117.599382,
                          47.6526074
                        ],
                        [
                          -117.5993665,
                          47.652607
                        ],
                        [
                          -117.5993665,
                          47.6524678
                        ],
                        [
                          -117.5993813,
                          47.6524678
                        ],
                        [
                          -117.5993826,
                          47.6524028
                        ],
                        [
                          -117.5993665,
                          47.6524028
                        ],
                        [
                          -117.5993665,
                          47.652335
                        ],
                        [
                          -117.5993719,
                          47.6523355
                        ],
                        [
                          -117.5993712,
                          47.6523034
                        ],
                        [
                          -117.5992405,
                          47.6523048
                        ]
                      ]
                    ]
                  },
                  "bbox": [
                    -117.5993826,
                    47.6523034,
                    -117.5991164,
                    47.6527676
                  ]
                },
                {
                  "id": "67",
                  "type": "Feature",
                  "properties": {
                    "id": "08b12db7032b0fff02008a5acd7011d8",
                    "bbox": "{ \"xmin\": -117.59866333007812, \"xmax\": -117.59811401367188, \"ymin\": 47.652076721191406, \"ymax\": 47.652137756347656 }",
                    "theme": "buildings",
                    "type": "building",
                    "version": 0,
                    "sources": "[{'property': '', 'dataset': 'Microsoft ML Buildings', 'record_id': None, 'update_time': '2022-08-15T00:00:00.000Z', 'confidence': None}]",
                    "level": null,
                    "subtype": null,
                    "class": null,
                    "height": null,
                    "names": null,
                    "has_parts": false,
                    "is_underground": false,
                    "num_floors": null,
                    "num_floors_underground": null,
                    "min_height": null,
                    "min_floor": null,
                    "facade_color": null,
                    "facade_material": null,
                    "roof_material": null,
                    "roof_shape": null,
                    "roof_direction": null,
                    "roof_orientation": null,
                    "roof_color": null,
                    "roof_height": null,
                    "style": {
                      "weight": 1
                    }
                  },
                  "geometry": {
                    "type": "Polygon",
                    "coordinates": [
                      [
                        [
                          -117.59866204147411,
                          47.65212923808938
                        ],
                        [
                          -117.59866181620718,
                          47.652084068162566
                        ],
                        [
                          -117.59812917500284,
                          47.652085298661795
                        ],
                        [
                          -117.59812940496275,
                          47.65213046857671
                        ],
                        [
                          -117.59866204147411,
                          47.65212923808938
                        ]
                      ]
                    ]
                  },
                  "bbox": [
                    -117.59866204147411,
                    47.652084068162566,
                    -117.59812917500284,
                    47.65213046857671
                  ]
                },
                {
                  "id": "68",
                  "type": "Feature",
                  "properties": {
                    "id": "08b12db70376bfff0200a8cffe9fae0c",
                    "bbox": "{ \"xmin\": -117.59906768798828, \"xmax\": -117.59898376464844, \"ymin\": 47.652374267578125, \"ymax\": 47.652534484863281 }",
                    "theme": "buildings",
                    "type": "building",
                    "version": 0,
                    "sources": "[{'property': '', 'dataset': 'Microsoft ML Buildings', 'record_id': None, 'update_time': '2022-08-15T00:00:00.000Z', 'confidence': None}]",
                    "level": null,
                    "subtype": null,
                    "class": null,
                    "height": null,
                    "names": null,
                    "has_parts": false,
                    "is_underground": false,
                    "num_floors": null,
                    "num_floors_underground": null,
                    "min_height": null,
                    "min_floor": null,
                    "facade_color": null,
                    "facade_material": null,
                    "roof_material": null,
                    "roof_shape": null,
                    "roof_direction": null,
                    "roof_orientation": null,
                    "roof_color": null,
                    "roof_height": null,
                    "style": {
                      "weight": 1
                    }
                  },
                  "geometry": {
                    "type": "Polygon",
                    "coordinates": [
                      [
                        [
                          -117.59898528971367,
                          47.652527580786995
                        ],
                        [
                          -117.59906037002764,
                          47.652528437407106
                        ],
                        [
                          -117.59906406661655,
                          47.65238141751594
                        ],
                        [
                          -117.59898898621358,
                          47.652380564432185
                        ],
                        [
                          -117.59898528971367,
                          47.652527580786995
                        ]
                      ]
                    ]
                  },
                  "bbox": [
                    -117.59906406661655,
                    47.652380564432185,
                    -117.59898528971367,
                    47.652528437407106
                  ]
                },
                {
                  "id": "69",
                  "type": "Feature",
                  "properties": {
                    "id": "08b12db7032b6fff02002d1198f1708f",
                    "bbox": "{ \"xmin\": -117.59888458251953, \"xmax\": -117.59879302978516, \"ymin\": 47.652378082275391, \"ymax\": 47.652534484863281 }",
                    "theme": "buildings",
                    "type": "building",
                    "version": 0,
                    "sources": "[{'property': '', 'dataset': 'Microsoft ML Buildings', 'record_id': None, 'update_time': '2022-08-15T00:00:00.000Z', 'confidence': None}]",
                    "level": null,
                    "subtype": null,
                    "class": null,
                    "height": null,
                    "names": null,
                    "has_parts": false,
                    "is_underground": false,
                    "num_floors": null,
                    "num_floors_underground": null,
                    "min_height": null,
                    "min_floor": null,
                    "facade_color": null,
                    "facade_material": null,
                    "roof_material": null,
                    "roof_shape": null,
                    "roof_direction": null,
                    "roof_orientation": null,
                    "roof_color": null,
                    "roof_height": null,
                    "style": {
                      "weight": 1
                    }
                  },
                  "geometry": {
                    "type": "Polygon",
                    "coordinates": [
                      [
                        [
                          -117.59879638090061,
                          47.652528597088796
                        ],
                        [
                          -117.59887032021754,
                          47.65252822060525
                        ],
                        [
                          -117.5988686780966,
                          47.65238187769392
                        ],
                        [
                          -117.59879472357574,
                          47.65238225425595
                        ],
                        [
                          -117.59879638090061,
                          47.652528597088796
                        ]
                      ]
                    ]
                  },
                  "bbox": [
                    -117.59887032021754,
                    47.65238187769392,
                    -117.59879472357574,
                    47.652528597088796
                  ]
                },
                {
                  "id": "70",
                  "type": "Feature",
                  "properties": {
                    "id": "08b12db7032b6fff02003ed7d7be6838",
                    "bbox": "{ \"xmin\": -117.59870147705078, \"xmax\": -117.59834289550781, \"ymin\": 47.652271270751953, \"ymax\": 47.652408599853516 }",
                    "theme": "buildings",
                    "type": "building",
                    "version": 0,
                    "sources": "[{'property': '', 'dataset': 'OpenStreetMap', 'record_id': 'w656323737@1', 'update_time': '2018-12-19T19:41:07.000Z', 'confidence': None}\n {'property': 'properties/height', 'dataset': 'Microsoft ML Buildings', 'record_id': None, 'update_time': None, 'confidence': None}]",
                    "level": null,
                    "subtype": null,
                    "class": null,
                    "height": 4.1280107,
                    "names": null,
                    "has_parts": false,
                    "is_underground": false,
                    "num_floors": null,
                    "num_floors_underground": null,
                    "min_height": null,
                    "min_floor": null,
                    "facade_color": null,
                    "facade_material": null,
                    "roof_material": null,
                    "roof_shape": null,
                    "roof_direction": null,
                    "roof_orientation": null,
                    "roof_color": null,
                    "roof_height": null,
                    "style": {
                      "weight": 1
                    }
                  },
                  "geometry": {
                    "type": "Polygon",
                    "coordinates": [
                      [
                        [
                          -117.5986827,
                          47.6524065
                        ],
                        [
                          -117.5986825,
                          47.6523757
                        ],
                        [
                          -117.5986863,
                          47.6523757
                        ],
                        [
                          -117.5986863,
                          47.6523419
                        ],
                        [
                          -117.5986819,
                          47.6523419
                        ],
                        [
                          -117.598682,
                          47.6523153
                        ],
                        [
                          -117.5986086,
                          47.6523152
                        ],
                        [
                          -117.5986086,
                          47.6523046
                        ],
                        [
                          -117.5985317,
                          47.6523045
                        ],
                        [
                          -117.5985317,
                          47.6522818
                        ],
                        [
                          -117.5985,
                          47.6522818
                        ],
                        [
                          -117.5985001,
                          47.6522781
                        ],
                        [
                          -117.5984596,
                          47.6522782
                        ],
                        [
                          -117.5984596,
                          47.6522827
                        ],
                        [
                          -117.5984344,
                          47.6522827
                        ],
                        [
                          -117.5984345,
                          47.6523073
                        ],
                        [
                          -117.5983442,
                          47.6523075
                        ],
                        [
                          -117.5983447,
                          47.6524073
                        ],
                        [
                          -117.5986827,
                          47.6524065
                        ]
                      ]
                    ]
                  },
                  "bbox": [
                    -117.5986863,
                    47.6522781,
                    -117.5983442,
                    47.6524073
                  ]
                },
                {
                  "id": "71",
                  "type": "Feature",
                  "properties": {
                    "id": "08b12db7032b0fff0200321f41773d4a",
                    "bbox": "{ \"xmin\": -117.59864044189453, \"xmax\": -117.59794616699219, \"ymin\": 47.651844024658203, \"ymax\": 47.652030944824219 }",
                    "theme": "buildings",
                    "type": "building",
                    "version": 0,
                    "sources": "[{'property': '', 'dataset': 'OpenStreetMap', 'record_id': 'w656323738@1', 'update_time': '2018-12-19T19:41:07.000Z', 'confidence': None}\n {'property': 'properties/height', 'dataset': 'Microsoft ML Buildings', 'record_id': None, 'update_time': None, 'confidence': None}]",
                    "level": null,
                    "subtype": null,
                    "class": null,
                    "height": 5.912978,
                    "names": null,
                    "has_parts": false,
                    "is_underground": false,
                    "num_floors": null,
                    "num_floors_underground": null,
                    "min_height": null,
                    "min_floor": null,
                    "facade_color": null,
                    "facade_material": null,
                    "roof_material": null,
                    "roof_shape": null,
                    "roof_direction": null,
                    "roof_orientation": null,
                    "roof_color": null,
                    "roof_height": null,
                    "style": {
                      "weight": 1
                    }
                  },
                  "geometry": {
                    "type": "Polygon",
                    "coordinates": [
                      [
                        [
                          -117.5986195,
                          47.6520112
                        ],
                        [
                          -117.5986166,
                          47.6519377
                        ],
                        [
                          -117.5986393,
                          47.6519377
                        ],
                        [
                          -117.5986325,
                          47.6518538
                        ],
                        [
                          -117.5985876,
                          47.6518547
                        ],
                        [
                          -117.5985876,
                          47.6518586
                        ],
                        [
                          -117.5984863,
                          47.6518572
                        ],
                        [
                          -117.5984863,
                          47.6518464
                        ],
                        [
                          -117.5983901,
                          47.6518459
                        ],
                        [
                          -117.5983901,
                          47.6518572
                        ],
                        [
                          -117.5981845,
                          47.6518565
                        ],
                        [
                          -117.5981838,
                          47.6518468
                        ],
                        [
                          -117.5980893,
                          47.6518459
                        ],
                        [
                          -117.5980899,
                          47.6518565
                        ],
                        [
                          -117.5980008,
                          47.6518561
                        ],
                        [
                          -117.5980001,
                          47.651852
                        ],
                        [
                          -117.5979582,
                          47.6518522
                        ],
                        [
                          -117.5979599,
                          47.6519381
                        ],
                        [
                          -117.5980977,
                          47.6519381
                        ],
                        [
                          -117.5981014,
                          47.6519986
                        ],
                        [
                          -117.598153,
                          47.6519996
                        ],
                        [
                          -117.5981522,
                          47.652023
                        ],
                        [
                          -117.5982084,
                          47.652023
                        ],
                        [
                          -117.5982084,
                          47.6520116
                        ],
                        [
                          -117.5983679,
                          47.6520116
                        ],
                        [
                          -117.5983679,
                          47.6520235
                        ],
                        [
                          -117.5984241,
                          47.6520225
                        ],
                        [
                          -117.5984244,
                          47.6519993
                        ],
                        [
                          -117.5984565,
                          47.6519993
                        ],
                        [
                          -117.5984557,
                          47.652023
                        ],
                        [
                          -117.5985135,
                          47.652023
                        ],
                        [
                          -117.5985136,
                          47.6520112
                        ],
                        [
                          -117.5986195,
                          47.6520112
                        ]
                      ]
                    ]
                  },
                  "bbox": [
                    -117.5986393,
                    47.6518459,
                    -117.5979582,
                    47.6520235
                  ]
                },
                {
                  "id": "72",
                  "type": "Feature",
                  "properties": {
                    "id": "08b12db703769fff02006d7f7171c50a",
                    "bbox": "{ \"xmin\": -117.59907531738281, \"xmax\": -117.59898376464844, \"ymin\": 47.652599334716797, \"ymax\": 47.652801513671875 }",
                    "theme": "buildings",
                    "type": "building",
                    "version": 0,
                    "sources": "[{'property': '', 'dataset': 'Microsoft ML Buildings', 'record_id': None, 'update_time': '2022-08-15T00:00:00.000Z', 'confidence': None}]",
                    "level": null,
                    "subtype": null,
                    "class": null,
                    "height": null,
                    "names": null,
                    "has_parts": false,
                    "is_underground": false,
                    "num_floors": null,
                    "num_floors_underground": null,
                    "min_height": null,
                    "min_floor": null,
                    "facade_color": null,
                    "facade_material": null,
                    "roof_material": null,
                    "roof_shape": null,
                    "roof_direction": null,
                    "roof_orientation": null,
                    "roof_color": null,
                    "roof_height": null,
                    "style": {
                      "weight": 1
                    }
                  },
                  "geometry": {
                    "type": "Polygon",
                    "coordinates": [
                      [
                        [
                          -117.59899000698078,
                          47.65279969026813
                        ],
                        [
                          -117.59907313061888,
                          47.65279872228886
                        ],
                        [
                          -117.59906805977913,
                          47.652601129447675
                        ],
                        [
                          -117.59898493624156,
                          47.65260210134839
                        ],
                        [
                          -117.59899000698078,
                          47.65279969026813
                        ]
                      ]
                    ]
                  },
                  "bbox": [
                    -117.59907313061888,
                    47.652601129447675,
                    -117.59898493624156,
                    47.65279969026813
                  ]
                },
                {
                  "id": "73",
                  "type": "Feature",
                  "properties": {
                    "id": "08b12db703769fff0200fd11ca18afa4",
                    "bbox": "{ \"xmin\": -117.59888458251953, \"xmax\": -117.59879302978516, \"ymin\": 47.652599334716797, \"ymax\": 47.652843475341797 }",
                    "theme": "buildings",
                    "type": "building",
                    "version": 0,
                    "sources": "[{'property': '', 'dataset': 'Microsoft ML Buildings', 'record_id': None, 'update_time': '2022-08-15T00:00:00.000Z', 'confidence': None}]",
                    "level": null,
                    "subtype": null,
                    "class": null,
                    "height": null,
                    "names": null,
                    "has_parts": false,
                    "is_underground": false,
                    "num_floors": null,
                    "num_floors_underground": null,
                    "min_height": null,
                    "min_floor": null,
                    "facade_color": null,
                    "facade_material": null,
                    "roof_material": null,
                    "roof_shape": null,
                    "roof_direction": null,
                    "roof_orientation": null,
                    "roof_color": null,
                    "roof_height": null,
                    "style": {
                      "weight": 1
                    }
                  },
                  "geometry": {
                    "type": "Polygon",
                    "coordinates": [
                      [
                        [
                          -117.59879829628782,
                          47.652836555629825
                        ],
                        [
                          -117.59887070735456,
                          47.652836023063365
                        ],
                        [
                          -117.59886690735388,
                          47.65260006213423
                        ],
                        [
                          -117.59879449623217,
                          47.65260059128957
                        ],
                        [
                          -117.59879829628782,
                          47.652836555629825
                        ]
                      ]
                    ]
                  },
                  "bbox": [
                    -117.59887070735456,
                    47.65260006213423,
                    -117.59879449623217,
                    47.652836555629825
                  ]
                },
                {
                  "id": "74",
                  "type": "Feature",
                  "properties": {
                    "id": "08b12db703769fff02009ad684225427",
                    "bbox": "{ \"xmin\": -117.59868621826172, \"xmax\": -117.59841156005859, \"ymin\": 47.652492523193359, \"ymax\": 47.652965545654297 }",
                    "theme": "buildings",
                    "type": "building",
                    "version": 0,
                    "sources": "[{'property': '', 'dataset': 'OpenStreetMap', 'record_id': 'w656323739@1', 'update_time': '2018-12-19T19:41:07.000Z', 'confidence': None}]",
                    "level": null,
                    "subtype": null,
                    "class": null,
                    "height": null,
                    "names": null,
                    "has_parts": false,
                    "is_underground": false,
                    "num_floors": null,
                    "num_floors_underground": null,
                    "min_height": null,
                    "min_floor": null,
                    "facade_color": null,
                    "facade_material": null,
                    "roof_material": null,
                    "roof_shape": null,
                    "roof_direction": null,
                    "roof_orientation": null,
                    "roof_color": null,
                    "roof_height": null,
                    "style": {
                      "weight": 1
                    }
                  },
                  "geometry": {
                    "type": "Polygon",
                    "coordinates": [
                      [
                        [
                          -117.5985528,
                          47.6529651
                        ],
                        [
                          -117.5985525,
                          47.6528529
                        ],
                        [
                          -117.5986365,
                          47.6528528
                        ],
                        [
                          -117.5986364,
                          47.6528206
                        ],
                        [
                          -117.5986726,
                          47.6528206
                        ],
                        [
                          -117.5986726,
                          47.6527892
                        ],
                        [
                          -117.5986557,
                          47.6527892
                        ],
                        [
                          -117.5986555,
                          47.6526785
                        ],
                        [
                          -117.598674,
                          47.6526785
                        ],
                        [
                          -117.5986739,
                          47.6526417
                        ],
                        [
                          -117.59864,
                          47.6526417
                        ],
                        [
                          -117.59864,
                          47.6526246
                        ],
                        [
                          -117.5986837,
                          47.6526245
                        ],
                        [
                          -117.5986836,
                          47.6525821
                        ],
                        [
                          -117.5986684,
                          47.6525821
                        ],
                        [
                          -117.5986683,
                          47.6525075
                        ],
                        [
                          -117.5985519,
                          47.6525077
                        ],
                        [
                          -117.5985519,
                          47.6524998
                        ],
                        [
                          -117.5984233,
                          47.6524999
                        ],
                        [
                          -117.5984234,
                          47.6525289
                        ],
                        [
                          -117.5984304,
                          47.6525289
                        ],
                        [
                          -117.5984306,
                          47.6526011
                        ],
                        [
                          -117.5984137,
                          47.6526012
                        ],
                        [
                          -117.5984139,
                          47.6526645
                        ],
                        [
                          -117.5984297,
                          47.6526645
                        ],
                        [
                          -117.59843,
                          47.6528034
                        ],
                        [
                          -117.5984126,
                          47.6528035
                        ],
                        [
                          -117.5984127,
                          47.6528678
                        ],
                        [
                          -117.5984291,
                          47.6528677
                        ],
                        [
                          -117.5984293,
                          47.6529353
                        ],
                        [
                          -117.5984242,
                          47.6529353
                        ],
                        [
                          -117.5984243,
                          47.6529652
                        ],
                        [
                          -117.5985528,
                          47.6529651
                        ]
                      ]
                    ]
                  },
                  "bbox": [
                    -117.5986837,
                    47.6524998,
                    -117.5984126,
                    47.6529652
                  ]
                },
                {
                  "id": "75",
                  "type": "Feature",
                  "properties": {
                    "id": "08b12db703775fff020097a245f144b2",
                    "bbox": "{ \"xmin\": -117.60179901123047, \"xmax\": -117.60163116455078, \"ymin\": 47.653526306152344, \"ymax\": 47.653743743896484 }",
                    "theme": "buildings",
                    "type": "building",
                    "version": 0,
                    "sources": "[{'property': '', 'dataset': 'OpenStreetMap', 'record_id': 'w1239292775@1', 'update_time': '2024-01-13T05:03:43.000Z', 'confidence': None}]",
                    "level": null,
                    "subtype": "residential",
                    "class": "terrace",
                    "height": null,
                    "names": null,
                    "has_parts": false,
                    "is_underground": false,
                    "num_floors": null,
                    "num_floors_underground": null,
                    "min_height": null,
                    "min_floor": null,
                    "facade_color": null,
                    "facade_material": null,
                    "roof_material": null,
                    "roof_shape": null,
                    "roof_direction": null,
                    "roof_orientation": null,
                    "roof_color": null,
                    "roof_height": null,
                    "style": {
                      "weight": 1
                    }
                  },
                  "geometry": {
                    "type": "Polygon",
                    "coordinates": [
                      [
                        [
                          -117.6017981,
                          47.6535321
                        ],
                        [
                          -117.6016525,
                          47.6535322
                        ],
                        [
                          -117.6016526,
                          47.6535732
                        ],
                        [
                          -117.6016705,
                          47.6535732
                        ],
                        [
                          -117.6016705,
                          47.6535769
                        ],
                        [
                          -117.6016458,
                          47.653577
                        ],
                        [
                          -117.6016459,
                          47.6536176
                        ],
                        [
                          -117.6016853,
                          47.6536176
                        ],
                        [
                          -117.6016853,
                          47.6536354
                        ],
                        [
                          -117.6016522,
                          47.6536354
                        ],
                        [
                          -117.6016522,
                          47.6536736
                        ],
                        [
                          -117.6016707,
                          47.6536736
                        ],
                        [
                          -117.6016707,
                          47.6536776
                        ],
                        [
                          -117.6016458,
                          47.6536777
                        ],
                        [
                          -117.6016458,
                          47.6537185
                        ],
                        [
                          -117.6016855,
                          47.6537184
                        ],
                        [
                          -117.6016856,
                          47.6537422
                        ],
                        [
                          -117.6017876,
                          47.6537421
                        ],
                        [
                          -117.6017876,
                          47.6537169
                        ],
                        [
                          -117.601798,
                          47.6537168
                        ],
                        [
                          -117.6017979,
                          47.6536355
                        ],
                        [
                          -117.6017885,
                          47.6536355
                        ],
                        [
                          -117.6017885,
                          47.6536177
                        ],
                        [
                          -117.6017982,
                          47.6536177
                        ],
                        [
                          -117.6017981,
                          47.6535321
                        ]
                      ]
                    ]
                  },
                  "bbox": [
                    -117.6017982,
                    47.6535321,
                    -117.6016458,
                    47.6537422
                  ]
                },
                {
                  "id": "76",
                  "type": "Feature",
                  "properties": {
                    "id": "08b12db703762fff0200633ad8a4f03f",
                    "bbox": "{ \"xmin\": -117.60120391845703, \"xmax\": -117.60103607177734, \"ymin\": 47.653526306152344, \"ymax\": 47.653743743896484 }",
                    "theme": "buildings",
                    "type": "building",
                    "version": 0,
                    "sources": "[{'property': '', 'dataset': 'OpenStreetMap', 'record_id': 'w1239292780@1', 'update_time': '2024-01-13T05:03:43.000Z', 'confidence': None}]",
                    "level": null,
                    "subtype": "residential",
                    "class": "terrace",
                    "height": null,
                    "names": null,
                    "has_parts": false,
                    "is_underground": false,
                    "num_floors": null,
                    "num_floors_underground": null,
                    "min_height": null,
                    "min_floor": null,
                    "facade_color": null,
                    "facade_material": null,
                    "roof_material": null,
                    "roof_shape": null,
                    "roof_direction": null,
                    "roof_orientation": null,
                    "roof_color": null,
                    "roof_height": null,
                    "style": {
                      "weight": 1
                    }
                  },
                  "geometry": {
                    "type": "Polygon",
                    "coordinates": [
                      [
                        [
                          -117.6010375,
                          47.653743
                        ],
                        [
                          -117.6011831,
                          47.6537429
                        ],
                        [
                          -117.6011831,
                          47.6537019
                        ],
                        [
                          -117.6011652,
                          47.6537019
                        ],
                        [
                          -117.6011652,
                          47.6536982
                        ],
                        [
                          -117.6011898,
                          47.6536982
                        ],
                        [
                          -117.6011898,
                          47.6536575
                        ],
                        [
                          -117.6011504,
                          47.6536575
                        ],
                        [
                          -117.6011503,
                          47.6536397
                        ],
                        [
                          -117.6011835,
                          47.6536397
                        ],
                        [
                          -117.6011834,
                          47.6536015
                        ],
                        [
                          -117.6011649,
                          47.6536015
                        ],
                        [
                          -117.6011649,
                          47.6535975
                        ],
                        [
                          -117.6011899,
                          47.6535974
                        ],
                        [
                          -117.6011898,
                          47.6535566
                        ],
                        [
                          -117.6011501,
                          47.6535567
                        ],
                        [
                          -117.6011501,
                          47.6535329
                        ],
                        [
                          -117.601048,
                          47.653533
                        ],
                        [
                          -117.6010481,
                          47.6535583
                        ],
                        [
                          -117.6010376,
                          47.6535583
                        ],
                        [
                          -117.6010378,
                          47.6536396
                        ],
                        [
                          -117.6010471,
                          47.6536396
                        ],
                        [
                          -117.6010472,
                          47.6536574
                        ],
                        [
                          -117.6010374,
                          47.6536574
                        ],
                        [
                          -117.6010375,
                          47.653743
                        ]
                      ]
                    ]
                  },
                  "bbox": [
                    -117.6011899,
                    47.6535329,
                    -117.6010374,
                    47.653743
                  ]
                },
                {
                  "id": "77",
                  "type": "Feature",
                  "properties": {
                    "id": "08b12db703760fff0200b14d7bdd73ad",
                    "bbox": "{ \"xmin\": -117.60073089599609, \"xmax\": -117.60057830810547, \"ymin\": 47.653553009033203, \"ymax\": 47.653656005859375 }",
                    "theme": "buildings",
                    "type": "building",
                    "version": 0,
                    "sources": "[{'property': '', 'dataset': 'OpenStreetMap', 'record_id': 'w1239292785@1', 'update_time': '2024-01-13T05:03:43.000Z', 'confidence': None}]",
                    "level": null,
                    "subtype": null,
                    "class": null,
                    "height": null,
                    "names": null,
                    "has_parts": false,
                    "is_underground": false,
                    "num_floors": null,
                    "num_floors_underground": null,
                    "min_height": null,
                    "min_floor": null,
                    "facade_color": null,
                    "facade_material": null,
                    "roof_material": null,
                    "roof_shape": null,
                    "roof_direction": null,
                    "roof_orientation": null,
                    "roof_color": null,
                    "roof_height": null,
                    "style": {
                      "weight": 1
                    }
                  },
                  "geometry": {
                    "type": "Polygon",
                    "coordinates": [
                      [
                        [
                          -117.6007157,
                          47.6536522
                        ],
                        [
                          -117.6007159,
                          47.6535535
                        ],
                        [
                          -117.60058,
                          47.6535534
                        ],
                        [
                          -117.6005798,
                          47.653652
                        ],
                        [
                          -117.6007157,
                          47.6536522
                        ]
                      ]
                    ]
                  },
                  "bbox": [
                    -117.6007159,
                    47.6535534,
                    -117.6005798,
                    47.6536522
                  ]
                },
                {
                  "id": "78",
                  "type": "Feature",
                  "properties": {
                    "id": "08b12db7030dbfff0200a6893b4af343",
                    "bbox": "{ \"xmin\": -117.60179901123047, \"xmax\": -117.60163116455078, \"ymin\": 47.653854370117188, \"ymax\": 47.654071807861328 }",
                    "theme": "buildings",
                    "type": "building",
                    "version": 0,
                    "sources": "[{'property': '', 'dataset': 'OpenStreetMap', 'record_id': 'w1239292776@1', 'update_time': '2024-01-13T05:03:43.000Z', 'confidence': None}]",
                    "level": null,
                    "subtype": "residential",
                    "class": "terrace",
                    "height": null,
                    "names": null,
                    "has_parts": false,
                    "is_underground": false,
                    "num_floors": null,
                    "num_floors_underground": null,
                    "min_height": null,
                    "min_floor": null,
                    "facade_color": null,
                    "facade_material": null,
                    "roof_material": null,
                    "roof_shape": null,
                    "roof_direction": null,
                    "roof_orientation": null,
                    "roof_color": null,
                    "roof_height": null,
                    "style": {
                      "weight": 1
                    }
                  },
                  "geometry": {
                    "type": "Polygon",
                    "coordinates": [
                      [
                        [
                          -117.6017975,
                          47.6538607
                        ],
                        [
                          -117.6016519,
                          47.6538607
                        ],
                        [
                          -117.6016519,
                          47.6539018
                        ],
                        [
                          -117.6016698,
                          47.6539018
                        ],
                        [
                          -117.6016698,
                          47.6539055
                        ],
                        [
                          -117.6016451,
                          47.6539055
                        ],
                        [
                          -117.6016452,
                          47.6539462
                        ],
                        [
                          -117.6016846,
                          47.6539462
                        ],
                        [
                          -117.6016847,
                          47.653964
                        ],
                        [
                          -117.6016515,
                          47.653964
                        ],
                        [
                          -117.6016516,
                          47.6540021
                        ],
                        [
                          -117.6016701,
                          47.6540021
                        ],
                        [
                          -117.6016701,
                          47.6540062
                        ],
                        [
                          -117.6016451,
                          47.6540062
                        ],
                        [
                          -117.6016452,
                          47.654047
                        ],
                        [
                          -117.6016849,
                          47.654047
                        ],
                        [
                          -117.6016849,
                          47.6540708
                        ],
                        [
                          -117.601787,
                          47.6540707
                        ],
                        [
                          -117.6017869,
                          47.6540454
                        ],
                        [
                          -117.6017974,
                          47.6540454
                        ],
                        [
                          -117.6017972,
                          47.653964
                        ],
                        [
                          -117.6017879,
                          47.653964
                        ],
                        [
                          -117.6017878,
                          47.6539463
                        ],
                        [
                          -117.6017975,
                          47.6539463
                        ],
                        [
                          -117.6017975,
                          47.6538607
                        ]
                      ]
                    ]
                  },
                  "bbox": [
                    -117.6017975,
                    47.6538607,
                    -117.6016451,
                    47.6540708
                  ]
                },
                {
                  "id": "79",
                  "type": "Feature",
                  "properties": {
                    "id": "08b12db703766fff02001d4f87de972c",
                    "bbox": "{ \"xmin\": -117.60120391845703, \"xmax\": -117.60103607177734, \"ymin\": 47.653854370117188, \"ymax\": 47.654079437255859 }",
                    "theme": "buildings",
                    "type": "building",
                    "version": 0,
                    "sources": "[{'property': '', 'dataset': 'OpenStreetMap', 'record_id': 'w1239292781@1', 'update_time': '2024-01-13T05:03:43.000Z', 'confidence': None}]",
                    "level": null,
                    "subtype": "residential",
                    "class": "terrace",
                    "height": null,
                    "names": null,
                    "has_parts": false,
                    "is_underground": false,
                    "num_floors": null,
                    "num_floors_underground": null,
                    "min_height": null,
                    "min_floor": null,
                    "facade_color": null,
                    "facade_material": null,
                    "roof_material": null,
                    "roof_shape": null,
                    "roof_direction": null,
                    "roof_orientation": null,
                    "roof_color": null,
                    "roof_height": null,
                    "style": {
                      "weight": 1
                    }
                  },
                  "geometry": {
                    "type": "Polygon",
                    "coordinates": [
                      [
                        [
                          -117.6010375,
                          47.6540719
                        ],
                        [
                          -117.6011831,
                          47.6540718
                        ],
                        [
                          -117.6011831,
                          47.6540307
                        ],
                        [
                          -117.6011652,
                          47.6540307
                        ],
                        [
                          -117.6011652,
                          47.654027
                        ],
                        [
                          -117.6011898,
                          47.654027
                        ],
                        [
                          -117.6011898,
                          47.6539863
                        ],
                        [
                          -117.6011503,
                          47.6539864
                        ],
                        [
                          -117.6011503,
                          47.6539686
                        ],
                        [
                          -117.6011835,
                          47.6539686
                        ],
                        [
                          -117.6011834,
                          47.6539304
                        ],
                        [
                          -117.6011649,
                          47.6539304
                        ],
                        [
                          -117.6011649,
                          47.6539263
                        ],
                        [
                          -117.6011899,
                          47.6539263
                        ],
                        [
                          -117.6011898,
                          47.6538855
                        ],
                        [
                          -117.6011501,
                          47.6538855
                        ],
                        [
                          -117.6011501,
                          47.6538618
                        ],
                        [
                          -117.601048,
                          47.6538619
                        ],
                        [
                          -117.6010481,
                          47.6538871
                        ],
                        [
                          -117.6010376,
                          47.6538871
                        ],
                        [
                          -117.6010378,
                          47.6539685
                        ],
                        [
                          -117.6010471,
                          47.6539685
                        ],
                        [
                          -117.6010472,
                          47.6539863
                        ],
                        [
                          -117.6010374,
                          47.6539863
                        ],
                        [
                          -117.6010375,
                          47.6540719
                        ]
                      ]
                    ]
                  },
                  "bbox": [
                    -117.6011899,
                    47.6538618,
                    -117.6010374,
                    47.6540719
                  ]
                },
                {
                  "id": "80",
                  "type": "Feature",
                  "properties": {
                    "id": "08b12db7030d8fff0200035a29d0734b",
                    "bbox": "{ \"xmin\": -117.60179901123047, \"xmax\": -117.60163116455078, \"ymin\": 47.654182434082031, \"ymax\": 47.654399871826172 }",
                    "theme": "buildings",
                    "type": "building",
                    "version": 0,
                    "sources": "[{'property': '', 'dataset': 'OpenStreetMap', 'record_id': 'w1239292777@1', 'update_time': '2024-01-13T05:03:43.000Z', 'confidence': None}]",
                    "level": null,
                    "subtype": "residential",
                    "class": "terrace",
                    "height": null,
                    "names": null,
                    "has_parts": false,
                    "is_underground": false,
                    "num_floors": null,
                    "num_floors_underground": null,
                    "min_height": null,
                    "min_floor": null,
                    "facade_color": null,
                    "facade_material": null,
                    "roof_material": null,
                    "roof_shape": null,
                    "roof_direction": null,
                    "roof_orientation": null,
                    "roof_color": null,
                    "roof_height": null,
                    "style": {
                      "weight": 1
                    }
                  },
                  "geometry": {
                    "type": "Polygon",
                    "coordinates": [
                      [
                        [
                          -117.6017983,
                          47.6541895
                        ],
                        [
                          -117.6016527,
                          47.6541896
                        ],
                        [
                          -117.6016528,
                          47.6542306
                        ],
                        [
                          -117.6016707,
                          47.6542306
                        ],
                        [
                          -117.6016707,
                          47.6542344
                        ],
                        [
                          -117.601646,
                          47.6542344
                        ],
                        [
                          -117.601646,
                          47.6542751
                        ],
                        [
                          -117.6016855,
                          47.654275
                        ],
                        [
                          -117.6016855,
                          47.6542928
                        ],
                        [
                          -117.6016524,
                          47.6542928
                        ],
                        [
                          -117.6016524,
                          47.654331
                        ],
                        [
                          -117.6016709,
                          47.654331
                        ],
                        [
                          -117.6016709,
                          47.6543351
                        ],
                        [
                          -117.601646,
                          47.6543351
                        ],
                        [
                          -117.601646,
                          47.6543759
                        ],
                        [
                          -117.6016857,
                          47.6543759
                        ],
                        [
                          -117.6016857,
                          47.6543996
                        ],
                        [
                          -117.6017878,
                          47.6543995
                        ],
                        [
                          -117.6017878,
                          47.6543743
                        ],
                        [
                          -117.6017982,
                          47.6543743
                        ],
                        [
                          -117.6017981,
                          47.6542929
                        ],
                        [
                          -117.6017887,
                          47.6542929
                        ],
                        [
                          -117.6017887,
                          47.6542751
                        ],
                        [
                          -117.6017984,
                          47.6542751
                        ],
                        [
                          -117.6017983,
                          47.6541895
                        ]
                      ]
                    ]
                  },
                  "bbox": [
                    -117.6017984,
                    47.6541895,
                    -117.601646,
                    47.6543996
                  ]
                },
                {
                  "id": "81",
                  "type": "Feature",
                  "properties": {
                    "id": "08b12db7030d9fff02000e84cf890aab",
                    "bbox": "{ \"xmin\": -117.60118865966797, \"xmax\": -117.60102081298828, \"ymin\": 47.654190063476562, \"ymax\": 47.654407501220703 }",
                    "theme": "buildings",
                    "type": "building",
                    "version": 0,
                    "sources": "[{'property': '', 'dataset': 'OpenStreetMap', 'record_id': 'w1239292782@1', 'update_time': '2024-01-13T05:03:43.000Z', 'confidence': None}]",
                    "level": null,
                    "subtype": "residential",
                    "class": "terrace",
                    "height": null,
                    "names": null,
                    "has_parts": false,
                    "is_underground": false,
                    "num_floors": null,
                    "num_floors_underground": null,
                    "min_height": null,
                    "min_floor": null,
                    "facade_color": null,
                    "facade_material": null,
                    "roof_material": null,
                    "roof_shape": null,
                    "roof_direction": null,
                    "roof_orientation": null,
                    "roof_color": null,
                    "roof_height": null,
                    "style": {
                      "weight": 1
                    }
                  },
                  "geometry": {
                    "type": "Polygon",
                    "coordinates": [
                      [
                        [
                          -117.6010359,
                          47.6544002
                        ],
                        [
                          -117.6011814,
                          47.6544001
                        ],
                        [
                          -117.6011814,
                          47.654359
                        ],
                        [
                          -117.6011635,
                          47.654359
                        ],
                        [
                          -117.6011635,
                          47.6543553
                        ],
                        [
                          -117.6011882,
                          47.6543553
                        ],
                        [
                          -117.6011881,
                          47.6543146
                        ],
                        [
                          -117.6011487,
                          47.6543146
                        ],
                        [
                          -117.6011486,
                          47.6542969
                        ],
                        [
                          -117.6011818,
                          47.6542968
                        ],
                        [
                          -117.6011817,
                          47.6542587
                        ],
                        [
                          -117.6011632,
                          47.6542587
                        ],
                        [
                          -117.6011632,
                          47.6542546
                        ],
                        [
                          -117.6011882,
                          47.6542546
                        ],
                        [
                          -117.6011881,
                          47.6542138
                        ],
                        [
                          -117.6011484,
                          47.6542138
                        ],
                        [
                          -117.6011484,
                          47.6541901
                        ],
                        [
                          -117.6010463,
                          47.6541901
                        ],
                        [
                          -117.6010464,
                          47.6542154
                        ],
                        [
                          -117.6010359,
                          47.6542154
                        ],
                        [
                          -117.6010361,
                          47.6542968
                        ],
                        [
                          -117.6010455,
                          47.6542968
                        ],
                        [
                          -117.6010455,
                          47.6543146
                        ],
                        [
                          -117.6010358,
                          47.6543146
                        ],
                        [
                          -117.6010359,
                          47.6544002
                        ]
                      ]
                    ]
                  },
                  "bbox": [
                    -117.6011882,
                    47.6541901,
                    -117.6010358,
                    47.6544002
                  ]
                },
                {
                  "id": "82",
                  "type": "Feature",
                  "properties": {
                    "id": "08b12db703764fff0200ca54da42993b",
                    "bbox": "{ \"xmin\": -117.60067749023438, \"xmax\": -117.60051727294922, \"ymin\": 47.653896331787109, \"ymax\": 47.654029846191406 }",
                    "theme": "buildings",
                    "type": "building",
                    "version": 0,
                    "sources": "[{'property': '', 'dataset': 'OpenStreetMap', 'record_id': 'w1239292786@1', 'update_time': '2024-01-13T05:03:43.000Z', 'confidence': None}]",
                    "level": null,
                    "subtype": null,
                    "class": null,
                    "height": null,
                    "names": null,
                    "has_parts": false,
                    "is_underground": false,
                    "num_floors": null,
                    "num_floors_underground": null,
                    "min_height": null,
                    "min_floor": null,
                    "facade_color": null,
                    "facade_material": null,
                    "roof_material": null,
                    "roof_shape": null,
                    "roof_direction": null,
                    "roof_orientation": null,
                    "roof_color": null,
                    "roof_height": null,
                    "style": {
                      "weight": 1
                    }
                  },
                  "geometry": {
                    "type": "Polygon",
                    "coordinates": [
                      [
                        [
                          -117.600673,
                          47.6540031
                        ],
                        [
                          -117.600673,
                          47.6539648
                        ],
                        [
                          -117.6006634,
                          47.6539648
                        ],
                        [
                          -117.6006634,
                          47.6539448
                        ],
                        [
                          -117.6006739,
                          47.6539448
                        ],
                        [
                          -117.6006738,
                          47.6539027
                        ],
                        [
                          -117.6005206,
                          47.6539028
                        ],
                        [
                          -117.6005206,
                          47.6539456
                        ],
                        [
                          -117.6005599,
                          47.6539456
                        ],
                        [
                          -117.6005599,
                          47.6539634
                        ],
                        [
                          -117.6005212,
                          47.6539634
                        ],
                        [
                          -117.6005212,
                          47.6540038
                        ],
                        [
                          -117.6005614,
                          47.6540038
                        ],
                        [
                          -117.6005614,
                          47.6540283
                        ],
                        [
                          -117.6006639,
                          47.6540283
                        ],
                        [
                          -117.6006638,
                          47.6540031
                        ],
                        [
                          -117.600673,
                          47.6540031
                        ]
                      ]
                    ]
                  },
                  "bbox": [
                    -117.6006739,
                    47.6539027,
                    -117.6005206,
                    47.6540283
                  ]
                },
                {
                  "id": "83",
                  "type": "Feature",
                  "properties": {
                    "id": "08b12db7030cafff020017121ec811af",
                    "bbox": "{ \"xmin\": -117.60067749023438, \"xmax\": -117.60052490234375, \"ymin\": 47.654247283935547, \"ymax\": 47.654346466064453 }",
                    "theme": "buildings",
                    "type": "building",
                    "version": 0,
                    "sources": "[{'property': '', 'dataset': 'OpenStreetMap', 'record_id': 'w1239292787@1', 'update_time': '2024-01-13T05:03:43.000Z', 'confidence': None}]",
                    "level": null,
                    "subtype": null,
                    "class": null,
                    "height": null,
                    "names": null,
                    "has_parts": false,
                    "is_underground": false,
                    "num_floors": null,
                    "num_floors_underground": null,
                    "min_height": null,
                    "min_floor": null,
                    "facade_color": null,
                    "facade_material": null,
                    "roof_material": null,
                    "roof_shape": null,
                    "roof_direction": null,
                    "roof_orientation": null,
                    "roof_color": null,
                    "roof_height": null,
                    "style": {
                      "weight": 1
                    }
                  },
                  "geometry": {
                    "type": "Polygon",
                    "coordinates": [
                      [
                        [
                          -117.6006753,
                          47.6543398
                        ],
                        [
                          -117.6006749,
                          47.6542481
                        ],
                        [
                          -117.6005257,
                          47.6542484
                        ],
                        [
                          -117.6005259,
                          47.6542879
                        ],
                        [
                          -117.6005454,
                          47.6542878
                        ],
                        [
                          -117.6005454,
                          47.6542926
                        ],
                        [
                          -117.6005271,
                          47.6542926
                        ],
                        [
                          -117.6005272,
                          47.6543308
                        ],
                        [
                          -117.600545,
                          47.6543307
                        ],
                        [
                          -117.600545,
                          47.6543401
                        ],
                        [
                          -117.6006753,
                          47.6543398
                        ]
                      ]
                    ]
                  },
                  "bbox": [
                    -117.6006753,
                    47.6542481,
                    -117.6005257,
                    47.6543401
                  ]
                },
                {
                  "id": "84",
                  "type": "Feature",
                  "properties": {
                    "id": "08b12db7030d8fff0200d2457f85f065",
                    "bbox": "{ \"xmin\": -117.60179901123047, \"xmax\": -117.60163116455078, \"ymin\": 47.654518127441406, \"ymax\": 47.654735565185547 }",
                    "theme": "buildings",
                    "type": "building",
                    "version": 0,
                    "sources": "[{'property': '', 'dataset': 'OpenStreetMap', 'record_id': 'w1239292778@1', 'update_time': '2024-01-13T05:03:43.000Z', 'confidence': None}]",
                    "level": null,
                    "subtype": "residential",
                    "class": "terrace",
                    "height": null,
                    "names": null,
                    "has_parts": false,
                    "is_underground": false,
                    "num_floors": null,
                    "num_floors_underground": null,
                    "min_height": null,
                    "min_floor": null,
                    "facade_color": null,
                    "facade_material": null,
                    "roof_material": null,
                    "roof_shape": null,
                    "roof_direction": null,
                    "roof_orientation": null,
                    "roof_color": null,
                    "roof_height": null,
                    "style": {
                      "weight": 1
                    }
                  },
                  "geometry": {
                    "type": "Polygon",
                    "coordinates": [
                      [
                        [
                          -117.6017975,
                          47.6545189
                        ],
                        [
                          -117.6016519,
                          47.654519
                        ],
                        [
                          -117.6016519,
                          47.6545601
                        ],
                        [
                          -117.6016698,
                          47.6545601
                        ],
                        [
                          -117.6016698,
                          47.6545638
                        ],
                        [
                          -117.6016451,
                          47.6545638
                        ],
                        [
                          -117.6016452,
                          47.6546045
                        ],
                        [
                          -117.6016846,
                          47.6546044
                        ],
                        [
                          -117.6016847,
                          47.6546222
                        ],
                        [
                          -117.6016515,
                          47.6546222
                        ],
                        [
                          -117.6016516,
                          47.6546604
                        ],
                        [
                          -117.6016701,
                          47.6546604
                        ],
                        [
                          -117.6016701,
                          47.6546645
                        ],
                        [
                          -117.6016451,
                          47.6546645
                        ],
                        [
                          -117.6016452,
                          47.6547053
                        ],
                        [
                          -117.6016849,
                          47.6547053
                        ],
                        [
                          -117.6016849,
                          47.654729
                        ],
                        [
                          -117.601787,
                          47.654729
                        ],
                        [
                          -117.6017869,
                          47.6547037
                        ],
                        [
                          -117.6017974,
                          47.6547037
                        ],
                        [
                          -117.6017972,
                          47.6546223
                        ],
                        [
                          -117.6017879,
                          47.6546223
                        ],
                        [
                          -117.6017878,
                          47.6546045
                        ],
                        [
                          -117.6017975,
                          47.6546045
                        ],
                        [
                          -117.6017975,
                          47.6545189
                        ]
                      ]
                    ]
                  },
                  "bbox": [
                    -117.6017975,
                    47.6545189,
                    -117.6016451,
                    47.654729
                  ]
                },
                {
                  "id": "85",
                  "type": "Feature",
                  "properties": {
                    "id": "08b12db7030ddfff0200f691d5ab1ed2",
                    "bbox": "{ \"xmin\": -117.60120391845703, \"xmax\": -117.60103607177734, \"ymin\": 47.654518127441406, \"ymax\": 47.654735565185547 }",
                    "theme": "buildings",
                    "type": "building",
                    "version": 0,
                    "sources": "[{'property': '', 'dataset': 'OpenStreetMap', 'record_id': 'w1239292783@1', 'update_time': '2024-01-13T05:03:43.000Z', 'confidence': None}]",
                    "level": null,
                    "subtype": "residential",
                    "class": "terrace",
                    "height": null,
                    "names": null,
                    "has_parts": false,
                    "is_underground": false,
                    "num_floors": null,
                    "num_floors_underground": null,
                    "min_height": null,
                    "min_floor": null,
                    "facade_color": null,
                    "facade_material": null,
                    "roof_material": null,
                    "roof_shape": null,
                    "roof_direction": null,
                    "roof_orientation": null,
                    "roof_color": null,
                    "roof_height": null,
                    "style": {
                      "weight": 1
                    }
                  },
                  "geometry": {
                    "type": "Polygon",
                    "coordinates": [
                      [
                        [
                          -117.6010367,
                          47.6547284
                        ],
                        [
                          -117.6011823,
                          47.6547284
                        ],
                        [
                          -117.6011822,
                          47.6546873
                        ],
                        [
                          -117.6011643,
                          47.6546873
                        ],
                        [
                          -117.6011643,
                          47.6546836
                        ],
                        [
                          -117.601189,
                          47.6546836
                        ],
                        [
                          -117.601189,
                          47.6546429
                        ],
                        [
                          -117.6011495,
                          47.6546429
                        ],
                        [
                          -117.6011495,
                          47.6546251
                        ],
                        [
                          -117.6011826,
                          47.6546251
                        ],
                        [
                          -117.6011826,
                          47.654587
                        ],
                        [
                          -117.6011641,
                          47.654587
                        ],
                        [
                          -117.6011641,
                          47.6545829
                        ],
                        [
                          -117.601189,
                          47.6545829
                        ],
                        [
                          -117.601189,
                          47.6545421
                        ],
                        [
                          -117.6011493,
                          47.6545421
                        ],
                        [
                          -117.6011492,
                          47.6545183
                        ],
                        [
                          -117.6010472,
                          47.6545184
                        ],
                        [
                          -117.6010472,
                          47.6545437
                        ],
                        [
                          -117.6010368,
                          47.6545437
                        ],
                        [
                          -117.6010369,
                          47.6546251
                        ],
                        [
                          -117.6010463,
                          47.6546251
                        ],
                        [
                          -117.6010463,
                          47.6546428
                        ],
                        [
                          -117.6010366,
                          47.6546428
                        ],
                        [
                          -117.6010367,
                          47.6547284
                        ]
                      ]
                    ]
                  },
                  "bbox": [
                    -117.601189,
                    47.6545183,
                    -117.6010366,
                    47.6547284
                  ]
                },
                {
                  "id": "86",
                  "type": "Feature",
                  "properties": {
                    "id": "08b12db7030dcfff02002954144fd180",
                    "bbox": "{ \"xmin\": -117.60179901123047, \"xmax\": -117.60163116455078, \"ymin\": 47.65484619140625, \"ymax\": 47.655063629150391 }",
                    "theme": "buildings",
                    "type": "building",
                    "version": 0,
                    "sources": "[{'property': '', 'dataset': 'OpenStreetMap', 'record_id': 'w1239292779@1', 'update_time': '2024-01-13T05:03:43.000Z', 'confidence': None}]",
                    "level": null,
                    "subtype": "residential",
                    "class": "terrace",
                    "height": null,
                    "names": null,
                    "has_parts": false,
                    "is_underground": false,
                    "num_floors": null,
                    "num_floors_underground": null,
                    "min_height": null,
                    "min_floor": null,
                    "facade_color": null,
                    "facade_material": null,
                    "roof_material": null,
                    "roof_shape": null,
                    "roof_direction": null,
                    "roof_orientation": null,
                    "roof_color": null,
                    "roof_height": null,
                    "style": {
                      "weight": 1
                    }
                  },
                  "geometry": {
                    "type": "Polygon",
                    "coordinates": [
                      [
                        [
                          -117.6017975,
                          47.6548466
                        ],
                        [
                          -117.6016519,
                          47.6548467
                        ],
                        [
                          -117.6016519,
                          47.6548878
                        ],
                        [
                          -117.6016698,
                          47.6548878
                        ],
                        [
                          -117.6016698,
                          47.6548915
                        ],
                        [
                          -117.6016451,
                          47.6548915
                        ],
                        [
                          -117.6016452,
                          47.6549322
                        ],
                        [
                          -117.6016846,
                          47.6549322
                        ],
                        [
                          -117.6016847,
                          47.6549499
                        ],
                        [
                          -117.6016515,
                          47.65495
                        ],
                        [
                          -117.6016516,
                          47.6549881
                        ],
                        [
                          -117.6016701,
                          47.6549881
                        ],
                        [
                          -117.6016701,
                          47.6549922
                        ],
                        [
                          -117.6016451,
                          47.6549922
                        ],
                        [
                          -117.6016452,
                          47.655033
                        ],
                        [
                          -117.6016849,
                          47.655033
                        ],
                        [
                          -117.6016849,
                          47.6550567
                        ],
                        [
                          -117.601787,
                          47.6550567
                        ],
                        [
                          -117.6017869,
                          47.6550314
                        ],
                        [
                          -117.6017974,
                          47.6550314
                        ],
                        [
                          -117.6017972,
                          47.65495
                        ],
                        [
                          -117.6017879,
                          47.65495
                        ],
                        [
                          -117.6017878,
                          47.6549322
                        ],
                        [
                          -117.6017975,
                          47.6549322
                        ],
                        [
                          -117.6017975,
                          47.6548466
                        ]
                      ]
                    ]
                  },
                  "bbox": [
                    -117.6017975,
                    47.6548466,
                    -117.6016451,
                    47.6550567
                  ]
                },
                {
                  "id": "87",
                  "type": "Feature",
                  "properties": {
                    "id": "08b12db7030c3fff02006ecbdfb690a1",
                    "bbox": "{ \"xmin\": -117.60118865966797, \"xmax\": -117.60102081298828, \"ymin\": 47.65484619140625, \"ymax\": 47.655063629150391 }",
                    "theme": "buildings",
                    "type": "building",
                    "version": 0,
                    "sources": "[{'property': '', 'dataset': 'OpenStreetMap', 'record_id': 'w1239292784@1', 'update_time': '2024-01-13T05:03:43.000Z', 'confidence': None}]",
                    "level": null,
                    "subtype": "residential",
                    "class": "terrace",
                    "height": null,
                    "names": null,
                    "has_parts": false,
                    "is_underground": false,
                    "num_floors": null,
                    "num_floors_underground": null,
                    "min_height": null,
                    "min_floor": null,
                    "facade_color": null,
                    "facade_material": null,
                    "roof_material": null,
                    "roof_shape": null,
                    "roof_direction": null,
                    "roof_orientation": null,
                    "roof_color": null,
                    "roof_height": null,
                    "style": {
                      "weight": 1
                    }
                  },
                  "geometry": {
                    "type": "Polygon",
                    "coordinates": [
                      [
                        [
                          -117.6010359,
                          47.6550579
                        ],
                        [
                          -117.6011814,
                          47.6550578
                        ],
                        [
                          -117.6011814,
                          47.6550167
                        ],
                        [
                          -117.6011635,
                          47.6550167
                        ],
                        [
                          -117.6011635,
                          47.655013
                        ],
                        [
                          -117.6011882,
                          47.655013
                        ],
                        [
                          -117.6011881,
                          47.6549723
                        ],
                        [
                          -117.6011487,
                          47.6549723
                        ],
                        [
                          -117.6011486,
                          47.6549546
                        ],
                        [
                          -117.6011818,
                          47.6549545
                        ],
                        [
                          -117.6011817,
                          47.6549164
                        ],
                        [
                          -117.6011632,
                          47.6549164
                        ],
                        [
                          -117.6011632,
                          47.6549123
                        ],
                        [
                          -117.6011882,
                          47.6549123
                        ],
                        [
                          -117.6011881,
                          47.6548715
                        ],
                        [
                          -117.6011484,
                          47.6548715
                        ],
                        [
                          -117.6011484,
                          47.6548478
                        ],
                        [
                          -117.6010463,
                          47.6548478
                        ],
                        [
                          -117.6010464,
                          47.6548731
                        ],
                        [
                          -117.6010359,
                          47.6548731
                        ],
                        [
                          -117.6010361,
                          47.6549545
                        ],
                        [
                          -117.6010455,
                          47.6549545
                        ],
                        [
                          -117.6010455,
                          47.6549723
                        ],
                        [
                          -117.6010358,
                          47.6549723
                        ],
                        [
                          -117.6010359,
                          47.6550579
                        ]
                      ]
                    ]
                  },
                  "bbox": [
                    -117.6011882,
                    47.6548478,
                    -117.6010358,
                    47.6550579
                  ]
                },
                {
                  "id": "88",
                  "type": "Feature",
                  "properties": {
                    "id": "08b12db7030cafff0200dc14be4bf4c0",
                    "bbox": "{ \"xmin\": -117.60068511962891, \"xmax\": -117.60051727294922, \"ymin\": 47.654560089111328, \"ymax\": 47.654693603515625 }",
                    "theme": "buildings",
                    "type": "building",
                    "version": 0,
                    "sources": "[{'property': '', 'dataset': 'OpenStreetMap', 'record_id': 'w1239292788@1', 'update_time': '2024-01-13T05:03:43.000Z', 'confidence': None}]",
                    "level": null,
                    "subtype": null,
                    "class": null,
                    "height": null,
                    "names": null,
                    "has_parts": false,
                    "is_underground": false,
                    "num_floors": null,
                    "num_floors_underground": null,
                    "min_height": null,
                    "min_floor": null,
                    "facade_color": null,
                    "facade_material": null,
                    "roof_material": null,
                    "roof_shape": null,
                    "roof_direction": null,
                    "roof_orientation": null,
                    "roof_color": null,
                    "roof_height": null,
                    "style": {
                      "weight": 1
                    }
                  },
                  "geometry": {
                    "type": "Polygon",
                    "coordinates": [
                      [
                        [
                          -117.6006722,
                          47.6545616
                        ],
                        [
                          -117.6005207,
                          47.6545619
                        ],
                        [
                          -117.6005209,
                          47.6546036
                        ],
                        [
                          -117.6005602,
                          47.6546035
                        ],
                        [
                          -117.6005603,
                          47.6546217
                        ],
                        [
                          -117.6005212,
                          47.6546218
                        ],
                        [
                          -117.6005214,
                          47.6546622
                        ],
                        [
                          -117.6005603,
                          47.6546621
                        ],
                        [
                          -117.6005604,
                          47.6546871
                        ],
                        [
                          -117.6006628,
                          47.6546869
                        ],
                        [
                          -117.6006627,
                          47.6546626
                        ],
                        [
                          -117.6006728,
                          47.6546626
                        ],
                        [
                          -117.6006726,
                          47.6546217
                        ],
                        [
                          -117.6006624,
                          47.6546217
                        ],
                        [
                          -117.6006623,
                          47.6546026
                        ],
                        [
                          -117.6006724,
                          47.6546026
                        ],
                        [
                          -117.6006722,
                          47.6545616
                        ]
                      ]
                    ]
                  },
                  "bbox": [
                    -117.6006728,
                    47.6545616,
                    -117.6005207,
                    47.6546871
                  ]
                },
                {
                  "id": "89",
                  "type": "Feature",
                  "properties": {
                    "id": "08b12db7030cefff0200444b2f259d85",
                    "bbox": "{ \"xmin\": -117.60067749023438, \"xmax\": -117.60050964355469, \"ymin\": 47.654899597167969, \"ymax\": 47.654998779296875 }",
                    "theme": "buildings",
                    "type": "building",
                    "version": 0,
                    "sources": "[{'property': '', 'dataset': 'OpenStreetMap', 'record_id': 'w1239292789@1', 'update_time': '2024-01-13T05:03:43.000Z', 'confidence': None}]",
                    "level": null,
                    "subtype": null,
                    "class": null,
                    "height": null,
                    "names": null,
                    "has_parts": false,
                    "is_underground": false,
                    "num_floors": null,
                    "num_floors_underground": null,
                    "min_height": null,
                    "min_floor": null,
                    "facade_color": null,
                    "facade_material": null,
                    "roof_material": null,
                    "roof_shape": null,
                    "roof_direction": null,
                    "roof_orientation": null,
                    "roof_color": null,
                    "roof_height": null,
                    "style": {
                      "weight": 1
                    }
                  },
                  "geometry": {
                    "type": "Polygon",
                    "coordinates": [
                      [
                        [
                          -117.600674,
                          47.6549984
                        ],
                        [
                          -117.6006736,
                          47.6549068
                        ],
                        [
                          -117.6005244,
                          47.654907
                        ],
                        [
                          -117.6005246,
                          47.6549465
                        ],
                        [
                          -117.6005441,
                          47.6549465
                        ],
                        [
                          -117.6005441,
                          47.6549512
                        ],
                        [
                          -117.6005258,
                          47.6549513
                        ],
                        [
                          -117.600526,
                          47.6549894
                        ],
                        [
                          -117.6005437,
                          47.6549894
                        ],
                        [
                          -117.6005437,
                          47.6549987
                        ],
                        [
                          -117.600674,
                          47.6549984
                        ]
                      ]
                    ]
                  },
                  "bbox": [
                    -117.600674,
                    47.6549068,
                    -117.6005244,
                    47.6549987
                  ]
                },
                {
                  "id": "90",
                  "type": "Feature",
                  "properties": {
                    "id": "08b12db703761fff0200760664a100a4",
                    "bbox": "{ \"xmin\": -117.59998321533203, \"xmax\": -117.59973907470703, \"ymin\": 47.653610229492188, \"ymax\": 47.653720855712891 }",
                    "theme": "buildings",
                    "type": "building",
                    "version": 0,
                    "sources": "[{'property': '', 'dataset': 'OpenStreetMap', 'record_id': 'w1239292794@1', 'update_time': '2024-01-13T05:03:43.000Z', 'confidence': None}]",
                    "level": null,
                    "subtype": null,
                    "class": null,
                    "height": null,
                    "names": null,
                    "has_parts": false,
                    "is_underground": false,
                    "num_floors": null,
                    "num_floors_underground": null,
                    "min_height": null,
                    "min_floor": null,
                    "facade_color": null,
                    "facade_material": null,
                    "roof_material": null,
                    "roof_shape": null,
                    "roof_direction": null,
                    "roof_orientation": null,
                    "roof_color": null,
                    "roof_height": null,
                    "style": {
                      "weight": 1
                    }
                  },
                  "geometry": {
                    "type": "Polygon",
                    "coordinates": [
                      [
                        [
                          -117.5999682,
                          47.6537201
                        ],
                        [
                          -117.5999682,
                          47.6536207
                        ],
                        [
                          -117.5999313,
                          47.6536207
                        ],
                        [
                          -117.5999313,
                          47.6536109
                        ],
                        [
                          -117.5998533,
                          47.6536109
                        ],
                        [
                          -117.5998533,
                          47.6536425
                        ],
                        [
                          -117.5998287,
                          47.6536425
                        ],
                        [
                          -117.5998287,
                          47.6536315
                        ],
                        [
                          -117.5997515,
                          47.6536315
                        ],
                        [
                          -117.5997515,
                          47.6537201
                        ],
                        [
                          -117.5999682,
                          47.6537201
                        ]
                      ]
                    ]
                  },
                  "bbox": [
                    -117.5999682,
                    47.6536109,
                    -117.5997515,
                    47.6537201
                  ]
                },
                {
                  "id": "91",
                  "type": "Feature",
                  "properties": {
                    "id": "08b12db703765fff02005a97e2c9e5e2",
                    "bbox": "{ \"xmin\": -117.60002899169922, \"xmax\": -117.59971618652344, \"ymin\": 47.653797149658203, \"ymax\": 47.6539306640625 }",
                    "theme": "buildings",
                    "type": "building",
                    "version": 0,
                    "sources": "[{'property': '', 'dataset': 'OpenStreetMap', 'record_id': 'w1239292795@1', 'update_time': '2024-01-13T05:03:43.000Z', 'confidence': None}]",
                    "level": null,
                    "subtype": null,
                    "class": null,
                    "height": null,
                    "names": null,
                    "has_parts": false,
                    "is_underground": false,
                    "num_floors": null,
                    "num_floors_underground": null,
                    "min_height": null,
                    "min_floor": null,
                    "facade_color": null,
                    "facade_material": null,
                    "roof_material": null,
                    "roof_shape": null,
                    "roof_direction": null,
                    "roof_orientation": null,
                    "roof_color": null,
                    "roof_height": null,
                    "style": {
                      "weight": 1
                    }
                  },
                  "geometry": {
                    "type": "Polygon",
                    "coordinates": [
                      [
                        [
                          -117.6000196,
                          47.6538964
                        ],
                        [
                          -117.6000197,
                          47.6538765
                        ],
                        [
                          -117.6000274,
                          47.6538765
                        ],
                        [
                          -117.6000275,
                          47.6538365
                        ],
                        [
                          -117.6000208,
                          47.6538365
                        ],
                        [
                          -117.6000209,
                          47.6537984
                        ],
                        [
                          -117.5997746,
                          47.6537981
                        ],
                        [
                          -117.5997746,
                          47.653818
                        ],
                        [
                          -117.5997185,
                          47.6538179
                        ],
                        [
                          -117.5997182,
                          47.6538964
                        ],
                        [
                          -117.5997755,
                          47.6538965
                        ],
                        [
                          -117.5997754,
                          47.6539239
                        ],
                        [
                          -117.5998263,
                          47.653924
                        ],
                        [
                          -117.5998264,
                          47.6539128
                        ],
                        [
                          -117.5999237,
                          47.6539129
                        ],
                        [
                          -117.5999236,
                          47.6539239
                        ],
                        [
                          -117.5999802,
                          47.653924
                        ],
                        [
                          -117.5999803,
                          47.6538963
                        ],
                        [
                          -117.6000196,
                          47.6538964
                        ]
                      ]
                    ]
                  },
                  "bbox": [
                    -117.6000275,
                    47.6537981,
                    -117.5997182,
                    47.653924
                  ]
                },
                {
                  "id": "92",
                  "type": "Feature",
                  "properties": {
                    "id": "08b12db703392fff020022ffcb2e9198",
                    "bbox": "{ \"xmin\": -117.59944152832031, \"xmax\": -117.59918975830078, \"ymin\": 47.653602600097656, \"ymax\": 47.653717041015625 }",
                    "theme": "buildings",
                    "type": "building",
                    "version": 0,
                    "sources": "[{'property': '', 'dataset': 'OpenStreetMap', 'record_id': 'w1239292797@1', 'update_time': '2024-01-13T05:03:43.000Z', 'confidence': None}]",
                    "level": null,
                    "subtype": null,
                    "class": null,
                    "height": null,
                    "names": null,
                    "has_parts": false,
                    "is_underground": false,
                    "num_floors": null,
                    "num_floors_underground": null,
                    "min_height": null,
                    "min_floor": null,
                    "facade_color": null,
                    "facade_material": null,
                    "roof_material": null,
                    "roof_shape": null,
                    "roof_direction": null,
                    "roof_orientation": null,
                    "roof_color": null,
                    "roof_height": null,
                    "style": {
                      "weight": 1
                    }
                  },
                  "geometry": {
                    "type": "Polygon",
                    "coordinates": [
                      [
                        [
                          -117.5994104,
                          47.6537168
                        ],
                        [
                          -117.5994268,
                          47.6536355
                        ],
                        [
                          -117.599394,
                          47.6536325
                        ],
                        [
                          -117.5993957,
                          47.6536244
                        ],
                        [
                          -117.5993223,
                          47.6536176
                        ],
                        [
                          -117.5993204,
                          47.6536269
                        ],
                        [
                          -117.5992972,
                          47.6536248
                        ],
                        [
                          -117.599299,
                          47.6536158
                        ],
                        [
                          -117.599222,
                          47.6536087
                        ],
                        [
                          -117.5992039,
                          47.6536978
                        ],
                        [
                          -117.5994104,
                          47.6537168
                        ]
                      ]
                    ]
                  },
                  "bbox": [
                    -117.5994268,
                    47.6536087,
                    -117.5992039,
                    47.6537168
                  ]
                },
                {
                  "id": "93",
                  "type": "Feature",
                  "properties": {
                    "id": "08b12db703392fff02002b8d1ab6c429",
                    "bbox": "{ \"xmin\": -117.59937286376953, \"xmax\": -117.59909057617188, \"ymin\": 47.653781890869141, \"ymax\": 47.653919219970703 }",
                    "theme": "buildings",
                    "type": "building",
                    "version": 0,
                    "sources": "[{'property': '', 'dataset': 'OpenStreetMap', 'record_id': 'w1239292798@1', 'update_time': '2024-01-13T05:03:43.000Z', 'confidence': None}]",
                    "level": null,
                    "subtype": null,
                    "class": null,
                    "height": null,
                    "names": null,
                    "has_parts": false,
                    "is_underground": false,
                    "num_floors": null,
                    "num_floors_underground": null,
                    "min_height": null,
                    "min_floor": null,
                    "facade_color": null,
                    "facade_material": null,
                    "roof_material": null,
                    "roof_shape": null,
                    "roof_direction": null,
                    "roof_orientation": null,
                    "roof_color": null,
                    "roof_height": null,
                    "style": {
                      "weight": 1
                    }
                  },
                  "geometry": {
                    "type": "Polygon",
                    "coordinates": [
                      [
                        [
                          -117.5993507,
                          47.653907
                        ],
                        [
                          -117.5993728,
                          47.6538192
                        ],
                        [
                          -117.5993426,
                          47.6538158
                        ],
                        [
                          -117.5993455,
                          47.653804
                        ],
                        [
                          -117.5992684,
                          47.6537952
                        ],
                        [
                          -117.5992654,
                          47.6538069
                        ],
                        [
                          -117.5991124,
                          47.6537893
                        ],
                        [
                          -117.5990924,
                          47.6538683
                        ],
                        [
                          -117.5991255,
                          47.6538721
                        ],
                        [
                          -117.5991235,
                          47.6538799
                        ],
                        [
                          -117.5992757,
                          47.6538973
                        ],
                        [
                          -117.5992716,
                          47.6539135
                        ],
                        [
                          -117.5993202,
                          47.6539191
                        ],
                        [
                          -117.599324,
                          47.653904
                        ],
                        [
                          -117.5993507,
                          47.653907
                        ]
                      ]
                    ]
                  },
                  "bbox": [
                    -117.5993728,
                    47.6537893,
                    -117.5990924,
                    47.6539191
                  ]
                },
                {
                  "id": "94",
                  "type": "Feature",
                  "properties": {
                    "id": "08b12db7030cbfff0200200c69897f77",
                    "bbox": "{ \"xmin\": -117.59996795654297, \"xmax\": -117.59980773925781, \"ymin\": 47.654396057128906, \"ymax\": 47.654502868652344 }",
                    "theme": "buildings",
                    "type": "building",
                    "version": 0,
                    "sources": "[{'property': '', 'dataset': 'OpenStreetMap', 'record_id': 'w1239292790@1', 'update_time': '2024-01-13T05:03:43.000Z', 'confidence': None}\n {'property': 'properties/height', 'dataset': 'Microsoft ML Buildings', 'record_id': None, 'update_time': None, 'confidence': None}]",
                    "level": null,
                    "subtype": null,
                    "class": null,
                    "height": 2.9212122,
                    "names": null,
                    "has_parts": false,
                    "is_underground": false,
                    "num_floors": null,
                    "num_floors_underground": null,
                    "min_height": null,
                    "min_floor": null,
                    "facade_color": null,
                    "facade_material": null,
                    "roof_material": null,
                    "roof_shape": null,
                    "roof_direction": null,
                    "roof_orientation": null,
                    "roof_color": null,
                    "roof_height": null,
                    "style": {
                      "weight": 1
                    }
                  },
                  "geometry": {
                    "type": "Polygon",
                    "coordinates": [
                      [
                        [
                          -117.5999555,
                          47.6544962
                        ],
                        [
                          -117.5999555,
                          47.6543976
                        ],
                        [
                          -117.5998198,
                          47.6543976
                        ],
                        [
                          -117.5998198,
                          47.6544962
                        ],
                        [
                          -117.5999555,
                          47.6544962
                        ]
                      ]
                    ]
                  },
                  "bbox": [
                    -117.5999555,
                    47.6543976,
                    -117.5998198,
                    47.6544962
                  ]
                },
                {
                  "id": "95",
                  "type": "Feature",
                  "properties": {
                    "id": "08b12db7030c9fff02004a6ad5919466",
                    "bbox": "{ \"xmin\": -117.59942626953125, \"xmax\": -117.59927368164062, \"ymin\": 47.654388427734375, \"ymax\": 47.654502868652344 }",
                    "theme": "buildings",
                    "type": "building",
                    "version": 0,
                    "sources": "[{'property': '', 'dataset': 'OpenStreetMap', 'record_id': 'w1239292791@1', 'update_time': '2024-01-13T05:03:43.000Z', 'confidence': None}\n {'property': 'properties/height', 'dataset': 'Microsoft ML Buildings', 'record_id': None, 'update_time': None, 'confidence': None}]",
                    "level": null,
                    "subtype": null,
                    "class": null,
                    "height": 3.4077115,
                    "names": null,
                    "has_parts": false,
                    "is_underground": false,
                    "num_floors": null,
                    "num_floors_underground": null,
                    "min_height": null,
                    "min_floor": null,
                    "facade_color": null,
                    "facade_material": null,
                    "roof_material": null,
                    "roof_shape": null,
                    "roof_direction": null,
                    "roof_orientation": null,
                    "roof_color": null,
                    "roof_height": null,
                    "style": {
                      "weight": 1
                    }
                  },
                  "geometry": {
                    "type": "Polygon",
                    "coordinates": [
                      [
                        [
                          -117.5994131,
                          47.654496
                        ],
                        [
                          -117.599425,
                          47.6543965
                        ],
                        [
                          -117.5992892,
                          47.6543891
                        ],
                        [
                          -117.5992773,
                          47.6544887
                        ],
                        [
                          -117.5994131,
                          47.654496
                        ]
                      ]
                    ]
                  },
                  "bbox": [
                    -117.599425,
                    47.6543891,
                    -117.5992773,
                    47.654496
                  ]
                },
                {
                  "id": "96",
                  "type": "Feature",
                  "properties": {
                    "id": "08b12db703393fff0200649ce071a2a6",
                    "bbox": "{ \"xmin\": -117.59889221191406, \"xmax\": -117.59865570068359, \"ymin\": 47.653507232666016, \"ymax\": 47.653640747070312 }",
                    "theme": "buildings",
                    "type": "building",
                    "version": 0,
                    "sources": "[{'property': '', 'dataset': 'OpenStreetMap', 'record_id': 'w1239292800@1', 'update_time': '2024-01-13T05:03:43.000Z', 'confidence': None}]",
                    "level": null,
                    "subtype": null,
                    "class": null,
                    "height": null,
                    "names": null,
                    "has_parts": false,
                    "is_underground": false,
                    "num_floors": null,
                    "num_floors_underground": null,
                    "min_height": null,
                    "min_floor": null,
                    "facade_color": null,
                    "facade_material": null,
                    "roof_material": null,
                    "roof_shape": null,
                    "roof_direction": null,
                    "roof_orientation": null,
                    "roof_color": null,
                    "roof_height": null,
                    "style": {
                      "weight": 1
                    }
                  },
                  "geometry": {
                    "type": "Polygon",
                    "coordinates": [
                      [
                        [
                          -117.598857,
                          47.6536406
                        ],
                        [
                          -117.5988904,
                          47.6535641
                        ],
                        [
                          -117.5988599,
                          47.653558
                        ],
                        [
                          -117.5988642,
                          47.6535481
                        ],
                        [
                          -117.5987939,
                          47.6535342
                        ],
                        [
                          -117.5987898,
                          47.6535435
                        ],
                        [
                          -117.5987661,
                          47.6535388
                        ],
                        [
                          -117.5987707,
                          47.6535282
                        ],
                        [
                          -117.5986953,
                          47.6535133
                        ],
                        [
                          -117.598657,
                          47.6536011
                        ],
                        [
                          -117.598857,
                          47.6536406
                        ]
                      ]
                    ]
                  },
                  "bbox": [
                    -117.5988904,
                    47.6535133,
                    -117.598657,
                    47.6536406
                  ]
                },
                {
                  "id": "97",
                  "type": "Feature",
                  "properties": {
                    "id": "08b12db703393fff02005af373ce74fd",
                    "bbox": "{ \"xmin\": -117.59882354736328, \"xmax\": -117.59858703613281, \"ymin\": 47.653678894042969, \"ymax\": 47.653812408447266 }",
                    "theme": "buildings",
                    "type": "building",
                    "version": 0,
                    "sources": "[{'property': '', 'dataset': 'OpenStreetMap', 'record_id': 'w1239292799@1', 'update_time': '2024-01-13T05:03:43.000Z', 'confidence': None}]",
                    "level": null,
                    "subtype": null,
                    "class": null,
                    "height": null,
                    "names": null,
                    "has_parts": false,
                    "is_underground": false,
                    "num_floors": null,
                    "num_floors_underground": null,
                    "min_height": null,
                    "min_floor": null,
                    "facade_color": null,
                    "facade_material": null,
                    "roof_material": null,
                    "roof_shape": null,
                    "roof_direction": null,
                    "roof_orientation": null,
                    "roof_color": null,
                    "roof_height": null,
                    "style": {
                      "weight": 1
                    }
                  },
                  "geometry": {
                    "type": "Polygon",
                    "coordinates": [
                      [
                        [
                          -117.5987838,
                          47.6538111
                        ],
                        [
                          -117.598822,
                          47.6537254
                        ],
                        [
                          -117.5986241,
                          47.6536854
                        ],
                        [
                          -117.5985901,
                          47.6537618
                        ],
                        [
                          -117.59862,
                          47.6537678
                        ],
                        [
                          -117.5986156,
                          47.6537779
                        ],
                        [
                          -117.5986869,
                          47.6537923
                        ],
                        [
                          -117.5986913,
                          47.6537824
                        ],
                        [
                          -117.5987136,
                          47.6537869
                        ],
                        [
                          -117.5987095,
                          47.6537961
                        ],
                        [
                          -117.5987838,
                          47.6538111
                        ]
                      ]
                    ]
                  },
                  "bbox": [
                    -117.598822,
                    47.6536854,
                    -117.5985901,
                    47.6538111
                  ]
                },
                {
                  "id": "98",
                  "type": "Feature",
                  "properties": {
                    "id": "08b12db70339efff0200c54204c217d9",
                    "bbox": "{ \"xmin\": -117.59841156005859, \"xmax\": -117.59815216064453, \"ymin\": 47.653404235839844, \"ymax\": 47.653537750244141 }",
                    "theme": "buildings",
                    "type": "building",
                    "version": 0,
                    "sources": "[{'property': '', 'dataset': 'OpenStreetMap', 'record_id': 'w1239292801@1', 'update_time': '2024-01-13T05:03:43.000Z', 'confidence': None}]",
                    "level": null,
                    "subtype": null,
                    "class": null,
                    "height": null,
                    "names": null,
                    "has_parts": false,
                    "is_underground": false,
                    "num_floors": null,
                    "num_floors_underground": null,
                    "min_height": null,
                    "min_floor": null,
                    "facade_color": null,
                    "facade_material": null,
                    "roof_material": null,
                    "roof_shape": null,
                    "roof_direction": null,
                    "roof_orientation": null,
                    "roof_color": null,
                    "roof_height": null,
                    "style": {
                      "weight": 1
                    }
                  },
                  "geometry": {
                    "type": "Polygon",
                    "coordinates": [
                      [
                        [
                          -117.5983668,
                          47.6535363
                        ],
                        [
                          -117.5984095,
                          47.6534388
                        ],
                        [
                          -117.5983716,
                          47.6534313
                        ],
                        [
                          -117.5983758,
                          47.6534216
                        ],
                        [
                          -117.598302,
                          47.653407
                        ],
                        [
                          -117.5982889,
                          47.6534368
                        ],
                        [
                          -117.5982637,
                          47.6534318
                        ],
                        [
                          -117.5982686,
                          47.6534205
                        ],
                        [
                          -117.5981918,
                          47.6534052
                        ],
                        [
                          -117.598153,
                          47.6534938
                        ],
                        [
                          -117.5983668,
                          47.6535363
                        ]
                      ]
                    ]
                  },
                  "bbox": [
                    -117.5984095,
                    47.6534052,
                    -117.598153,
                    47.6535363
                  ]
                },
                {
                  "id": "99",
                  "type": "Feature",
                  "properties": {
                    "id": "08b12db70339efff0200b96f1c464ce4",
                    "bbox": "{ \"xmin\": -117.59800720214844, \"xmax\": -117.59782409667969, \"ymin\": 47.653244018554688, \"ymax\": 47.653396606445312 }",
                    "theme": "buildings",
                    "type": "building",
                    "version": 0,
                    "sources": "[{'property': '', 'dataset': 'OpenStreetMap', 'record_id': 'w656323725@1', 'update_time': '2018-12-19T19:41:06.000Z', 'confidence': None}]",
                    "level": null,
                    "subtype": null,
                    "class": null,
                    "height": null,
                    "names": null,
                    "has_parts": false,
                    "is_underground": false,
                    "num_floors": null,
                    "num_floors_underground": null,
                    "min_height": null,
                    "min_floor": null,
                    "facade_color": null,
                    "facade_material": null,
                    "roof_material": null,
                    "roof_shape": null,
                    "roof_direction": null,
                    "roof_orientation": null,
                    "roof_color": null,
                    "roof_height": null,
                    "style": {
                      "weight": 1
                    }
                  },
                  "geometry": {
                    "type": "Polygon",
                    "coordinates": [
                      [
                        [
                          -117.5979526,
                          47.6533949
                        ],
                        [
                          -117.5980056,
                          47.6532731
                        ],
                        [
                          -117.5979236,
                          47.653257
                        ],
                        [
                          -117.5979206,
                          47.6532636
                        ],
                        [
                          -117.5979076,
                          47.6532611
                        ],
                        [
                          -117.5979096,
                          47.6532559
                        ],
                        [
                          -117.5978886,
                          47.6532516
                        ],
                        [
                          -117.5978356,
                          47.653372
                        ],
                        [
                          -117.5979526,
                          47.6533949
                        ]
                      ]
                    ]
                  },
                  "bbox": [
                    -117.5980056,
                    47.6532516,
                    -117.5978356,
                    47.6533949
                  ]
                },
                {
                  "id": "100",
                  "type": "Feature",
                  "properties": {
                    "id": "08b12db703394fff0200ea6e7dc63c18",
                    "bbox": "{ \"xmin\": -117.59888458251953, \"xmax\": -117.59870910644531, \"ymin\": 47.654319763183594, \"ymax\": 47.654441833496094 }",
                    "theme": "buildings",
                    "type": "building",
                    "version": 0,
                    "sources": "[{'property': '', 'dataset': 'OpenStreetMap', 'record_id': 'w1239292792@1', 'update_time': '2024-01-13T05:03:43.000Z', 'confidence': None}\n {'property': 'properties/height', 'dataset': 'Microsoft ML Buildings', 'record_id': None, 'update_time': None, 'confidence': None}]",
                    "level": null,
                    "subtype": null,
                    "class": null,
                    "height": 3.8117988,
                    "names": null,
                    "has_parts": false,
                    "is_underground": false,
                    "num_floors": null,
                    "num_floors_underground": null,
                    "min_height": null,
                    "min_floor": null,
                    "facade_color": null,
                    "facade_material": null,
                    "roof_material": null,
                    "roof_shape": null,
                    "roof_direction": null,
                    "roof_orientation": null,
                    "roof_color": null,
                    "roof_height": null,
                    "style": {
                      "weight": 1
                    }
                  },
                  "geometry": {
                    "type": "Polygon",
                    "coordinates": [
                      [
                        [
                          -117.598845,
                          47.6544415
                        ],
                        [
                          -117.5988837,
                          47.6543449
                        ],
                        [
                          -117.5987509,
                          47.6543207
                        ],
                        [
                          -117.5987121,
                          47.6544174
                        ],
                        [
                          -117.598845,
                          47.6544415
                        ]
                      ]
                    ]
                  },
                  "bbox": [
                    -117.5988837,
                    47.6543207,
                    -117.5987121,
                    47.6544415
                  ]
                },
                {
                  "id": "101",
                  "type": "Feature",
                  "properties": {
                    "id": "08b12db703395fff0200236934e34274",
                    "bbox": "{ \"xmin\": -117.59813690185547, \"xmax\": -117.59793853759766, \"ymin\": 47.654163360595703, \"ymax\": 47.654296875 }",
                    "theme": "buildings",
                    "type": "building",
                    "version": 0,
                    "sources": "[{'property': '', 'dataset': 'OpenStreetMap', 'record_id': 'w1239292793@1', 'update_time': '2024-01-13T05:03:43.000Z', 'confidence': None}]",
                    "level": null,
                    "subtype": null,
                    "class": null,
                    "height": null,
                    "names": null,
                    "has_parts": false,
                    "is_underground": false,
                    "num_floors": null,
                    "num_floors_underground": null,
                    "min_height": null,
                    "min_floor": null,
                    "facade_color": null,
                    "facade_material": null,
                    "roof_material": null,
                    "roof_shape": null,
                    "roof_direction": null,
                    "roof_orientation": null,
                    "roof_color": null,
                    "roof_height": null,
                    "style": {
                      "weight": 1
                    }
                  },
                  "geometry": {
                    "type": "Polygon",
                    "coordinates": [
                      [
                        [
                          -117.5980829,
                          47.6542905
                        ],
                        [
                          -117.5981253,
                          47.6541957
                        ],
                        [
                          -117.5979941,
                          47.6541691
                        ],
                        [
                          -117.5979517,
                          47.6542639
                        ],
                        [
                          -117.5980829,
                          47.6542905
                        ]
                      ]
                    ]
                  },
                  "bbox": [
                    -117.5981253,
                    47.6541691,
                    -117.5979517,
                    47.6542905
                  ]
                },
                {
                  "id": "102",
                  "type": "Feature",
                  "properties": {
                    "id": "08b12db7030c8fff0200659d0110fdda",
                    "bbox": "{ \"xmin\": -117.59990692138672, \"xmax\": -117.59976959228516, \"ymin\": 47.654644012451172, \"ymax\": 47.65478515625 }",
                    "theme": "buildings",
                    "type": "building",
                    "version": 0,
                    "sources": "[{'property': '', 'dataset': 'OpenStreetMap', 'record_id': 'w1239292796@1', 'update_time': '2024-01-13T05:03:43.000Z', 'confidence': None}\n {'property': 'properties/height', 'dataset': 'Microsoft ML Buildings', 'record_id': None, 'update_time': None, 'confidence': None}]",
                    "level": null,
                    "subtype": null,
                    "class": null,
                    "height": 3.017316,
                    "names": null,
                    "has_parts": false,
                    "is_underground": false,
                    "num_floors": null,
                    "num_floors_underground": null,
                    "min_height": null,
                    "min_floor": null,
                    "facade_color": null,
                    "facade_material": null,
                    "roof_material": null,
                    "roof_shape": null,
                    "roof_direction": null,
                    "roof_orientation": null,
                    "roof_color": null,
                    "roof_height": null,
                    "style": {
                      "weight": 1
                    }
                  },
                  "geometry": {
                    "type": "Polygon",
                    "coordinates": [
                      [
                        [
                          -117.599905,
                          47.6546453
                        ],
                        [
                          -117.5997743,
                          47.6546449
                        ],
                        [
                          -117.5997733,
                          47.6547841
                        ],
                        [
                          -117.5998928,
                          47.6547845
                        ],
                        [
                          -117.599893,
                          47.6547626
                        ],
                        [
                          -117.5999064,
                          47.6547626
                        ],
                        [
                          -117.5999068,
                          47.6547126
                        ],
                        [
                          -117.5998906,
                          47.6547125
                        ],
                        [
                          -117.5998907,
                          47.6546963
                        ],
                        [
                          -117.5999046,
                          47.6546963
                        ],
                        [
                          -117.599905,
                          47.6546453
                        ]
                      ]
                    ]
                  },
                  "bbox": [
                    -117.5999068,
                    47.6546449,
                    -117.5997733,
                    47.6547845
                  ]
                },
                {
                  "id": "103",
                  "type": "Feature",
                  "properties": {
                    "id": "08b12db7030e8fff02003b41833b06dc",
                    "bbox": "{ \"xmin\": -117.59963989257812, \"xmax\": -117.59947204589844, \"ymin\": 47.655685424804688, \"ymax\": 47.655853271484375 }",
                    "theme": "buildings",
                    "type": "building",
                    "version": 0,
                    "sources": "[{'property': '', 'dataset': 'OpenStreetMap', 'record_id': 'w1239292815@1', 'update_time': '2024-01-13T05:03:43.000Z', 'confidence': None}]",
                    "level": null,
                    "subtype": null,
                    "class": null,
                    "height": null,
                    "names": null,
                    "has_parts": false,
                    "is_underground": false,
                    "num_floors": null,
                    "num_floors_underground": null,
                    "min_height": null,
                    "min_floor": null,
                    "facade_color": null,
                    "facade_material": null,
                    "roof_material": null,
                    "roof_shape": null,
                    "roof_direction": null,
                    "roof_orientation": null,
                    "roof_color": null,
                    "roof_height": null,
                    "style": {
                      "weight": 1
                    }
                  },
                  "geometry": {
                    "type": "Polygon",
                    "coordinates": [
                      [
                        [
                          -117.5996359,
                          47.655846
                        ],
                        [
                          -117.5996379,
                          47.6557001
                        ],
                        [
                          -117.5996251,
                          47.6557
                        ],
                        [
                          -117.5996253,
                          47.6556867
                        ],
                        [
                          -117.5995774,
                          47.6556864
                        ],
                        [
                          -117.5995772,
                          47.655701
                        ],
                        [
                          -117.599475,
                          47.6557004
                        ],
                        [
                          -117.599473,
                          47.655845
                        ],
                        [
                          -117.5996359,
                          47.655846
                        ]
                      ]
                    ]
                  },
                  "bbox": [
                    -117.5996379,
                    47.6556864,
                    -117.599473,
                    47.655846
                  ]
                },
                {
                  "id": "104",
                  "type": "Feature",
                  "properties": {
                    "id": "08b12db703298fff0200a8954789ef42",
                    "bbox": "{ \"xmin\": -117.59767150878906, \"xmax\": -117.59754943847656, \"ymin\": 47.650279998779297, \"ymax\": 47.650566101074219 }",
                    "theme": "buildings",
                    "type": "building",
                    "version": 0,
                    "sources": "[{'property': '', 'dataset': 'Microsoft ML Buildings', 'record_id': None, 'update_time': '2022-08-15T00:00:00.000Z', 'confidence': None}]",
                    "level": null,
                    "subtype": null,
                    "class": null,
                    "height": 4.5081596,
                    "names": null,
                    "has_parts": false,
                    "is_underground": false,
                    "num_floors": null,
                    "num_floors_underground": null,
                    "min_height": null,
                    "min_floor": null,
                    "facade_color": null,
                    "facade_material": null,
                    "roof_material": null,
                    "roof_shape": null,
                    "roof_direction": null,
                    "roof_orientation": null,
                    "roof_color": null,
                    "roof_height": null,
                    "style": {
                      "weight": 1
                    }
                  },
                  "geometry": {
                    "type": "Polygon",
                    "coordinates": [
                      [
                        [
                          -117.59765430279276,
                          47.65028690930773
                        ],
                        [
                          -117.59755139576035,
                          47.65028737994059
                        ],
                        [
                          -117.59755280047891,
                          47.65042534560217
                        ],
                        [
                          -117.59756986643725,
                          47.65042526674867
                        ],
                        [
                          -117.5975712255354,
                          47.65056012754499
                        ],
                        [
                          -117.59765705226822,
                          47.65055973502886
                        ],
                        [
                          -117.59765430279276,
                          47.65028690930773
                        ]
                      ]
                    ]
                  },
                  "bbox": [
                    -117.59765705226822,
                    47.65028690930773,
                    -117.59755139576035,
                    47.65056012754499
                  ]
                },
                {
                  "id": "105",
                  "type": "Feature",
                  "properties": {
                    "id": "08b12db70328afff02001bdb8385350a",
                    "bbox": "{ \"xmin\": -117.59687805175781, \"xmax\": -117.59657287597656, \"ymin\": 47.650283813476562, \"ymax\": 47.650432586669922 }",
                    "theme": "buildings",
                    "type": "building",
                    "version": 0,
                    "sources": "[{'property': '', 'dataset': 'Microsoft ML Buildings', 'record_id': None, 'update_time': '2022-08-15T00:00:00.000Z', 'confidence': None}]",
                    "level": null,
                    "subtype": null,
                    "class": null,
                    "height": 4.6405997,
                    "names": null,
                    "has_parts": false,
                    "is_underground": false,
                    "num_floors": null,
                    "num_floors_underground": null,
                    "min_height": null,
                    "min_floor": null,
                    "facade_color": null,
                    "facade_material": null,
                    "roof_material": null,
                    "roof_shape": null,
                    "roof_direction": null,
                    "roof_orientation": null,
                    "roof_color": null,
                    "roof_height": null,
                    "style": {
                      "weight": 1
                    }
                  },
                  "geometry": {
                    "type": "Polygon",
                    "coordinates": [
                      [
                        [
                          -117.59677831101548,
                          47.65043092000395
                        ],
                        [
                          -117.59687746667473,
                          47.650368742445615
                        ],
                        [
                          -117.59676242715334,
                          47.65028548876752
                        ],
                        [
                          -117.59669344930343,
                          47.65032874279794
                        ],
                        [
                          -117.59666134525098,
                          47.65030550920891
                        ],
                        [
                          -117.59657655997714,
                          47.65035867559586
                        ],
                        [
                          -117.59667420980342,
                          47.65042934432511
                        ],
                        [
                          -117.59672881726793,
                          47.65039510161995
                        ],
                        [
                          -117.59677831101548,
                          47.65043092000395
                        ]
                      ]
                    ]
                  },
                  "bbox": [
                    -117.59687746667473,
                    47.65028548876752,
                    -117.59657655997714,
                    47.65043092000395
                  ]
                },
                {
                  "id": "106",
                  "type": "Feature",
                  "properties": {
                    "id": "08b12db70328afff0200ef3178f30f1b",
                    "bbox": "{ \"xmin\": -117.59654235839844, \"xmax\": -117.5963134765625, \"ymin\": 47.650161743164062, \"ymax\": 47.650341033935547 }",
                    "theme": "buildings",
                    "type": "building",
                    "version": 0,
                    "sources": "[{'property': '', 'dataset': 'Microsoft ML Buildings', 'record_id': None, 'update_time': '2022-08-15T00:00:00.000Z', 'confidence': None}]",
                    "level": null,
                    "subtype": null,
                    "class": null,
                    "height": 5.5263333,
                    "names": null,
                    "has_parts": false,
                    "is_underground": false,
                    "num_floors": null,
                    "num_floors_underground": null,
                    "min_height": null,
                    "min_floor": null,
                    "facade_color": null,
                    "facade_material": null,
                    "roof_material": null,
                    "roof_shape": null,
                    "roof_direction": null,
                    "roof_orientation": null,
                    "roof_color": null,
                    "roof_height": null,
                    "style": {
                      "weight": 1
                    }
                  },
                  "geometry": {
                    "type": "Polygon",
                    "coordinates": [
                      [
                        [
                          -117.59635211591714,
                          47.650168297348685
                        ],
                        [
                          -117.59631421514419,
                          47.65031492180205
                        ],
                        [
                          -117.59650425179461,
                          47.65033722295897
                        ],
                        [
                          -117.59654215481541,
                          47.650190589871976
                        ],
                        [
                          -117.59635211591714,
                          47.650168297348685
                        ]
                      ]
                    ]
                  },
                  "bbox": [
                    -117.59654215481541,
                    47.650168297348685,
                    -117.59631421514419,
                    47.65033722295897
                  ]
                },
                {
                  "id": "107",
                  "type": "Feature",
                  "properties": {
                    "id": "08b12db70328bfff0200241362b4352b",
                    "bbox": "{ \"xmin\": -117.59603881835938, \"xmax\": -117.59593200683594, \"ymin\": 47.650238037109375, \"ymax\": 47.650306701660156 }",
                    "theme": "buildings",
                    "type": "building",
                    "version": 0,
                    "sources": "[{'property': '', 'dataset': 'Microsoft ML Buildings', 'record_id': None, 'update_time': '2022-08-15T00:00:00.000Z', 'confidence': None}]",
                    "level": null,
                    "subtype": null,
                    "class": null,
                    "height": 2.4136364,
                    "names": null,
                    "has_parts": false,
                    "is_underground": false,
                    "num_floors": null,
                    "num_floors_underground": null,
                    "min_height": null,
                    "min_floor": null,
                    "facade_color": null,
                    "facade_material": null,
                    "roof_material": null,
                    "roof_shape": null,
                    "roof_direction": null,
                    "roof_orientation": null,
                    "roof_color": null,
                    "roof_height": null,
                    "style": {
                      "weight": 1
                    }
                  },
                  "geometry": {
                    "type": "Polygon",
                    "coordinates": [
                      [
                        [
                          -117.59593517756416,
                          47.650291440543654
                        ],
                        [
                          -117.59595424120307,
                          47.650306536446
                        ],
                        [
                          -117.59603613499371,
                          47.65025960032958
                        ],
                        [
                          -117.59601707327384,
                          47.65024450717502
                        ],
                        [
                          -117.59593517756416,
                          47.650291440543654
                        ]
                      ]
                    ]
                  },
                  "bbox": [
                    -117.59603613499371,
                    47.65024450717502,
                    -117.59593517756416,
                    47.650306536446
                  ]
                },
                {
                  "id": "108",
                  "type": "Feature",
                  "properties": {
                    "id": "08b12db70328afff02003d216e240363",
                    "bbox": "{ \"xmin\": -117.59626007080078, \"xmax\": -117.59595489501953, \"ymin\": 47.650192260742188, \"ymax\": 47.650402069091797 }",
                    "theme": "buildings",
                    "type": "building",
                    "version": 0,
                    "sources": "[{'property': '', 'dataset': 'Microsoft ML Buildings', 'record_id': None, 'update_time': '2022-08-15T00:00:00.000Z', 'confidence': None}]",
                    "level": null,
                    "subtype": null,
                    "class": null,
                    "height": 4.7763734,
                    "names": null,
                    "has_parts": false,
                    "is_underground": false,
                    "num_floors": null,
                    "num_floors_underground": null,
                    "min_height": null,
                    "min_floor": null,
                    "facade_color": null,
                    "facade_material": null,
                    "roof_material": null,
                    "roof_shape": null,
                    "roof_direction": null,
                    "roof_orientation": null,
                    "roof_color": null,
                    "roof_height": null,
                    "style": {
                      "weight": 1
                    }
                  },
                  "geometry": {
                    "type": "Polygon",
                    "coordinates": [
                      [
                        [
                          -117.59619859859784,
                          47.650323497077615
                        ],
                        [
                          -117.59617993340791,
                          47.650309480108334
                        ],
                        [
                          -117.59624681428326,
                          47.65026906406744
                        ],
                        [
                          -117.59614548896657,
                          47.65019297182398
                        ],
                        [
                          -117.59595822251566,
                          47.650306136824604
                        ],
                        [
                          -117.59607821302222,
                          47.65039624585292
                        ],
                        [
                          -117.59619859859784,
                          47.650323497077615
                        ]
                      ]
                    ]
                  },
                  "bbox": [
                    -117.59624681428326,
                    47.65019297182398,
                    -117.59595822251566,
                    47.65039624585292
                  ]
                },
                {
                  "id": "109",
                  "type": "Feature",
                  "properties": {
                    "id": "08b12db7032d4fff0200d852716a1811",
                    "bbox": "{ \"xmin\": -117.59444427490234, \"xmax\": -117.59417724609375, \"ymin\": 47.650173187255859, \"ymax\": 47.650299072265625 }",
                    "theme": "buildings",
                    "type": "building",
                    "version": 0,
                    "sources": "[{'property': '', 'dataset': 'OpenStreetMap', 'record_id': 'w658910103@2', 'update_time': '2023-10-22T20:39:31.000Z', 'confidence': None}\n {'property': 'properties/height', 'dataset': 'Microsoft ML Buildings', 'record_id': None, 'update_time': None, 'confidence': None}]",
                    "level": null,
                    "subtype": null,
                    "class": null,
                    "height": 4.355366,
                    "names": null,
                    "has_parts": false,
                    "is_underground": false,
                    "num_floors": null,
                    "num_floors_underground": null,
                    "min_height": null,
                    "min_floor": null,
                    "facade_color": null,
                    "facade_material": null,
                    "roof_material": null,
                    "roof_shape": null,
                    "roof_direction": null,
                    "roof_orientation": null,
                    "roof_color": null,
                    "roof_height": null,
                    "style": {
                      "weight": 1
                    }
                  },
                  "geometry": {
                    "type": "Polygon",
                    "coordinates": [
                      [
                        [
                          -117.5944409,
                          47.6502988
                        ],
                        [
                          -117.5944407,
                          47.6501744
                        ],
                        [
                          -117.594332,
                          47.6501745
                        ],
                        [
                          -117.594332,
                          47.6501899
                        ],
                        [
                          -117.594178,
                          47.65019
                        ],
                        [
                          -117.5941781,
                          47.6502691
                        ],
                        [
                          -117.5942824,
                          47.650269
                        ],
                        [
                          -117.5942824,
                          47.6502989
                        ],
                        [
                          -117.5944409,
                          47.6502988
                        ]
                      ]
                    ]
                  },
                  "bbox": [
                    -117.5944409,
                    47.6501744,
                    -117.594178,
                    47.6502989
                  ]
                },
                {
                  "id": "110",
                  "type": "Feature",
                  "properties": {
                    "id": "08b12db7032c6fff0200a354cdf81437",
                    "bbox": "{ \"xmin\": -117.59400177001953, \"xmax\": -117.59372711181641, \"ymin\": 47.650169372558594, \"ymax\": 47.650279998779297 }",
                    "theme": "buildings",
                    "type": "building",
                    "version": 0,
                    "sources": "[{'property': '', 'dataset': 'OpenStreetMap', 'record_id': 'w658910106@1', 'update_time': '2018-12-28T21:05:07.000Z', 'confidence': None}\n {'property': 'properties/height', 'dataset': 'Microsoft ML Buildings', 'record_id': None, 'update_time': None, 'confidence': None}]",
                    "level": null,
                    "subtype": null,
                    "class": null,
                    "height": 3.904376,
                    "names": null,
                    "has_parts": false,
                    "is_underground": false,
                    "num_floors": null,
                    "num_floors_underground": null,
                    "min_height": null,
                    "min_floor": null,
                    "facade_color": null,
                    "facade_material": null,
                    "roof_material": null,
                    "roof_shape": null,
                    "roof_direction": null,
                    "roof_orientation": null,
                    "roof_color": null,
                    "roof_height": null,
                    "style": {
                      "weight": 1
                    }
                  },
                  "geometry": {
                    "type": "Polygon",
                    "coordinates": [
                      [
                        [
                          -117.5939988,
                          47.6502731
                        ],
                        [
                          -117.5939988,
                          47.6501901
                        ],
                        [
                          -117.5938368,
                          47.6501901
                        ],
                        [
                          -117.5938368,
                          47.6501815
                        ],
                        [
                          -117.5938148,
                          47.6501815
                        ],
                        [
                          -117.5938148,
                          47.6501764
                        ],
                        [
                          -117.5937308,
                          47.6501765
                        ],
                        [
                          -117.5937308,
                          47.6502726
                        ],
                        [
                          -117.5939988,
                          47.6502731
                        ]
                      ]
                    ]
                  },
                  "bbox": [
                    -117.5939988,
                    47.6501764,
                    -117.5937308,
                    47.6502731
                  ]
                },
                {
                  "id": "111",
                  "type": "Feature",
                  "properties": {
                    "id": "08b12db703282fff0200c5e1299cf4af",
                    "bbox": "{ \"xmin\": -117.59767150878906, \"xmax\": -117.59759521484375, \"ymin\": 47.650928497314453, \"ymax\": 47.651206970214844 }",
                    "theme": "buildings",
                    "type": "building",
                    "version": 0,
                    "sources": "[{'property': '', 'dataset': 'Microsoft ML Buildings', 'record_id': None, 'update_time': '2022-08-15T00:00:00.000Z', 'confidence': None}]",
                    "level": null,
                    "subtype": null,
                    "class": null,
                    "height": 4.1703453,
                    "names": null,
                    "has_parts": false,
                    "is_underground": false,
                    "num_floors": null,
                    "num_floors_underground": null,
                    "min_height": null,
                    "min_floor": null,
                    "facade_color": null,
                    "facade_material": null,
                    "roof_material": null,
                    "roof_shape": null,
                    "roof_direction": null,
                    "roof_orientation": null,
                    "roof_color": null,
                    "roof_height": null,
                    "style": {
                      "weight": 1
                    }
                  },
                  "geometry": {
                    "type": "Polygon",
                    "coordinates": [
                      [
                        [
                          -117.59765323462877,
                          47.65093586969994
                        ],
                        [
                          -117.59761033059632,
                          47.65093633899519
                        ],
                        [
                          -117.59761372676519,
                          47.65107723661059
                        ],
                        [
                          -117.59763517878142,
                          47.6510770019636
                        ],
                        [
                          -117.5976382701659,
                          47.65120525459131
                        ],
                        [
                          -117.59765972218212,
                          47.651205019944896
                        ],
                        [
                          -117.59765323462877,
                          47.65093586969994
                        ]
                      ]
                    ]
                  },
                  "bbox": [
                    -117.59765972218212,
                    47.65093586969994,
                    -117.59761033059632,
                    47.65120525459131
                  ]
                },
                {
                  "id": "112",
                  "type": "Feature",
                  "properties": {
                    "id": "08b12db70329dfff02006b262a870495",
                    "bbox": "{ \"xmin\": -117.59696197509766, \"xmax\": -117.5966796875, \"ymin\": 47.650527954101562, \"ymax\": 47.650684356689453 }",
                    "theme": "buildings",
                    "type": "building",
                    "version": 0,
                    "sources": "[{'property': '', 'dataset': 'Microsoft ML Buildings', 'record_id': None, 'update_time': '2022-08-15T00:00:00.000Z', 'confidence': None}]",
                    "level": null,
                    "subtype": null,
                    "class": null,
                    "height": 4.903136,
                    "names": null,
                    "has_parts": false,
                    "is_underground": false,
                    "num_floors": null,
                    "num_floors_underground": null,
                    "min_height": null,
                    "min_floor": null,
                    "facade_color": null,
                    "facade_material": null,
                    "roof_material": null,
                    "roof_shape": null,
                    "roof_direction": null,
                    "roof_orientation": null,
                    "roof_color": null,
                    "roof_height": null,
                    "style": {
                      "weight": 1
                    }
                  },
                  "geometry": {
                    "type": "Polygon",
                    "coordinates": [
                      [
                        [
                          -117.59674190477666,
                          47.650677238563674
                        ],
                        [
                          -117.59694090478703,
                          47.6506836092329
                        ],
                        [
                          -117.5969487103395,
                          47.65057296230195
                        ],
                        [
                          -117.5968122263661,
                          47.65056858654023
                        ],
                        [
                          -117.59681472176126,
                          47.650533213230425
                        ],
                        [
                          -117.5966986981876,
                          47.650529498909414
                        ],
                        [
                          -117.59669182049578,
                          47.65062684975228
                        ],
                        [
                          -117.59674534362259,
                          47.65062856321189
                        ],
                        [
                          -117.59674190477666,
                          47.650677238563674
                        ]
                      ]
                    ]
                  },
                  "bbox": [
                    -117.5969487103395,
                    47.650529498909414,
                    -117.59669182049578,
                    47.6506836092329
                  ]
                },
                {
                  "id": "113",
                  "type": "Feature",
                  "properties": {
                    "id": "08b12db703283fff020024d4e71e3d68",
                    "bbox": "{ \"xmin\": -117.59706878662109, \"xmax\": -117.59680938720703, \"ymin\": 47.6507568359375, \"ymax\": 47.650936126708984 }",
                    "theme": "buildings",
                    "type": "building",
                    "version": 0,
                    "sources": "[{'property': '', 'dataset': 'Microsoft ML Buildings', 'record_id': None, 'update_time': '2022-08-15T00:00:00.000Z', 'confidence': None}]",
                    "level": null,
                    "subtype": null,
                    "class": null,
                    "height": 4.9578357,
                    "names": null,
                    "has_parts": false,
                    "is_underground": false,
                    "num_floors": null,
                    "num_floors_underground": null,
                    "min_height": null,
                    "min_floor": null,
                    "facade_color": null,
                    "facade_material": null,
                    "roof_material": null,
                    "roof_shape": null,
                    "roof_direction": null,
                    "roof_orientation": null,
                    "roof_color": null,
                    "roof_height": null,
                    "style": {
                      "weight": 1
                    }
                  },
                  "geometry": {
                    "type": "Polygon",
                    "coordinates": [
                      [
                        [
                          -117.5968130251531,
                          47.65079229972368
                        ],
                        [
                          -117.59687355870248,
                          47.65093538399995
                        ],
                        [
                          -117.5970571320133,
                          47.65090014062264
                        ],
                        [
                          -117.5969965950774,
                          47.65075704824506
                        ],
                        [
                          -117.5968130251531,
                          47.65079229972368
                        ]
                      ]
                    ]
                  },
                  "bbox": [
                    -117.5970571320133,
                    47.65075704824506,
                    -117.5968130251531,
                    47.65093538399995
                  ]
                },
                {
                  "id": "114",
                  "type": "Feature",
                  "properties": {
                    "id": "08b12db703283fff020030aac0baf324",
                    "bbox": "{ \"xmin\": -117.59679412841797, \"xmax\": -117.5965576171875, \"ymin\": 47.650829315185547, \"ymax\": 47.650989532470703 }",
                    "theme": "buildings",
                    "type": "building",
                    "version": 0,
                    "sources": "[{'property': '', 'dataset': 'Microsoft ML Buildings', 'record_id': None, 'update_time': '2022-08-15T00:00:00.000Z', 'confidence': None}]",
                    "level": null,
                    "subtype": null,
                    "class": null,
                    "height": 5.1551886,
                    "names": null,
                    "has_parts": false,
                    "is_underground": false,
                    "num_floors": null,
                    "num_floors_underground": null,
                    "min_height": null,
                    "min_floor": null,
                    "facade_color": null,
                    "facade_material": null,
                    "roof_material": null,
                    "roof_shape": null,
                    "roof_direction": null,
                    "roof_orientation": null,
                    "roof_color": null,
                    "roof_height": null,
                    "style": {
                      "weight": 1
                    }
                  },
                  "geometry": {
                    "type": "Polygon",
                    "coordinates": [
                      [
                        [
                          -117.59671498152098,
                          47.650830457543655
                        ],
                        [
                          -117.5965606112502,
                          47.6508711500017
                        ],
                        [
                          -117.59661284191922,
                          47.65096106646221
                        ],
                        [
                          -117.59668029553603,
                          47.65094328234438
                        ],
                        [
                          -117.59670669063486,
                          47.650988722152725
                        ],
                        [
                          -117.59679361581692,
                          47.650965804375886
                        ],
                        [
                          -117.59671498152098,
                          47.650830457543655
                        ]
                      ]
                    ]
                  },
                  "bbox": [
                    -117.59679361581692,
                    47.650830457543655,
                    -117.5965606112502,
                    47.650988722152725
                  ]
                },
                {
                  "id": "115",
                  "type": "Feature",
                  "properties": {
                    "id": "08b12db703280fff020049bd84ee99ee",
                    "bbox": "{ \"xmin\": -117.59723663330078, \"xmax\": -117.59696197509766, \"ymin\": 47.65118408203125, \"ymax\": 47.651363372802734 }",
                    "theme": "buildings",
                    "type": "building",
                    "version": 0,
                    "sources": "[{'property': '', 'dataset': 'Microsoft ML Buildings', 'record_id': None, 'update_time': '2022-08-15T00:00:00.000Z', 'confidence': None}]",
                    "level": null,
                    "subtype": null,
                    "class": null,
                    "height": 5.4925656,
                    "names": null,
                    "has_parts": false,
                    "is_underground": false,
                    "num_floors": null,
                    "num_floors_underground": null,
                    "min_height": null,
                    "min_floor": null,
                    "facade_color": null,
                    "facade_material": null,
                    "roof_material": null,
                    "roof_shape": null,
                    "roof_direction": null,
                    "roof_orientation": null,
                    "roof_color": null,
                    "roof_height": null,
                    "style": {
                      "weight": 1
                    }
                  },
                  "geometry": {
                    "type": "Polygon",
                    "coordinates": [
                      [
                        [
                          -117.59722233078179,
                          47.651326314662185
                        ],
                        [
                          -117.59719808382076,
                          47.65125673308954
                        ],
                        [
                          -117.59714469914155,
                          47.651265174928255
                        ],
                        [
                          -117.59711903909648,
                          47.65119153813521
                        ],
                        [
                          -117.59697667995188,
                          47.65121404973022
                        ],
                        [
                          -117.59702658390995,
                          47.651357259276
                        ],
                        [
                          -117.59722233078179,
                          47.651326314662185
                        ]
                      ]
                    ]
                  },
                  "bbox": [
                    -117.59722233078179,
                    47.65119153813521,
                    -117.59697667995188,
                    47.651357259276
                  ]
                },
                {
                  "id": "116",
                  "type": "Feature",
                  "properties": {
                    "id": "08b12db703284fff0200ef996793eb96",
                    "bbox": "{ \"xmin\": -117.59735870361328, \"xmax\": -117.59707641601562, \"ymin\": 47.651561737060547, \"ymax\": 47.651725769042969 }",
                    "theme": "buildings",
                    "type": "building",
                    "version": 0,
                    "sources": "[{'property': '', 'dataset': 'Microsoft ML Buildings', 'record_id': None, 'update_time': '2022-08-15T00:00:00.000Z', 'confidence': None}]",
                    "level": null,
                    "subtype": null,
                    "class": null,
                    "height": 5.4846206,
                    "names": null,
                    "has_parts": false,
                    "is_underground": false,
                    "num_floors": null,
                    "num_floors_underground": null,
                    "min_height": null,
                    "min_floor": null,
                    "facade_color": null,
                    "facade_material": null,
                    "roof_material": null,
                    "roof_shape": null,
                    "roof_direction": null,
                    "roof_orientation": null,
                    "roof_color": null,
                    "roof_height": null,
                    "style": {
                      "weight": 1
                    }
                  },
                  "geometry": {
                    "type": "Polygon",
                    "coordinates": [
                      [
                        [
                          -117.5973437975482,
                          47.65168819420247
                        ],
                        [
                          -117.59730479480136,
                          47.65156175486609
                        ],
                        [
                          -117.59708983220398,
                          47.651591845256846
                        ],
                        [
                          -117.59712884754356,
                          47.65171828275764
                        ],
                        [
                          -117.5973437975482,
                          47.65168819420247
                        ]
                      ]
                    ]
                  },
                  "bbox": [
                    -117.5973437975482,
                    47.65156175486609,
                    -117.59708983220398,
                    47.65171828275764
                  ]
                },
                {
                  "id": "117",
                  "type": "Feature",
                  "properties": {
                    "id": "08b12db703284fff02008dffdb3fd370",
                    "bbox": "{ \"xmin\": -117.597412109375, \"xmax\": -117.59714508056641, \"ymin\": 47.651721954345703, \"ymax\": 47.651878356933594 }",
                    "theme": "buildings",
                    "type": "building",
                    "version": 0,
                    "sources": "[{'property': '', 'dataset': 'Microsoft ML Buildings', 'record_id': None, 'update_time': '2022-08-15T00:00:00.000Z', 'confidence': None}]",
                    "level": null,
                    "subtype": null,
                    "class": null,
                    "height": 5.156881,
                    "names": null,
                    "has_parts": false,
                    "is_underground": false,
                    "num_floors": null,
                    "num_floors_underground": null,
                    "min_height": null,
                    "min_floor": null,
                    "facade_color": null,
                    "facade_material": null,
                    "roof_material": null,
                    "roof_shape": null,
                    "roof_direction": null,
                    "roof_orientation": null,
                    "roof_color": null,
                    "roof_height": null,
                    "style": {
                      "weight": 1
                    }
                  },
                  "geometry": {
                    "type": "Polygon",
                    "coordinates": [
                      [
                        [
                          -117.59714732958983,
                          47.65175954006531
                        ],
                        [
                          -117.5971844553586,
                          47.65187708325601
                        ],
                        [
                          -117.59739743715865,
                          47.651846557358944
                        ],
                        [
                          -117.59736031138985,
                          47.651729014099544
                        ],
                        [
                          -117.59714732958983,
                          47.65175954006531
                        ]
                      ]
                    ]
                  },
                  "bbox": [
                    -117.59739743715865,
                    47.651729014099544,
                    -117.59714732958983,
                    47.65187708325601
                  ]
                },
                {
                  "id": "118",
                  "type": "Feature",
                  "properties": {
                    "id": "08b12db703280fff0200f98e37a9aa7b",
                    "bbox": "{ \"xmin\": -117.59688568115234, \"xmax\": -117.59658813476562, \"ymin\": 47.651355743408203, \"ymax\": 47.651557922363281 }",
                    "theme": "buildings",
                    "type": "building",
                    "version": 0,
                    "sources": "[{'property': '', 'dataset': 'Microsoft ML Buildings', 'record_id': None, 'update_time': '2022-08-15T00:00:00.000Z', 'confidence': None}]",
                    "level": null,
                    "subtype": null,
                    "class": null,
                    "height": 5.6958923,
                    "names": null,
                    "has_parts": false,
                    "is_underground": false,
                    "num_floors": null,
                    "num_floors_underground": null,
                    "min_height": null,
                    "min_floor": null,
                    "facade_color": null,
                    "facade_material": null,
                    "roof_material": null,
                    "roof_shape": null,
                    "roof_direction": null,
                    "roof_orientation": null,
                    "roof_color": null,
                    "roof_height": null,
                    "style": {
                      "weight": 1
                    }
                  },
                  "geometry": {
                    "type": "Polygon",
                    "coordinates": [
                      [
                        [
                          -117.59659004342141,
                          47.65144993270751
                        ],
                        [
                          -117.59675192679389,
                          47.651550809321854
                        ],
                        [
                          -117.59687226074549,
                          47.65146317918679
                        ],
                        [
                          -117.59671037737301,
                          47.65136230240319
                        ],
                        [
                          -117.59659004342141,
                          47.65144993270751
                        ]
                      ]
                    ]
                  },
                  "bbox": [
                    -117.59687226074549,
                    47.65136230240319,
                    -117.59659004342141,
                    47.651550809321854
                  ]
                },
                {
                  "id": "119",
                  "type": "Feature",
                  "properties": {
                    "id": "08b12db703285fff020053fcfefe530b",
                    "bbox": "{ \"xmin\": -117.5966796875, \"xmax\": -117.59638977050781, \"ymin\": 47.651515960693359, \"ymax\": 47.651676177978516 }",
                    "theme": "buildings",
                    "type": "building",
                    "version": 0,
                    "sources": "[{'property': '', 'dataset': 'Microsoft ML Buildings', 'record_id': None, 'update_time': '2022-08-15T00:00:00.000Z', 'confidence': None}]",
                    "level": null,
                    "subtype": null,
                    "class": null,
                    "height": 5.084679,
                    "names": null,
                    "has_parts": false,
                    "is_underground": false,
                    "num_floors": null,
                    "num_floors_underground": null,
                    "min_height": null,
                    "min_floor": null,
                    "facade_color": null,
                    "facade_material": null,
                    "roof_material": null,
                    "roof_shape": null,
                    "roof_direction": null,
                    "roof_orientation": null,
                    "roof_color": null,
                    "roof_height": null,
                    "style": {
                      "weight": 1
                    }
                  },
                  "geometry": {
                    "type": "Polygon",
                    "coordinates": [
                      [
                        [
                          -117.59640491002656,
                          47.651581428184286
                        ],
                        [
                          -117.5965528666389,
                          47.65167520968612
                        ],
                        [
                          -117.59666664954656,
                          47.65159374945157
                        ],
                        [
                          -117.59654430080944,
                          47.65151619925463
                        ],
                        [
                          -117.59649477177904,
                          47.651551658483804
                        ],
                        [
                          -117.59646916390382,
                          47.65153542704368
                        ],
                        [
                          -117.59640491002656,
                          47.651581428184286
                        ]
                      ]
                    ]
                  },
                  "bbox": [
                    -117.59666664954656,
                    47.65151619925463,
                    -117.59640491002656,
                    47.65167520968612
                  ]
                },
                {
                  "id": "120",
                  "type": "Feature",
                  "properties": {
                    "id": "08b12db703285fff0200e8d9ccd82249",
                    "bbox": "{ \"xmin\": -117.59650421142578, \"xmax\": -117.59625244140625, \"ymin\": 47.651626586914062, \"ymax\": 47.651813507080078 }",
                    "theme": "buildings",
                    "type": "building",
                    "version": 0,
                    "sources": "[{'property': '', 'dataset': 'Microsoft ML Buildings', 'record_id': None, 'update_time': '2022-08-15T00:00:00.000Z', 'confidence': None}]",
                    "level": null,
                    "subtype": null,
                    "class": null,
                    "height": 5.806591,
                    "names": null,
                    "has_parts": false,
                    "is_underground": false,
                    "num_floors": null,
                    "num_floors_underground": null,
                    "min_height": null,
                    "min_floor": null,
                    "facade_color": null,
                    "facade_material": null,
                    "roof_material": null,
                    "roof_shape": null,
                    "roof_direction": null,
                    "roof_orientation": null,
                    "roof_color": null,
                    "roof_height": null,
                    "style": {
                      "weight": 1
                    }
                  },
                  "geometry": {
                    "type": "Polygon",
                    "coordinates": [
                      [
                        [
                          -117.59631242435556,
                          47.65171210196009
                        ],
                        [
                          -117.5962808045565,
                          47.65173450442763
                        ],
                        [
                          -117.59639292857493,
                          47.65180632409396
                        ],
                        [
                          -117.59650224168192,
                          47.65172888207739
                        ],
                        [
                          -117.59634447157016,
                          47.65162783162547
                        ],
                        [
                          -117.59626678340351,
                          47.65168286931843
                        ],
                        [
                          -117.59631242435556,
                          47.65171210196009
                        ]
                      ]
                    ]
                  },
                  "bbox": [
                    -117.59650224168192,
                    47.65162783162547,
                    -117.59626678340351,
                    47.65180632409396
                  ]
                },
                {
                  "id": "121",
                  "type": "Feature",
                  "properties": {
                    "id": "08b12db703288fff0200eafa66249f47",
                    "bbox": "{ \"xmin\": -117.59610748291016, \"xmax\": -117.59581756591797, \"ymin\": 47.650417327880859, \"ymax\": 47.650569915771484 }",
                    "theme": "buildings",
                    "type": "building",
                    "version": 0,
                    "sources": "[{'property': '', 'dataset': 'Microsoft ML Buildings', 'record_id': None, 'update_time': '2022-08-15T00:00:00.000Z', 'confidence': None}]",
                    "level": null,
                    "subtype": null,
                    "class": null,
                    "height": 4.215458,
                    "names": null,
                    "has_parts": false,
                    "is_underground": false,
                    "num_floors": null,
                    "num_floors_underground": null,
                    "min_height": null,
                    "min_floor": null,
                    "facade_color": null,
                    "facade_material": null,
                    "roof_material": null,
                    "roof_shape": null,
                    "roof_direction": null,
                    "roof_orientation": null,
                    "roof_color": null,
                    "roof_height": null,
                    "style": {
                      "weight": 1
                    }
                  },
                  "geometry": {
                    "type": "Polygon",
                    "coordinates": [
                      [
                        [
                          -117.59582952669138,
                          47.65054073850668
                        ],
                        [
                          -117.59598224780358,
                          47.650568215592756
                        ],
                        [
                          -117.59599990038302,
                          47.65052369038114
                        ],
                        [
                          -117.59605497916739,
                          47.650533602578754
                        ],
                        [
                          -117.59609282643423,
                          47.65043814007072
                        ],
                        [
                          -117.59597856912902,
                          47.6504175832179
                        ],
                        [
                          -117.59596612949856,
                          47.65044895162316
                        ],
                        [
                          -117.59587259062026,
                          47.65043211796531
                        ],
                        [
                          -117.59582952669138,
                          47.65054073850668
                        ]
                      ]
                    ]
                  },
                  "bbox": [
                    -117.59609282643423,
                    47.6504175832179,
                    -117.59582952669138,
                    47.650568215592756
                  ]
                },
                {
                  "id": "122",
                  "type": "Feature",
                  "properties": {
                    "id": "08b12db703288fff020015c039b136ae",
                    "bbox": "{ \"xmin\": -117.59605407714844, \"xmax\": -117.5958251953125, \"ymin\": 47.650608062744141, \"ymax\": 47.650730133056641 }",
                    "theme": "buildings",
                    "type": "building",
                    "version": 0,
                    "sources": "[{'property': '', 'dataset': 'Microsoft ML Buildings', 'record_id': None, 'update_time': '2022-08-15T00:00:00.000Z', 'confidence': None}]",
                    "level": null,
                    "subtype": null,
                    "class": null,
                    "height": 5.1593137,
                    "names": null,
                    "has_parts": false,
                    "is_underground": false,
                    "num_floors": null,
                    "num_floors_underground": null,
                    "min_height": null,
                    "min_floor": null,
                    "facade_color": null,
                    "facade_material": null,
                    "roof_material": null,
                    "roof_shape": null,
                    "roof_direction": null,
                    "roof_orientation": null,
                    "roof_color": null,
                    "roof_height": null,
                    "style": {
                      "weight": 1
                    }
                  },
                  "geometry": {
                    "type": "Polygon",
                    "coordinates": [
                      [
                        [
                          -117.59583733665106,
                          47.65061769989479
                        ],
                        [
                          -117.59583980356005,
                          47.65072970102011
                        ],
                        [
                          -117.59605165143282,
                          47.65072758352824
                        ],
                        [
                          -117.59604918452385,
                          47.65061558239838
                        ],
                        [
                          -117.59583733665106,
                          47.65061769989479
                        ]
                      ]
                    ]
                  },
                  "bbox": [
                    -117.59605165143282,
                    47.65061558239838,
                    -117.59583733665106,
                    47.65072970102011
                  ]
                },
                {
                  "id": "123",
                  "type": "Feature",
                  "properties": {
                    "id": "08b12db70328cfff02006b2e437d3478",
                    "bbox": "{ \"xmin\": -117.5960693359375, \"xmax\": -117.59587097167969, \"ymin\": 47.650787353515625, \"ymax\": 47.650936126708984 }",
                    "theme": "buildings",
                    "type": "building",
                    "version": 0,
                    "sources": "[{'property': '', 'dataset': 'Microsoft ML Buildings', 'record_id': None, 'update_time': '2022-08-15T00:00:00.000Z', 'confidence': None}]",
                    "level": null,
                    "subtype": null,
                    "class": null,
                    "height": 5.820459,
                    "names": null,
                    "has_parts": false,
                    "is_underground": false,
                    "num_floors": null,
                    "num_floors_underground": null,
                    "min_height": null,
                    "min_floor": null,
                    "facade_color": null,
                    "facade_material": null,
                    "roof_material": null,
                    "roof_shape": null,
                    "roof_direction": null,
                    "roof_orientation": null,
                    "roof_color": null,
                    "roof_height": null,
                    "style": {
                      "weight": 1
                    }
                  },
                  "geometry": {
                    "type": "Polygon",
                    "coordinates": [
                      [
                        [
                          -117.59603689667189,
                          47.65092710887103
                        ],
                        [
                          -117.59603516925226,
                          47.650863890198
                        ],
                        [
                          -117.59605661965658,
                          47.65086362421623
                        ],
                        [
                          -117.59605469481757,
                          47.650793180461505
                        ],
                        [
                          -117.59587236638102,
                          47.65079544130965
                        ],
                        [
                          -117.59587601863963,
                          47.650929103731926
                        ],
                        [
                          -117.59603689667189,
                          47.65092710887103
                        ]
                      ]
                    ]
                  },
                  "bbox": [
                    -117.59605661965658,
                    47.650793180461505,
                    -117.59587236638102,
                    47.650929103731926
                  ]
                },
                {
                  "id": "124",
                  "type": "Feature",
                  "properties": {
                    "id": "08b12db70328cfff020085c8f11470cb",
                    "bbox": "{ \"xmin\": -117.59616088867188, \"xmax\": -117.59587860107422, \"ymin\": 47.650970458984375, \"ymax\": 47.651126861572266 }",
                    "theme": "buildings",
                    "type": "building",
                    "version": 0,
                    "sources": "[{'property': '', 'dataset': 'Microsoft ML Buildings', 'record_id': None, 'update_time': '2022-08-15T00:00:00.000Z', 'confidence': None}]",
                    "level": null,
                    "subtype": null,
                    "class": null,
                    "height": 5.264402,
                    "names": null,
                    "has_parts": false,
                    "is_underground": false,
                    "num_floors": null,
                    "num_floors_underground": null,
                    "min_height": null,
                    "min_floor": null,
                    "facade_color": null,
                    "facade_material": null,
                    "roof_material": null,
                    "roof_shape": null,
                    "roof_direction": null,
                    "roof_orientation": null,
                    "roof_color": null,
                    "roof_height": null,
                    "style": {
                      "weight": 1
                    }
                  },
                  "geometry": {
                    "type": "Polygon",
                    "coordinates": [
                      [
                        [
                          -117.59589212780611,
                          47.65102652616338
                        ],
                        [
                          -117.59597245255665,
                          47.65112511422445
                        ],
                        [
                          -117.5961600284539,
                          47.65105576164095
                        ],
                        [
                          -117.59611409276948,
                          47.65099938158109
                        ],
                        [
                          -117.59606050123806,
                          47.651019198577494
                        ],
                        [
                          -117.59602611058988,
                          47.650976988519616
                        ],
                        [
                          -117.59589212780611,
                          47.65102652616338
                        ]
                      ]
                    ]
                  },
                  "bbox": [
                    -117.5961600284539,
                    47.650976988519616,
                    -117.59589212780611,
                    47.65112511422445
                  ]
                },
                {
                  "id": "125",
                  "type": "Feature",
                  "properties": {
                    "id": "08b12db7032f2fff020095bca76bd5c2",
                    "bbox": "{ \"xmin\": -117.59507751464844, \"xmax\": -117.59481048583984, \"ymin\": 47.650417327880859, \"ymax\": 47.650585174560547 }",
                    "theme": "buildings",
                    "type": "building",
                    "version": 0,
                    "sources": "[{'property': '', 'dataset': 'OpenStreetMap', 'record_id': 'w657749070@1', 'update_time': '2018-12-25T00:48:30.000Z', 'confidence': None}\n {'property': 'properties/height', 'dataset': 'Microsoft ML Buildings', 'record_id': None, 'update_time': None, 'confidence': None}]",
                    "level": null,
                    "subtype": null,
                    "class": null,
                    "height": 4.326293,
                    "names": null,
                    "has_parts": false,
                    "is_underground": false,
                    "num_floors": null,
                    "num_floors_underground": null,
                    "min_height": null,
                    "min_floor": null,
                    "facade_color": null,
                    "facade_material": null,
                    "roof_material": null,
                    "roof_shape": null,
                    "roof_direction": null,
                    "roof_orientation": null,
                    "roof_color": null,
                    "roof_height": null,
                    "style": {
                      "weight": 1
                    }
                  },
                  "geometry": {
                    "type": "Polygon",
                    "coordinates": [
                      [
                        [
                          -117.5950642,
                          47.6505151
                        ],
                        [
                          -117.5950645,
                          47.6504238
                        ],
                        [
                          -117.5948609,
                          47.6504234
                        ],
                        [
                          -117.5948606,
                          47.6505009
                        ],
                        [
                          -117.5948239,
                          47.6505008
                        ],
                        [
                          -117.5948236,
                          47.6505837
                        ],
                        [
                          -117.5949359,
                          47.6505839
                        ],
                        [
                          -117.5949362,
                          47.6505148
                        ],
                        [
                          -117.5950642,
                          47.6505151
                        ]
                      ]
                    ]
                  },
                  "bbox": [
                    -117.5950645,
                    47.6504234,
                    -117.5948236,
                    47.6505839
                  ]
                },
                {
                  "id": "126",
                  "type": "Feature",
                  "properties": {
                    "id": "08b12db703281fff0200f336a020b584",
                    "bbox": "{ \"xmin\": -117.59629821777344, \"xmax\": -117.59600830078125, \"ymin\": 47.651096343994141, \"ymax\": 47.651290893554688 }",
                    "theme": "buildings",
                    "type": "building",
                    "version": 0,
                    "sources": "[{'property': '', 'dataset': 'Microsoft ML Buildings', 'record_id': None, 'update_time': '2022-08-15T00:00:00.000Z', 'confidence': None}]",
                    "level": null,
                    "subtype": null,
                    "class": null,
                    "height": 4.116215,
                    "names": null,
                    "has_parts": false,
                    "is_underground": false,
                    "num_floors": null,
                    "num_floors_underground": null,
                    "min_height": null,
                    "min_floor": null,
                    "facade_color": null,
                    "facade_material": null,
                    "roof_material": null,
                    "roof_shape": null,
                    "roof_direction": null,
                    "roof_orientation": null,
                    "roof_color": null,
                    "roof_height": null,
                    "style": {
                      "weight": 1
                    }
                  },
                  "geometry": {
                    "type": "Polygon",
                    "coordinates": [
                      [
                        [
                          -117.59619939265754,
                          47.65110323251567
                        ],
                        [
                          -117.59601081565326,
                          47.651179089911714
                        ],
                        [
                          -117.59610881072258,
                          47.651289638661986
                        ],
                        [
                          -117.59629739619317,
                          47.651213778020825
                        ],
                        [
                          -117.59619939265754,
                          47.65110323251567
                        ]
                      ]
                    ]
                  },
                  "bbox": [
                    -117.59629739619317,
                    47.65110323251567,
                    -117.59601081565326,
                    47.651289638661986
                  ]
                },
                {
                  "id": "127",
                  "type": "Feature",
                  "properties": {
                    "id": "08b12db7032aafff0200f16355d09a37",
                    "bbox": "{ \"xmin\": -117.59605407714844, \"xmax\": -117.59580993652344, \"ymin\": 47.651252746582031, \"ymax\": 47.651447296142578 }",
                    "theme": "buildings",
                    "type": "building",
                    "version": 0,
                    "sources": "[{'property': '', 'dataset': 'Microsoft ML Buildings', 'record_id': None, 'update_time': '2022-08-15T00:00:00.000Z', 'confidence': None}]",
                    "level": null,
                    "subtype": null,
                    "class": null,
                    "height": 4.8352194,
                    "names": null,
                    "has_parts": false,
                    "is_underground": false,
                    "num_floors": null,
                    "num_floors_underground": null,
                    "min_height": null,
                    "min_floor": null,
                    "facade_color": null,
                    "facade_material": null,
                    "roof_material": null,
                    "roof_shape": null,
                    "roof_direction": null,
                    "roof_orientation": null,
                    "roof_color": null,
                    "roof_height": null,
                    "style": {
                      "weight": 1
                    }
                  },
                  "geometry": {
                    "type": "Polygon",
                    "coordinates": [
                      [
                        [
                          -117.59592779907533,
                          47.65125850297661
                        ],
                        [
                          -117.59581275770084,
                          47.65134173766992
                        ],
                        [
                          -117.59596992198847,
                          47.65144031106915
                        ],
                        [
                          -117.5960341285422,
                          47.65139385297856
                        ],
                        [
                          -117.59599046911146,
                          47.65136646978953
                        ],
                        [
                          -117.59604130134667,
                          47.651329691703026
                        ],
                        [
                          -117.59592779907533,
                          47.65125850297661
                        ]
                      ]
                    ]
                  },
                  "bbox": [
                    -117.59604130134667,
                    47.65125850297661,
                    -117.59581275770084,
                    47.65144031106915
                  ]
                },
                {
                  "id": "128",
                  "type": "Feature",
                  "properties": {
                    "id": "08b12db7032aafff02009908800114dd",
                    "bbox": "{ \"xmin\": -117.59588623046875, \"xmax\": -117.59554290771484, \"ymin\": 47.651409149169922, \"ymax\": 47.651603698730469 }",
                    "theme": "buildings",
                    "type": "building",
                    "version": 0,
                    "sources": "[{'property': '', 'dataset': 'OpenStreetMap', 'record_id': 'w658910091@1', 'update_time': '2018-12-28T21:05:06.000Z', 'confidence': None}\n {'property': 'properties/height', 'dataset': 'Microsoft ML Buildings', 'record_id': None, 'update_time': None, 'confidence': None}]",
                    "level": null,
                    "subtype": null,
                    "class": null,
                    "height": 4.9976444,
                    "names": null,
                    "has_parts": false,
                    "is_underground": false,
                    "num_floors": null,
                    "num_floors_underground": null,
                    "min_height": null,
                    "min_floor": null,
                    "facade_color": null,
                    "facade_material": null,
                    "roof_material": null,
                    "roof_shape": null,
                    "roof_direction": null,
                    "roof_orientation": null,
                    "roof_color": null,
                    "roof_height": null,
                    "style": {
                      "weight": 1
                    }
                  },
                  "geometry": {
                    "type": "Polygon",
                    "coordinates": [
                      [
                        [
                          -117.595885,
                          47.6514926
                        ],
                        [
                          -117.595817,
                          47.6514501
                        ],
                        [
                          -117.595785,
                          47.6514729
                        ],
                        [
                          -117.595696,
                          47.6514164
                        ],
                        [
                          -117.595624,
                          47.6514686
                        ],
                        [
                          -117.595586,
                          47.6514443
                        ],
                        [
                          -117.595543,
                          47.6514746
                        ],
                        [
                          -117.595583,
                          47.6515001
                        ],
                        [
                          -117.595578,
                          47.6515041
                        ],
                        [
                          -117.595733,
                          47.6516034
                        ],
                        [
                          -117.595786,
                          47.6515656
                        ],
                        [
                          -117.595791,
                          47.6515684
                        ],
                        [
                          -117.595858,
                          47.6515202
                        ],
                        [
                          -117.595852,
                          47.6515159
                        ],
                        [
                          -117.595885,
                          47.6514926
                        ]
                      ]
                    ]
                  },
                  "bbox": [
                    -117.595885,
                    47.6514164,
                    -117.595543,
                    47.6516034
                  ]
                },
                {
                  "id": "129",
                  "type": "Feature",
                  "properties": {
                    "id": "08b12db7032a8fff02009a22d519fbd2",
                    "bbox": "{ \"xmin\": -117.59544372558594, \"xmax\": -117.59516906738281, \"ymin\": 47.651371002197266, \"ymax\": 47.651557922363281 }",
                    "theme": "buildings",
                    "type": "building",
                    "version": 0,
                    "sources": "[{'property': '', 'dataset': 'OpenStreetMap', 'record_id': 'w657749060@1', 'update_time': '2018-12-25T00:48:30.000Z', 'confidence': None}\n {'property': 'properties/height', 'dataset': 'Microsoft ML Buildings', 'record_id': None, 'update_time': None, 'confidence': None}]",
                    "level": null,
                    "subtype": null,
                    "class": null,
                    "height": 5.175147,
                    "names": null,
                    "has_parts": false,
                    "is_underground": false,
                    "num_floors": null,
                    "num_floors_underground": null,
                    "min_height": null,
                    "min_floor": null,
                    "facade_color": null,
                    "facade_material": null,
                    "roof_material": null,
                    "roof_shape": null,
                    "roof_direction": null,
                    "roof_orientation": null,
                    "roof_color": null,
                    "roof_height": null,
                    "style": {
                      "weight": 1
                    }
                  },
                  "geometry": {
                    "type": "Polygon",
                    "coordinates": [
                      [
                        [
                          -117.595299,
                          47.6513719
                        ],
                        [
                          -117.595183,
                          47.6514897
                        ],
                        [
                          -117.595245,
                          47.6515175
                        ],
                        [
                          -117.595241,
                          47.6515209
                        ],
                        [
                          -117.59532,
                          47.6515563
                        ],
                        [
                          -117.59544,
                          47.651435
                        ],
                        [
                          -117.595299,
                          47.6513719
                        ]
                      ]
                    ]
                  },
                  "bbox": [
                    -117.59544,
                    47.6513719,
                    -117.595183,
                    47.6515563
                  ]
                },
                {
                  "id": "130",
                  "type": "Feature",
                  "properties": {
                    "id": "08b12db7032abfff0200333a9f9a388b",
                    "bbox": "{ \"xmin\": -117.59510040283203, \"xmax\": -117.59502410888672, \"ymin\": 47.651203155517578, \"ymax\": 47.6512451171875 }",
                    "theme": "buildings",
                    "type": "building",
                    "version": 0,
                    "sources": "[{'property': '', 'dataset': 'OpenStreetMap', 'record_id': 'w657749063@1', 'update_time': '2018-12-25T00:48:30.000Z', 'confidence': None}]",
                    "level": null,
                    "subtype": null,
                    "class": null,
                    "height": null,
                    "names": null,
                    "has_parts": false,
                    "is_underground": false,
                    "num_floors": null,
                    "num_floors_underground": null,
                    "min_height": null,
                    "min_floor": null,
                    "facade_color": null,
                    "facade_material": null,
                    "roof_material": null,
                    "roof_shape": null,
                    "roof_direction": null,
                    "roof_orientation": null,
                    "roof_color": null,
                    "roof_height": null,
                    "style": {
                      "weight": 1
                    }
                  },
                  "geometry": {
                    "type": "Polygon",
                    "coordinates": [
                      [
                        [
                          -117.5950869,
                          47.6512391
                        ],
                        [
                          -117.5950869,
                          47.6512108
                        ],
                        [
                          -117.5950269,
                          47.6512101
                        ],
                        [
                          -117.5950259,
                          47.6512384
                        ],
                        [
                          -117.5950869,
                          47.6512391
                        ]
                      ]
                    ]
                  },
                  "bbox": [
                    -117.5950869,
                    47.6512101,
                    -117.5950259,
                    47.6512391
                  ]
                },
                {
                  "id": "131",
                  "type": "Feature",
                  "properties": {
                    "id": "08b12db7032a8fff0200d1089f3fcba4",
                    "bbox": "{ \"xmin\": -117.59569549560547, \"xmax\": -117.59539794921875, \"ymin\": 47.651557922363281, \"ymax\": 47.6517333984375 }",
                    "theme": "buildings",
                    "type": "building",
                    "version": 0,
                    "sources": "[{'property': '', 'dataset': 'OpenStreetMap', 'record_id': 'w657749062@1', 'update_time': '2018-12-25T00:48:30.000Z', 'confidence': None}\n {'property': 'properties/height', 'dataset': 'Microsoft ML Buildings', 'record_id': None, 'update_time': None, 'confidence': None}]",
                    "level": null,
                    "subtype": null,
                    "class": null,
                    "height": 5.7297707,
                    "names": null,
                    "has_parts": false,
                    "is_underground": false,
                    "num_floors": null,
                    "num_floors_underground": null,
                    "min_height": null,
                    "min_floor": null,
                    "facade_color": null,
                    "facade_material": null,
                    "roof_material": null,
                    "roof_shape": null,
                    "roof_direction": null,
                    "roof_orientation": null,
                    "roof_color": null,
                    "roof_height": null,
                    "style": {
                      "weight": 1
                    }
                  },
                  "geometry": {
                    "type": "Polygon",
                    "coordinates": [
                      [
                        [
                          -117.595556,
                          47.6515589
                        ],
                        [
                          -117.595515,
                          47.6515832
                        ],
                        [
                          -117.595478,
                          47.6515593
                        ],
                        [
                          -117.595399,
                          47.6516116
                        ],
                        [
                          -117.595436,
                          47.6516374
                        ],
                        [
                          -117.595423,
                          47.651646
                        ],
                        [
                          -117.595493,
                          47.6516916
                        ],
                        [
                          -117.59551,
                          47.6516796
                        ],
                        [
                          -117.595584,
                          47.651726
                        ],
                        [
                          -117.595694,
                          47.6516538
                        ],
                        [
                          -117.595556,
                          47.6515589
                        ]
                      ]
                    ]
                  },
                  "bbox": [
                    -117.595694,
                    47.6515589,
                    -117.595399,
                    47.651726
                  ]
                },
                {
                  "id": "132",
                  "type": "Feature",
                  "properties": {
                    "id": "08b12db7032b1fff02009eb56dc08a2d",
                    "bbox": "{ \"xmin\": -117.59746551513672, \"xmax\": -117.59719848632812, \"ymin\": 47.651912689208984, \"ymax\": 47.652069091796875 }",
                    "theme": "buildings",
                    "type": "building",
                    "version": 0,
                    "sources": "[{'property': '', 'dataset': 'Microsoft ML Buildings', 'record_id': None, 'update_time': '2022-08-15T00:00:00.000Z', 'confidence': None}]",
                    "level": null,
                    "subtype": null,
                    "class": null,
                    "height": 5.6567273,
                    "names": null,
                    "has_parts": false,
                    "is_underground": false,
                    "num_floors": null,
                    "num_floors_underground": null,
                    "min_height": null,
                    "min_floor": null,
                    "facade_color": null,
                    "facade_material": null,
                    "roof_material": null,
                    "roof_shape": null,
                    "roof_direction": null,
                    "roof_orientation": null,
                    "roof_color": null,
                    "roof_height": null,
                    "style": {
                      "weight": 1
                    }
                  },
                  "geometry": {
                    "type": "Polygon",
                    "coordinates": [
                      [
                        [
                          -117.59746272881219,
                          47.65203106834343
                        ],
                        [
                          -117.59742523601754,
                          47.651913638204306
                        ],
                        [
                          -117.59721094394784,
                          47.651944695365856
                        ],
                        [
                          -117.59724844840346,
                          47.65206212374513
                        ],
                        [
                          -117.59746272881219,
                          47.65203106834343
                        ]
                      ]
                    ]
                  },
                  "bbox": [
                    -117.59746272881219,
                    47.651913638204306,
                    -117.59721094394784,
                    47.65206212374513
                  ]
                },
                {
                  "id": "133",
                  "type": "Feature",
                  "properties": {
                    "id": "08b12db7032b1fff02004f4fc559ae87",
                    "bbox": "{ \"xmin\": -117.59751892089844, \"xmax\": -117.59726715087891, \"ymin\": 47.652091979980469, \"ymax\": 47.652225494384766 }",
                    "theme": "buildings",
                    "type": "building",
                    "version": 0,
                    "sources": "[{'property': '', 'dataset': 'Microsoft ML Buildings', 'record_id': None, 'update_time': '2022-08-15T00:00:00.000Z', 'confidence': None}]",
                    "level": null,
                    "subtype": null,
                    "class": null,
                    "height": 5.6858745,
                    "names": null,
                    "has_parts": false,
                    "is_underground": false,
                    "num_floors": null,
                    "num_floors_underground": null,
                    "min_height": null,
                    "min_floor": null,
                    "facade_color": null,
                    "facade_material": null,
                    "roof_material": null,
                    "roof_shape": null,
                    "roof_direction": null,
                    "roof_orientation": null,
                    "roof_color": null,
                    "roof_height": null,
                    "style": {
                      "weight": 1
                    }
                  },
                  "geometry": {
                    "type": "Polygon",
                    "coordinates": [
                      [
                        [
                          -117.59751804324453,
                          47.65219455337382
                        ],
                        [
                          -117.5974976545643,
                          47.652130653200096
                        ],
                        [
                          -117.5974361240907,
                          47.65213956201959
                        ],
                        [
                          -117.59742124586457,
                          47.652092932121704
                        ],
                        [
                          -117.59726998345033,
                          47.65211483298275
                        ],
                        [
                          -117.59730525035671,
                          47.652225362997115
                        ],
                        [
                          -117.59751804324453,
                          47.65219455337382
                        ]
                      ]
                    ]
                  },
                  "bbox": [
                    -117.59751804324453,
                    47.652092932121704,
                    -117.59726998345033,
                    47.652225362997115
                  ]
                },
                {
                  "id": "134",
                  "type": "Feature",
                  "properties": {
                    "id": "08b12db7032b5fff0200b2e22fa009b0",
                    "bbox": "{ \"xmin\": -117.59759521484375, \"xmax\": -117.59732818603516, \"ymin\": 47.652256011962891, \"ymax\": 47.652400970458984 }",
                    "theme": "buildings",
                    "type": "building",
                    "version": 0,
                    "sources": "[{'property': '', 'dataset': 'Microsoft ML Buildings', 'record_id': None, 'update_time': '2022-08-15T00:00:00.000Z', 'confidence': None}]",
                    "level": null,
                    "subtype": null,
                    "class": null,
                    "height": 5.928082,
                    "names": null,
                    "has_parts": false,
                    "is_underground": false,
                    "num_floors": null,
                    "num_floors_underground": null,
                    "min_height": null,
                    "min_floor": null,
                    "facade_color": null,
                    "facade_material": null,
                    "roof_material": null,
                    "roof_shape": null,
                    "roof_direction": null,
                    "roof_orientation": null,
                    "roof_color": null,
                    "roof_height": null,
                    "style": {
                      "weight": 1
                    }
                  },
                  "geometry": {
                    "type": "Polygon",
                    "coordinates": [
                      [
                        [
                          -117.59754648066881,
                          47.6522597909925
                        ],
                        [
                          -117.59734166782188,
                          47.65228811261882
                        ],
                        [
                          -117.59737602069987,
                          47.65240080491953
                        ],
                        [
                          -117.59758082231168,
                          47.6523724849079
                        ],
                        [
                          -117.59754648066881,
                          47.6522597909925
                        ]
                      ]
                    ]
                  },
                  "bbox": [
                    -117.59758082231168,
                    47.6522597909925,
                    -117.59734166782188,
                    47.65240080491953
                  ]
                },
                {
                  "id": "135",
                  "type": "Feature",
                  "properties": {
                    "id": "08b12db7032a2fff0200653df42ff3bf",
                    "bbox": "{ \"xmin\": -117.59714508056641, \"xmax\": -117.596923828125, \"ymin\": 47.652076721191406, \"ymax\": 47.652278900146484 }",
                    "theme": "buildings",
                    "type": "building",
                    "version": 0,
                    "sources": "[{'property': '', 'dataset': 'OpenStreetMap', 'record_id': 'w658910095@1', 'update_time': '2018-12-28T21:05:06.000Z', 'confidence': None}\n {'property': 'properties/height', 'dataset': 'Microsoft ML Buildings', 'record_id': None, 'update_time': None, 'confidence': None}]",
                    "level": null,
                    "subtype": null,
                    "class": null,
                    "height": 5.221262,
                    "names": null,
                    "has_parts": false,
                    "is_underground": false,
                    "num_floors": null,
                    "num_floors_underground": null,
                    "min_height": null,
                    "min_floor": null,
                    "facade_color": null,
                    "facade_material": null,
                    "roof_material": null,
                    "roof_shape": null,
                    "roof_direction": null,
                    "roof_orientation": null,
                    "roof_color": null,
                    "roof_height": null,
                    "style": {
                      "weight": 1
                    }
                  },
                  "geometry": {
                    "type": "Polygon",
                    "coordinates": [
                      [
                        [
                          -117.5971426,
                          47.6522442
                        ],
                        [
                          -117.5970816,
                          47.6520776
                        ],
                        [
                          -117.5969376,
                          47.6521014
                        ],
                        [
                          -117.5969396,
                          47.6521076
                        ],
                        [
                          -117.5969256,
                          47.6521098
                        ],
                        [
                          -117.5969476,
                          47.6521699
                        ],
                        [
                          -117.5969276,
                          47.6521733
                        ],
                        [
                          -117.5969526,
                          47.6522423
                        ],
                        [
                          -117.5969686,
                          47.6522404
                        ],
                        [
                          -117.5969796,
                          47.6522718
                        ],
                        [
                          -117.5971426,
                          47.6522442
                        ]
                      ]
                    ]
                  },
                  "bbox": [
                    -117.5971426,
                    47.6520776,
                    -117.5969256,
                    47.6522718
                  ]
                },
                {
                  "id": "136",
                  "type": "Feature",
                  "properties": {
                    "id": "08b12db7032a6fff02009ac6d0c4e061",
                    "bbox": "{ \"xmin\": -117.59712982177734, \"xmax\": -117.59687805175781, \"ymin\": 47.652347564697266, \"ymax\": 47.652507781982422 }",
                    "theme": "buildings",
                    "type": "building",
                    "version": 0,
                    "sources": "[{'property': '', 'dataset': 'OpenStreetMap', 'record_id': 'w658910093@1', 'update_time': '2018-12-28T21:05:06.000Z', 'confidence': None}\n {'property': 'properties/height', 'dataset': 'Microsoft ML Buildings', 'record_id': None, 'update_time': None, 'confidence': None}]",
                    "level": null,
                    "subtype": null,
                    "class": null,
                    "height": 5.7037787,
                    "names": null,
                    "has_parts": false,
                    "is_underground": false,
                    "num_floors": null,
                    "num_floors_underground": null,
                    "min_height": null,
                    "min_floor": null,
                    "facade_color": null,
                    "facade_material": null,
                    "roof_material": null,
                    "roof_shape": null,
                    "roof_direction": null,
                    "roof_orientation": null,
                    "roof_color": null,
                    "roof_height": null,
                    "style": {
                      "weight": 1
                    }
                  },
                  "geometry": {
                    "type": "Polygon",
                    "coordinates": [
                      [
                        [
                          -117.5969356,
                          47.6523534
                        ],
                        [
                          -117.5968926,
                          47.6524211
                        ],
                        [
                          -117.5969526,
                          47.6524391
                        ],
                        [
                          -117.5969346,
                          47.6524674
                        ],
                        [
                          -117.5970696,
                          47.6525063
                        ],
                        [
                          -117.5971296,
                          47.652407
                        ],
                        [
                          -117.5969356,
                          47.6523534
                        ]
                      ]
                    ]
                  },
                  "bbox": [
                    -117.5971296,
                    47.6523534,
                    -117.5968926,
                    47.6525063
                  ]
                },
                {
                  "id": "137",
                  "type": "Feature",
                  "properties": {
                    "id": "08b12db7032a3fff0200a9e41251607a",
                    "bbox": "{ \"xmin\": -117.59686279296875, \"xmax\": -117.59665679931641, \"ymin\": 47.651901245117188, \"ymax\": 47.652065277099609 }",
                    "theme": "buildings",
                    "type": "building",
                    "version": 0,
                    "sources": "[{'property': '', 'dataset': 'OpenStreetMap', 'record_id': 'w658910096@1', 'update_time': '2018-12-28T21:05:07.000Z', 'confidence': None}\n {'property': 'properties/height', 'dataset': 'Microsoft ML Buildings', 'record_id': None, 'update_time': None, 'confidence': None}]",
                    "level": null,
                    "subtype": null,
                    "class": null,
                    "height": 5.2053423,
                    "names": null,
                    "has_parts": false,
                    "is_underground": false,
                    "num_floors": null,
                    "num_floors_underground": null,
                    "min_height": null,
                    "min_floor": null,
                    "facade_color": null,
                    "facade_material": null,
                    "roof_material": null,
                    "roof_shape": null,
                    "roof_direction": null,
                    "roof_orientation": null,
                    "roof_color": null,
                    "roof_height": null,
                    "style": {
                      "weight": 1
                    }
                  },
                  "geometry": {
                    "type": "Polygon",
                    "coordinates": [
                      [
                        [
                          -117.5968506,
                          47.6519232
                        ],
                        [
                          -117.5966876,
                          47.6519076
                        ],
                        [
                          -117.5966576,
                          47.6520501
                        ],
                        [
                          -117.5967496,
                          47.6520588
                        ],
                        [
                          -117.5967576,
                          47.6520185
                        ],
                        [
                          -117.5968286,
                          47.6520253
                        ],
                        [
                          -117.5968506,
                          47.6519232
                        ]
                      ]
                    ]
                  },
                  "bbox": [
                    -117.5968506,
                    47.6519076,
                    -117.5966576,
                    47.6520588
                  ]
                },
                {
                  "id": "138",
                  "type": "Feature",
                  "properties": {
                    "id": "08b12db7032a3fff0200901240b4bdc3",
                    "bbox": "{ \"xmin\": -117.59654235839844, \"xmax\": -117.59625244140625, \"ymin\": 47.651950836181641, \"ymax\": 47.652137756347656 }",
                    "theme": "buildings",
                    "type": "building",
                    "version": 0,
                    "sources": "[{'property': '', 'dataset': 'OpenStreetMap', 'record_id': 'w658910098@1', 'update_time': '2018-12-28T21:05:07.000Z', 'confidence': None}\n {'property': 'properties/height', 'dataset': 'Microsoft ML Buildings', 'record_id': None, 'update_time': None, 'confidence': None}]",
                    "level": null,
                    "subtype": null,
                    "class": null,
                    "height": 5.7355456,
                    "names": null,
                    "has_parts": false,
                    "is_underground": false,
                    "num_floors": null,
                    "num_floors_underground": null,
                    "min_height": null,
                    "min_floor": null,
                    "facade_color": null,
                    "facade_material": null,
                    "roof_material": null,
                    "roof_shape": null,
                    "roof_direction": null,
                    "roof_orientation": null,
                    "roof_color": null,
                    "roof_height": null,
                    "style": {
                      "weight": 1
                    }
                  },
                  "geometry": {
                    "type": "Polygon",
                    "coordinates": [
                      [
                        [
                          -117.5964226,
                          47.651951
                        ],
                        [
                          -117.5962526,
                          47.6520704
                        ],
                        [
                          -117.5963566,
                          47.6521363
                        ],
                        [
                          -117.5964266,
                          47.6520875
                        ],
                        [
                          -117.5964526,
                          47.6521071
                        ],
                        [
                          -117.5965196,
                          47.6520578
                        ],
                        [
                          -117.5965086,
                          47.6520503
                        ],
                        [
                          -117.5965416,
                          47.652026
                        ],
                        [
                          -117.5964226,
                          47.651951
                        ]
                      ]
                    ]
                  },
                  "bbox": [
                    -117.5965416,
                    47.651951,
                    -117.5962526,
                    47.6521363
                  ]
                },
                {
                  "id": "139",
                  "type": "Feature",
                  "properties": {
                    "id": "08b12db7032b5fff0200f4d9ec382312",
                    "bbox": "{ \"xmin\": -117.59763336181641, \"xmax\": -117.59735107421875, \"ymin\": 47.652416229248047, \"ymax\": 47.652614593505859 }",
                    "theme": "buildings",
                    "type": "building",
                    "version": 0,
                    "sources": "[{'property': '', 'dataset': 'Microsoft ML Buildings', 'record_id': None, 'update_time': '2022-08-15T00:00:00.000Z', 'confidence': None}]",
                    "level": null,
                    "subtype": null,
                    "class": null,
                    "height": 5.878111,
                    "names": null,
                    "has_parts": false,
                    "is_underground": false,
                    "num_floors": null,
                    "num_floors_underground": null,
                    "min_height": null,
                    "min_floor": null,
                    "facade_color": null,
                    "facade_material": null,
                    "roof_material": null,
                    "roof_shape": null,
                    "roof_direction": null,
                    "roof_orientation": null,
                    "roof_color": null,
                    "roof_height": null,
                    "style": {
                      "weight": 1
                    }
                  },
                  "geometry": {
                    "type": "Polygon",
                    "coordinates": [
                      [
                        [
                          -117.59761921214945,
                          47.65257936272836
                        ],
                        [
                          -117.5976000849578,
                          47.65251697897026
                        ],
                        [
                          -117.5976180922736,
                          47.65251447363927
                        ],
                        [
                          -117.59758833886437,
                          47.65241743208501
                        ],
                        [
                          -117.59736343069132,
                          47.65244872327326
                        ],
                        [
                          -117.59741229540558,
                          47.652608150703344
                        ],
                        [
                          -117.59761921214945,
                          47.65257936272836
                        ]
                      ]
                    ]
                  },
                  "bbox": [
                    -117.59761921214945,
                    47.65241743208501,
                    -117.59736343069132,
                    47.652608150703344
                  ]
                },
                {
                  "id": "140",
                  "type": "Feature",
                  "properties": {
                    "id": "08b12db70339bfff02008f0b007ff37c",
                    "bbox": "{ \"xmin\": -117.59765625, \"xmax\": -117.59742736816406, \"ymin\": 47.6527099609375, \"ymax\": 47.652866363525391 }",
                    "theme": "buildings",
                    "type": "building",
                    "version": 0,
                    "sources": "[{'property': '', 'dataset': 'OpenStreetMap', 'record_id': 'w658910089@1', 'update_time': '2018-12-28T21:05:06.000Z', 'confidence': None}\n {'property': 'properties/height', 'dataset': 'Microsoft ML Buildings', 'record_id': None, 'update_time': None, 'confidence': None}]",
                    "level": null,
                    "subtype": null,
                    "class": null,
                    "height": 5.504128,
                    "names": null,
                    "has_parts": false,
                    "is_underground": false,
                    "num_floors": null,
                    "num_floors_underground": null,
                    "min_height": null,
                    "min_floor": null,
                    "facade_color": null,
                    "facade_material": null,
                    "roof_material": null,
                    "roof_shape": null,
                    "roof_direction": null,
                    "roof_orientation": null,
                    "roof_color": null,
                    "roof_height": null,
                    "style": {
                      "weight": 1
                    }
                  },
                  "geometry": {
                    "type": "Polygon",
                    "coordinates": [
                      [
                        [
                          -117.5974666,
                          47.6527561
                        ],
                        [
                          -117.5974426,
                          47.6528218
                        ],
                        [
                          -117.5975266,
                          47.6528354
                        ],
                        [
                          -117.5975196,
                          47.6528527
                        ],
                        [
                          -117.5975946,
                          47.6528649
                        ],
                        [
                          -117.5976436,
                          47.6527301
                        ],
                        [
                          -117.5975236,
                          47.6527105
                        ],
                        [
                          -117.5975046,
                          47.6527624
                        ],
                        [
                          -117.5974666,
                          47.6527561
                        ]
                      ]
                    ]
                  },
                  "bbox": [
                    -117.5976436,
                    47.6527105,
                    -117.5974426,
                    47.6528649
                  ]
                },
                {
                  "id": "141",
                  "type": "Feature",
                  "properties": {
                    "id": "08b12db7032a6fff0200ef8f4851e82d",
                    "bbox": "{ \"xmin\": -117.59711456298828, \"xmax\": -117.59686279296875, \"ymin\": 47.652568817138672, \"ymax\": 47.652740478515625 }",
                    "theme": "buildings",
                    "type": "building",
                    "version": 0,
                    "sources": "[{'property': '', 'dataset': 'OpenStreetMap', 'record_id': 'w657749088@1', 'update_time': '2018-12-25T00:48:31.000Z', 'confidence': None}\n {'property': 'properties/height', 'dataset': 'Microsoft ML Buildings', 'record_id': None, 'update_time': None, 'confidence': None}]",
                    "level": null,
                    "subtype": null,
                    "class": null,
                    "height": 5.5276947,
                    "names": null,
                    "has_parts": false,
                    "is_underground": false,
                    "num_floors": null,
                    "num_floors_underground": null,
                    "min_height": null,
                    "min_floor": null,
                    "facade_color": null,
                    "facade_material": null,
                    "roof_material": null,
                    "roof_shape": null,
                    "roof_direction": null,
                    "roof_orientation": null,
                    "roof_color": null,
                    "roof_height": null,
                    "style": {
                      "weight": 1
                    }
                  },
                  "geometry": {
                    "type": "Polygon",
                    "coordinates": [
                      [
                        [
                          -117.5969766,
                          47.6527342
                        ],
                        [
                          -117.5969916,
                          47.6527057
                        ],
                        [
                          -117.5970416,
                          47.6527183
                        ],
                        [
                          -117.5970996,
                          47.6526103
                        ],
                        [
                          -117.5969456,
                          47.6525691
                        ],
                        [
                          -117.5968636,
                          47.6527077
                        ],
                        [
                          -117.5969766,
                          47.6527342
                        ]
                      ]
                    ]
                  },
                  "bbox": [
                    -117.5970996,
                    47.6525691,
                    -117.5968636,
                    47.6527342
                  ]
                },
                {
                  "id": "142",
                  "type": "Feature",
                  "properties": {
                    "id": "08b12db7032a6fff02007518b0ffb6e4",
                    "bbox": "{ \"xmin\": -117.59732818603516, \"xmax\": -117.59713745117188, \"ymin\": 47.652641296386719, \"ymax\": 47.652801513671875 }",
                    "theme": "buildings",
                    "type": "building",
                    "version": 0,
                    "sources": "[{'property': '', 'dataset': 'OpenStreetMap', 'record_id': 'w658910087@1', 'update_time': '2018-12-28T21:05:06.000Z', 'confidence': None}\n {'property': 'properties/height', 'dataset': 'Microsoft ML Buildings', 'record_id': None, 'update_time': None, 'confidence': None}]",
                    "level": null,
                    "subtype": null,
                    "class": null,
                    "height": 5.415315,
                    "names": null,
                    "has_parts": false,
                    "is_underground": false,
                    "num_floors": null,
                    "num_floors_underground": null,
                    "min_height": null,
                    "min_floor": null,
                    "facade_color": null,
                    "facade_material": null,
                    "roof_material": null,
                    "roof_shape": null,
                    "roof_direction": null,
                    "roof_orientation": null,
                    "roof_color": null,
                    "roof_height": null,
                    "style": {
                      "weight": 1
                    }
                  },
                  "geometry": {
                    "type": "Polygon",
                    "coordinates": [
                      [
                        [
                          -117.5973276,
                          47.6527269
                        ],
                        [
                          -117.5972876,
                          47.652719
                        ],
                        [
                          -117.5973086,
                          47.6526709
                        ],
                        [
                          -117.5971896,
                          47.6526475
                        ],
                        [
                          -117.5971396,
                          47.6527636
                        ],
                        [
                          -117.5971446,
                          47.6527647
                        ],
                        [
                          -117.5971386,
                          47.6527803
                        ],
                        [
                          -117.5972106,
                          47.6527945
                        ],
                        [
                          -117.5972186,
                          47.6527773
                        ],
                        [
                          -117.5972996,
                          47.6527932
                        ],
                        [
                          -117.5973276,
                          47.6527269
                        ]
                      ]
                    ]
                  },
                  "bbox": [
                    -117.5973276,
                    47.6526475,
                    -117.5971386,
                    47.6527945
                  ]
                },
                {
                  "id": "143",
                  "type": "Feature",
                  "properties": {
                    "id": "08b12db703399fff0200b324de24f594",
                    "bbox": "{ \"xmin\": -117.59719085693359, \"xmax\": -117.59690093994141, \"ymin\": 47.653053283691406, \"ymax\": 47.653255462646484 }",
                    "theme": "buildings",
                    "type": "building",
                    "version": 0,
                    "sources": "[{'property': '', 'dataset': 'OpenStreetMap', 'record_id': 'w656323728@1', 'update_time': '2018-12-19T19:41:06.000Z', 'confidence': None}\n {'property': 'properties/height', 'dataset': 'Microsoft ML Buildings', 'record_id': None, 'update_time': None, 'confidence': None}]",
                    "level": null,
                    "subtype": null,
                    "class": null,
                    "height": 5.3171477,
                    "names": null,
                    "has_parts": false,
                    "is_underground": false,
                    "num_floors": null,
                    "num_floors_underground": null,
                    "min_height": null,
                    "min_floor": null,
                    "facade_color": null,
                    "facade_material": null,
                    "roof_material": null,
                    "roof_shape": null,
                    "roof_direction": null,
                    "roof_orientation": null,
                    "roof_color": null,
                    "roof_height": null,
                    "style": {
                      "weight": 1
                    }
                  },
                  "geometry": {
                    "type": "Polygon",
                    "coordinates": [
                      [
                        [
                          -117.5971366,
                          47.653254
                        ],
                        [
                          -117.5971906,
                          47.6531185
                        ],
                        [
                          -117.5971086,
                          47.6531031
                        ],
                        [
                          -117.5971146,
                          47.6530877
                        ],
                        [
                          -117.5969666,
                          47.6530597
                        ],
                        [
                          -117.5969046,
                          47.6532115
                        ],
                        [
                          -117.5971366,
                          47.653254
                        ]
                      ]
                    ]
                  },
                  "bbox": [
                    -117.5971906,
                    47.6530597,
                    -117.5969046,
                    47.653254
                  ]
                },
                {
                  "id": "144",
                  "type": "Feature",
                  "properties": {
                    "id": "08b12db7032a6fff02004ed540451d1c",
                    "bbox": "{ \"xmin\": -117.59688568115234, \"xmax\": -117.59662628173828, \"ymin\": 47.652523040771484, \"ymax\": 47.652706146240234 }",
                    "theme": "buildings",
                    "type": "building",
                    "version": 0,
                    "sources": "[{'property': '', 'dataset': 'OpenStreetMap', 'record_id': 'w657749086@1', 'update_time': '2018-12-25T00:48:31.000Z', 'confidence': None}\n {'property': 'properties/height', 'dataset': 'Microsoft ML Buildings', 'record_id': None, 'update_time': None, 'confidence': None}]",
                    "level": null,
                    "subtype": null,
                    "class": null,
                    "height": 5.0235744,
                    "names": null,
                    "has_parts": false,
                    "is_underground": false,
                    "num_floors": null,
                    "num_floors_underground": null,
                    "min_height": null,
                    "min_floor": null,
                    "facade_color": null,
                    "facade_material": null,
                    "roof_material": null,
                    "roof_shape": null,
                    "roof_direction": null,
                    "roof_orientation": null,
                    "roof_color": null,
                    "roof_height": null,
                    "style": {
                      "weight": 1
                    }
                  },
                  "geometry": {
                    "type": "Polygon",
                    "coordinates": [
                      [
                        [
                          -117.5968716,
                          47.6525639
                        ],
                        [
                          -117.5967156,
                          47.6525233
                        ],
                        [
                          -117.5966386,
                          47.652658
                        ],
                        [
                          -117.5967936,
                          47.6526986
                        ],
                        [
                          -117.5968716,
                          47.6525639
                        ]
                      ]
                    ]
                  },
                  "bbox": [
                    -117.5968716,
                    47.6525233,
                    -117.5966386,
                    47.6526986
                  ]
                },
                {
                  "id": "145",
                  "type": "Feature",
                  "properties": {
                    "id": "08b12db703399fff020086f073b3539c",
                    "bbox": "{ \"xmin\": -117.596923828125, \"xmax\": -117.59667205810547, \"ymin\": 47.653011322021484, \"ymax\": 47.653190612792969 }",
                    "theme": "buildings",
                    "type": "building",
                    "version": 0,
                    "sources": "[{'property': '', 'dataset': 'OpenStreetMap', 'record_id': 'w656323729@1', 'update_time': '2018-12-19T19:41:06.000Z', 'confidence': None}\n {'property': 'properties/height', 'dataset': 'Microsoft ML Buildings', 'record_id': None, 'update_time': None, 'confidence': None}]",
                    "level": null,
                    "subtype": null,
                    "class": null,
                    "height": 5.501704,
                    "names": null,
                    "has_parts": false,
                    "is_underground": false,
                    "num_floors": null,
                    "num_floors_underground": null,
                    "min_height": null,
                    "min_floor": null,
                    "facade_color": null,
                    "facade_material": null,
                    "roof_material": null,
                    "roof_shape": null,
                    "roof_direction": null,
                    "roof_orientation": null,
                    "roof_color": null,
                    "roof_height": null,
                    "style": {
                      "weight": 1
                    }
                  },
                  "geometry": {
                    "type": "Polygon",
                    "coordinates": [
                      [
                        [
                          -117.5968546,
                          47.65319
                        ],
                        [
                          -117.5969106,
                          47.6530471
                        ],
                        [
                          -117.5968146,
                          47.65303
                        ],
                        [
                          -117.5968136,
                          47.6530334
                        ],
                        [
                          -117.5967276,
                          47.653018
                        ],
                        [
                          -117.5966726,
                          47.6531575
                        ],
                        [
                          -117.5968546,
                          47.65319
                        ]
                      ]
                    ]
                  },
                  "bbox": [
                    -117.5969106,
                    47.653018,
                    -117.5966726,
                    47.65319
                  ]
                },
                {
                  "id": "146",
                  "type": "Feature",
                  "properties": {
                    "id": "08b12db70338afff02001582818c740a",
                    "bbox": "{ \"xmin\": -117.59666442871094, \"xmax\": -117.59638977050781, \"ymin\": 47.652969360351562, \"ymax\": 47.653156280517578 }",
                    "theme": "buildings",
                    "type": "building",
                    "version": 0,
                    "sources": "[{'property': '', 'dataset': 'OpenStreetMap', 'record_id': 'w656323730@1', 'update_time': '2018-12-19T19:41:06.000Z', 'confidence': None}\n {'property': 'properties/height', 'dataset': 'Microsoft ML Buildings', 'record_id': None, 'update_time': None, 'confidence': None}]",
                    "level": null,
                    "subtype": null,
                    "class": null,
                    "height": 5.6323304,
                    "names": null,
                    "has_parts": false,
                    "is_underground": false,
                    "num_floors": null,
                    "num_floors_underground": null,
                    "min_height": null,
                    "min_floor": null,
                    "facade_color": null,
                    "facade_material": null,
                    "roof_material": null,
                    "roof_shape": null,
                    "roof_direction": null,
                    "roof_orientation": null,
                    "roof_color": null,
                    "roof_height": null,
                    "style": {
                      "weight": 1
                    }
                  },
                  "geometry": {
                    "type": "Polygon",
                    "coordinates": [
                      [
                        [
                          -117.5965916,
                          47.6531495
                        ],
                        [
                          -117.5966496,
                          47.6530117
                        ],
                        [
                          -117.5965646,
                          47.6529953
                        ],
                        [
                          -117.5965666,
                          47.6529892
                        ],
                        [
                          -117.5964646,
                          47.6529695
                        ],
                        [
                          -117.5964036,
                          47.6531134
                        ],
                        [
                          -117.5965916,
                          47.6531495
                        ]
                      ]
                    ]
                  },
                  "bbox": [
                    -117.5966496,
                    47.6529695,
                    -117.5964036,
                    47.6531495
                  ]
                },
                {
                  "id": "147",
                  "type": "Feature",
                  "properties": {
                    "id": "08b12db7032a3fff0200628b2dc39933",
                    "bbox": "{ \"xmin\": -117.59635162353516, \"xmax\": -117.59605407714844, \"ymin\": 47.651763916015625, \"ymax\": 47.651950836181641 }",
                    "theme": "buildings",
                    "type": "building",
                    "version": 0,
                    "sources": "[{'property': '', 'dataset': 'Microsoft ML Buildings', 'record_id': None, 'update_time': '2022-08-15T00:00:00.000Z', 'confidence': None}]",
                    "level": null,
                    "subtype": null,
                    "class": null,
                    "height": 5.2395926,
                    "names": null,
                    "has_parts": false,
                    "is_underground": false,
                    "num_floors": null,
                    "num_floors_underground": null,
                    "min_height": null,
                    "min_floor": null,
                    "facade_color": null,
                    "facade_material": null,
                    "roof_material": null,
                    "roof_shape": null,
                    "roof_direction": null,
                    "roof_orientation": null,
                    "roof_color": null,
                    "roof_height": null,
                    "style": {
                      "weight": 1
                    }
                  },
                  "geometry": {
                    "type": "Polygon",
                    "coordinates": [
                      [
                        [
                          -117.59633933693496,
                          47.651843378106555
                        ],
                        [
                          -117.5962235447771,
                          47.65177036080925
                        ],
                        [
                          -117.59617403189559,
                          47.651805991173745
                        ],
                        [
                          -117.5961311459112,
                          47.651778947722846
                        ],
                        [
                          -117.59606557479786,
                          47.65182613386826
                        ],
                        [
                          -117.59610131311818,
                          47.651848670057944
                        ],
                        [
                          -117.5960691966545,
                          47.65187178161385
                        ],
                        [
                          -117.59619213647645,
                          47.65194930599779
                        ],
                        [
                          -117.59633933693496,
                          47.651843378106555
                        ]
                      ]
                    ]
                  },
                  "bbox": [
                    -117.59633933693496,
                    47.65177036080925,
                    -117.59606557479786,
                    47.65194930599779
                  ]
                },
                {
                  "id": "148",
                  "type": "Feature",
                  "properties": {
                    "id": "08b12db7032aefff0200fc2b9763fe71",
                    "bbox": "{ \"xmin\": -117.59615325927734, \"xmax\": -117.59588623046875, \"ymin\": 47.651901245117188, \"ymax\": 47.652088165283203 }",
                    "theme": "buildings",
                    "type": "building",
                    "version": 0,
                    "sources": "[{'property': '', 'dataset': 'Microsoft ML Buildings', 'record_id': None, 'update_time': '2022-08-15T00:00:00.000Z', 'confidence': None}]",
                    "level": null,
                    "subtype": null,
                    "class": null,
                    "height": 5.7383194,
                    "names": null,
                    "has_parts": false,
                    "is_underground": false,
                    "num_floors": null,
                    "num_floors_underground": null,
                    "min_height": null,
                    "min_floor": null,
                    "facade_color": null,
                    "facade_material": null,
                    "roof_material": null,
                    "roof_shape": null,
                    "roof_direction": null,
                    "roof_orientation": null,
                    "roof_color": null,
                    "roof_height": null,
                    "style": {
                      "weight": 1
                    }
                  },
                  "geometry": {
                    "type": "Polygon",
                    "coordinates": [
                      [
                        [
                          -117.59595699977447,
                          47.65190514832728
                        ],
                        [
                          -117.5958929357088,
                          47.65195275549494
                        ],
                        [
                          -117.59593563354463,
                          47.65197882868634
                        ],
                        [
                          -117.59588625082733,
                          47.65201552583015
                        ],
                        [
                          -117.59600403796065,
                          47.65208745175736
                        ],
                        [
                          -117.59614951677649,
                          47.65197934403032
                        ],
                        [
                          -117.59602289560816,
                          47.651902023494515
                        ],
                        [
                          -117.59599086357531,
                          47.65192582708521
                        ],
                        [
                          -117.59595699977447,
                          47.65190514832728
                        ]
                      ]
                    ]
                  },
                  "bbox": [
                    -117.59614951677649,
                    47.651902023494515,
                    -117.59588625082733,
                    47.65208745175736
                  ]
                },
                {
                  "id": "149",
                  "type": "Feature",
                  "properties": {
                    "id": "08b12db7032a1fff0200761a5303053c",
                    "bbox": "{ \"xmin\": -117.59597778320312, \"xmax\": -117.59566497802734, \"ymin\": 47.652027130126953, \"ymax\": 47.652194976806641 }",
                    "theme": "buildings",
                    "type": "building",
                    "version": 0,
                    "sources": "[{'property': '', 'dataset': 'Microsoft ML Buildings', 'record_id': None, 'update_time': '2022-08-15T00:00:00.000Z', 'confidence': None}]",
                    "level": null,
                    "subtype": null,
                    "class": null,
                    "height": 5.3346567,
                    "names": null,
                    "has_parts": false,
                    "is_underground": false,
                    "num_floors": null,
                    "num_floors_underground": null,
                    "min_height": null,
                    "min_floor": null,
                    "facade_color": null,
                    "facade_material": null,
                    "roof_material": null,
                    "roof_shape": null,
                    "roof_direction": null,
                    "roof_orientation": null,
                    "roof_color": null,
                    "roof_height": null,
                    "style": {
                      "weight": 1
                    }
                  },
                  "geometry": {
                    "type": "Polygon",
                    "coordinates": [
                      [
                        [
                          -117.59580961362028,
                          47.652155393033155
                        ],
                        [
                          -117.59586417750408,
                          47.65218865286047
                        ],
                        [
                          -117.5959776043801,
                          47.65210421369929
                        ],
                        [
                          -117.59586110311467,
                          47.652033199332955
                        ],
                        [
                          -117.59581306349659,
                          47.652068961866526
                        ],
                        [
                          -117.59577324660843,
                          47.65204469112819
                        ],
                        [
                          -117.59567716737226,
                          47.652116216155086
                        ],
                        [
                          -117.59577892164207,
                          47.65217824126786
                        ],
                        [
                          -117.59580961362028,
                          47.652155393033155
                        ]
                      ]
                    ]
                  },
                  "bbox": [
                    -117.5959776043801,
                    47.652033199332955,
                    -117.59567716737226,
                    47.65218865286047
                  ]
                },
                {
                  "id": "150",
                  "type": "Feature",
                  "properties": {
                    "id": "08b12db7032a0fff0200918151a65314",
                    "bbox": "{ \"xmin\": -117.59635925292969, \"xmax\": -117.59609985351562, \"ymin\": 47.652156829833984, \"ymax\": 47.652339935302734 }",
                    "theme": "buildings",
                    "type": "building",
                    "version": 0,
                    "sources": "[{'property': '', 'dataset': 'OpenStreetMap', 'record_id': 'w658910100@1', 'update_time': '2018-12-28T21:05:07.000Z', 'confidence': None}\n {'property': 'properties/height', 'dataset': 'Microsoft ML Buildings', 'record_id': None, 'update_time': None, 'confidence': None}]",
                    "level": null,
                    "subtype": null,
                    "class": null,
                    "height": 5.1654177,
                    "names": null,
                    "has_parts": false,
                    "is_underground": false,
                    "num_floors": null,
                    "num_floors_underground": null,
                    "min_height": null,
                    "min_floor": null,
                    "facade_color": null,
                    "facade_material": null,
                    "roof_material": null,
                    "roof_shape": null,
                    "roof_direction": null,
                    "roof_orientation": null,
                    "roof_color": null,
                    "roof_height": null,
                    "style": {
                      "weight": 1
                    }
                  },
                  "geometry": {
                    "type": "Polygon",
                    "coordinates": [
                      [
                        [
                          -117.5963446,
                          47.6522468
                        ],
                        [
                          -117.5962656,
                          47.6522321
                        ],
                        [
                          -117.5962856,
                          47.6521819
                        ],
                        [
                          -117.5961586,
                          47.6521583
                        ],
                        [
                          -117.5961146,
                          47.6522667
                        ],
                        [
                          -117.5962106,
                          47.6522846
                        ],
                        [
                          -117.5961966,
                          47.6523187
                        ],
                        [
                          -117.5963016,
                          47.6523381
                        ],
                        [
                          -117.5963146,
                          47.6523066
                        ],
                        [
                          -117.5963196,
                          47.6523076
                        ],
                        [
                          -117.5963446,
                          47.6522468
                        ]
                      ]
                    ]
                  },
                  "bbox": [
                    -117.5963446,
                    47.6521583,
                    -117.5961146,
                    47.6523381
                  ]
                },
                {
                  "id": "151",
                  "type": "Feature",
                  "properties": {
                    "id": "08b12db7032a0fff020035fc884fd2da",
                    "bbox": "{ \"xmin\": -117.59627532958984, \"xmax\": -117.59606170654297, \"ymin\": 47.652412414550781, \"ymax\": 47.652580261230469 }",
                    "theme": "buildings",
                    "type": "building",
                    "version": 0,
                    "sources": "[{'property': '', 'dataset': 'OpenStreetMap', 'record_id': 'w657749054@1', 'update_time': '2018-12-25T00:48:29.000Z', 'confidence': None}\n {'property': 'properties/height', 'dataset': 'Microsoft ML Buildings', 'record_id': None, 'update_time': None, 'confidence': None}]",
                    "level": null,
                    "subtype": null,
                    "class": null,
                    "height": 4.990575,
                    "names": null,
                    "has_parts": false,
                    "is_underground": false,
                    "num_floors": null,
                    "num_floors_underground": null,
                    "min_height": null,
                    "min_floor": null,
                    "facade_color": null,
                    "facade_material": null,
                    "roof_material": null,
                    "roof_shape": null,
                    "roof_direction": null,
                    "roof_orientation": null,
                    "roof_color": null,
                    "roof_height": null,
                    "style": {
                      "weight": 1
                    }
                  },
                  "geometry": {
                    "type": "Polygon",
                    "coordinates": [
                      [
                        [
                          -117.5961556,
                          47.6525742
                        ],
                        [
                          -117.5961696,
                          47.6525364
                        ],
                        [
                          -117.5962376,
                          47.6525476
                        ],
                        [
                          -117.5962746,
                          47.6524445
                        ],
                        [
                          -117.5961156,
                          47.6524185
                        ],
                        [
                          -117.5960646,
                          47.6525593
                        ],
                        [
                          -117.5961556,
                          47.6525742
                        ]
                      ]
                    ]
                  },
                  "bbox": [
                    -117.5962746,
                    47.6524185,
                    -117.5960646,
                    47.6525742
                  ]
                },
                {
                  "id": "152",
                  "type": "Feature",
                  "properties": {
                    "id": "08b12db7032a1fff0200670f45059cb4",
                    "bbox": "{ \"xmin\": -117.59577178955078, \"xmax\": -117.59548187255859, \"ymin\": 47.652141571044922, \"ymax\": 47.652351379394531 }",
                    "theme": "buildings",
                    "type": "building",
                    "version": 0,
                    "sources": "[{'property': '', 'dataset': 'Microsoft ML Buildings', 'record_id': None, 'update_time': '2022-08-15T00:00:00.000Z', 'confidence': None}]",
                    "level": null,
                    "subtype": null,
                    "class": null,
                    "height": 5.692127,
                    "names": null,
                    "has_parts": false,
                    "is_underground": false,
                    "num_floors": null,
                    "num_floors_underground": null,
                    "min_height": null,
                    "min_floor": null,
                    "facade_color": null,
                    "facade_material": null,
                    "roof_material": null,
                    "roof_shape": null,
                    "roof_direction": null,
                    "roof_orientation": null,
                    "roof_color": null,
                    "roof_height": null,
                    "style": {
                      "weight": 1
                    }
                  },
                  "geometry": {
                    "type": "Polygon",
                    "coordinates": [
                      [
                        [
                          -117.59563984009723,
                          47.65214245379069
                        ],
                        [
                          -117.5955370005745,
                          47.652218324696776
                        ],
                        [
                          -117.59554870239364,
                          47.65222552217102
                        ],
                        [
                          -117.59548325906101,
                          47.65227380359266
                        ],
                        [
                          -117.59560320270721,
                          47.652347577578276
                        ],
                        [
                          -117.59577148556257,
                          47.652223425436425
                        ],
                        [
                          -117.59563984009723,
                          47.65214245379069
                        ]
                      ]
                    ]
                  },
                  "bbox": [
                    -117.59577148556257,
                    47.65214245379069,
                    -117.59548325906101,
                    47.652347577578276
                  ]
                },
                {
                  "id": "153",
                  "type": "Feature",
                  "properties": {
                    "id": "08b12db7032a5fff02009f2f850c0ab9",
                    "bbox": "{ \"xmin\": -117.59603881835938, \"xmax\": -117.5958251953125, \"ymin\": 47.652370452880859, \"ymax\": 47.652549743652344 }",
                    "theme": "buildings",
                    "type": "building",
                    "version": 0,
                    "sources": "[{'property': '', 'dataset': 'OpenStreetMap', 'record_id': 'w657749055@1', 'update_time': '2018-12-25T00:48:29.000Z', 'confidence': None}\n {'property': 'properties/height', 'dataset': 'Microsoft ML Buildings', 'record_id': None, 'update_time': None, 'confidence': None}]",
                    "level": null,
                    "subtype": null,
                    "class": null,
                    "height": 4.9598126,
                    "names": null,
                    "has_parts": false,
                    "is_underground": false,
                    "num_floors": null,
                    "num_floors_underground": null,
                    "min_height": null,
                    "min_floor": null,
                    "facade_color": null,
                    "facade_material": null,
                    "roof_material": null,
                    "roof_shape": null,
                    "roof_direction": null,
                    "roof_orientation": null,
                    "roof_color": null,
                    "roof_height": null,
                    "style": {
                      "weight": 1
                    }
                  },
                  "geometry": {
                    "type": "Polygon",
                    "coordinates": [
                      [
                        [
                          -117.5960106,
                          47.6524717
                        ],
                        [
                          -117.5960196,
                          47.6524733
                        ],
                        [
                          -117.5960316,
                          47.6524411
                        ],
                        [
                          -117.5960246,
                          47.6524398
                        ],
                        [
                          -117.5960376,
                          47.6524037
                        ],
                        [
                          -117.5958786,
                          47.6523762
                        ],
                        [
                          -117.5958256,
                          47.6525168
                        ],
                        [
                          -117.5959826,
                          47.652544
                        ],
                        [
                          -117.5960106,
                          47.6524717
                        ]
                      ]
                    ]
                  },
                  "bbox": [
                    -117.5960376,
                    47.6523762,
                    -117.5958256,
                    47.652544
                  ]
                },
                {
                  "id": "154",
                  "type": "Feature",
                  "properties": {
                    "id": "08b12db7032acfff02004c49606bb804",
                    "bbox": "{ \"xmin\": -117.59522247314453, \"xmax\": -117.59491729736328, \"ymin\": 47.651889801025391, \"ymax\": 47.652084350585938 }",
                    "theme": "buildings",
                    "type": "building",
                    "version": 0,
                    "sources": "[{'property': '', 'dataset': 'OpenStreetMap', 'record_id': 'w657749059@1', 'update_time': '2018-12-25T00:48:30.000Z', 'confidence': None}\n {'property': 'properties/height', 'dataset': 'Microsoft ML Buildings', 'record_id': None, 'update_time': None, 'confidence': None}]",
                    "level": null,
                    "subtype": null,
                    "class": null,
                    "height": 5.3377485,
                    "names": null,
                    "has_parts": false,
                    "is_underground": false,
                    "num_floors": null,
                    "num_floors_underground": null,
                    "min_height": null,
                    "min_floor": null,
                    "facade_color": null,
                    "facade_material": null,
                    "roof_material": null,
                    "roof_shape": null,
                    "roof_direction": null,
                    "roof_orientation": null,
                    "roof_color": null,
                    "roof_height": null,
                    "style": {
                      "weight": 1
                    }
                  },
                  "geometry": {
                    "type": "Polygon",
                    "coordinates": [
                      [
                        [
                          -117.5952094,
                          47.6519786
                        ],
                        [
                          -117.5950314,
                          47.6518958
                        ],
                        [
                          -117.5949304,
                          47.6519928
                        ],
                        [
                          -117.5951144,
                          47.6520783
                        ],
                        [
                          -117.5952094,
                          47.6519786
                        ]
                      ]
                    ]
                  },
                  "bbox": [
                    -117.5952094,
                    47.6518958,
                    -117.5949304,
                    47.6520783
                  ]
                },
                {
                  "id": "155",
                  "type": "Feature",
                  "properties": {
                    "id": "08b12db703213fff02001f35a22b3e90",
                    "bbox": "{ \"xmin\": -117.59506988525391, \"xmax\": -117.59479522705078, \"ymin\": 47.652046203613281, \"ymax\": 47.652214050292969 }",
                    "theme": "buildings",
                    "type": "building",
                    "version": 0,
                    "sources": "[{'property': '', 'dataset': 'OpenStreetMap', 'record_id': 'w657749065@1', 'update_time': '2018-12-25T00:48:30.000Z', 'confidence': None}\n {'property': 'properties/height', 'dataset': 'Microsoft ML Buildings', 'record_id': None, 'update_time': None, 'confidence': None}]",
                    "level": null,
                    "subtype": null,
                    "class": null,
                    "height": 6.1321383,
                    "names": null,
                    "has_parts": false,
                    "is_underground": false,
                    "num_floors": null,
                    "num_floors_underground": null,
                    "min_height": null,
                    "min_floor": null,
                    "facade_color": null,
                    "facade_material": null,
                    "roof_material": null,
                    "roof_shape": null,
                    "roof_direction": null,
                    "roof_orientation": null,
                    "roof_color": null,
                    "roof_height": null,
                    "style": {
                      "weight": 1
                    }
                  },
                  "geometry": {
                    "type": "Polygon",
                    "coordinates": [
                      [
                        [
                          -117.5950694,
                          47.6521208
                        ],
                        [
                          -117.5949164,
                          47.6520478
                        ],
                        [
                          -117.5948084,
                          47.6521502
                        ],
                        [
                          -117.5949394,
                          47.6522125
                        ],
                        [
                          -117.5949924,
                          47.6521617
                        ],
                        [
                          -117.5950154,
                          47.6521724
                        ],
                        [
                          -117.5950694,
                          47.6521208
                        ]
                      ]
                    ]
                  },
                  "bbox": [
                    -117.5950694,
                    47.6520478,
                    -117.5948084,
                    47.6522125
                  ]
                },
                {
                  "id": "156",
                  "type": "Feature",
                  "properties": {
                    "id": "08b12db703212fff0200b019547144cd",
                    "bbox": "{ \"xmin\": -117.59558868408203, \"xmax\": -117.59535217285156, \"ymin\": 47.652366638183594, \"ymax\": 47.652519226074219 }",
                    "theme": "buildings",
                    "type": "building",
                    "version": 0,
                    "sources": "[{'property': '', 'dataset': 'OpenStreetMap', 'record_id': 'w657749056@1', 'update_time': '2018-12-25T00:48:30.000Z', 'confidence': None}\n {'property': 'properties/height', 'dataset': 'Microsoft ML Buildings', 'record_id': None, 'update_time': None, 'confidence': None}]",
                    "level": null,
                    "subtype": null,
                    "class": null,
                    "height": 5.0463204,
                    "names": null,
                    "has_parts": false,
                    "is_underground": false,
                    "num_floors": null,
                    "num_floors_underground": null,
                    "min_height": null,
                    "min_floor": null,
                    "facade_color": null,
                    "facade_material": null,
                    "roof_material": null,
                    "roof_shape": null,
                    "roof_direction": null,
                    "roof_orientation": null,
                    "roof_color": null,
                    "roof_height": null,
                    "style": {
                      "weight": 1
                    }
                  },
                  "geometry": {
                    "type": "Polygon",
                    "coordinates": [
                      [
                        [
                          -117.5954153,
                          47.6525089
                        ],
                        [
                          -117.59556,
                          47.6525186
                        ],
                        [
                          -117.5955764,
                          47.6524114
                        ],
                        [
                          -117.5954686,
                          47.6524042
                        ],
                        [
                          -117.5954735,
                          47.6523748
                        ],
                        [
                          -117.5953807,
                          47.6523685
                        ],
                        [
                          -117.5953756,
                          47.6524023
                        ],
                        [
                          -117.5953667,
                          47.6524017
                        ],
                        [
                          -117.5953553,
                          47.6524752
                        ],
                        [
                          -117.5954192,
                          47.6524795
                        ],
                        [
                          -117.5954153,
                          47.6525089
                        ]
                      ]
                    ]
                  },
                  "bbox": [
                    -117.5955764,
                    47.6523685,
                    -117.5953553,
                    47.6525186
                  ]
                },
                {
                  "id": "157",
                  "type": "Feature",
                  "properties": {
                    "id": "08b12db7032a4fff02002be6676a0442",
                    "bbox": "{ \"xmin\": -117.59633636474609, \"xmax\": -117.59611511230469, \"ymin\": 47.652908325195312, \"ymax\": 47.653079986572266 }",
                    "theme": "buildings",
                    "type": "building",
                    "version": 0,
                    "sources": "[{'property': '', 'dataset': 'OpenStreetMap', 'record_id': 'w656323731@1', 'update_time': '2018-12-19T19:41:06.000Z', 'confidence': None}\n {'property': 'properties/height', 'dataset': 'Microsoft ML Buildings', 'record_id': None, 'update_time': None, 'confidence': None}]",
                    "level": null,
                    "subtype": null,
                    "class": null,
                    "height": 5.3872786,
                    "names": null,
                    "has_parts": false,
                    "is_underground": false,
                    "num_floors": null,
                    "num_floors_underground": null,
                    "min_height": null,
                    "min_floor": null,
                    "facade_color": null,
                    "facade_material": null,
                    "roof_material": null,
                    "roof_shape": null,
                    "roof_direction": null,
                    "roof_orientation": null,
                    "roof_color": null,
                    "roof_height": null,
                    "style": {
                      "weight": 1
                    }
                  },
                  "geometry": {
                    "type": "Polygon",
                    "coordinates": [
                      [
                        [
                          -117.5963236,
                          47.6529394
                        ],
                        [
                          -117.5961936,
                          47.6529155
                        ],
                        [
                          -117.5961886,
                          47.6529286
                        ],
                        [
                          -117.5961816,
                          47.6529275
                        ],
                        [
                          -117.5961296,
                          47.6530515
                        ],
                        [
                          -117.5962646,
                          47.653079
                        ],
                        [
                          -117.5963236,
                          47.6529394
                        ]
                      ]
                    ]
                  },
                  "bbox": [
                    -117.5963236,
                    47.6529155,
                    -117.5961296,
                    47.653079
                  ]
                },
                {
                  "id": "158",
                  "type": "Feature",
                  "properties": {
                    "id": "08b12db70338bfff0200b53b4eb33f21",
                    "bbox": "{ \"xmin\": -117.59612274169922, \"xmax\": -117.59586334228516, \"ymin\": 47.652847290039062, \"ymax\": 47.653034210205078 }",
                    "theme": "buildings",
                    "type": "building",
                    "version": 0,
                    "sources": "[{'property': '', 'dataset': 'OpenStreetMap', 'record_id': 'w656323732@1', 'update_time': '2018-12-19T19:41:06.000Z', 'confidence': None}\n {'property': 'properties/height', 'dataset': 'Microsoft ML Buildings', 'record_id': None, 'update_time': None, 'confidence': None}]",
                    "level": null,
                    "subtype": null,
                    "class": null,
                    "height": 4.5217905,
                    "names": null,
                    "has_parts": false,
                    "is_underground": false,
                    "num_floors": null,
                    "num_floors_underground": null,
                    "min_height": null,
                    "min_floor": null,
                    "facade_color": null,
                    "facade_material": null,
                    "roof_material": null,
                    "roof_shape": null,
                    "roof_direction": null,
                    "roof_orientation": null,
                    "roof_color": null,
                    "roof_height": null,
                    "style": {
                      "weight": 1
                    }
                  },
                  "geometry": {
                    "type": "Polygon",
                    "coordinates": [
                      [
                        [
                          -117.5960626,
                          47.6530326
                        ],
                        [
                          -117.5961196,
                          47.6528924
                        ],
                        [
                          -117.5960346,
                          47.6528767
                        ],
                        [
                          -117.5960376,
                          47.6528709
                        ],
                        [
                          -117.5959386,
                          47.6528532
                        ],
                        [
                          -117.5958766,
                          47.6529982
                        ],
                        [
                          -117.5960626,
                          47.6530326
                        ]
                      ]
                    ]
                  },
                  "bbox": [
                    -117.5961196,
                    47.6528532,
                    -117.5958766,
                    47.6530326
                  ]
                },
                {
                  "id": "159",
                  "type": "Feature",
                  "properties": {
                    "id": "08b12db70338bfff0200ab4e0fe47fa8",
                    "bbox": "{ \"xmin\": -117.59586334228516, \"xmax\": -117.59564208984375, \"ymin\": 47.652820587158203, \"ymax\": 47.652980804443359 }",
                    "theme": "buildings",
                    "type": "building",
                    "version": 0,
                    "sources": "[{'property': '', 'dataset': 'OpenStreetMap', 'record_id': 'w656323733@1', 'update_time': '2018-12-19T19:41:06.000Z', 'confidence': None}\n {'property': 'properties/height', 'dataset': 'Microsoft ML Buildings', 'record_id': None, 'update_time': None, 'confidence': None}]",
                    "level": null,
                    "subtype": null,
                    "class": null,
                    "height": 4.6867394,
                    "names": null,
                    "has_parts": false,
                    "is_underground": false,
                    "num_floors": null,
                    "num_floors_underground": null,
                    "min_height": null,
                    "min_floor": null,
                    "facade_color": null,
                    "facade_material": null,
                    "roof_material": null,
                    "roof_shape": null,
                    "roof_direction": null,
                    "roof_orientation": null,
                    "roof_color": null,
                    "roof_height": null,
                    "style": {
                      "weight": 1
                    }
                  },
                  "geometry": {
                    "type": "Polygon",
                    "coordinates": [
                      [
                        [
                          -117.5956816,
                          47.6528218
                        ],
                        [
                          -117.5956426,
                          47.6529579
                        ],
                        [
                          -117.5958076,
                          47.65298
                        ],
                        [
                          -117.5958496,
                          47.6528389
                        ],
                        [
                          -117.5957576,
                          47.6528269
                        ],
                        [
                          -117.5957566,
                          47.6528306
                        ],
                        [
                          -117.5956816,
                          47.6528218
                        ]
                      ]
                    ]
                  },
                  "bbox": [
                    -117.5958496,
                    47.6528218,
                    -117.5956426,
                    47.65298
                  ]
                },
                {
                  "id": "160",
                  "type": "Feature",
                  "properties": {
                    "id": "08b12db703216fff0200e00251e30470",
                    "bbox": "{ \"xmin\": -117.59555053710938, \"xmax\": -117.59526062011719, \"ymin\": 47.652786254882812, \"ymax\": 47.652919769287109 }",
                    "theme": "buildings",
                    "type": "building",
                    "version": 0,
                    "sources": "[{'property': '', 'dataset': 'OpenStreetMap', 'record_id': 'w656323734@1', 'update_time': '2018-12-19T19:41:07.000Z', 'confidence': None}\n {'property': 'properties/height', 'dataset': 'Microsoft ML Buildings', 'record_id': None, 'update_time': None, 'confidence': None}]",
                    "level": null,
                    "subtype": null,
                    "class": null,
                    "height": 5.709596,
                    "names": null,
                    "has_parts": false,
                    "is_underground": false,
                    "num_floors": null,
                    "num_floors_underground": null,
                    "min_height": null,
                    "min_floor": null,
                    "facade_color": null,
                    "facade_material": null,
                    "roof_material": null,
                    "roof_shape": null,
                    "roof_direction": null,
                    "roof_orientation": null,
                    "roof_color": null,
                    "roof_height": null,
                    "style": {
                      "weight": 1
                    }
                  },
                  "geometry": {
                    "type": "Polygon",
                    "coordinates": [
                      [
                        [
                          -117.5954796,
                          47.6528835
                        ],
                        [
                          -117.5955306,
                          47.652886
                        ],
                        [
                          -117.5955386,
                          47.6528123
                        ],
                        [
                          -117.5954916,
                          47.65281
                        ],
                        [
                          -117.5954926,
                          47.6527974
                        ],
                        [
                          -117.5953906,
                          47.6527924
                        ],
                        [
                          -117.5953886,
                          47.6528091
                        ],
                        [
                          -117.5952966,
                          47.6528046
                        ],
                        [
                          -117.5952956,
                          47.6528101
                        ],
                        [
                          -117.5952866,
                          47.6528096
                        ],
                        [
                          -117.5952756,
                          47.6529086
                        ],
                        [
                          -117.5954756,
                          47.6529184
                        ],
                        [
                          -117.5954796,
                          47.6528835
                        ]
                      ]
                    ]
                  },
                  "bbox": [
                    -117.5955386,
                    47.6527924,
                    -117.5952756,
                    47.6529184
                  ]
                },
                {
                  "id": "161",
                  "type": "Feature",
                  "properties": {
                    "id": "08b12db7032f0fff0200d5763c79c868",
                    "bbox": "{ \"xmin\": -117.59441375732422, \"xmax\": -117.59420776367188, \"ymin\": 47.650703430175781, \"ymax\": 47.650928497314453 }",
                    "theme": "buildings",
                    "type": "building",
                    "version": 0,
                    "sources": "[{'property': '', 'dataset': 'OpenStreetMap', 'record_id': 'w657749069@1', 'update_time': '2018-12-25T00:48:30.000Z', 'confidence': None}\n {'property': 'properties/height', 'dataset': 'Microsoft ML Buildings', 'record_id': None, 'update_time': None, 'confidence': None}]",
                    "level": null,
                    "subtype": null,
                    "class": null,
                    "height": 5.317305,
                    "names": null,
                    "has_parts": false,
                    "is_underground": false,
                    "num_floors": null,
                    "num_floors_underground": null,
                    "min_height": null,
                    "min_floor": null,
                    "facade_color": null,
                    "facade_material": null,
                    "roof_material": null,
                    "roof_shape": null,
                    "roof_direction": null,
                    "roof_orientation": null,
                    "roof_color": null,
                    "roof_height": null,
                    "style": {
                      "weight": 1
                    }
                  },
                  "geometry": {
                    "type": "Polygon",
                    "coordinates": [
                      [
                        [
                          -117.5943975,
                          47.6507085
                        ],
                        [
                          -117.5942445,
                          47.6507048
                        ],
                        [
                          -117.5942385,
                          47.6508178
                        ],
                        [
                          -117.5942315,
                          47.6508176
                        ],
                        [
                          -117.5942275,
                          47.6508904
                        ],
                        [
                          -117.5942115,
                          47.65089
                        ],
                        [
                          -117.5942095,
                          47.6509175
                        ],
                        [
                          -117.5943765,
                          47.6509213
                        ],
                        [
                          -117.5943785,
                          47.6508829
                        ],
                        [
                          -117.5943945,
                          47.6508832
                        ],
                        [
                          -117.5943955,
                          47.6508697
                        ],
                        [
                          -117.5943985,
                          47.6508698
                        ],
                        [
                          -117.5944005,
                          47.6508209
                        ],
                        [
                          -117.5943915,
                          47.6508207
                        ],
                        [
                          -117.5943975,
                          47.6507085
                        ]
                      ]
                    ]
                  },
                  "bbox": [
                    -117.5944005,
                    47.6507048,
                    -117.5942095,
                    47.6509213
                  ]
                },
                {
                  "id": "162",
                  "type": "Feature",
                  "properties": {
                    "id": "08b12db7032f0fff0200db502b0d4960",
                    "bbox": "{ \"xmin\": -117.59417724609375, \"xmax\": -117.59403228759766, \"ymin\": 47.650859832763672, \"ymax\": 47.650955200195312 }",
                    "theme": "buildings",
                    "type": "building",
                    "version": 0,
                    "sources": "[{'property': '', 'dataset': 'OpenStreetMap', 'record_id': 'w1217619715@1', 'update_time': '2023-10-22T20:39:31.000Z', 'confidence': None}]",
                    "level": null,
                    "subtype": null,
                    "class": null,
                    "height": null,
                    "names": null,
                    "has_parts": false,
                    "is_underground": false,
                    "num_floors": null,
                    "num_floors_underground": null,
                    "min_height": null,
                    "min_floor": null,
                    "facade_color": null,
                    "facade_material": null,
                    "roof_material": null,
                    "roof_shape": null,
                    "roof_direction": null,
                    "roof_orientation": null,
                    "roof_color": null,
                    "roof_height": null,
                    "style": {
                      "weight": 1
                    }
                  },
                  "geometry": {
                    "type": "Polygon",
                    "coordinates": [
                      [
                        [
                          -117.5941561,
                          47.6509485
                        ],
                        [
                          -117.5941652,
                          47.6508662
                        ],
                        [
                          -117.5940548,
                          47.6508606
                        ],
                        [
                          -117.5940457,
                          47.650943
                        ],
                        [
                          -117.5941561,
                          47.6509485
                        ]
                      ]
                    ]
                  },
                  "bbox": [
                    -117.5941652,
                    47.6508606,
                    -117.5940457,
                    47.6509485
                  ]
                },
                {
                  "id": "163",
                  "type": "Feature",
                  "properties": {
                    "id": "08b12db7032f6fff020021527bf6f5a9",
                    "bbox": "{ \"xmin\": -117.59494781494141, \"xmax\": -117.59476470947266, \"ymin\": 47.651027679443359, \"ymax\": 47.651268005371094 }",
                    "theme": "buildings",
                    "type": "building",
                    "version": 0,
                    "sources": "[{'property': '', 'dataset': 'OpenStreetMap', 'record_id': 'w657749064@1', 'update_time': '2018-12-25T00:48:30.000Z', 'confidence': None}]",
                    "level": null,
                    "subtype": null,
                    "class": null,
                    "height": null,
                    "names": null,
                    "has_parts": false,
                    "is_underground": false,
                    "num_floors": null,
                    "num_floors_underground": null,
                    "min_height": null,
                    "min_floor": null,
                    "facade_color": null,
                    "facade_material": null,
                    "roof_material": null,
                    "roof_shape": null,
                    "roof_direction": null,
                    "roof_orientation": null,
                    "roof_color": null,
                    "roof_height": null,
                    "style": {
                      "weight": 1
                    }
                  },
                  "geometry": {
                    "type": "Polygon",
                    "coordinates": [
                      [
                        [
                          -117.5948809,
                          47.6512618
                        ],
                        [
                          -117.5948829,
                          47.6511446
                        ],
                        [
                          -117.5949329,
                          47.651145
                        ],
                        [
                          -117.5949339,
                          47.6510697
                        ],
                        [
                          -117.5949289,
                          47.6510696
                        ],
                        [
                          -117.5949289,
                          47.6510355
                        ],
                        [
                          -117.5948179,
                          47.6510347
                        ],
                        [
                          -117.5948179,
                          47.6510826
                        ],
                        [
                          -117.5947819,
                          47.6510823
                        ],
                        [
                          -117.5947799,
                          47.6511504
                        ],
                        [
                          -117.5947849,
                          47.6511504
                        ],
                        [
                          -117.5947839,
                          47.6512316
                        ],
                        [
                          -117.5947899,
                          47.6512317
                        ],
                        [
                          -117.5947899,
                          47.6512611
                        ],
                        [
                          -117.5948809,
                          47.6512618
                        ]
                      ]
                    ]
                  },
                  "bbox": [
                    -117.5949339,
                    47.6510347,
                    -117.5947799,
                    47.6512618
                  ]
                },
                {
                  "id": "164",
                  "type": "Feature",
                  "properties": {
                    "id": "08b12db7032a9fff0200eba4876ad890",
                    "bbox": "{ \"xmin\": -117.59489440917969, \"xmax\": -117.59466552734375, \"ymin\": 47.651451110839844, \"ymax\": 47.651653289794922 }",
                    "theme": "buildings",
                    "type": "building",
                    "version": 0,
                    "sources": "[{'property': '', 'dataset': 'OpenStreetMap', 'record_id': 'w657749061@1', 'update_time': '2018-12-25T00:48:30.000Z', 'confidence': None}\n {'property': 'properties/height', 'dataset': 'Microsoft ML Buildings', 'record_id': None, 'update_time': None, 'confidence': None}]",
                    "level": null,
                    "subtype": null,
                    "class": null,
                    "height": 4.5626817,
                    "names": null,
                    "has_parts": false,
                    "is_underground": false,
                    "num_floors": null,
                    "num_floors_underground": null,
                    "min_height": null,
                    "min_floor": null,
                    "facade_color": null,
                    "facade_material": null,
                    "roof_material": null,
                    "roof_shape": null,
                    "roof_direction": null,
                    "roof_orientation": null,
                    "roof_color": null,
                    "roof_height": null,
                    "style": {
                      "weight": 1
                    }
                  },
                  "geometry": {
                    "type": "Polygon",
                    "coordinates": [
                      [
                        [
                          -117.5948133,
                          47.651647
                        ],
                        [
                          -117.59483,
                          47.6516171
                        ],
                        [
                          -117.5948459,
                          47.6516212
                        ],
                        [
                          -117.5948814,
                          47.6515577
                        ],
                        [
                          -117.5948469,
                          47.651549
                        ],
                        [
                          -117.5948818,
                          47.6514865
                        ],
                        [
                          -117.5947482,
                          47.6514526
                        ],
                        [
                          -117.5946788,
                          47.6515768
                        ],
                        [
                          -117.5947284,
                          47.6515894
                        ],
                        [
                          -117.5947107,
                          47.651621
                        ],
                        [
                          -117.5948133,
                          47.651647
                        ]
                      ]
                    ]
                  },
                  "bbox": [
                    -117.5948818,
                    47.6514526,
                    -117.5946788,
                    47.651647
                  ]
                },
                {
                  "id": "165",
                  "type": "Feature",
                  "properties": {
                    "id": "08b12db7032adfff0200ac65e0c3ffaa",
                    "bbox": "{ \"xmin\": -117.59471893310547, \"xmax\": -117.5946044921875, \"ymin\": 47.651741027832031, \"ymax\": 47.651802062988281 }",
                    "theme": "buildings",
                    "type": "building",
                    "version": 0,
                    "sources": "[{'property': '', 'dataset': 'OpenStreetMap', 'record_id': 'w657749058@1', 'update_time': '2018-12-25T00:48:30.000Z', 'confidence': None}]",
                    "level": null,
                    "subtype": null,
                    "class": null,
                    "height": null,
                    "names": null,
                    "has_parts": false,
                    "is_underground": false,
                    "num_floors": null,
                    "num_floors_underground": null,
                    "min_height": null,
                    "min_floor": null,
                    "facade_color": null,
                    "facade_material": null,
                    "roof_material": null,
                    "roof_shape": null,
                    "roof_direction": null,
                    "roof_orientation": null,
                    "roof_color": null,
                    "roof_height": null,
                    "style": {
                      "weight": 1
                    }
                  },
                  "geometry": {
                    "type": "Polygon",
                    "coordinates": [
                      [
                        [
                          -117.5947046,
                          47.6517777
                        ],
                        [
                          -117.5946806,
                          47.6517422
                        ],
                        [
                          -117.5946056,
                          47.651765
                        ],
                        [
                          -117.5946296,
                          47.6518013
                        ],
                        [
                          -117.5947046,
                          47.6517777
                        ]
                      ]
                    ]
                  },
                  "bbox": [
                    -117.5947046,
                    47.6517422,
                    -117.5946056,
                    47.6518013
                  ]
                },
                {
                  "id": "166",
                  "type": "Feature",
                  "properties": {
                    "id": "08b12db7032adfff0200b30bf7abdb15",
                    "bbox": "{ \"xmin\": -117.59489440917969, \"xmax\": -117.59459686279297, \"ymin\": 47.651748657226562, \"ymax\": 47.651943206787109 }",
                    "theme": "buildings",
                    "type": "building",
                    "version": 0,
                    "sources": "[{'property': '', 'dataset': 'OpenStreetMap', 'record_id': 'w657749057@1', 'update_time': '2018-12-25T00:48:30.000Z', 'confidence': None}\n {'property': 'properties/height', 'dataset': 'Microsoft ML Buildings', 'record_id': None, 'update_time': None, 'confidence': None}]",
                    "level": null,
                    "subtype": null,
                    "class": null,
                    "height": 5.024078,
                    "names": null,
                    "has_parts": false,
                    "is_underground": false,
                    "num_floors": null,
                    "num_floors_underground": null,
                    "min_height": null,
                    "min_floor": null,
                    "facade_color": null,
                    "facade_material": null,
                    "roof_material": null,
                    "roof_shape": null,
                    "roof_direction": null,
                    "roof_orientation": null,
                    "roof_color": null,
                    "roof_height": null,
                    "style": {
                      "weight": 1
                    }
                  },
                  "geometry": {
                    "type": "Polygon",
                    "coordinates": [
                      [
                        [
                          -117.5948914,
                          47.6518735
                        ],
                        [
                          -117.5948124,
                          47.6517557
                        ],
                        [
                          -117.5946084,
                          47.6518182
                        ],
                        [
                          -117.5946874,
                          47.6519359
                        ],
                        [
                          -117.5948914,
                          47.6518735
                        ]
                      ]
                    ]
                  },
                  "bbox": [
                    -117.5948914,
                    47.6517557,
                    -117.5946084,
                    47.6519359
                  ]
                },
                {
                  "id": "167",
                  "type": "Feature",
                  "properties": {
                    "id": "08b12db703213fff0200a14674bad626",
                    "bbox": "{ \"xmin\": -117.59497833251953, \"xmax\": -117.59468841552734, \"ymin\": 47.652187347412109, \"ymax\": 47.652370452880859 }",
                    "theme": "buildings",
                    "type": "building",
                    "version": 0,
                    "sources": "[{'property': '', 'dataset': 'OpenStreetMap', 'record_id': 'w657749066@1', 'update_time': '2018-12-25T00:48:30.000Z', 'confidence': None}\n {'property': 'properties/height', 'dataset': 'Microsoft ML Buildings', 'record_id': None, 'update_time': None, 'confidence': None}]",
                    "level": null,
                    "subtype": null,
                    "class": null,
                    "height": 5.2829676,
                    "names": null,
                    "has_parts": false,
                    "is_underground": false,
                    "num_floors": null,
                    "num_floors_underground": null,
                    "min_height": null,
                    "min_floor": null,
                    "facade_color": null,
                    "facade_material": null,
                    "roof_material": null,
                    "roof_shape": null,
                    "roof_direction": null,
                    "roof_orientation": null,
                    "roof_color": null,
                    "roof_height": null,
                    "style": {
                      "weight": 1
                    }
                  },
                  "geometry": {
                    "type": "Polygon",
                    "coordinates": [
                      [
                        [
                          -117.5949664,
                          47.6522516
                        ],
                        [
                          -117.5947644,
                          47.6521948
                        ],
                        [
                          -117.5946914,
                          47.6523133
                        ],
                        [
                          -117.5948924,
                          47.65237
                        ],
                        [
                          -117.5949664,
                          47.6522516
                        ]
                      ]
                    ]
                  },
                  "bbox": [
                    -117.5949664,
                    47.6521948,
                    -117.5946914,
                    47.65237
                  ]
                },
                {
                  "id": "168",
                  "type": "Feature",
                  "properties": {
                    "id": "08b12db703213fff0200779100db4071",
                    "bbox": "{ \"xmin\": -117.59488677978516, \"xmax\": -117.59461212158203, \"ymin\": 47.652362823486328, \"ymax\": 47.65252685546875 }",
                    "theme": "buildings",
                    "type": "building",
                    "version": 0,
                    "sources": "[{'property': '', 'dataset': 'OpenStreetMap', 'record_id': 'w657749067@1', 'update_time': '2018-12-25T00:48:30.000Z', 'confidence': None}]",
                    "level": null,
                    "subtype": null,
                    "class": null,
                    "height": null,
                    "names": null,
                    "has_parts": false,
                    "is_underground": false,
                    "num_floors": null,
                    "num_floors_underground": null,
                    "min_height": null,
                    "min_floor": null,
                    "facade_color": null,
                    "facade_material": null,
                    "roof_material": null,
                    "roof_shape": null,
                    "roof_direction": null,
                    "roof_orientation": null,
                    "roof_color": null,
                    "roof_height": null,
                    "style": {
                      "weight": 1
                    }
                  },
                  "geometry": {
                    "type": "Polygon",
                    "coordinates": [
                      [
                        [
                          -117.5948454,
                          47.6524894
                        ],
                        [
                          -117.5948724,
                          47.6524275
                        ],
                        [
                          -117.5947814,
                          47.6524097
                        ],
                        [
                          -117.5947824,
                          47.6524063
                        ],
                        [
                          -117.5947104,
                          47.6523922
                        ],
                        [
                          -117.5947164,
                          47.6523773
                        ],
                        [
                          -117.5946774,
                          47.6523697
                        ],
                        [
                          -117.5946704,
                          47.6523851
                        ],
                        [
                          -117.5946604,
                          47.6523831
                        ],
                        [
                          -117.5946134,
                          47.6524906
                        ],
                        [
                          -117.5947694,
                          47.6525211
                        ],
                        [
                          -117.5947874,
                          47.6524781
                        ],
                        [
                          -117.5948454,
                          47.6524894
                        ]
                      ]
                    ]
                  },
                  "bbox": [
                    -117.5948724,
                    47.6523697,
                    -117.5946134,
                    47.6525211
                  ]
                },
                {
                  "id": "169",
                  "type": "Feature",
                  "properties": {
                    "id": "08b12db703210fff02006283170709a6",
                    "bbox": "{ \"xmin\": -117.59485626220703, \"xmax\": -117.59458923339844, \"ymin\": 47.652618408203125, \"ymax\": 47.652732849121094 }",
                    "theme": "buildings",
                    "type": "building",
                    "version": 0,
                    "sources": "[{'property': '', 'dataset': 'OpenStreetMap', 'record_id': 'w657749068@1', 'update_time': '2018-12-25T00:48:30.000Z', 'confidence': None}]",
                    "level": null,
                    "subtype": null,
                    "class": null,
                    "height": null,
                    "names": null,
                    "has_parts": false,
                    "is_underground": false,
                    "num_floors": null,
                    "num_floors_underground": null,
                    "min_height": null,
                    "min_floor": null,
                    "facade_color": null,
                    "facade_material": null,
                    "roof_material": null,
                    "roof_shape": null,
                    "roof_direction": null,
                    "roof_orientation": null,
                    "roof_color": null,
                    "roof_height": null,
                    "style": {
                      "weight": 1
                    }
                  },
                  "geometry": {
                    "type": "Polygon",
                    "coordinates": [
                      [
                        [
                          -117.5948433,
                          47.6527314
                        ],
                        [
                          -117.5948443,
                          47.6526678
                        ],
                        [
                          -117.5948113,
                          47.6526675
                        ],
                        [
                          -117.5948113,
                          47.6526571
                        ],
                        [
                          -117.5947973,
                          47.652657
                        ],
                        [
                          -117.5947983,
                          47.6526201
                        ],
                        [
                          -117.5946243,
                          47.6526185
                        ],
                        [
                          -117.5946233,
                          47.6526662
                        ],
                        [
                          -117.5945893,
                          47.6526659
                        ],
                        [
                          -117.5945893,
                          47.6527015
                        ],
                        [
                          -117.5946233,
                          47.6527018
                        ],
                        [
                          -117.5946233,
                          47.6527294
                        ],
                        [
                          -117.5948433,
                          47.6527314
                        ]
                      ]
                    ]
                  },
                  "bbox": [
                    -117.5948443,
                    47.6526185,
                    -117.5945893,
                    47.6527314
                  ]
                },
                {
                  "id": "170",
                  "type": "Feature",
                  "properties": {
                    "id": "08b12db703210fff0200de32a9967e94",
                    "bbox": "{ \"xmin\": -117.59487915039062, \"xmax\": -117.59463500976562, \"ymin\": 47.652782440185547, \"ymax\": 47.652946472167969 }",
                    "theme": "buildings",
                    "type": "building",
                    "version": 0,
                    "sources": "[{'property': '', 'dataset': 'OpenStreetMap', 'record_id': 'w657749053@1', 'update_time': '2018-12-25T00:48:29.000Z', 'confidence': None}]",
                    "level": null,
                    "subtype": null,
                    "class": null,
                    "height": null,
                    "names": null,
                    "has_parts": false,
                    "is_underground": false,
                    "num_floors": null,
                    "num_floors_underground": null,
                    "min_height": null,
                    "min_floor": null,
                    "facade_color": null,
                    "facade_material": null,
                    "roof_material": null,
                    "roof_shape": null,
                    "roof_direction": null,
                    "roof_orientation": null,
                    "roof_color": null,
                    "roof_height": null,
                    "style": {
                      "weight": 1
                    }
                  },
                  "geometry": {
                    "type": "Polygon",
                    "coordinates": [
                      [
                        [
                          -117.5946383,
                          47.6529456
                        ],
                        [
                          -117.5948593,
                          47.6529464
                        ],
                        [
                          -117.5948603,
                          47.6528927
                        ],
                        [
                          -117.5948663,
                          47.6528927
                        ],
                        [
                          -117.5948663,
                          47.6528171
                        ],
                        [
                          -117.5948583,
                          47.6528171
                        ],
                        [
                          -117.5948583,
                          47.6527836
                        ],
                        [
                          -117.5947613,
                          47.6527832
                        ],
                        [
                          -117.5947603,
                          47.6528149
                        ],
                        [
                          -117.5946393,
                          47.6528145
                        ],
                        [
                          -117.5946383,
                          47.6529456
                        ]
                      ]
                    ]
                  },
                  "bbox": [
                    -117.5948663,
                    47.6527832,
                    -117.5946383,
                    47.6529464
                  ]
                },
                {
                  "id": "171",
                  "type": "Feature",
                  "properties": {
                    "id": "08b12db703214fff020075fa93857898",
                    "bbox": "{ \"xmin\": -117.59485626220703, \"xmax\": -117.59461975097656, \"ymin\": 47.652957916259766, \"ymax\": 47.653087615966797 }",
                    "theme": "buildings",
                    "type": "building",
                    "version": 0,
                    "sources": "[{'property': '', 'dataset': 'OpenStreetMap', 'record_id': 'w656437729@1', 'update_time': '2018-12-20T07:57:18.000Z', 'confidence': None}]",
                    "level": null,
                    "subtype": null,
                    "class": null,
                    "height": null,
                    "names": null,
                    "has_parts": false,
                    "is_underground": false,
                    "num_floors": null,
                    "num_floors_underground": null,
                    "min_height": null,
                    "min_floor": null,
                    "facade_color": null,
                    "facade_material": null,
                    "roof_material": null,
                    "roof_shape": null,
                    "roof_direction": null,
                    "roof_orientation": null,
                    "roof_color": null,
                    "roof_height": null,
                    "style": {
                      "weight": 1
                    }
                  },
                  "geometry": {
                    "type": "Polygon",
                    "coordinates": [
                      [
                        [
                          -117.5948423,
                          47.6530812
                        ],
                        [
                          -117.5948433,
                          47.6530172
                        ],
                        [
                          -117.5947853,
                          47.6530166
                        ],
                        [
                          -117.5947863,
                          47.6529721
                        ],
                        [
                          -117.5947593,
                          47.652972
                        ],
                        [
                          -117.5947593,
                          47.6529663
                        ],
                        [
                          -117.5946253,
                          47.6529654
                        ],
                        [
                          -117.5946233,
                          47.6530766
                        ],
                        [
                          -117.5947473,
                          47.6530775
                        ],
                        [
                          -117.5947473,
                          47.6530805
                        ],
                        [
                          -117.5948423,
                          47.6530812
                        ]
                      ]
                    ]
                  },
                  "bbox": [
                    -117.5948433,
                    47.6529654,
                    -117.5946233,
                    47.6530812
                  ]
                },
                {
                  "id": "172",
                  "type": "Feature",
                  "properties": {
                    "id": "08b12db703398fff0200e1758a8501ed",
                    "bbox": "{ \"xmin\": -117.59748077392578, \"xmax\": -117.59717559814453, \"ymin\": 47.653118133544922, \"ymax\": 47.653316497802734 }",
                    "theme": "buildings",
                    "type": "building",
                    "version": 0,
                    "sources": "[{'property': '', 'dataset': 'OpenStreetMap', 'record_id': 'w656323727@1', 'update_time': '2018-12-19T19:41:06.000Z', 'confidence': None}\n {'property': 'properties/height', 'dataset': 'Microsoft ML Buildings', 'record_id': None, 'update_time': None, 'confidence': None}]",
                    "level": null,
                    "subtype": null,
                    "class": null,
                    "height": 4.8645186,
                    "names": null,
                    "has_parts": false,
                    "is_underground": false,
                    "num_floors": null,
                    "num_floors_underground": null,
                    "min_height": null,
                    "min_floor": null,
                    "facade_color": null,
                    "facade_material": null,
                    "roof_material": null,
                    "roof_shape": null,
                    "roof_direction": null,
                    "roof_orientation": null,
                    "roof_color": null,
                    "roof_height": null,
                    "style": {
                      "weight": 1
                    }
                  },
                  "geometry": {
                    "type": "Polygon",
                    "coordinates": [
                      [
                        [
                          -117.5974776,
                          47.6531715
                        ],
                        [
                          -117.5974006,
                          47.6531578
                        ],
                        [
                          -117.5973986,
                          47.653162
                        ],
                        [
                          -117.5973916,
                          47.6531606
                        ],
                        [
                          -117.5973976,
                          47.6531455
                        ],
                        [
                          -117.5972486,
                          47.653119
                        ],
                        [
                          -117.5971896,
                          47.65327
                        ],
                        [
                          -117.5972346,
                          47.6532781
                        ],
                        [
                          -117.5972276,
                          47.653296
                        ],
                        [
                          -117.5973396,
                          47.6533161
                        ],
                        [
                          -117.5973456,
                          47.6532996
                        ],
                        [
                          -117.5974216,
                          47.6533132
                        ],
                        [
                          -117.5974776,
                          47.6531715
                        ]
                      ]
                    ]
                  },
                  "bbox": [
                    -117.5974776,
                    47.653119,
                    -117.5971896,
                    47.6533161
                  ]
                },
                {
                  "id": "173",
                  "type": "Feature",
                  "properties": {
                    "id": "08b12db703389fff0200b855d16effce",
                    "bbox": "{ \"xmin\": -117.59546661376953, \"xmax\": -117.59526062011719, \"ymin\": 47.653156280517578, \"ymax\": 47.653308868408203 }",
                    "theme": "buildings",
                    "type": "building",
                    "version": 0,
                    "sources": "[{'property': '', 'dataset': 'OpenStreetMap', 'record_id': 'w656323726@1', 'update_time': '2018-12-19T19:41:06.000Z', 'confidence': None}\n {'property': 'properties/height', 'dataset': 'Microsoft ML Buildings', 'record_id': None, 'update_time': None, 'confidence': None}]",
                    "level": null,
                    "subtype": null,
                    "class": null,
                    "height": 5.4181914,
                    "names": null,
                    "has_parts": false,
                    "is_underground": false,
                    "num_floors": null,
                    "num_floors_underground": null,
                    "min_height": null,
                    "min_floor": null,
                    "facade_color": null,
                    "facade_material": null,
                    "roof_material": null,
                    "roof_shape": null,
                    "roof_direction": null,
                    "roof_orientation": null,
                    "roof_color": null,
                    "roof_height": null,
                    "style": {
                      "weight": 1
                    }
                  },
                  "geometry": {
                    "type": "Polygon",
                    "coordinates": [
                      [
                        [
                          -117.595452,
                          47.6531568
                        ],
                        [
                          -117.595262,
                          47.6531566
                        ],
                        [
                          -117.595262,
                          47.6532998
                        ],
                        [
                          -117.59535,
                          47.6532999
                        ],
                        [
                          -117.59535,
                          47.6533076
                        ],
                        [
                          -117.595452,
                          47.6533077
                        ],
                        [
                          -117.595452,
                          47.6531568
                        ]
                      ]
                    ]
                  },
                  "bbox": [
                    -117.595452,
                    47.6531566,
                    -117.595262,
                    47.6533077
                  ]
                },
                {
                  "id": "174",
                  "type": "Feature",
                  "properties": {
                    "id": "08b12db70338dfff02008a632423a3b3",
                    "bbox": "{ \"xmin\": -117.59552001953125, \"xmax\": -117.59532165527344, \"ymin\": 47.65362548828125, \"ymax\": 47.653778076171875 }",
                    "theme": "buildings",
                    "type": "building",
                    "version": 0,
                    "sources": "[{'property': '', 'dataset': 'OpenStreetMap', 'record_id': 'w656323723@1', 'update_time': '2018-12-19T19:41:06.000Z', 'confidence': None}\n {'property': 'properties/height', 'dataset': 'Microsoft ML Buildings', 'record_id': None, 'update_time': None, 'confidence': None}]",
                    "level": null,
                    "subtype": null,
                    "class": null,
                    "height": 4.12206,
                    "names": null,
                    "has_parts": false,
                    "is_underground": false,
                    "num_floors": null,
                    "num_floors_underground": null,
                    "min_height": null,
                    "min_floor": null,
                    "facade_color": null,
                    "facade_material": null,
                    "roof_material": null,
                    "roof_shape": null,
                    "roof_direction": null,
                    "roof_orientation": null,
                    "roof_color": null,
                    "roof_height": null,
                    "style": {
                      "weight": 1
                    }
                  },
                  "geometry": {
                    "type": "Polygon",
                    "coordinates": [
                      [
                        [
                          -117.595463,
                          47.6537708
                        ],
                        [
                          -117.595465,
                          47.6537004
                        ],
                        [
                          -117.595517,
                          47.6537009
                        ],
                        [
                          -117.595518,
                          47.6536395
                        ],
                        [
                          -117.595471,
                          47.6536391
                        ],
                        [
                          -117.595471,
                          47.6536285
                        ],
                        [
                          -117.595327,
                          47.6536273
                        ],
                        [
                          -117.595324,
                          47.6537696
                        ],
                        [
                          -117.595463,
                          47.6537708
                        ]
                      ]
                    ]
                  },
                  "bbox": [
                    -117.595518,
                    47.6536273,
                    -117.595324,
                    47.6537708
                  ]
                },
                {
                  "id": "175",
                  "type": "Feature",
                  "properties": {
                    "id": "08b12db7033abfff02006f0e86403f0e",
                    "bbox": "{ \"xmin\": -117.59558868408203, \"xmax\": -117.59528350830078, \"ymin\": 47.653858184814453, \"ymax\": 47.654014587402344 }",
                    "theme": "buildings",
                    "type": "building",
                    "version": 0,
                    "sources": "[{'property': '', 'dataset': 'OpenStreetMap', 'record_id': 'w656323724@1', 'update_time': '2018-12-19T19:41:06.000Z', 'confidence': None}]",
                    "level": null,
                    "subtype": null,
                    "class": null,
                    "height": null,
                    "names": null,
                    "has_parts": false,
                    "is_underground": false,
                    "num_floors": null,
                    "num_floors_underground": null,
                    "min_height": null,
                    "min_floor": null,
                    "facade_color": null,
                    "facade_material": null,
                    "roof_material": null,
                    "roof_shape": null,
                    "roof_direction": null,
                    "roof_orientation": null,
                    "roof_color": null,
                    "roof_height": null,
                    "style": {
                      "weight": 1
                    }
                  },
                  "geometry": {
                    "type": "Polygon",
                    "coordinates": [
                      [
                        [
                          -117.595321,
                          47.653864
                        ],
                        [
                          -117.595309,
                          47.6539237
                        ],
                        [
                          -117.595299,
                          47.6539228
                        ],
                        [
                          -117.595285,
                          47.6539892
                        ],
                        [
                          -117.595501,
                          47.6540127
                        ],
                        [
                          -117.595512,
                          47.6539643
                        ],
                        [
                          -117.595559,
                          47.6539684
                        ],
                        [
                          -117.595576,
                          47.6539056
                        ],
                        [
                          -117.595529,
                          47.6539002
                        ],
                        [
                          -117.595534,
                          47.6538848
                        ],
                        [
                          -117.595321,
                          47.653864
                        ]
                      ]
                    ]
                  },
                  "bbox": [
                    -117.595576,
                    47.653864,
                    -117.595285,
                    47.6540127
                  ]
                },
                {
                  "id": "176",
                  "type": "Feature",
                  "properties": {
                    "id": "08b12db7033abfff0200d283b102365a",
                    "bbox": "{ \"xmin\": -117.59553527832031, \"xmax\": -117.59529876708984, \"ymin\": 47.654045104980469, \"ymax\": 47.654190063476562 }",
                    "theme": "buildings",
                    "type": "building",
                    "version": 0,
                    "sources": "[{'property': '', 'dataset': 'OpenStreetMap', 'record_id': 'w656323718@1', 'update_time': '2018-12-19T19:41:06.000Z', 'confidence': None}\n {'property': 'properties/height', 'dataset': 'Microsoft ML Buildings', 'record_id': None, 'update_time': None, 'confidence': None}]",
                    "level": null,
                    "subtype": null,
                    "class": null,
                    "height": 5.022047,
                    "names": null,
                    "has_parts": false,
                    "is_underground": false,
                    "num_floors": null,
                    "num_floors_underground": null,
                    "min_height": null,
                    "min_floor": null,
                    "facade_color": null,
                    "facade_material": null,
                    "roof_material": null,
                    "roof_shape": null,
                    "roof_direction": null,
                    "roof_orientation": null,
                    "roof_color": null,
                    "roof_height": null,
                    "style": {
                      "weight": 1
                    }
                  },
                  "geometry": {
                    "type": "Polygon",
                    "coordinates": [
                      [
                        [
                          -117.5955094,
                          47.6541839
                        ],
                        [
                          -117.5955334,
                          47.6540733
                        ],
                        [
                          -117.5953254,
                          47.6540522
                        ],
                        [
                          -117.5953104,
                          47.6541167
                        ],
                        [
                          -117.5953714,
                          47.6541228
                        ],
                        [
                          -117.5953604,
                          47.6541688
                        ],
                        [
                          -117.5955094,
                          47.6541839
                        ]
                      ]
                    ]
                  },
                  "bbox": [
                    -117.5955334,
                    47.6540522,
                    -117.5953104,
                    47.6541839
                  ]
                },
                {
                  "id": "177",
                  "type": "Feature",
                  "properties": {
                    "id": "08b12db7033a8fff02008a0f7a8e59b8",
                    "bbox": "{ \"xmin\": -117.59539794921875, \"xmax\": -117.59519958496094, \"ymin\": 47.654483795166016, \"ymax\": 47.654666900634766 }",
                    "theme": "buildings",
                    "type": "building",
                    "version": 0,
                    "sources": "[{'property': '', 'dataset': 'OpenStreetMap', 'record_id': 'w656323715@1', 'update_time': '2018-12-19T19:41:06.000Z', 'confidence': None}]",
                    "level": null,
                    "subtype": null,
                    "class": null,
                    "height": null,
                    "names": null,
                    "has_parts": false,
                    "is_underground": false,
                    "num_floors": null,
                    "num_floors_underground": null,
                    "min_height": null,
                    "min_floor": null,
                    "facade_color": null,
                    "facade_material": null,
                    "roof_material": null,
                    "roof_shape": null,
                    "roof_direction": null,
                    "roof_orientation": null,
                    "roof_color": null,
                    "roof_height": null,
                    "style": {
                      "weight": 1
                    }
                  },
                  "geometry": {
                    "type": "Polygon",
                    "coordinates": [
                      [
                        [
                          -117.5952216,
                          47.6545114
                        ],
                        [
                          -117.5952136,
                          47.654636
                        ],
                        [
                          -117.5953296,
                          47.6546393
                        ],
                        [
                          -117.5953276,
                          47.654665
                        ],
                        [
                          -117.5953926,
                          47.6546669
                        ],
                        [
                          -117.5953946,
                          47.6546333
                        ],
                        [
                          -117.5953856,
                          47.654633
                        ],
                        [
                          -117.5953946,
                          47.6544869
                        ],
                        [
                          -117.5953006,
                          47.6544842
                        ],
                        [
                          -117.5952986,
                          47.6545136
                        ],
                        [
                          -117.5952216,
                          47.6545114
                        ]
                      ]
                    ]
                  },
                  "bbox": [
                    -117.5953946,
                    47.6544842,
                    -117.5952136,
                    47.6546669
                  ]
                },
                {
                  "id": "178",
                  "type": "Feature",
                  "properties": {
                    "id": "08b12db7033a8fff0200a5d8ff97680c",
                    "bbox": "{ \"xmin\": -117.59518432617188, \"xmax\": -117.59494018554688, \"ymin\": 47.654514312744141, \"ymax\": 47.654674530029297 }",
                    "theme": "buildings",
                    "type": "building",
                    "version": 0,
                    "sources": "[{'property': '', 'dataset': 'OpenStreetMap', 'record_id': 'w656323716@1', 'update_time': '2018-12-19T19:41:06.000Z', 'confidence': None}]",
                    "level": null,
                    "subtype": null,
                    "class": null,
                    "height": null,
                    "names": null,
                    "has_parts": false,
                    "is_underground": false,
                    "num_floors": null,
                    "num_floors_underground": null,
                    "min_height": null,
                    "min_floor": null,
                    "facade_color": null,
                    "facade_material": null,
                    "roof_material": null,
                    "roof_shape": null,
                    "roof_direction": null,
                    "roof_orientation": null,
                    "roof_color": null,
                    "roof_height": null,
                    "style": {
                      "weight": 1
                    }
                  },
                  "geometry": {
                    "type": "Polygon",
                    "coordinates": [
                      [
                        [
                          -117.5951706,
                          47.6545253
                        ],
                        [
                          -117.5950486,
                          47.6545236
                        ],
                        [
                          -117.5950486,
                          47.6545333
                        ],
                        [
                          -117.5950176,
                          47.6545328
                        ],
                        [
                          -117.5950176,
                          47.6545217
                        ],
                        [
                          -117.5949576,
                          47.6545209
                        ],
                        [
                          -117.5949536,
                          47.6546643
                        ],
                        [
                          -117.5951666,
                          47.6546674
                        ],
                        [
                          -117.5951706,
                          47.6545253
                        ]
                      ]
                    ]
                  },
                  "bbox": [
                    -117.5951706,
                    47.6545209,
                    -117.5949536,
                    47.6546674
                  ]
                },
                {
                  "id": "179",
                  "type": "Feature",
                  "properties": {
                    "id": "08b12db703214fff020027f095616b24",
                    "bbox": "{ \"xmin\": -117.59484100341797, \"xmax\": -117.5946044921875, \"ymin\": 47.653186798095703, \"ymax\": 47.653316497802734 }",
                    "theme": "buildings",
                    "type": "building",
                    "version": 0,
                    "sources": "[{'property': '', 'dataset': 'OpenStreetMap', 'record_id': 'w656437728@1', 'update_time': '2018-12-20T07:57:18.000Z', 'confidence': None}]",
                    "level": null,
                    "subtype": null,
                    "class": null,
                    "height": null,
                    "names": null,
                    "has_parts": false,
                    "is_underground": false,
                    "num_floors": null,
                    "num_floors_underground": null,
                    "min_height": null,
                    "min_floor": null,
                    "facade_color": null,
                    "facade_material": null,
                    "roof_material": null,
                    "roof_shape": null,
                    "roof_direction": null,
                    "roof_orientation": null,
                    "roof_color": null,
                    "roof_height": null,
                    "style": {
                      "weight": 1
                    }
                  },
                  "geometry": {
                    "type": "Polygon",
                    "coordinates": [
                      [
                        [
                          -117.5948403,
                          47.6532592
                        ],
                        [
                          -117.5948403,
                          47.6531988
                        ],
                        [
                          -117.5947463,
                          47.6531984
                        ],
                        [
                          -117.5947463,
                          47.6531946
                        ],
                        [
                          -117.5946203,
                          47.653194
                        ],
                        [
                          -117.5946193,
                          47.653307
                        ],
                        [
                          -117.5947613,
                          47.6533077
                        ],
                        [
                          -117.5947603,
                          47.6533105
                        ],
                        [
                          -117.5947953,
                          47.6533107
                        ],
                        [
                          -117.5947953,
                          47.6532748
                        ],
                        [
                          -117.5948073,
                          47.6532749
                        ],
                        [
                          -117.5948073,
                          47.653259
                        ],
                        [
                          -117.5948403,
                          47.6532592
                        ]
                      ]
                    ]
                  },
                  "bbox": [
                    -117.5948403,
                    47.653194,
                    -117.5946193,
                    47.6533107
                  ]
                },
                {
                  "id": "180",
                  "type": "Feature",
                  "properties": {
                    "id": "08b12db703232fff020069fc55cc0467",
                    "bbox": "{ \"xmin\": -117.59485626220703, \"xmax\": -117.59461975097656, \"ymin\": 47.653388977050781, \"ymax\": 47.653514862060547 }",
                    "theme": "buildings",
                    "type": "building",
                    "version": 0,
                    "sources": "[{'property': '', 'dataset': 'OpenStreetMap', 'record_id': 'w656323722@1', 'update_time': '2018-12-19T19:41:06.000Z', 'confidence': None}]",
                    "level": null,
                    "subtype": null,
                    "class": null,
                    "height": null,
                    "names": null,
                    "has_parts": false,
                    "is_underground": false,
                    "num_floors": null,
                    "num_floors_underground": null,
                    "min_height": null,
                    "min_floor": null,
                    "facade_color": null,
                    "facade_material": null,
                    "roof_material": null,
                    "roof_shape": null,
                    "roof_direction": null,
                    "roof_orientation": null,
                    "roof_color": null,
                    "roof_height": null,
                    "style": {
                      "weight": 1
                    }
                  },
                  "geometry": {
                    "type": "Polygon",
                    "coordinates": [
                      [
                        [
                          -117.5948303,
                          47.6534548
                        ],
                        [
                          -117.5948303,
                          47.6534315
                        ],
                        [
                          -117.5948413,
                          47.6534315
                        ],
                        [
                          -117.5948403,
                          47.6533901
                        ],
                        [
                          -117.5946313,
                          47.6533911
                        ],
                        [
                          -117.5946323,
                          47.653507
                        ],
                        [
                          -117.5947823,
                          47.653508
                        ],
                        [
                          -117.5947823,
                          47.6534547
                        ],
                        [
                          -117.5948303,
                          47.6534548
                        ]
                      ]
                    ]
                  },
                  "bbox": [
                    -117.5948413,
                    47.6533901,
                    -117.5946313,
                    47.653508
                  ]
                },
                {
                  "id": "181",
                  "type": "Feature",
                  "properties": {
                    "id": "08b12db703232fff02002f55a24217d2",
                    "bbox": "{ \"xmin\": -117.59485626220703, \"xmax\": -117.5946044921875, \"ymin\": 47.653579711914062, \"ymax\": 47.653717041015625 }",
                    "theme": "buildings",
                    "type": "building",
                    "version": 0,
                    "sources": "[{'property': '', 'dataset': 'OpenStreetMap', 'record_id': 'w656323721@1', 'update_time': '2018-12-19T19:41:06.000Z', 'confidence': None}]",
                    "level": null,
                    "subtype": null,
                    "class": null,
                    "height": null,
                    "names": null,
                    "has_parts": false,
                    "is_underground": false,
                    "num_floors": null,
                    "num_floors_underground": null,
                    "min_height": null,
                    "min_floor": null,
                    "facade_color": null,
                    "facade_material": null,
                    "roof_material": null,
                    "roof_shape": null,
                    "roof_direction": null,
                    "roof_orientation": null,
                    "roof_color": null,
                    "roof_height": null,
                    "style": {
                      "weight": 1
                    }
                  },
                  "geometry": {
                    "type": "Polygon",
                    "coordinates": [
                      [
                        [
                          -117.5946183,
                          47.6535872
                        ],
                        [
                          -117.5946193,
                          47.6537156
                        ],
                        [
                          -117.5948413,
                          47.6537155
                        ],
                        [
                          -117.5948413,
                          47.6535871
                        ],
                        [
                          -117.5946183,
                          47.6535872
                        ]
                      ]
                    ]
                  },
                  "bbox": [
                    -117.5948413,
                    47.6535871,
                    -117.5946183,
                    47.6537156
                  ]
                },
                {
                  "id": "182",
                  "type": "Feature",
                  "properties": {
                    "id": "08b12db703236fff020081a024ccc4b6",
                    "bbox": "{ \"xmin\": -117.59485626220703, \"xmax\": -117.59455871582031, \"ymin\": 47.653865814208984, \"ymax\": 47.654033660888672 }",
                    "theme": "buildings",
                    "type": "building",
                    "version": 0,
                    "sources": "[{'property': '', 'dataset': 'OpenStreetMap', 'record_id': 'w656323719@1', 'update_time': '2018-12-19T19:41:06.000Z', 'confidence': None}]",
                    "level": null,
                    "subtype": null,
                    "class": null,
                    "height": null,
                    "names": null,
                    "has_parts": false,
                    "is_underground": false,
                    "num_floors": null,
                    "num_floors_underground": null,
                    "min_height": null,
                    "min_floor": null,
                    "facade_color": null,
                    "facade_material": null,
                    "roof_material": null,
                    "roof_shape": null,
                    "roof_direction": null,
                    "roof_orientation": null,
                    "roof_color": null,
                    "roof_height": null,
                    "style": {
                      "weight": 1
                    }
                  },
                  "geometry": {
                    "type": "Polygon",
                    "coordinates": [
                      [
                        [
                          -117.5948433,
                          47.6540267
                        ],
                        [
                          -117.5948433,
                          47.6539575
                        ],
                        [
                          -117.5948343,
                          47.6539575
                        ],
                        [
                          -117.5948343,
                          47.6538966
                        ],
                        [
                          -117.5947203,
                          47.6538979
                        ],
                        [
                          -117.5947203,
                          47.6538731
                        ],
                        [
                          -117.5946713,
                          47.6538726
                        ],
                        [
                          -117.5946723,
                          47.6538975
                        ],
                        [
                          -117.5946193,
                          47.6538979
                        ],
                        [
                          -117.5946173,
                          47.6539341
                        ],
                        [
                          -117.5945733,
                          47.6539336
                        ],
                        [
                          -117.5945743,
                          47.6539777
                        ],
                        [
                          -117.5946183,
                          47.6539787
                        ],
                        [
                          -117.5946163,
                          47.6540267
                        ],
                        [
                          -117.5948433,
                          47.6540267
                        ]
                      ]
                    ]
                  },
                  "bbox": [
                    -117.5948433,
                    47.6538726,
                    -117.5945733,
                    47.6540267
                  ]
                },
                {
                  "id": "183",
                  "type": "Feature",
                  "properties": {
                    "id": "08b12db703236fff02006760313e4102",
                    "bbox": "{ \"xmin\": -117.59486389160156, \"xmax\": -117.59463500976562, \"ymin\": 47.654064178466797, \"ymax\": 47.654197692871094 }",
                    "theme": "buildings",
                    "type": "building",
                    "version": 0,
                    "sources": "[{'property': '', 'dataset': 'OpenStreetMap', 'record_id': 'w656323720@1', 'update_time': '2018-12-19T19:41:06.000Z', 'confidence': None}]",
                    "level": null,
                    "subtype": null,
                    "class": null,
                    "height": null,
                    "names": null,
                    "has_parts": false,
                    "is_underground": false,
                    "num_floors": null,
                    "num_floors_underground": null,
                    "min_height": null,
                    "min_floor": null,
                    "facade_color": null,
                    "facade_material": null,
                    "roof_material": null,
                    "roof_shape": null,
                    "roof_direction": null,
                    "roof_orientation": null,
                    "roof_color": null,
                    "roof_height": null,
                    "style": {
                      "weight": 1
                    }
                  },
                  "geometry": {
                    "type": "Polygon",
                    "coordinates": [
                      [
                        [
                          -117.5948633,
                          47.6541377
                        ],
                        [
                          -117.5948553,
                          47.6540711
                        ],
                        [
                          -117.5946353,
                          47.6540827
                        ],
                        [
                          -117.5946483,
                          47.6541961
                        ],
                        [
                          -117.5948103,
                          47.6541876
                        ],
                        [
                          -117.5948043,
                          47.6541408
                        ],
                        [
                          -117.5948633,
                          47.6541377
                        ]
                      ]
                    ]
                  },
                  "bbox": [
                    -117.5948633,
                    47.6540711,
                    -117.5946353,
                    47.6541961
                  ]
                },
                {
                  "id": "184",
                  "type": "Feature",
                  "properties": {
                    "id": "08b12db703234fff0200ed587ca293a2",
                    "bbox": "{ \"xmin\": -117.59449768066406, \"xmax\": -117.59436798095703, \"ymin\": 47.654121398925781, \"ymax\": 47.654273986816406 }",
                    "theme": "buildings",
                    "type": "building",
                    "version": 0,
                    "sources": "[{'property': '', 'dataset': 'Microsoft ML Buildings', 'record_id': None, 'update_time': '2022-08-15T00:00:00.000Z', 'confidence': None}]",
                    "level": null,
                    "subtype": null,
                    "class": null,
                    "height": null,
                    "names": null,
                    "has_parts": false,
                    "is_underground": false,
                    "num_floors": null,
                    "num_floors_underground": null,
                    "min_height": null,
                    "min_floor": null,
                    "facade_color": null,
                    "facade_material": null,
                    "roof_material": null,
                    "roof_shape": null,
                    "roof_direction": null,
                    "roof_orientation": null,
                    "roof_color": null,
                    "roof_height": null,
                    "style": {
                      "weight": 1
                    }
                  },
                  "geometry": {
                    "type": "Polygon",
                    "coordinates": [
                      [
                        [
                          -117.59449578955197,
                          47.6541246198569
                        ],
                        [
                          -117.59438588380647,
                          47.65412282188285
                        ],
                        [
                          -117.5943807407456,
                          47.65426547065392
                        ],
                        [
                          -117.59449064649111,
                          47.65426726862306
                        ],
                        [
                          -117.59449578955197,
                          47.6541246198569
                        ]
                      ]
                    ]
                  },
                  "bbox": [
                    -117.59449578955197,
                    47.65412282188285,
                    -117.5943807407456,
                    47.65426726862306
                  ]
                },
                {
                  "id": "185",
                  "type": "Feature",
                  "properties": {
                    "id": "08b12db703234fff02004a48e2029899",
                    "bbox": "{ \"xmin\": -117.59428405761719, \"xmax\": -117.59415435791016, \"ymin\": 47.65411376953125, \"ymax\": 47.654273986816406 }",
                    "theme": "buildings",
                    "type": "building",
                    "version": 0,
                    "sources": "[{'property': '', 'dataset': 'Microsoft ML Buildings', 'record_id': None, 'update_time': '2022-08-15T00:00:00.000Z', 'confidence': None}]",
                    "level": null,
                    "subtype": null,
                    "class": null,
                    "height": null,
                    "names": null,
                    "has_parts": false,
                    "is_underground": false,
                    "num_floors": null,
                    "num_floors_underground": null,
                    "min_height": null,
                    "min_floor": null,
                    "facade_color": null,
                    "facade_material": null,
                    "roof_material": null,
                    "roof_shape": null,
                    "roof_direction": null,
                    "roof_orientation": null,
                    "roof_color": null,
                    "roof_height": null,
                    "style": {
                      "weight": 1
                    }
                  },
                  "geometry": {
                    "type": "Polygon",
                    "coordinates": [
                      [
                        [
                          -117.59427229592629,
                          47.654265768101354
                        ],
                        [
                          -117.59427002846475,
                          47.654121244481246
                        ],
                        [
                          -117.59415738818349,
                          47.65412204104135
                        ],
                        [
                          -117.59415965564503,
                          47.65426656465926
                        ],
                        [
                          -117.59427229592629,
                          47.654265768101354
                        ]
                      ]
                    ]
                  },
                  "bbox": [
                    -117.59427229592629,
                    47.654121244481246,
                    -117.59415738818349,
                    47.65426656465926
                  ]
                },
                {
                  "id": "186",
                  "type": "Feature",
                  "properties": {
                    "id": "08b12db703234fff02009f7b18cd07db",
                    "bbox": "{ \"xmin\": -117.59410095214844, \"xmax\": -117.59398651123047, \"ymin\": 47.654121398925781, \"ymax\": 47.654273986816406 }",
                    "theme": "buildings",
                    "type": "building",
                    "version": 0,
                    "sources": "[{'property': '', 'dataset': 'Microsoft ML Buildings', 'record_id': None, 'update_time': '2022-08-15T00:00:00.000Z', 'confidence': None}]",
                    "level": null,
                    "subtype": null,
                    "class": null,
                    "height": null,
                    "names": null,
                    "has_parts": false,
                    "is_underground": false,
                    "num_floors": null,
                    "num_floors_underground": null,
                    "min_height": null,
                    "min_floor": null,
                    "facade_color": null,
                    "facade_material": null,
                    "roof_material": null,
                    "roof_shape": null,
                    "roof_direction": null,
                    "roof_orientation": null,
                    "roof_color": null,
                    "roof_height": null,
                    "style": {
                      "weight": 1
                    }
                  },
                  "geometry": {
                    "type": "Polygon",
                    "coordinates": [
                      [
                        [
                          -117.59409719669331,
                          47.6542734097842
                        ],
                        [
                          -117.59409965821264,
                          47.654123468241906
                        ],
                        [
                          -117.59398970108907,
                          47.65412264918511
                        ],
                        [
                          -117.59398723956974,
                          47.65427259072978
                        ],
                        [
                          -117.59409719669331,
                          47.6542734097842
                        ]
                      ]
                    ]
                  },
                  "bbox": [
                    -117.59409965821264,
                    47.65412264918511,
                    -117.59398723956974,
                    47.6542734097842
                  ]
                },
                {
                  "id": "187",
                  "type": "Feature",
                  "properties": {
                    "id": "08b12db7033adfff0200f76d4ee62b03",
                    "bbox": "{ \"xmin\": -117.59490966796875, \"xmax\": -117.59471130371094, \"ymin\": 47.654548645019531, \"ymax\": 47.654697418212891 }",
                    "theme": "buildings",
                    "type": "building",
                    "version": 0,
                    "sources": "[{'property': '', 'dataset': 'OpenStreetMap', 'record_id': 'w656323717@1', 'update_time': '2018-12-19T19:41:06.000Z', 'confidence': None}]",
                    "level": null,
                    "subtype": null,
                    "class": null,
                    "height": null,
                    "names": null,
                    "has_parts": false,
                    "is_underground": false,
                    "num_floors": null,
                    "num_floors_underground": null,
                    "min_height": null,
                    "min_floor": null,
                    "facade_color": null,
                    "facade_material": null,
                    "roof_material": null,
                    "roof_shape": null,
                    "roof_direction": null,
                    "roof_orientation": null,
                    "roof_color": null,
                    "roof_height": null,
                    "style": {
                      "weight": 1
                    }
                  },
                  "geometry": {
                    "type": "Polygon",
                    "coordinates": [
                      [
                        [
                          -117.5947246,
                          47.6546956
                        ],
                        [
                          -117.5948886,
                          47.6546948
                        ],
                        [
                          -117.5948886,
                          47.6546909
                        ],
                        [
                          -117.5948946,
                          47.6546909
                        ],
                        [
                          -117.5948936,
                          47.6545816
                        ],
                        [
                          -117.5948426,
                          47.6545818
                        ],
                        [
                          -117.5948426,
                          47.6545709
                        ],
                        [
                          -117.5948216,
                          47.654571
                        ],
                        [
                          -117.5948216,
                          47.654549
                        ],
                        [
                          -117.5947326,
                          47.6545494
                        ],
                        [
                          -117.5947326,
                          47.6546108
                        ],
                        [
                          -117.5947236,
                          47.6546109
                        ],
                        [
                          -117.5947246,
                          47.6546956
                        ]
                      ]
                    ]
                  },
                  "bbox": [
                    -117.5948946,
                    47.654549,
                    -117.5947236,
                    47.6546956
                  ]
                },
                {
                  "id": "188",
                  "type": "Feature",
                  "properties": {
                    "id": "08b12db7033adfff02009f3fc841b164",
                    "bbox": "{ \"xmin\": -117.59461975097656, \"xmax\": -117.59449005126953, \"ymin\": 47.654525756835938, \"ymax\": 47.654720306396484 }",
                    "theme": "buildings",
                    "type": "building",
                    "version": 0,
                    "sources": "[{'property': '', 'dataset': 'Microsoft ML Buildings', 'record_id': None, 'update_time': '2022-08-15T00:00:00.000Z', 'confidence': None}]",
                    "level": null,
                    "subtype": null,
                    "class": null,
                    "height": null,
                    "names": null,
                    "has_parts": false,
                    "is_underground": false,
                    "num_floors": null,
                    "num_floors_underground": null,
                    "min_height": null,
                    "min_floor": null,
                    "facade_color": null,
                    "facade_material": null,
                    "roof_material": null,
                    "roof_shape": null,
                    "roof_direction": null,
                    "roof_orientation": null,
                    "roof_color": null,
                    "roof_height": null,
                    "style": {
                      "weight": 1
                    }
                  },
                  "geometry": {
                    "type": "Polygon",
                    "coordinates": [
                      [
                        [
                          -117.5945018531148,
                          47.65471351857737
                        ],
                        [
                          -117.59461579412509,
                          47.65471418466351
                        ],
                        [
                          -117.59461785893888,
                          47.65455520445707
                        ],
                        [
                          -117.59459240764266,
                          47.65455505567124
                        ],
                        [
                          -117.59459275678411,
                          47.65452795670761
                        ],
                        [
                          -117.59450425055275,
                          47.65452743930844
                        ],
                        [
                          -117.5945018531148,
                          47.65471351857737
                        ]
                      ]
                    ]
                  },
                  "bbox": [
                    -117.59461785893888,
                    47.65452743930844,
                    -117.5945018531148,
                    47.65471418466351
                  ]
                },
                {
                  "id": "189",
                  "type": "Feature",
                  "properties": {
                    "id": "08b12db70331afff02002e7687840278",
                    "bbox": "{ \"xmin\": -117.59445190429688, \"xmax\": -117.59433746337891, \"ymin\": 47.654506683349609, \"ymax\": 47.654674530029297 }",
                    "theme": "buildings",
                    "type": "building",
                    "version": 0,
                    "sources": "[{'property': '', 'dataset': 'Microsoft ML Buildings', 'record_id': None, 'update_time': '2022-08-15T00:00:00.000Z', 'confidence': None}]",
                    "level": null,
                    "subtype": null,
                    "class": null,
                    "height": null,
                    "names": null,
                    "has_parts": false,
                    "is_underground": false,
                    "num_floors": null,
                    "num_floors_underground": null,
                    "min_height": null,
                    "min_floor": null,
                    "facade_color": null,
                    "facade_material": null,
                    "roof_material": null,
                    "roof_shape": null,
                    "roof_direction": null,
                    "roof_orientation": null,
                    "roof_color": null,
                    "roof_height": null,
                    "style": {
                      "weight": 1
                    }
                  },
                  "geometry": {
                    "type": "Polygon",
                    "coordinates": [
                      [
                        [
                          -117.59445190379103,
                          47.65451438094467
                        ],
                        [
                          -117.59434195266446,
                          47.654513396064054
                        ],
                        [
                          -117.59433892144827,
                          47.65466694112895
                        ],
                        [
                          -117.59444887257484,
                          47.65466792600667
                        ],
                        [
                          -117.59445190379103,
                          47.65451438094467
                        ]
                      ]
                    ]
                  },
                  "bbox": [
                    -117.59445190379103,
                    47.654513396064054,
                    -117.59433892144827,
                    47.65466792600667
                  ]
                },
                {
                  "id": "190",
                  "type": "Feature",
                  "properties": {
                    "id": "08b12db70331afff020029f027cf2a2f",
                    "bbox": "{ \"xmin\": -117.59428405761719, \"xmax\": -117.59416198730469, \"ymin\": 47.654506683349609, \"ymax\": 47.654674530029297 }",
                    "theme": "buildings",
                    "type": "building",
                    "version": 0,
                    "sources": "[{'property': '', 'dataset': 'Microsoft ML Buildings', 'record_id': None, 'update_time': '2022-08-15T00:00:00.000Z', 'confidence': None}]",
                    "level": null,
                    "subtype": null,
                    "class": null,
                    "height": null,
                    "names": null,
                    "has_parts": false,
                    "is_underground": false,
                    "num_floors": null,
                    "num_floors_underground": null,
                    "min_height": null,
                    "min_floor": null,
                    "facade_color": null,
                    "facade_material": null,
                    "roof_material": null,
                    "roof_shape": null,
                    "roof_direction": null,
                    "roof_orientation": null,
                    "roof_color": null,
                    "roof_height": null,
                    "style": {
                      "weight": 1
                    }
                  },
                  "geometry": {
                    "type": "Polygon",
                    "coordinates": [
                      [
                        [
                          -117.5941745237507,
                          47.654666337004656
                        ],
                        [
                          -117.5942804999325,
                          47.65466704646095
                        ],
                        [
                          -117.59428273782171,
                          47.65451429266353
                        ],
                        [
                          -117.59417677743619,
                          47.654513588306344
                        ],
                        [
                          -117.5941745237507,
                          47.654666337004656
                        ]
                      ]
                    ]
                  },
                  "bbox": [
                    -117.59428273782171,
                    47.654513588306344,
                    -117.5941745237507,
                    47.65466704646095
                  ]
                },
                {
                  "id": "191",
                  "type": "Feature",
                  "properties": {
                    "id": "08b12db70331efff02009df87412c971",
                    "bbox": "{ \"xmin\": -117.59444427490234, \"xmax\": -117.59439849853516, \"ymin\": 47.654865264892578, \"ymax\": 47.654914855957031 }",
                    "theme": "buildings",
                    "type": "building",
                    "version": 0,
                    "sources": "[{'property': '', 'dataset': 'Microsoft ML Buildings', 'record_id': None, 'update_time': '2022-08-15T00:00:00.000Z', 'confidence': None}]",
                    "level": null,
                    "subtype": null,
                    "class": null,
                    "height": null,
                    "names": null,
                    "has_parts": false,
                    "is_underground": false,
                    "num_floors": null,
                    "num_floors_underground": null,
                    "min_height": null,
                    "min_floor": null,
                    "facade_color": null,
                    "facade_material": null,
                    "roof_material": null,
                    "roof_shape": null,
                    "roof_direction": null,
                    "roof_orientation": null,
                    "roof_color": null,
                    "roof_height": null,
                    "style": {
                      "weight": 1
                    }
                  },
                  "geometry": {
                    "type": "Polygon",
                    "coordinates": [
                      [
                        [
                          -117.59443136571748,
                          47.65487138770882
                        ],
                        [
                          -117.59441259507616,
                          47.654871590356635
                        ],
                        [
                          -117.59441358356767,
                          47.65491313427954
                        ],
                        [
                          -117.59443235420899,
                          47.65491293163188
                        ],
                        [
                          -117.59443136571748,
                          47.65487138770882
                        ]
                      ]
                    ]
                  },
                  "bbox": [
                    -117.59443235420899,
                    47.65487138770882,
                    -117.59441259507616,
                    47.65491313427954
                  ]
                },
                {
                  "id": "192",
                  "type": "Feature",
                  "properties": {
                    "id": "08b12db70331afff0200e7b8735e64b7",
                    "bbox": "{ \"xmin\": -117.59413146972656, \"xmax\": -117.59398651123047, \"ymin\": 47.654506683349609, \"ymax\": 47.654674530029297 }",
                    "theme": "buildings",
                    "type": "building",
                    "version": 0,
                    "sources": "[{'property': '', 'dataset': 'Microsoft ML Buildings', 'record_id': None, 'update_time': '2022-08-15T00:00:00.000Z', 'confidence': None}]",
                    "level": null,
                    "subtype": null,
                    "class": null,
                    "height": null,
                    "names": null,
                    "has_parts": false,
                    "is_underground": false,
                    "num_floors": null,
                    "num_floors_underground": null,
                    "min_height": null,
                    "min_floor": null,
                    "facade_color": null,
                    "facade_material": null,
                    "roof_material": null,
                    "roof_shape": null,
                    "roof_direction": null,
                    "roof_orientation": null,
                    "roof_color": null,
                    "roof_height": null,
                    "style": {
                      "weight": 1
                    }
                  },
                  "geometry": {
                    "type": "Polygon",
                    "coordinates": [
                      [
                        [
                          -117.59400338980008,
                          47.654536178247554
                        ],
                        [
                          -117.59400074112902,
                          47.65466623844685
                        ],
                        [
                          -117.5941160544172,
                          47.65466730397386
                        ],
                        [
                          -117.59411918132055,
                          47.654513760651625
                        ],
                        [
                          -117.59403604848488,
                          47.65451299247874
                        ],
                        [
                          -117.59403557025259,
                          47.65453647560468
                        ],
                        [
                          -117.59400338980008,
                          47.654536178247554
                        ]
                      ]
                    ]
                  },
                  "bbox": [
                    -117.59411918132055,
                    47.65451299247874,
                    -117.59400074112902,
                    47.65466730397386
                  ]
                },
                {
                  "id": "193",
                  "type": "Feature",
                  "properties": {
                    "id": "08b12db70331afff02000fde3e0d33c2",
                    "bbox": "{ \"xmin\": -117.59397888183594, \"xmax\": -117.59384918212891, \"ymin\": 47.654499053955078, \"ymax\": 47.654701232910156 }",
                    "theme": "buildings",
                    "type": "building",
                    "version": 0,
                    "sources": "[{'property': '', 'dataset': 'Microsoft ML Buildings', 'record_id': None, 'update_time': '2022-08-15T00:00:00.000Z', 'confidence': None}]",
                    "level": null,
                    "subtype": null,
                    "class": null,
                    "height": null,
                    "names": null,
                    "has_parts": false,
                    "is_underground": false,
                    "num_floors": null,
                    "num_floors_underground": null,
                    "min_height": null,
                    "min_floor": null,
                    "facade_color": null,
                    "facade_material": null,
                    "roof_material": null,
                    "roof_shape": null,
                    "roof_direction": null,
                    "roof_orientation": null,
                    "roof_color": null,
                    "roof_height": null,
                    "style": {
                      "weight": 1
                    }
                  },
                  "geometry": {
                    "type": "Polygon",
                    "coordinates": [
                      [
                        [
                          -117.5938505436593,
                          47.65469255967462
                        ],
                        [
                          -117.59396317093572,
                          47.65469370126645
                        ],
                        [
                          -117.59396668152938,
                          47.654536551244334
                        ],
                        [
                          -117.59393986551117,
                          47.65453627943595
                        ],
                        [
                          -117.59394051113759,
                          47.65450737823081
                        ],
                        [
                          -117.59385469987934,
                          47.65450650844347
                        ],
                        [
                          -117.5938505436593,
                          47.65469255967462
                        ]
                      ]
                    ]
                  },
                  "bbox": [
                    -117.59396668152938,
                    47.65450650844347,
                    -117.5938505436593,
                    47.65469370126645
                  ]
                },
                {
                  "id": "194",
                  "type": "Feature",
                  "properties": {
                    "id": "08b12db70331efff020056a216670728",
                    "bbox": "{ \"xmin\": -117.59441375732422, \"xmax\": -117.59379577636719, \"ymin\": 47.654853820800781, \"ymax\": 47.655036926269531 }",
                    "theme": "buildings",
                    "type": "building",
                    "version": 0,
                    "sources": "[{'property': '', 'dataset': 'Microsoft ML Buildings', 'record_id': None, 'update_time': '2022-08-15T00:00:00.000Z', 'confidence': None}]",
                    "level": null,
                    "subtype": null,
                    "class": null,
                    "height": null,
                    "names": null,
                    "has_parts": false,
                    "is_underground": false,
                    "num_floors": null,
                    "num_floors_underground": null,
                    "min_height": null,
                    "min_floor": null,
                    "facade_color": null,
                    "facade_material": null,
                    "roof_material": null,
                    "roof_shape": null,
                    "roof_direction": null,
                    "roof_orientation": null,
                    "roof_color": null,
                    "roof_height": null,
                    "style": {
                      "weight": 1
                    }
                  },
                  "geometry": {
                    "type": "Polygon",
                    "coordinates": [
                      [
                        [
                          -117.59380783102782,
                          47.65486556553917
                        ],
                        [
                          -117.59381344978372,
                          47.655033505425365
                        ],
                        [
                          -117.59399306684547,
                          47.65503078724285
                        ],
                        [
                          -117.59399216059451,
                          47.655003700199565
                        ],
                        [
                          -117.59403363952556,
                          47.65500307248988
                        ],
                        [
                          -117.5940346634219,
                          47.65503377118652
                        ],
                        [
                          -117.59416870621595,
                          47.65503174268895
                        ],
                        [
                          -117.59416776951286,
                          47.655003658239416
                        ],
                        [
                          -117.5942067161313,
                          47.655003067015684
                        ],
                        [
                          -117.59420780363072,
                          47.655035571415084
                        ],
                        [
                          -117.59441281113847,
                          47.65503245932891
                        ],
                        [
                          -117.59440712301522,
                          47.654861916466615
                        ],
                        [
                          -117.59421014002824,
                          47.65486489746092
                        ],
                        [
                          -117.59421110669592,
                          47.654893790383404
                        ],
                        [
                          -117.5941694905089,
                          47.654894420171516
                        ],
                        [
                          -117.59416873449187,
                          47.654871753035216
                        ],
                        [
                          -117.59411651859882,
                          47.6548725456933
                        ],
                        [
                          -117.59411612896966,
                          47.65486089998695
                        ],
                        [
                          -117.59380783102782,
                          47.65486556553917
                        ]
                      ]
                    ]
                  },
                  "bbox": [
                    -117.59441281113847,
                    47.65486089998695,
                    -117.59380783102782,
                    47.655035571415084
                  ]
                },
                {
                  "id": "195",
                  "type": "Feature",
                  "properties": {
                    "id": "08b12db703311fff0200bdad6ddaa1f2",
                    "bbox": "{ \"xmin\": -117.59456634521484, \"xmax\": -117.59442138671875, \"ymin\": 47.655281066894531, \"ymax\": 47.655475616455078 }",
                    "theme": "buildings",
                    "type": "building",
                    "version": 0,
                    "sources": "[{'property': '', 'dataset': 'Microsoft ML Buildings', 'record_id': None, 'update_time': '2022-08-15T00:00:00.000Z', 'confidence': None}]",
                    "level": null,
                    "subtype": null,
                    "class": null,
                    "height": null,
                    "names": null,
                    "has_parts": false,
                    "is_underground": false,
                    "num_floors": null,
                    "num_floors_underground": null,
                    "min_height": null,
                    "min_floor": null,
                    "facade_color": null,
                    "facade_material": null,
                    "roof_material": null,
                    "roof_shape": null,
                    "roof_direction": null,
                    "roof_orientation": null,
                    "roof_color": null,
                    "roof_height": null,
                    "style": {
                      "weight": 1
                    }
                  },
                  "geometry": {
                    "type": "Polygon",
                    "coordinates": [
                      [
                        [
                          -117.59444058994626,
                          47.655474792839996
                        ],
                        [
                          -117.59455321602303,
                          47.65547362472943
                        ],
                        [
                          -117.59454962382593,
                          47.655316478728366
                        ],
                        [
                          -117.59452817123989,
                          47.65531670122629
                        ],
                        [
                          -117.59452751060593,
                          47.65528780076095
                        ],
                        [
                          -117.59443633711521,
                          47.65528874637763
                        ],
                        [
                          -117.59444058994626,
                          47.655474792839996
                        ]
                      ]
                    ]
                  },
                  "bbox": [
                    -117.59455321602303,
                    47.65528780076095,
                    -117.59443633711521,
                    47.655474792839996
                  ]
                },
                {
                  "id": "196",
                  "type": "Feature",
                  "properties": {
                    "id": "08b12db703315fff02004a080c2d1291",
                    "bbox": "{ \"xmin\": -117.59452056884766, \"xmax\": -117.59428405761719, \"ymin\": 47.655632019042969, \"ymax\": 47.655708312988281 }",
                    "theme": "buildings",
                    "type": "building",
                    "version": 0,
                    "sources": "[{'property': '', 'dataset': 'Microsoft ML Buildings', 'record_id': None, 'update_time': '2022-08-15T00:00:00.000Z', 'confidence': None}]",
                    "level": null,
                    "subtype": null,
                    "class": null,
                    "height": null,
                    "names": null,
                    "has_parts": false,
                    "is_underground": false,
                    "num_floors": null,
                    "num_floors_underground": null,
                    "min_height": null,
                    "min_floor": null,
                    "facade_color": null,
                    "facade_material": null,
                    "roof_material": null,
                    "roof_shape": null,
                    "roof_direction": null,
                    "roof_orientation": null,
                    "roof_color": null,
                    "roof_height": null,
                    "style": {
                      "weight": 1
                    }
                  },
                  "geometry": {
                    "type": "Polygon",
                    "coordinates": [
                      [
                        [
                          -117.5945188444942,
                          47.6557056162964
                        ],
                        [
                          -117.59451700234133,
                          47.6556323551218
                        ],
                        [
                          -117.59429712427894,
                          47.65563486364579
                        ],
                        [
                          -117.59429896617122,
                          47.65570811445403
                        ],
                        [
                          -117.5945188444942,
                          47.6557056162964
                        ]
                      ]
                    ]
                  },
                  "bbox": [
                    -117.5945188444942,
                    47.6556323551218,
                    -117.59429712427894,
                    47.65570811445403
                  ]
                },
                {
                  "id": "197",
                  "type": "Feature",
                  "properties": {
                    "id": "08b12db703315fff0200f2ecccbe6106",
                    "bbox": "{ \"xmin\": -117.59450531005859, \"xmax\": -117.59427642822266, \"ymin\": 47.655757904052734, \"ymax\": 47.655834197998047 }",
                    "theme": "buildings",
                    "type": "building",
                    "version": 0,
                    "sources": "[{'property': '', 'dataset': 'Microsoft ML Buildings', 'record_id': None, 'update_time': '2022-08-15T00:00:00.000Z', 'confidence': None}]",
                    "level": null,
                    "subtype": null,
                    "class": null,
                    "height": null,
                    "names": null,
                    "has_parts": false,
                    "is_underground": false,
                    "num_floors": null,
                    "num_floors_underground": null,
                    "min_height": null,
                    "min_floor": null,
                    "facade_color": null,
                    "facade_material": null,
                    "roof_material": null,
                    "roof_shape": null,
                    "roof_direction": null,
                    "roof_orientation": null,
                    "roof_color": null,
                    "roof_height": null,
                    "style": {
                      "weight": 1
                    }
                  },
                  "geometry": {
                    "type": "Polygon",
                    "coordinates": [
                      [
                        [
                          -117.59427961215344,
                          47.65583238921681
                        ],
                        [
                          -117.5944661758889,
                          47.6558333215098
                        ],
                        [
                          -117.59446650300518,
                          47.65580362135887
                        ],
                        [
                          -117.59450136978525,
                          47.65580379723837
                        ],
                        [
                          -117.59450185849325,
                          47.65575942552308
                        ],
                        [
                          -117.59428043565549,
                          47.65575831903121
                        ],
                        [
                          -117.59427961215344,
                          47.65583238921681
                        ]
                      ]
                    ]
                  },
                  "bbox": [
                    -117.59450185849325,
                    47.65575831903121,
                    -117.59427961215344,
                    47.6558333215098
                  ]
                },
                {
                  "id": "198",
                  "type": "Feature",
                  "properties": {
                    "id": "08b12db703311fff0200ba6b0e3ba466",
                    "bbox": "{ \"xmin\": -117.59439086914062, \"xmax\": -117.59380340576172, \"ymin\": 47.655307769775391, \"ymax\": 47.655483245849609 }",
                    "theme": "buildings",
                    "type": "building",
                    "version": 0,
                    "sources": "[{'property': '', 'dataset': 'Microsoft ML Buildings', 'record_id': None, 'update_time': '2022-08-15T00:00:00.000Z', 'confidence': None}]",
                    "level": null,
                    "subtype": null,
                    "class": null,
                    "height": null,
                    "names": null,
                    "has_parts": false,
                    "is_underground": false,
                    "num_floors": null,
                    "num_floors_underground": null,
                    "min_height": null,
                    "min_floor": null,
                    "facade_color": null,
                    "facade_material": null,
                    "roof_material": null,
                    "roof_shape": null,
                    "roof_direction": null,
                    "roof_orientation": null,
                    "roof_color": null,
                    "roof_height": null,
                    "style": {
                      "weight": 1
                    }
                  },
                  "geometry": {
                    "type": "Polygon",
                    "coordinates": [
                      [
                        [
                          -117.59439084707545,
                          47.6553132825112
                        ],
                        [
                          -117.59420720372677,
                          47.655309256714624
                        ],
                        [
                          -117.59420572133396,
                          47.655339938229254
                        ],
                        [
                          -117.59416017202489,
                          47.65533893970599
                        ],
                        [
                          -117.59416139281896,
                          47.65531367257714
                        ],
                        [
                          -117.59403278300508,
                          47.65531085321588
                        ],
                        [
                          -117.59403138781182,
                          47.65533972993516
                        ],
                        [
                          -117.59398851787387,
                          47.655338790148555
                        ],
                        [
                          -117.59398982586754,
                          47.655311718224226
                        ],
                        [
                          -117.59381175354709,
                          47.65530781455461
                        ],
                        [
                          -117.59380357439558,
                          47.65547746544751
                        ],
                        [
                          -117.59398966722057,
                          47.655481544927945
                        ],
                        [
                          -117.59399123681298,
                          47.65544905870587
                        ],
                        [
                          -117.59403142737982,
                          47.65544993975394
                        ],
                        [
                          -117.59403011938615,
                          47.655477011606614
                        ],
                        [
                          -117.59416140857115,
                          47.65547988969539
                        ],
                        [
                          -117.59416280376439,
                          47.655451013053636
                        ],
                        [
                          -117.59420567370236,
                          47.65545195283821
                        ],
                        [
                          -117.59420445290829,
                          47.65547721990016
                        ],
                        [
                          -117.59438275493619,
                          47.655481128592704
                        ],
                        [
                          -117.59439084707545,
                          47.6553132825112
                        ]
                      ]
                    ]
                  },
                  "bbox": [
                    -117.59439084707545,
                    47.65530781455461,
                    -117.59380357439558,
                    47.655481544927945
                  ]
                }
              ],
              "bbox": [
                -117.6017984,
                47.650168297348685,
                -117.5937308,
                47.655846
              ]
            },
            "hover_style": {
              "weight": 3,
              "fillOpacity": 0,
              "color": "yellow"
            },
            "layers": [],
            "name": "Buildings",
            "options": [],
            "pane": "",
            "point_style": {},
            "popup": null,
            "popup_max_height": null,
            "popup_max_width": 300,
            "popup_min_width": 50,
            "style": {
              "weight": 1
            },
            "subitems": [],
            "visible": true
          }
        },
        "96de307b67a24b1b991494a437b3d413": {
          "model_module": "@jupyter-widgets/base",
          "model_name": "LayoutModel",
          "model_module_version": "1.2.0",
          "state": {
            "_model_module": "@jupyter-widgets/base",
            "_model_module_version": "1.2.0",
            "_model_name": "LayoutModel",
            "_view_count": null,
            "_view_module": "@jupyter-widgets/base",
            "_view_module_version": "1.2.0",
            "_view_name": "LayoutView",
            "align_content": null,
            "align_items": null,
            "align_self": null,
            "border": null,
            "bottom": null,
            "display": null,
            "flex": null,
            "flex_flow": null,
            "grid_area": null,
            "grid_auto_columns": null,
            "grid_auto_flow": null,
            "grid_auto_rows": null,
            "grid_column": null,
            "grid_gap": null,
            "grid_row": null,
            "grid_template_areas": null,
            "grid_template_columns": null,
            "grid_template_rows": null,
            "height": "18px",
            "justify_content": null,
            "justify_items": null,
            "left": null,
            "margin": null,
            "max_height": null,
            "max_width": null,
            "min_height": null,
            "min_width": null,
            "object_fit": null,
            "object_position": null,
            "order": null,
            "overflow": null,
            "overflow_x": null,
            "overflow_y": null,
            "padding": null,
            "right": null,
            "top": null,
            "visibility": null,
            "width": "25ex"
          }
        },
        "7477e6c9451f42f0b6944329a87b9387": {
          "model_module": "@jupyter-widgets/controls",
          "model_name": "DescriptionStyleModel",
          "model_module_version": "1.5.0",
          "state": {
            "_model_module": "@jupyter-widgets/controls",
            "_model_module_version": "1.5.0",
            "_model_name": "DescriptionStyleModel",
            "_view_count": null,
            "_view_module": "@jupyter-widgets/base",
            "_view_module_version": "1.2.0",
            "_view_name": "StyleView",
            "description_width": ""
          }
        },
        "24414c8ee01f4d40919cdf13c8fe594d": {
          "model_module": "@jupyter-widgets/base",
          "model_name": "LayoutModel",
          "model_module_version": "1.2.0",
          "state": {
            "_model_module": "@jupyter-widgets/base",
            "_model_module_version": "1.2.0",
            "_model_name": "LayoutModel",
            "_view_count": null,
            "_view_module": "@jupyter-widgets/base",
            "_view_module_version": "1.2.0",
            "_view_name": "LayoutView",
            "align_content": null,
            "align_items": null,
            "align_self": null,
            "border": null,
            "bottom": null,
            "display": null,
            "flex": null,
            "flex_flow": null,
            "grid_area": null,
            "grid_auto_columns": null,
            "grid_auto_flow": null,
            "grid_auto_rows": null,
            "grid_column": null,
            "grid_gap": null,
            "grid_row": null,
            "grid_template_areas": null,
            "grid_template_columns": null,
            "grid_template_rows": null,
            "height": "18px",
            "justify_content": null,
            "justify_items": null,
            "left": null,
            "margin": null,
            "max_height": null,
            "max_width": null,
            "min_height": null,
            "min_width": null,
            "object_fit": null,
            "object_position": null,
            "order": null,
            "overflow": null,
            "overflow_x": null,
            "overflow_y": null,
            "padding": null,
            "right": null,
            "top": null,
            "visibility": null,
            "width": "25ex"
          }
        },
        "1a6ceb79f5044f05891d8279ee3a025d": {
          "model_module": "@jupyter-widgets/controls",
          "model_name": "DescriptionStyleModel",
          "model_module_version": "1.5.0",
          "state": {
            "_model_module": "@jupyter-widgets/controls",
            "_model_module_version": "1.5.0",
            "_model_name": "DescriptionStyleModel",
            "_view_count": null,
            "_view_module": "@jupyter-widgets/base",
            "_view_module_version": "1.2.0",
            "_view_name": "StyleView",
            "description_width": ""
          }
        },
        "285016760b51412bbd9587e27ae85b81": {
          "model_module": "jupyter-leaflet",
          "model_name": "LeafletMapModel",
          "model_module_version": "^0.19",
          "state": {
            "_dom_classes": [],
            "_model_module": "jupyter-leaflet",
            "_model_module_version": "^0.19",
            "_model_name": "LeafletMapModel",
            "_view_count": null,
            "_view_module": "jupyter-leaflet",
            "_view_module_version": "^0.19",
            "_view_name": "LeafletMapView",
            "bottom": 5856464,
            "bounce_at_zoom_limits": true,
            "box_zoom": true,
            "center": [
              47.65191748618072,
              -117.59719490361505
            ],
            "close_popup_on_click": true,
            "controls": [
              "IPY_MODEL_5c771e5214d2456894dad2b9cfda92fd",
              "IPY_MODEL_a54cf7ad93a7451aa4e1440c8b33c3fd",
              "IPY_MODEL_8fba59eb9fee45aeb2a4d4ea26677a1f",
              "IPY_MODEL_5ea76a06188c4e69b5dc1820191fea34",
              "IPY_MODEL_9113a54c3aac408d906fa543260fef71",
              "IPY_MODEL_9c1899b5ed504fcb8e5811f5104f9d85",
              "IPY_MODEL_d8b9d953a128480981b9e4e343c11638"
            ],
            "crs": {
              "name": "EPSG3857",
              "custom": false
            },
            "default_style": "IPY_MODEL_3aa3bdf0a71947c588b5828721ecf88d",
            "double_click_zoom": true,
            "dragging": true,
            "dragging_style": "IPY_MODEL_4b3d6fdad1624774b4792810042e2224",
            "east": -117.58227109909059,
            "fullscreen": false,
            "inertia": true,
            "inertia_deceleration": 3000,
            "inertia_max_speed": 1500,
            "interpolation": "bilinear",
            "keyboard": true,
            "keyboard_pan_offset": 80,
            "keyboard_zoom_offset": 1,
            "layers": [
              "IPY_MODEL_19dc866a03a544d284d11bccff6b4d0a",
              "IPY_MODEL_10f4b1025af44ce0837737db0734c28a",
              "IPY_MODEL_38da5c96a50e423590a849092431ac65"
            ],
            "layout": "IPY_MODEL_aa68a113d5014555838b3c18de50847b",
            "left": 2907486,
            "max_zoom": 24,
            "min_zoom": null,
            "modisdate": "2025-05-05",
            "north": 47.656253609516874,
            "options": [
              "bounce_at_zoom_limits",
              "box_zoom",
              "center",
              "close_popup_on_click",
              "double_click_zoom",
              "dragging",
              "fullscreen",
              "inertia",
              "inertia_deceleration",
              "inertia_max_speed",
              "interpolation",
              "keyboard",
              "keyboard_pan_offset",
              "keyboard_zoom_offset",
              "max_zoom",
              "min_zoom",
              "prefer_canvas",
              "scroll_wheel_zoom",
              "tap",
              "tap_tolerance",
              "touch_zoom",
              "world_copy_jump",
              "zoom",
              "zoom_animation_threshold",
              "zoom_delta",
              "zoom_snap"
            ],
            "panes": {},
            "prefer_canvas": false,
            "right": 2908877,
            "scroll_wheel_zoom": true,
            "south": 47.64758085221801,
            "style": "IPY_MODEL_3aa3bdf0a71947c588b5828721ecf88d",
            "tap": true,
            "tap_tolerance": 15,
            "top": 5855864,
            "touch_zoom": true,
            "west": -117.61211872100831,
            "window_url": "https://1ow969w9sru-496ff2e9c6d22116-0-colab.googleusercontent.com/outputframe.html?vrz=colab_20250502-060100_RC00_753925155",
            "world_copy_jump": false,
            "zoom": 16,
            "zoom_animation_threshold": 4,
            "zoom_delta": 1,
            "zoom_snap": 1
          }
        },
        "2524f5307ec44ab3a83a58de3146b07a": {
          "model_module": "@jupyter-widgets/base",
          "model_name": "LayoutModel",
          "model_module_version": "1.2.0",
          "state": {
            "_model_module": "@jupyter-widgets/base",
            "_model_module_version": "1.2.0",
            "_model_name": "LayoutModel",
            "_view_count": null,
            "_view_module": "@jupyter-widgets/base",
            "_view_module_version": "1.2.0",
            "_view_name": "LayoutView",
            "align_content": null,
            "align_items": null,
            "align_self": null,
            "border": null,
            "bottom": null,
            "display": null,
            "flex": null,
            "flex_flow": null,
            "grid_area": null,
            "grid_auto_columns": null,
            "grid_auto_flow": null,
            "grid_auto_rows": null,
            "grid_column": null,
            "grid_gap": null,
            "grid_row": null,
            "grid_template_areas": null,
            "grid_template_columns": null,
            "grid_template_rows": null,
            "height": "18px",
            "justify_content": null,
            "justify_items": null,
            "left": null,
            "margin": null,
            "max_height": null,
            "max_width": null,
            "min_height": null,
            "min_width": null,
            "object_fit": null,
            "object_position": null,
            "order": null,
            "overflow": null,
            "overflow_x": null,
            "overflow_y": null,
            "padding": null,
            "right": null,
            "top": null,
            "visibility": null,
            "width": "25ex"
          }
        },
        "7554b817f34a49e89d8a65fd34c12786": {
          "model_module": "@jupyter-widgets/controls",
          "model_name": "DescriptionStyleModel",
          "model_module_version": "1.5.0",
          "state": {
            "_model_module": "@jupyter-widgets/controls",
            "_model_module_version": "1.5.0",
            "_model_name": "DescriptionStyleModel",
            "_view_count": null,
            "_view_module": "@jupyter-widgets/base",
            "_view_module_version": "1.2.0",
            "_view_name": "StyleView",
            "description_width": ""
          }
        },
        "5c771e5214d2456894dad2b9cfda92fd": {
          "model_module": "jupyter-leaflet",
          "model_name": "LeafletZoomControlModel",
          "model_module_version": "^0.19",
          "state": {
            "_model_module": "jupyter-leaflet",
            "_model_module_version": "^0.19",
            "_model_name": "LeafletZoomControlModel",
            "_view_count": null,
            "_view_module": "jupyter-leaflet",
            "_view_module_version": "^0.19",
            "_view_name": "LeafletZoomControlView",
            "options": [
              "position",
              "zoom_in_text",
              "zoom_in_title",
              "zoom_out_text",
              "zoom_out_title"
            ],
            "position": "topleft",
            "zoom_in_text": "+",
            "zoom_in_title": "Zoom in",
            "zoom_out_text": "-",
            "zoom_out_title": "Zoom out"
          }
        },
        "a54cf7ad93a7451aa4e1440c8b33c3fd": {
          "model_module": "jupyter-leaflet",
          "model_name": "LeafletAttributionControlModel",
          "model_module_version": "^0.19",
          "state": {
            "_model_module": "jupyter-leaflet",
            "_model_module_version": "^0.19",
            "_model_name": "LeafletAttributionControlModel",
            "_view_count": null,
            "_view_module": "jupyter-leaflet",
            "_view_module_version": "^0.19",
            "_view_name": "LeafletAttributionControlView",
            "options": [
              "position",
              "prefix"
            ],
            "position": "bottomright",
            "prefix": "ipyleaflet"
          }
        },
        "8fba59eb9fee45aeb2a4d4ea26677a1f": {
          "model_module": "jupyter-leaflet",
          "model_name": "LeafletFullScreenControlModel",
          "model_module_version": "^0.19",
          "state": {
            "_model_module": "jupyter-leaflet",
            "_model_module_version": "^0.19",
            "_model_name": "LeafletFullScreenControlModel",
            "_view_count": null,
            "_view_module": "jupyter-leaflet",
            "_view_module_version": "^0.19",
            "_view_name": "LeafletFullScreenControlView",
            "options": [
              "position"
            ],
            "position": "topleft"
          }
        },
        "5ea76a06188c4e69b5dc1820191fea34": {
          "model_module": "jupyter-leaflet",
          "model_name": "LeafletDrawControlModel",
          "model_module_version": "^0.19",
          "state": {
            "_model_module": "jupyter-leaflet",
            "_model_module_version": "^0.19",
            "_model_name": "LeafletDrawControlModel",
            "_view_count": null,
            "_view_module": "jupyter-leaflet",
            "_view_module_version": "^0.19",
            "_view_name": "LeafletDrawControlView",
            "circle": {
              "shapeOptions": {
                "color": "#3388ff"
              },
              "repeatMode": false
            },
            "circlemarker": {},
            "data": [],
            "edit": true,
            "marker": {
              "shapeOptions": {
                "color": "#3388ff"
              },
              "repeatMode": false
            },
            "options": [
              "position"
            ],
            "polygon": {
              "repeatMode": false
            },
            "polyline": {
              "repeatMode": false
            },
            "position": "topleft",
            "rectangle": {
              "shapeOptions": {
                "color": "#3388ff"
              },
              "repeatMode": false
            },
            "remove": true
          }
        },
        "9113a54c3aac408d906fa543260fef71": {
          "model_module": "jupyter-leaflet",
          "model_name": "LeafletScaleControlModel",
          "model_module_version": "^0.19",
          "state": {
            "_model_module": "jupyter-leaflet",
            "_model_module_version": "^0.19",
            "_model_name": "LeafletScaleControlModel",
            "_view_count": null,
            "_view_module": "jupyter-leaflet",
            "_view_module_version": "^0.19",
            "_view_name": "LeafletScaleControlView",
            "imperial": true,
            "max_width": 100,
            "metric": true,
            "options": [
              "imperial",
              "max_width",
              "metric",
              "position",
              "update_when_idle"
            ],
            "position": "bottomleft",
            "update_when_idle": false
          }
        },
        "9c1899b5ed504fcb8e5811f5104f9d85": {
          "model_module": "jupyter-leaflet",
          "model_name": "LeafletWidgetControlModel",
          "model_module_version": "^0.19",
          "state": {
            "_model_module": "jupyter-leaflet",
            "_model_module_version": "^0.19",
            "_model_name": "LeafletWidgetControlModel",
            "_view_count": null,
            "_view_module": "jupyter-leaflet",
            "_view_module_version": "^0.19",
            "_view_name": "LeafletWidgetControlView",
            "max_height": null,
            "max_width": null,
            "min_height": null,
            "min_width": null,
            "options": [
              "position",
              "transparent_bg"
            ],
            "position": "topright",
            "transparent_bg": false,
            "widget": "IPY_MODEL_0b66cb99efcd4d48a5d7638d8cce9771"
          }
        },
        "d8b9d953a128480981b9e4e343c11638": {
          "model_module": "jupyter-leaflet",
          "model_name": "LeafletWidgetControlModel",
          "model_module_version": "^0.19",
          "state": {
            "_model_module": "jupyter-leaflet",
            "_model_module_version": "^0.19",
            "_model_name": "LeafletWidgetControlModel",
            "_view_count": null,
            "_view_module": "jupyter-leaflet",
            "_view_module_version": "^0.19",
            "_view_name": "LeafletWidgetControlView",
            "max_height": null,
            "max_width": null,
            "min_height": null,
            "min_width": null,
            "options": [
              "position",
              "transparent_bg"
            ],
            "position": "bottomright",
            "transparent_bg": false,
            "widget": "IPY_MODEL_67dc35965be1496c880d35069af1e644"
          }
        },
        "3aa3bdf0a71947c588b5828721ecf88d": {
          "model_module": "jupyter-leaflet",
          "model_name": "LeafletMapStyleModel",
          "model_module_version": "^0.19",
          "state": {
            "_model_module": "jupyter-leaflet",
            "_model_module_version": "^0.19",
            "_model_name": "LeafletMapStyleModel",
            "_view_count": null,
            "_view_module": "@jupyter-widgets/base",
            "_view_module_version": "1.2.0",
            "_view_name": "StyleView",
            "cursor": "grab"
          }
        },
        "4b3d6fdad1624774b4792810042e2224": {
          "model_module": "jupyter-leaflet",
          "model_name": "LeafletMapStyleModel",
          "model_module_version": "^0.19",
          "state": {
            "_model_module": "jupyter-leaflet",
            "_model_module_version": "^0.19",
            "_model_name": "LeafletMapStyleModel",
            "_view_count": null,
            "_view_module": "@jupyter-widgets/base",
            "_view_module_version": "1.2.0",
            "_view_name": "StyleView",
            "cursor": "move"
          }
        },
        "aa68a113d5014555838b3c18de50847b": {
          "model_module": "@jupyter-widgets/base",
          "model_name": "LayoutModel",
          "model_module_version": "1.2.0",
          "state": {
            "_model_module": "@jupyter-widgets/base",
            "_model_module_version": "1.2.0",
            "_model_name": "LayoutModel",
            "_view_count": null,
            "_view_module": "@jupyter-widgets/base",
            "_view_module_version": "1.2.0",
            "_view_name": "LayoutView",
            "align_content": null,
            "align_items": null,
            "align_self": null,
            "border": null,
            "bottom": null,
            "display": null,
            "flex": null,
            "flex_flow": null,
            "grid_area": null,
            "grid_auto_columns": null,
            "grid_auto_flow": null,
            "grid_auto_rows": null,
            "grid_column": null,
            "grid_gap": null,
            "grid_row": null,
            "grid_template_areas": null,
            "grid_template_columns": null,
            "grid_template_rows": null,
            "height": "600px",
            "justify_content": null,
            "justify_items": null,
            "left": null,
            "margin": null,
            "max_height": null,
            "max_width": null,
            "min_height": null,
            "min_width": null,
            "object_fit": null,
            "object_position": null,
            "order": null,
            "overflow": null,
            "overflow_x": null,
            "overflow_y": null,
            "padding": null,
            "right": null,
            "top": null,
            "visibility": null,
            "width": null
          }
        },
        "88552bad86b048a38d9b19d865ba9e4c": {
          "model_module": "jupyter-leaflet",
          "model_name": "LeafletMapStyleModel",
          "model_module_version": "^0.19",
          "state": {
            "_model_module": "jupyter-leaflet",
            "_model_module_version": "^0.19",
            "_model_name": "LeafletMapStyleModel",
            "_view_count": null,
            "_view_module": "@jupyter-widgets/base",
            "_view_module_version": "1.2.0",
            "_view_name": "StyleView",
            "cursor": "grab"
          }
        },
        "0b66cb99efcd4d48a5d7638d8cce9771": {
          "model_module": "@jupyter-widgets/controls",
          "model_name": "VBoxModel",
          "model_module_version": "1.5.0",
          "state": {
            "_dom_classes": [],
            "_model_module": "@jupyter-widgets/controls",
            "_model_module_version": "1.5.0",
            "_model_name": "VBoxModel",
            "_view_count": null,
            "_view_module": "@jupyter-widgets/controls",
            "_view_module_version": "1.5.0",
            "_view_name": "VBoxView",
            "box_style": "",
            "children": [
              "IPY_MODEL_9f9d9822403c4267b1aa0433c2643a8e"
            ],
            "layout": "IPY_MODEL_93b9ae872763478fbf84ce5507c4e14b"
          }
        },
        "67dc35965be1496c880d35069af1e644": {
          "model_module": "@jupyter-widgets/controls",
          "model_name": "VBoxModel",
          "model_module_version": "1.5.0",
          "state": {
            "_dom_classes": [],
            "_model_module": "@jupyter-widgets/controls",
            "_model_module_version": "1.5.0",
            "_model_name": "VBoxModel",
            "_view_count": null,
            "_view_module": "@jupyter-widgets/controls",
            "_view_module_version": "1.5.0",
            "_view_name": "VBoxView",
            "box_style": "",
            "children": [
              "IPY_MODEL_b3a36db92f9549dcbda1098afa916b0c",
              "IPY_MODEL_0cb9a5ab77f242e19299e7376e579324"
            ],
            "layout": "IPY_MODEL_10b23c6cea894eda8536b8e19db88701"
          }
        },
        "9f9d9822403c4267b1aa0433c2643a8e": {
          "model_module": "@jupyter-widgets/controls",
          "model_name": "ToggleButtonModel",
          "model_module_version": "1.5.0",
          "state": {
            "_dom_classes": [],
            "_model_module": "@jupyter-widgets/controls",
            "_model_module_version": "1.5.0",
            "_model_name": "ToggleButtonModel",
            "_view_count": null,
            "_view_module": "@jupyter-widgets/controls",
            "_view_module_version": "1.5.0",
            "_view_name": "ToggleButtonView",
            "button_style": "",
            "description": "",
            "description_tooltip": null,
            "disabled": false,
            "icon": "wrench",
            "layout": "IPY_MODEL_19c9c631f46147819b1e33b2849f6b99",
            "style": "IPY_MODEL_f546f6501be74a7cbad009f01b01f670",
            "tooltip": "Toolbar",
            "value": false
          }
        },
        "93b9ae872763478fbf84ce5507c4e14b": {
          "model_module": "@jupyter-widgets/base",
          "model_name": "LayoutModel",
          "model_module_version": "1.2.0",
          "state": {
            "_model_module": "@jupyter-widgets/base",
            "_model_module_version": "1.2.0",
            "_model_name": "LayoutModel",
            "_view_count": null,
            "_view_module": "@jupyter-widgets/base",
            "_view_module_version": "1.2.0",
            "_view_name": "LayoutView",
            "align_content": null,
            "align_items": null,
            "align_self": null,
            "border": null,
            "bottom": null,
            "display": null,
            "flex": null,
            "flex_flow": null,
            "grid_area": null,
            "grid_auto_columns": null,
            "grid_auto_flow": null,
            "grid_auto_rows": null,
            "grid_column": null,
            "grid_gap": null,
            "grid_row": null,
            "grid_template_areas": null,
            "grid_template_columns": null,
            "grid_template_rows": null,
            "height": null,
            "justify_content": null,
            "justify_items": null,
            "left": null,
            "margin": null,
            "max_height": null,
            "max_width": null,
            "min_height": null,
            "min_width": null,
            "object_fit": null,
            "object_position": null,
            "order": null,
            "overflow": null,
            "overflow_x": null,
            "overflow_y": null,
            "padding": null,
            "right": null,
            "top": null,
            "visibility": null,
            "width": null
          }
        },
        "b3a36db92f9549dcbda1098afa916b0c": {
          "model_module": "@jupyter-widgets/controls",
          "model_name": "HBoxModel",
          "model_module_version": "1.5.0",
          "state": {
            "_dom_classes": [],
            "_model_module": "@jupyter-widgets/controls",
            "_model_module_version": "1.5.0",
            "_model_name": "HBoxModel",
            "_view_count": null,
            "_view_module": "@jupyter-widgets/controls",
            "_view_module_version": "1.5.0",
            "_view_name": "HBoxView",
            "box_style": "",
            "children": [
              "IPY_MODEL_56bd5d4d78f746149b77b9d57618d727",
              "IPY_MODEL_301553160bd4441eb7406c2b56c9207d"
            ],
            "layout": "IPY_MODEL_f46f5fb4f3ed45dc8cd25977552f157b"
          }
        },
        "0cb9a5ab77f242e19299e7376e579324": {
          "model_module": "@jupyter-widgets/controls",
          "model_name": "HTMLModel",
          "model_module_version": "1.5.0",
          "state": {
            "_dom_classes": [],
            "_model_module": "@jupyter-widgets/controls",
            "_model_module_version": "1.5.0",
            "_model_name": "HTMLModel",
            "_view_count": null,
            "_view_module": "@jupyter-widgets/controls",
            "_view_module_version": "1.5.0",
            "_view_name": "HTMLView",
            "description": "",
            "description_tooltip": null,
            "layout": "IPY_MODEL_a8d85bafbfcf44458e6e23ae7142e5d8",
            "placeholder": "​",
            "style": "IPY_MODEL_24ac0d1feb5b47e788ff8d06053a6047",
            "value": "<b>id: </b>08b12db70376bfff02008e76c82d7d3d<br><b>bbox: </b>{ \"xmin\": -117.59939575195312, \"xmax\": -117.59911346435547, \"ymin\": 47.652301788330078, \"ymax\": 47.652774810791016 }<br><b>theme: </b>buildings<br><b>type: </b>building<br><b>version: </b>0<br><b>sources: </b>[{'property': '', 'dataset': 'OpenStreetMap', 'record_id': 'w656323735@1', 'update_time': '2018-12-19T19:41:07.000Z', 'confidence': None}]<br><b>level: </b>None<br><b>subtype: </b>None<br><b>class: </b>None<br><b>height: </b>None<br><b>names: </b>None<br><b>has_parts: </b>False<br><b>is_underground: </b>False<br><b>num_floors: </b>None<br><b>num_floors_underground: </b>None<br><b>min_height: </b>None<br><b>min_floor: </b>None<br><b>facade_color: </b>None<br><b>facade_material: </b>None<br><b>roof_material: </b>None<br><b>roof_shape: </b>None<br><b>roof_direction: </b>None<br><b>roof_orientation: </b>None<br><b>roof_color: </b>None<br><b>roof_height: </b>None<br>"
          }
        },
        "10b23c6cea894eda8536b8e19db88701": {
          "model_module": "@jupyter-widgets/base",
          "model_name": "LayoutModel",
          "model_module_version": "1.2.0",
          "state": {
            "_model_module": "@jupyter-widgets/base",
            "_model_module_version": "1.2.0",
            "_model_name": "LayoutModel",
            "_view_count": null,
            "_view_module": "@jupyter-widgets/base",
            "_view_module_version": "1.2.0",
            "_view_name": "LayoutView",
            "align_content": null,
            "align_items": null,
            "align_self": null,
            "border": null,
            "bottom": null,
            "display": null,
            "flex": null,
            "flex_flow": null,
            "grid_area": null,
            "grid_auto_columns": null,
            "grid_auto_flow": null,
            "grid_auto_rows": null,
            "grid_column": null,
            "grid_gap": null,
            "grid_row": null,
            "grid_template_areas": null,
            "grid_template_columns": null,
            "grid_template_rows": null,
            "height": null,
            "justify_content": null,
            "justify_items": null,
            "left": null,
            "margin": null,
            "max_height": null,
            "max_width": null,
            "min_height": null,
            "min_width": null,
            "object_fit": null,
            "object_position": null,
            "order": null,
            "overflow": null,
            "overflow_x": null,
            "overflow_y": null,
            "padding": null,
            "right": null,
            "top": null,
            "visibility": null,
            "width": null
          }
        },
        "19c9c631f46147819b1e33b2849f6b99": {
          "model_module": "@jupyter-widgets/base",
          "model_name": "LayoutModel",
          "model_module_version": "1.2.0",
          "state": {
            "_model_module": "@jupyter-widgets/base",
            "_model_module_version": "1.2.0",
            "_model_name": "LayoutModel",
            "_view_count": null,
            "_view_module": "@jupyter-widgets/base",
            "_view_module_version": "1.2.0",
            "_view_name": "LayoutView",
            "align_content": null,
            "align_items": null,
            "align_self": null,
            "border": null,
            "bottom": null,
            "display": null,
            "flex": null,
            "flex_flow": null,
            "grid_area": null,
            "grid_auto_columns": null,
            "grid_auto_flow": null,
            "grid_auto_rows": null,
            "grid_column": null,
            "grid_gap": null,
            "grid_row": null,
            "grid_template_areas": null,
            "grid_template_columns": null,
            "grid_template_rows": null,
            "height": "28px",
            "justify_content": null,
            "justify_items": null,
            "left": null,
            "margin": null,
            "max_height": null,
            "max_width": null,
            "min_height": null,
            "min_width": null,
            "object_fit": null,
            "object_position": null,
            "order": null,
            "overflow": null,
            "overflow_x": null,
            "overflow_y": null,
            "padding": "0px 0px 0px 4px",
            "right": null,
            "top": null,
            "visibility": null,
            "width": "28px"
          }
        },
        "f546f6501be74a7cbad009f01b01f670": {
          "model_module": "@jupyter-widgets/controls",
          "model_name": "DescriptionStyleModel",
          "model_module_version": "1.5.0",
          "state": {
            "_model_module": "@jupyter-widgets/controls",
            "_model_module_version": "1.5.0",
            "_model_name": "DescriptionStyleModel",
            "_view_count": null,
            "_view_module": "@jupyter-widgets/base",
            "_view_module_version": "1.2.0",
            "_view_name": "StyleView",
            "description_width": ""
          }
        },
        "56bd5d4d78f746149b77b9d57618d727": {
          "model_module": "@jupyter-widgets/controls",
          "model_name": "ToggleButtonModel",
          "model_module_version": "1.5.0",
          "state": {
            "_dom_classes": [],
            "_model_module": "@jupyter-widgets/controls",
            "_model_module_version": "1.5.0",
            "_model_name": "ToggleButtonModel",
            "_view_count": null,
            "_view_module": "@jupyter-widgets/controls",
            "_view_module_version": "1.5.0",
            "_view_name": "ToggleButtonView",
            "button_style": "",
            "description": "",
            "description_tooltip": null,
            "disabled": false,
            "icon": "info",
            "layout": "IPY_MODEL_7413a8705832419b8d3f9fdcc9c80faa",
            "style": "IPY_MODEL_00ef5de7c23b4a1cb45abc4559661ac3",
            "tooltip": "Toolbar",
            "value": true
          }
        },
        "301553160bd4441eb7406c2b56c9207d": {
          "model_module": "@jupyter-widgets/controls",
          "model_name": "ToggleButtonModel",
          "model_module_version": "1.5.0",
          "state": {
            "_dom_classes": [],
            "_model_module": "@jupyter-widgets/controls",
            "_model_module_version": "1.5.0",
            "_model_name": "ToggleButtonModel",
            "_view_count": null,
            "_view_module": "@jupyter-widgets/controls",
            "_view_module_version": "1.5.0",
            "_view_name": "ToggleButtonView",
            "button_style": "",
            "description": "",
            "description_tooltip": null,
            "disabled": false,
            "icon": "times",
            "layout": "IPY_MODEL_a4e91841e78e486187334ff3606b39c8",
            "style": "IPY_MODEL_7a551121367641deb685a2a3d8c8e6af",
            "tooltip": "Close the tool",
            "value": false
          }
        },
        "f46f5fb4f3ed45dc8cd25977552f157b": {
          "model_module": "@jupyter-widgets/base",
          "model_name": "LayoutModel",
          "model_module_version": "1.2.0",
          "state": {
            "_model_module": "@jupyter-widgets/base",
            "_model_module_version": "1.2.0",
            "_model_name": "LayoutModel",
            "_view_count": null,
            "_view_module": "@jupyter-widgets/base",
            "_view_module_version": "1.2.0",
            "_view_name": "LayoutView",
            "align_content": null,
            "align_items": null,
            "align_self": null,
            "border": null,
            "bottom": null,
            "display": null,
            "flex": null,
            "flex_flow": null,
            "grid_area": null,
            "grid_auto_columns": null,
            "grid_auto_flow": null,
            "grid_auto_rows": null,
            "grid_column": null,
            "grid_gap": null,
            "grid_row": null,
            "grid_template_areas": null,
            "grid_template_columns": null,
            "grid_template_rows": null,
            "height": null,
            "justify_content": null,
            "justify_items": null,
            "left": null,
            "margin": null,
            "max_height": null,
            "max_width": null,
            "min_height": null,
            "min_width": null,
            "object_fit": null,
            "object_position": null,
            "order": null,
            "overflow": null,
            "overflow_x": null,
            "overflow_y": null,
            "padding": null,
            "right": null,
            "top": null,
            "visibility": null,
            "width": null
          }
        },
        "a8d85bafbfcf44458e6e23ae7142e5d8": {
          "model_module": "@jupyter-widgets/base",
          "model_name": "LayoutModel",
          "model_module_version": "1.2.0",
          "state": {
            "_model_module": "@jupyter-widgets/base",
            "_model_module_version": "1.2.0",
            "_model_name": "LayoutModel",
            "_view_count": null,
            "_view_module": "@jupyter-widgets/base",
            "_view_module_version": "1.2.0",
            "_view_name": "LayoutView",
            "align_content": null,
            "align_items": null,
            "align_self": null,
            "border": null,
            "bottom": null,
            "display": null,
            "flex": null,
            "flex_flow": null,
            "grid_area": null,
            "grid_auto_columns": null,
            "grid_auto_flow": null,
            "grid_auto_rows": null,
            "grid_column": null,
            "grid_gap": null,
            "grid_row": null,
            "grid_template_areas": null,
            "grid_template_columns": null,
            "grid_template_rows": null,
            "height": null,
            "justify_content": null,
            "justify_items": null,
            "left": null,
            "margin": "0px 10px 0px 10px",
            "max_height": "250px",
            "max_width": "250px",
            "min_height": null,
            "min_width": null,
            "object_fit": null,
            "object_position": null,
            "order": null,
            "overflow": null,
            "overflow_x": null,
            "overflow_y": null,
            "padding": null,
            "right": null,
            "top": null,
            "visibility": null,
            "width": null
          }
        },
        "24ac0d1feb5b47e788ff8d06053a6047": {
          "model_module": "@jupyter-widgets/controls",
          "model_name": "DescriptionStyleModel",
          "model_module_version": "1.5.0",
          "state": {
            "_model_module": "@jupyter-widgets/controls",
            "_model_module_version": "1.5.0",
            "_model_name": "DescriptionStyleModel",
            "_view_count": null,
            "_view_module": "@jupyter-widgets/base",
            "_view_module_version": "1.2.0",
            "_view_name": "StyleView",
            "description_width": ""
          }
        },
        "7413a8705832419b8d3f9fdcc9c80faa": {
          "model_module": "@jupyter-widgets/base",
          "model_name": "LayoutModel",
          "model_module_version": "1.2.0",
          "state": {
            "_model_module": "@jupyter-widgets/base",
            "_model_module_version": "1.2.0",
            "_model_name": "LayoutModel",
            "_view_count": null,
            "_view_module": "@jupyter-widgets/base",
            "_view_module_version": "1.2.0",
            "_view_name": "LayoutView",
            "align_content": null,
            "align_items": null,
            "align_self": null,
            "border": null,
            "bottom": null,
            "display": null,
            "flex": null,
            "flex_flow": null,
            "grid_area": null,
            "grid_auto_columns": null,
            "grid_auto_flow": null,
            "grid_auto_rows": null,
            "grid_column": null,
            "grid_gap": null,
            "grid_row": null,
            "grid_template_areas": null,
            "grid_template_columns": null,
            "grid_template_rows": null,
            "height": "28px",
            "justify_content": null,
            "justify_items": null,
            "left": null,
            "margin": null,
            "max_height": null,
            "max_width": null,
            "min_height": null,
            "min_width": null,
            "object_fit": null,
            "object_position": null,
            "order": null,
            "overflow": null,
            "overflow_x": null,
            "overflow_y": null,
            "padding": "0px 0px 0px 4px",
            "right": null,
            "top": null,
            "visibility": null,
            "width": "28px"
          }
        },
        "00ef5de7c23b4a1cb45abc4559661ac3": {
          "model_module": "@jupyter-widgets/controls",
          "model_name": "DescriptionStyleModel",
          "model_module_version": "1.5.0",
          "state": {
            "_model_module": "@jupyter-widgets/controls",
            "_model_module_version": "1.5.0",
            "_model_name": "DescriptionStyleModel",
            "_view_count": null,
            "_view_module": "@jupyter-widgets/base",
            "_view_module_version": "1.2.0",
            "_view_name": "StyleView",
            "description_width": ""
          }
        },
        "a4e91841e78e486187334ff3606b39c8": {
          "model_module": "@jupyter-widgets/base",
          "model_name": "LayoutModel",
          "model_module_version": "1.2.0",
          "state": {
            "_model_module": "@jupyter-widgets/base",
            "_model_module_version": "1.2.0",
            "_model_name": "LayoutModel",
            "_view_count": null,
            "_view_module": "@jupyter-widgets/base",
            "_view_module_version": "1.2.0",
            "_view_name": "LayoutView",
            "align_content": null,
            "align_items": null,
            "align_self": null,
            "border": null,
            "bottom": null,
            "display": null,
            "flex": null,
            "flex_flow": null,
            "grid_area": null,
            "grid_auto_columns": null,
            "grid_auto_flow": null,
            "grid_auto_rows": null,
            "grid_column": null,
            "grid_gap": null,
            "grid_row": null,
            "grid_template_areas": null,
            "grid_template_columns": null,
            "grid_template_rows": null,
            "height": "28px",
            "justify_content": null,
            "justify_items": null,
            "left": null,
            "margin": null,
            "max_height": null,
            "max_width": null,
            "min_height": null,
            "min_width": null,
            "object_fit": null,
            "object_position": null,
            "order": null,
            "overflow": null,
            "overflow_x": null,
            "overflow_y": null,
            "padding": "0px 0px 0px 4px",
            "right": null,
            "top": null,
            "visibility": null,
            "width": "28px"
          }
        },
        "7a551121367641deb685a2a3d8c8e6af": {
          "model_module": "@jupyter-widgets/controls",
          "model_name": "DescriptionStyleModel",
          "model_module_version": "1.5.0",
          "state": {
            "_model_module": "@jupyter-widgets/controls",
            "_model_module_version": "1.5.0",
            "_model_name": "DescriptionStyleModel",
            "_view_count": null,
            "_view_module": "@jupyter-widgets/base",
            "_view_module_version": "1.2.0",
            "_view_name": "StyleView",
            "description_width": ""
          }
        }
      }
    }
  },
  "nbformat": 4,
  "nbformat_minor": 0
}